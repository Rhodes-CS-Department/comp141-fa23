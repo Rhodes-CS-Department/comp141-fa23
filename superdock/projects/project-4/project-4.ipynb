{
 "cells": [
  {
   "cell_type": "markdown",
   "metadata": {
    "deletable": false,
    "editable": false
   },
   "source": [
    "# Project 4: Perpetual calendar\n",
    "\n",
    "As a reminder, projects are designed to be completed individually. You may discuss the project with others, and you may help one another complete the project, but all help should follow the principle of **\"understanding, not answers.\"** In particular, you may not copy code from any source. (See the collaboration rules in the \"Programming projects\" section of the syllabus.)\n",
    "\n",
    "## Introduction\n",
    "\n",
    "In this project, you will design a [perpetual calendar](https://en.wikipedia.org/wiki/Perpetual_calendar), which allows a user to look up the day of the week for a given date in the future or past. A major goal of this project is to introduce you to the concept of designing a large program using functions. Each function you will write has a specific task, and these functions work together to make a complete program. In this project, the steps below in the notebook will walk you through the process of designing your program. (In later projects, you will choose which functions to write on your own.)\n",
    "\n",
    "All of your code should be written in `pcalendar.py`, which is in the same folder as this notebook."
   ]
  },
  {
   "cell_type": "markdown",
   "metadata": {
    "deletable": false,
    "editable": false
   },
   "source": [
    "## Step 1: Review the style guide on Canvas.\n",
    "\n",
    "Every function you write, except `main()`, must have a **function comment** immediately above it, as we've practiced in class.\n",
    "\n",
    "Review the [style guide](https://rhodes.instructure.com/courses/5965/pages/style-guide) on Canvas to remind yourself what this function comment should look like, and to review the other style guidelines.\n",
    "\n",
    "## Step 2: Header comment.\n",
    "\n",
    "Open `pcalendar.py` and write the missing header comment. The [style guide](https://rhodes.instructure.com/courses/5965/pages/style-guide) explains what you are expected to write.\n",
    "\n",
    "## Step 3: Leap years.\n",
    "\n",
    "Write a function called `is_leap()` that takes a parameter called `year`, which will be an integer. Your function should return true if the year is a leap year, and false if it is not. The function signature should look like this: `def is_leap(year):`\n",
    "\n",
    "__Details__:\n",
    "\n",
    "- A year is a leap year if it is divisible by 4, unless the year is divisible by 100, in which case the year must also be divisible by 400.\n",
    "  - For example, the years 1996, 2000, 2004, 2008, 2012, 2016, and 2020 are all leap years.\n",
    "    - (They are divisible by 4, and the only one divisible by 100 (2000) is also divisible by 400.)\n",
    "  - However, the years 1700, 1900, and 2100 are not leap years.\n",
    "    - (They are all divisible by 100, but none of them are divisible by 400.)\n",
    "\n",
    "- You can use `%` to test divisibility. For example, `x % 2 == 0` tests if `x` is divisible by 2.\n",
    "\n",
    "To test your function, run the two blocks below. When your function passes all of the tests, move on to the next step."
   ]
  },
  {
   "cell_type": "code",
   "execution_count": null,
   "metadata": {
    "tags": [
     "=>L"
    ]
   },
   "outputs": [],
   "source": [
    "# This imports all the functions in your file so that they can be used in the notebook.\n",
    "from pcalendar import *\n",
    "reload_functions('pcalendar.py')\n",
    "\n",
    "print(is_leap(2004)) # True\n",
    "print(is_leap(2005)) # False\n",
    "print(is_leap(2100)) # False\n",
    "print(is_leap(2400)) # True"
   ]
  },
  {
   "cell_type": "code",
   "execution_count": null,
   "metadata": {
    "deletable": false,
    "editable": false,
    "tags": [
     "=>L"
    ]
   },
   "outputs": [],
   "source": [
    "# Runs a set of tests against is_leap\n",
    "from cs1.notebooks import *\n",
    "reload_functions('pcalendar.py')\n",
    "ok_runtests('project-4.ok', 'q1')"
   ]
  },
  {
   "cell_type": "markdown",
   "metadata": {
    "deletable": false,
    "editable": false
   },
   "source": [
    "## Step 4: Magic month.\n",
    "\n",
    "In step 5 below, we will write a function to determine the day of the year that a date falls on. For instance, January 1 is the first day of the year. December 31 is the 365th day of the year, but the 366th day in a leap year.\n",
    "\n",
    "But first, we will write a **helper function**. (A helper function is a function designed to be called from another function, in order to help it do its job.) This helper function will be called `magic_month()` and it is designed to return the number of days that have gone by in a year on the first of any month (assuming it's not a leap year). For instance, on January 1, zero days have gone by in the year so far. On February 1, 31 days have gone by (because January has 31 days). On March 1, 59 days have gone by (the 31 days of January, plus the 28 days of February, assuming it's not a leap year).\n",
    "\n",
    "Define a function called `magic_month()` that takes a parameter called `month`, that will be the integer representing a month (1=January, 2=February, and so on). This function should return the number of days gone by since the beginning of the year. Here's a table of what to return:\n",
    "```\n",
    "January (Month #1):     0\n",
    "February (Month #2):   31\n",
    "March (Month #3):      59\n",
    "April (Month #4):      90\n",
    "May (Month #5):       120\n",
    "June (Month #6):      151\n",
    "July (Month #7):      181\n",
    "August (Month #8):    212\n",
    "September (Month #9): 243\n",
    "October (Month #10):  273\n",
    "November (Month #11): 304\n",
    "December (Month #12): 334\n",
    "```\n",
    "\n",
    "The definition line of this function should look like this `def magic_month(month):`\n",
    "\n",
    "Hint: No need to be clever here. Just use an if-elif-else statement with twelve branches.\n",
    "\n",
    "To test your `magic_month()` function, run the two blocks below."
   ]
  },
  {
   "cell_type": "code",
   "execution_count": null,
   "metadata": {
    "tags": [
     "=>L"
    ]
   },
   "outputs": [],
   "source": [
    "# This imports all the functions in your file so that they can be used in the notebook.\n",
    "from cs1.notebooks import *\n",
    "reload_functions('pcalendar.py')\n",
    "\n",
    "print(magic_month(1)) # 0\n",
    "print(magic_month(2)) # 31\n",
    "print(magic_month(9)) # 243"
   ]
  },
  {
   "cell_type": "code",
   "execution_count": null,
   "metadata": {
    "deletable": false,
    "editable": false,
    "tags": [
     "=>L"
    ]
   },
   "outputs": [],
   "source": [
    "# Runs a set of tests against magic_month\n",
    "from cs1.notebooks import *\n",
    "reload_functions('pcalendar.py')\n",
    "ok_runtests('project-4.ok', 'q2')"
   ]
  },
  {
   "cell_type": "markdown",
   "metadata": {
    "deletable": false,
    "editable": false
   },
   "source": [
    "## Step 5: Day of the year.\n",
    "\n",
    "Write a function called `day_of_year()` that takes three integer parameters: a month (1-12), a day (1-31), and a year (any year is possible). This function should return the day of the year (1-366) that this date occurs on.\n",
    "\n",
    "Here's how you do it. You need to two pieces of information: first, figure out whether the year is a leap year or not (do this by calling your `is_leap()` function on the year). Next, get the appropriate `magic_month` value for the month (do this by calling your `magic_month()` function on the month). The formula for finding the day of the year is quite simple:\n",
    "\n",
    "- The day of the year is the `magic_month` number plus the day of the month.\n",
    "- If this year is a leap year and the month is March or later, add one to this result.\n",
    "\n",
    "The definition line of this function should look like this `def day_of_year(month, day, year):`\n",
    "\n",
    "Example: Suppose we call `day_of_year(7, 29, 2019)` to calculate the day of the year for July 29, 2019. 2019 is not a leap year, and the magic_month number for July (month #7) is 181. So the day of the year here is 181 + 29, which is 210.\n",
    "\n",
    "Example: Suppose we call `day_of_year(4, 11, 2016)` to calculate the day of the year for April 11, 2016. 2016 is a leap year, and the magic_month number for April (month #4) is 90. So the day of the year here is 90 + 11 + 1, which is 102.\n",
    "\n",
    "To test your `day_of_year()` function, run the two blocks below."
   ]
  },
  {
   "cell_type": "code",
   "execution_count": null,
   "metadata": {
    "tags": [
     "=>L"
    ]
   },
   "outputs": [],
   "source": [
    "# This imports all the functions in your file so that they can be used in the notebook.\n",
    "from pcalendar import *\n",
    "reload_functions('pcalendar.py')\n",
    "\n",
    "print(day_of_year(7, 29, 2019)) #should print 210\n",
    "print(day_of_year(4, 11, 2016)) #should print 102\n",
    "print(day_of_year(12, 31, 2100)) #should print 365"
   ]
  },
  {
   "cell_type": "code",
   "execution_count": null,
   "metadata": {
    "deletable": false,
    "editable": false,
    "tags": [
     "=>L"
    ]
   },
   "outputs": [],
   "source": [
    "# Runs a set of tests against day_of_year\n",
    "from cs1.notebooks import *\n",
    "reload_functions('pcalendar.py')\n",
    "ok_runtests('project-4.ok', 'q3')"
   ]
  },
  {
   "cell_type": "markdown",
   "metadata": {
    "deletable": false,
    "editable": false
   },
   "source": [
    "## Step 6: New years day.\n",
    "\n",
    "Over the next three steps you will write three more functions that will help you compute the day of the week for any given day in history. In order to do this, we will associate a number with every day of the week. Here's the pattern:\n",
    "```\n",
    "Sunday: 0\n",
    "Monday: 1\n",
    "Tuesday: 2\n",
    "Wednesday: 3\n",
    "Thursday: 4\n",
    "Friday: 5\n",
    "Saturday: 6\n",
    "```\n",
    "\n",
    "The first function we will write, called `new_years_day()`, will calculate the day of the week number (from the table above) for any January 1 in history.\n",
    "\n",
    "Here's how it works. The steps are:\n",
    "\n",
    "* Start with the year in question.\n",
    "* Add the quotient that results from dividing the year by 4. (Use integer division: `//`)\n",
    "* Subtract the quotient that results from dividing the year by 100.\n",
    "* Add the quotient that results from dividing the year by 400.\n",
    "* If your year is a leap year (call your `is_leap()` function), subtract 1.\n",
    "* Take the remainder when this number is divided by 7. (Use the mod operator: `%`)\n",
    "* This final number is your day of the week number (the value to return).\n",
    "\n",
    "Let's do an example. Suppose we want to find the day of the week for New Year's Day 2019:\n",
    "\n",
    "* Begin with 2019.\n",
    "* Add in 2019 // 4, which is 504. 2019 + 504 = 2523.\n",
    "* Subtract 2019 // 100, which is 20. 2523 - 20 = 2503.\n",
    "* Add in 2019 // 400, which is 5. 2503 + 5 = 2508.\n",
    "* 2019 is not a leap year (so the number doesn't change).\n",
    "* 2508 % 7 is 2, which means 2019 began on a Tuesday (you can verify this on a calendar!).\n",
    "\n",
    "Write this function called `new_years_day()`, which takes an integer parameter called year, and returns an integer interpreted as a day of the week.\n",
    "\n",
    "The definition line should be `def new_years_day(year):`\n",
    "\n",
    "To test your `new_years_day()` function, run the two blocks below."
   ]
  },
  {
   "cell_type": "code",
   "execution_count": null,
   "metadata": {
    "tags": [
     "=>L"
    ]
   },
   "outputs": [],
   "source": [
    "# This imports all the functions in your file so that they can be used in the notebook.\n",
    "from pcalendar import *\n",
    "reload_functions('pcalendar.py')\n",
    "\n",
    "print(new_years_day(2019)) # 2\n",
    "print(new_years_day(2020)) # 3"
   ]
  },
  {
   "cell_type": "code",
   "execution_count": null,
   "metadata": {
    "deletable": false,
    "editable": false,
    "tags": [
     "=>L"
    ]
   },
   "outputs": [],
   "source": [
    "# Runs a set of tests against new_years_day\n",
    "from cs1.notebooks import *\n",
    "reload_functions('pcalendar.py')\n",
    "ok_runtests('project-4.ok', 'q4')"
   ]
  },
  {
   "cell_type": "markdown",
   "metadata": {
    "deletable": false,
    "editable": false
   },
   "source": [
    "## Step 7: Day of the week.\n",
    "\n",
    "You will now write a function called `day_of_week()`. This function takes three parameters: the month (1-12), the day of the month (1-31), and the year. This function will finally compute the day of the week for any day of any year! Here's how it works. All you have to do is call your `day_of_year()` function, passing in the month, day, and year parameters; and your `new_years_day()` function, passing in the year parameter. If you add those values together, subtract one, divide the result by 7, and take the remainder, you will have your day of the week (as an integer). Return this integer value.\n",
    "\n",
    "For example, let's find the day of the week for July 29, 2019. We know that `day_of_year(7, 29, 2019)` returns 210, and `new_years_day(2019)` returns 2. If we add these together and subtract 1, we get 210 + 2 - 1 = 211. 211 % 7 is 1, which means July 29, 2019 falls on a Monday.\n",
    "\n",
    "Write this function in Python now. The definition line is `def day_of_week(month, day, year):`\n",
    "\n",
    "To test your `day_of_week()` function, run the two blocks below:"
   ]
  },
  {
   "cell_type": "code",
   "execution_count": null,
   "metadata": {
    "tags": [
     "=>L"
    ]
   },
   "outputs": [],
   "source": [
    "# This imports all the functions in your file so that they can be used in the notebook.\n",
    "from pcalendar import *\n",
    "reload_functions('pcalendar.py')\n",
    "\n",
    "print(day_of_week(7, 29, 2019)) # 1\n",
    "print(day_of_week(7, 4, 1900)) # 3\n",
    "print(day_of_week(2, 14, 2000))  # 1\n",
    "print(day_of_week(12, 25, 2020)) # 5"
   ]
  },
  {
   "cell_type": "code",
   "execution_count": null,
   "metadata": {
    "deletable": false,
    "editable": false,
    "tags": [
     "=>L"
    ]
   },
   "outputs": [],
   "source": [
    "# Runs a set of tests against day_of_week\n",
    "from cs1.notebooks import *\n",
    "reload_functions('pcalendar.py')\n",
    "ok_runtests('project-4.ok', 'q5')"
   ]
  },
  {
   "cell_type": "markdown",
   "metadata": {
    "deletable": false,
    "editable": false
   },
   "source": [
    "## Step 8: Day of the week (as a string).\n",
    "\n",
    "You're almost done. You're going to write one more function, called `day_of_week_str()`, that does the same operation as `day_of_week()`, except the answer is returned as a string (like \"Sunday\", \"Monday\", etc). This function takes three parameters: the month (1-12), the day of the month (1-31), and the year. Start by calling `day_of_week()`, passing in the same three parameters you are given here.\n",
    "\n",
    "Hint: Use a 7-branching if-elif-else statement to determine the appropriate day of the week string and return it.\n",
    "\n",
    "The definition line is `def day_of_week_str(month, day, year):`\n",
    "\n",
    "To test your `day_of_week_str()` function, run the two blocks below."
   ]
  },
  {
   "cell_type": "code",
   "execution_count": null,
   "metadata": {
    "tags": [
     "=>L"
    ]
   },
   "outputs": [],
   "source": [
    "# This imports all the functions in your file so that they can be used in the notebook.\n",
    "from pcalendar import *\n",
    "reload_functions('pcalendar.py')\n",
    "\n",
    "print(day_of_week_str(7, 29, 2019)) # Monday\n",
    "print(day_of_week_str(12, 25, 2020)) # Friday\n",
    "print(day_of_week_str(10, 31, 2056)) # Tuesday"
   ]
  },
  {
   "cell_type": "code",
   "execution_count": null,
   "metadata": {
    "deletable": false,
    "editable": false,
    "tags": [
     "=>L"
    ]
   },
   "outputs": [],
   "source": [
    "# Runs a set of tests against day_of_week_str\n",
    "from cs1.notebooks import *\n",
    "reload_functions('pcalendar.py')\n",
    "ok_runtests('project-4.ok', 'q6')"
   ]
  },
  {
   "cell_type": "markdown",
   "metadata": {
    "deletable": false,
    "editable": false
   },
   "source": [
    "Before moving onto the next step, make sure that you've run all of the tests above, and that the output below each test shows \"passed\".\n",
    "\n",
    "__Note:__ Your functions should be calling other functions as follows:\n",
    "* `day_of_year` should call `is_leap` and `magic_month`.\n",
    "* `new_years_day` should call `is_leap`.\n",
    "* `day_of_week` should call `day_of_year` and `new_years_day`.\n",
    "* `day_of_week_str` should call `day_of_week`."
   ]
  },
  {
   "cell_type": "markdown",
   "metadata": {
    "deletable": false,
    "editable": false
   },
   "source": [
    "## Step 9: Write `main()`.\n",
    "\n",
    "Write a main function to do the following:\n",
    "* Ask the user for three integers: the month, day of the month, and year. (This can be any month/day/year combination the user wants.)\n",
    "* Compute and print the day of the year for this month/day/year. Do this by calling your `day_of_year` function.\n",
    "* Compute and print the day of the week for this month/day/year. Do this by calling your `day_of_week_str` function.\n",
    "* Compute and print the day of the week for user's month and day, but for the year 2020. Do this by calling your `day_of_week_str` function.\n",
    "* Compute and print the day of the week for New Year's Day on the user's year. Do this by calling your `day_of_week_str` function.\n",
    "* Add the call to main() to your program. Test your program using the examples below.\n",
    "\n",
    "Below are several example interactions, with user input shown in **bold**.\n",
    "\n",
    "Follow these example interactions down to the character when designing your `main()` function.\n",
    "\n",
    "Below each example interaction, **test your program following that example interaction**."
   ]
  },
  {
   "cell_type": "markdown",
   "metadata": {
    "deletable": false,
    "editable": false
   },
   "source": [
    "### Example interaction 1\n",
    "\n",
    "<pre>\n",
    "Pick a date, any date.\n",
    "What is the month? (1-12)? <b>7</b>\n",
    "What is the day? <b>29</b>\n",
    "What is the year? <b>1982</b>\n",
    "This is day number 210 of the year.\n",
    "This date falls on a Thursday.\n",
    "In 2020, this date falls on a Wednesday.\n",
    "In 1982, New Year's Day falls on a Friday.\n",
    "</pre>"
   ]
  },
  {
   "cell_type": "code",
   "execution_count": null,
   "metadata": {
    "deletable": false,
    "editable": false
   },
   "outputs": [],
   "source": [
    "# Run your full program. Test it against the above example.\n",
    "%run pcalendar.py"
   ]
  },
  {
   "cell_type": "markdown",
   "metadata": {
    "deletable": false,
    "editable": false
   },
   "source": [
    "### Example interaction 2\n",
    "\n",
    "<pre>\n",
    "Pick a date, any date.\n",
    "What is the month? (1-12)? <b>11</b>\n",
    "What is the day? <b>21</b>\n",
    "What is the year? <b>1981</b>\n",
    "This is day number 325 of the year.\n",
    "This date falls on a Saturday.\n",
    "In 2020, this date falls on a Saturday.\n",
    "In 1981, New Year's Day falls on a Thursday.\n",
    "</pre>"
   ]
  },
  {
   "cell_type": "code",
   "execution_count": null,
   "metadata": {
    "deletable": false,
    "editable": false
   },
   "outputs": [],
   "source": [
    "# Run your full program. Test it against the above example.\n",
    "%run pcalendar.py"
   ]
  },
  {
   "cell_type": "markdown",
   "metadata": {
    "deletable": false,
    "editable": false
   },
   "source": [
    "### Example interaction 3\n",
    "\n",
    "<pre>\n",
    "Pick a date, any date.\n",
    "What is the month? (1-12)? <b>2</b>\n",
    "What is the day? <b>14</b>\n",
    "What is the year? <b>2019</b>\n",
    "This is day number 45 of the year.\n",
    "This date falls on a Thursday.\n",
    "In 2020, this date falls on a Friday.\n",
    "In 2019, New Year's Day falls on a Tuesday.\n",
    "</pre>"
   ]
  },
  {
   "cell_type": "code",
   "execution_count": null,
   "metadata": {
    "deletable": false,
    "editable": false
   },
   "outputs": [],
   "source": [
    "# Run your full program. Test it against the above example.\n",
    "%run pcalendar.py"
   ]
  },
  {
   "cell_type": "markdown",
   "metadata": {
    "deletable": false,
    "editable": false
   },
   "source": [
    "## Submitting your project\n",
    "\n",
    "Before submitting your project, you must make sure your notebook shows evidence that your code works correctly. Specifically:\n",
    "\n",
    "- Below each of the six blocks with `ok_runtests`, the successful output of the test should be visible. (If not, run the tests again.)\n",
    "- Below the three example interactions, an example run of your program should be visible. Each example run should use exactly the same inputs as the example interaction above it, and should show the same outputs.\n",
    "\n",
    "When you've checked that your notebook is correct, run the cell below! You may submit as many times as you like before the deadline."
   ]
  },
  {
   "cell_type": "code",
   "execution_count": null,
   "metadata": {
    "deletable": false,
    "editable": false,
    "tags": [
     "=>L"
    ]
   },
   "outputs": [],
   "source": [
    "# Run this cell to submit.\n",
    "from cs1.notebooks import *\n",
    "ok_submit('project-4.ok')"
   ]
  },
  {
   "cell_type": "markdown",
   "metadata": {
    "deletable": false,
    "editable": false
   },
   "source": [
    "## Completing the technical report\n",
    "\n",
    "You are required to submit a **technical report**, in which you will answer three questions (in a Google form) about your submitted code. This technical report is due 24 hours after the main project deadline, but you are encouraged to go ahead and complete it as soon as you are satisfied with your project. You should expect the technical report to take about 15 minutes of your time. Click the link below to get started:\n",
    "\n",
    "[Project 4: technical report](https://forms.gle/ZMBbwq9PvUKuy66n6)"
   ]
  },
  {
   "cell_type": "markdown",
   "metadata": {
    "deletable": false,
    "editable": false
   },
   "source": [
    "## Additional challenges (optional)\n",
    "\n",
    "Write a function called `find_thanksgiving` that takes a year as an integer argument. This function should return the day of the month (1--31) that Thanksgiving falls on in the year given. Thanksgiving (in the US, anyway) always falls on the fourth Thursday of November.\n",
    "\n",
    "After writing this function, add more code to your main() that computes and prints out the day that Thanksgiving falls on in the year supplied by the user at the beginning of the program. Test your function yourself.\n",
    "\n",
    "Here are a few samples:\n",
    "\n",
    "```\n",
    "find_thanksgiving(2019) #should return 28\n",
    "find_thanksgiving(2020) #should return 26\n",
    "find_thanksgiving(2021) #should return 25\n",
    "find_thanksgiving(2000) #should return 23\n",
    "```\n",
    "\n",
    "Remember, you can submit as many times as you like!"
   ]
  },
  {
   "cell_type": "code",
   "execution_count": null,
   "metadata": {},
   "outputs": [],
   "source": []
  }
 ],
 "metadata": {
  "kernelspec": {
   "display_name": "Python 3 (ipykernel)",
   "language": "python",
   "name": "python3"
  },
  "language_info": {
   "codemirror_mode": {
    "name": "ipython",
    "version": 3
   },
   "file_extension": ".py",
   "mimetype": "text/x-python",
   "name": "python",
   "nbconvert_exporter": "python",
   "pygments_lexer": "ipython3",
   "version": "3.11.4"
  },
  "varInspector": {
   "cols": {
    "lenName": 16,
    "lenType": 16,
    "lenVar": 40
   },
   "kernels_config": {
    "python": {
     "delete_cmd_postfix": "",
     "delete_cmd_prefix": "del ",
     "library": "var_list.py",
     "varRefreshCmd": "print(var_dic_list())"
    },
    "r": {
     "delete_cmd_postfix": ") ",
     "delete_cmd_prefix": "rm(",
     "library": "var_list.r",
     "varRefreshCmd": "cat(var_dic_list()) "
    }
   },
   "types_to_exclude": [
    "module",
    "function",
    "builtin_function_or_method",
    "instance",
    "_Feature"
   ],
   "window_display": false
  }
 },
 "nbformat": 4,
 "nbformat_minor": 2
}
