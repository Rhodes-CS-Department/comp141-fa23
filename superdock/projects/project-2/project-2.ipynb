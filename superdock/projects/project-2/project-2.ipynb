{
 "cells": [
  {
   "cell_type": "markdown",
   "metadata": {},
   "source": [
    "# Project 2: Payday loans\n",
    "\n",
    "As a reminder, projects are designed to be completed individually. You may discuss the project with others, and you may help one another complete the project, but all help should follow the principle of **\"understanding, not answers.\"** In particular, you may not copy code from any source. (See the collaboration rules in the \"Programming projects\" section of the syllabus.)\n",
    "\n",
    "## Introduction\n",
    "\n",
    "With *annual percentage rates* (APRs) of 400-600 percent, payday loans carry some of the highest interest rates available on credit products.\n",
    "\n",
    "This is an order of magnitude higher than a credit card (_e.g.,_ a typical credit card carries a 15-20% APR), and failure to pay off a payday loan on time is a common-enough occurrence that interest charges can be _much more_ than the actual amount borrowed.\n",
    "\n",
    "These lending percentage rates are not advertised and are not made readily available.  About 10 million American households borrow money through payday loans each year, and payday lenders have more storefronts in the United States than McDonald's and Starbucks combined (Pew Charitable Trusts 2012; Lusardi and de Bassa Scheresberg 2013).  Google \"payday loans Memphis\" to see what I mean.\n",
    "\n",
    "__How do payday loans work?__   A payday loan is a short-term loan that can help someone cover immediate cash needs until they receive their next paycheck. These loans are usually small-dollar, high-cost loans that charge a fee that is typically due within two weeks --- or close to the borrower's next payday.   Many people resort to payday loans because they're easy to get.  Borrowers who resort to obtaining payday loans may have poor credit or no credit, which can prevent them from getting a personal loan with better terms, for instance, from a bank.  Another reason may be a lack of knowledge about or fear of alternatives.  There are some alternatives but they are less profitable _for the lenders_ and therefore are less heavily advertised.\n",
    "\n",
    "Payday lenders have few requirements for approving the loans they give out. Most don't run a credit check or even require that the borrower have the means to repay the loan. All someone typically needs is identification, a bank account in relatively good standing, and a steady paycheck.   \n",
    "\n",
    "Unfortunately, many payday loan borrowers can't repay the debt by the due date. In fact, the Consumer Financial Protection Bureau found that 20% of payday borrowers default on their loans (can't pay them back), and more than 80% of payday loans taken out by borrowers were rolled over or reborrowed within 30 days, perpetuating the cycle of debt.\n",
    "\n",
    "Watch the video at the link below:\n",
    "\n",
    "https://www.wmcactionnews5.com/2020/09/06/memphis-city-council-urges-state-ban-all-payday-lenders/\n",
    "\n",
    "To add to the story about these loans, you can do some research to see that since COVID-19 began, regulators have loosened restrictions around these small-dollar, high-interest loans, giving vulnerable people more access to loans that will cost them money they don’t have. \n",
    "\n",
    "One of the biggest obstacles in educating the public about these loans is that the annual percentage rate (APR) is not readily available.   It's difficult to understand what sort of fee the lenders are offering and if the fee is reasonable because it is __not__ shown as an APR.\n",
    "\n",
    "__We will use Python to solve the following problem: given the conditions of a payday loan, what is its APR?__\n",
    "\n",
    "## Computing for the social good\n",
    "\n",
    "Understanding technology's potential for good (and harm) is one of the learning goals for this class.   We should understand the role that computing plays in responding to social, ecological, political, and other challenges.  As you use computer science in the future, we hope you’ll analyze each situation with an eye for the ethics and potential consequences.\n",
    "\n",
    "## Payday loan terms and conditions\n",
    "\n",
    "Payday loan companies typically describe the terms and conditions of a loan in one of two ways:\n",
    "\n",
    "  1. The *loan amount* (the amount of cash the borrower receives), the *finance charge* (a fixed additional amount of money the borrower must repay, in addition to the loan amount), and the *repayment period* (the length of the loan in days or months, after which all the money must be repaid). \n",
    "\n",
    "-or-\n",
    "\n",
    "  2.  A *fee per every &#36;100 borrowed*, and the *repayment period*.  (Note that in this situation, we do not need the loan amount itself to calculate the APR.)\n",
    "\n",
    "Given either of these scenarios, we can compute the APR of the loan."
   ]
  },
  {
   "cell_type": "markdown",
   "metadata": {},
   "source": [
    "## APR calculation\n",
    "\n",
    "For this assignment, you will write a program that calculates the APR of a payday loan in these two scenarios.  Here's how the calculations work:\n",
    "\n",
    "### Scenario 1\n",
    "\n",
    "We are given the *loan amount* (in dollars), the *finance charge* (in dollars), and the *repayment period* (either in days or months).\n",
    "\n",
    "Here's the algorithm for calculating the APR:\n",
    "\n",
    "1. Divide the *finance charge* by the *loan amount*.\n",
    "2. Multiply the answer in step 1 by the number of days in a year (365).\n",
    "3. Divide the answer in step 2 by the *repayment period* in number of days.\n",
    "4. Multiply the answer in step 3 by 100 to get the APR as a percent.\n",
    "\n",
    "In other words:\n",
    "\n",
    "$\\textit{APR} = \\dfrac{\\textit{finance charge}}{\\textit{loan amount}} \\cdot \\dfrac{365}{\\textit{repayment period (days)}} \\cdot 100$\n",
    "\n",
    "If the repayment period is in months, use the following formula instead:\n",
    "\n",
    "$\\textit{APR} = \\dfrac{\\textit{finance charge}}{\\textit{loan amount}} \\cdot \\dfrac{12}{\\textit{repayment period (months)}} \\cdot 100$\n",
    "\n",
    "### Scenario 2\n",
    "\n",
    "We are given a *fee* (in dollars) *per each &#36;100 borrowed*, and the *repayment period* (either in days or months).\n",
    "\n",
    "1. Multiply the *fee* by the number of days in a year (365).\n",
    "2. Divide the answer in step 2 by the *repayment period* in number of days.  This will give you the APR \n",
    "as a percent.\n",
    "\n",
    "In other words:\n",
    "\n",
    "$\\textit{APR} = \\textit{fee} \\cdot \\dfrac{365}{\\textit{repayment period (days)}}$\n",
    "\n",
    "If the repayment period is in months, use the following formula instead:\n",
    "\n",
    "$\\textit{APR} = \\textit{fee} \\cdot \\dfrac{12}{\\textit{repayment period (months)}}$"
   ]
  },
  {
   "cell_type": "markdown",
   "metadata": {},
   "source": [
    "## Program assignment\n",
    "\n",
    "For this assignment, you will write a program that calculates the APR of a payday loan in these two scenarios.\n",
    "\n",
    "You'll write your program in the file `payday.py` that appears in this folder.  **Do not write your program directly in this notebook.**\n",
    "\n",
    "Here are two sample interactions with the program, illustrating how the program should work for each scenario above. User input is shown in **bold**.\n",
    "\n",
    "Your program should match these example interactions exactly, down to the character. (Exception: You are not required to round your final APR percentage.)\n",
    "\n",
    "**Note:** Be sure to read the additional guidelines below before writing any code."
   ]
  },
  {
   "cell_type": "markdown",
   "metadata": {},
   "source": [
    "### Example interaction 1 (Scenario 1, days).\n",
    "<pre>\n",
    "Welcome to the payday loan APR calculator.\n",
    "Please have the proposed terms of your payday loan handy so we can calculate the APR.\n",
    "\n",
    "Select which one best fits your situation.\n",
    "  (1) I know the total loan amount, the finance charge, and the repayment period (in days or months).\n",
    "  (2) I know the fee in dollars for every 100 dollars borrowed and the repayment period (in days or months).\n",
    " \n",
    "How was the information given to you? Choose (1) or (2): <b>1</b>\n",
    "\n",
    "What is the total loan amount? <b>350.00</b>\n",
    "What is the finance charge for the loan? <b>50.00</b>\n",
    "Is the length of the repayment period in days or months? Enter d or m: <b>d</b>\n",
    "How many days is the repayment period? <b>14</b>\n",
    " \n",
    "Your 14 day loan has an APR of 372.45%.\n",
    "</pre>"
   ]
  },
  {
   "cell_type": "markdown",
   "metadata": {},
   "source": [
    "### Example interaction 2 (Scenario 1, months).\n",
    "<pre>\n",
    "Welcome to the payday loan APR calculator.\n",
    "Please have the proposed terms of your payday loan handy so we can calculate the APR.\n",
    "\n",
    "Select which one best fits your situation.\n",
    "  (1) I know the total loan amount, the finance charge, and the repayment period (in days or months).\n",
    "  (2) I know the fee in dollars for every 100 dollars borrowed and the repayment period (in days or months).\n",
    "\n",
    "How was the information given to you? Choose (1) or (2): <b>1</b>\n",
    "\n",
    "What is the total loan amount? <b>1000.00</b>\n",
    "What is the finance charge for the loan? <b>250.00</b>\n",
    "Is the length of the repayment period in days or months? Enter d or m: <b>M</b>\n",
    "How many months is the repayment period? <b>2</b>\n",
    "\n",
    "Your 2 month loan has an APR of 150.00%.\n",
    "</pre>"
   ]
  },
  {
   "cell_type": "markdown",
   "metadata": {},
   "source": [
    "### Example interaction 3 (Scenario 2, days).\n",
    "    \n",
    "<pre>\n",
    "Welcome to the payday loan APR calculator.\n",
    "Please have the proposed terms of your payday loan handy so we can calculate the APR.\n",
    " \n",
    "Select which one best fits your situation.\n",
    "  (1) I know the total loan amount, the finance charge, and the repayment period (in days or months).\n",
    "  (2) I know the fee in dollars for every 100 dollars borrowed and the repayment period (in days or months).\n",
    " \n",
    "How was the information given to you? Choose (1) or (2): <b>2</b>\n",
    " \n",
    "What is the fee for each $100 borrowed? <b>20</b>\n",
    "Is the length of the repayment period in days or months? Enter d or m: <b>D</b>\n",
    "How many days is the repayment period? <b>14</b>\n",
    " \n",
    "Your 14 day loan has an APR of 521.43%.\n",
    "</pre> "
   ]
  },
  {
   "cell_type": "markdown",
   "metadata": {},
   "source": [
    "### Example interaction 4 (Scenario 2, months).\n",
    "<pre>\n",
    "Welcome to the payday loan APR calculator.\n",
    "Please have the proposed terms of your payday loan handy so we can calculate the APR.\n",
    "\n",
    "Select which one best fits your situation.\n",
    "  (1) I know the total loan amount, the finance charge, and the repayment period (in days or months).\n",
    "  (2) I know the fee in dollars for every 100 dollars borrowed and the repayment period (in days or months).\n",
    "\n",
    "How was the information given to you? Choose (1) or (2): <b>2</b>\n",
    "\n",
    "What is the fee for each $100 borrowed? <b>30</b>\n",
    "Is the length of the repayment period in days or months? Enter d or m: <b>m</b>\n",
    "How many months is the repayment period? <b>2</b>\n",
    "\n",
    "Your 2 month loan has an APR of 180.00%.\n",
    "</pre>"
   ]
  },
  {
   "cell_type": "code",
   "execution_count": null,
   "metadata": {},
   "outputs": [],
   "source": [
    "# Run this cell to run your program.\n",
    "%run payday.py"
   ]
  },
  {
   "cell_type": "markdown",
   "metadata": {},
   "source": [
    "## Additional guidelines\n",
    "\n",
    "- Your program should use the word \"month\" and \"day\" correctly when asking for the length of the repayment period, and in the final output message.\n",
    "- Your program should accept the \"m\" or \"d\" as a **capital or lowercase letter** in response to the question about the type of repayment period.\n",
    "- You may assume that the user enters valid input. (For example, you may assume that the user enters the string \"1\" or \"2\" at the first prompt.)\n",
    "- Give your variables descriptive names, and use comments as necessary to clarify your code. (See the \"Style Guide\" on Canvas.)\n",
    "- For this project, you are not required to organize your code using functions, but you may if you'd like.\n",
    "- Use **constants** (see \"Constants\" section below) for the numbers 12 and 365 appearing in formulas."
   ]
  },
  {
   "cell_type": "markdown",
   "metadata": {},
   "source": [
    "## Constants\n",
    "\n",
    "A **constant** is a variable whose value is only assigned once, and does not change over the course of the program.\n",
    "\n",
    "The convention in Python (and other languages) is to name constants using all capital letters; for example:\n",
    "\n",
    "```\n",
    "DAYS_PER_YEAR = 365\n",
    "MONTHS_PER_YEAR = 12\n",
    "```\n",
    "\n",
    "Now let's say we wanted to convert a person's age in months to years. This calculation works:\n",
    "\n",
    "`age_years = age_months // 12`\n",
    "\n",
    "But this calculation is considered better style:\n",
    "\n",
    "`age_years = age_months // MONTHS_PER_YEAR`\n",
    "\n",
    "These constants are defined for you in the given `payday.py` file.\n",
    "\n",
    "In your `payday.py` file, whenever you want to use the numbers 365 or 12 in a formula, you must use the constants `DAYS_PER_YEAR` or `MONTHS_PER_YEAR` instead. These constants are defined for you at the top of the given `payday.py` file. This makes your code more readable.\n",
    "\n"
   ]
  },
  {
   "cell_type": "markdown",
   "metadata": {},
   "source": [
    "## Testing your program\n",
    "\n",
    "Test your program using the four example interactions above. Specifically, choose an example interaction, and then run your program, entering exactly the same input as in the example interaction. You are given four code blocks below to test the four example interactions:"
   ]
  },
  {
   "cell_type": "code",
   "execution_count": null,
   "metadata": {},
   "outputs": [],
   "source": [
    "# Run this cell to run your program, and test example interaction 1.\n",
    "%run payday.py"
   ]
  },
  {
   "cell_type": "code",
   "execution_count": null,
   "metadata": {},
   "outputs": [],
   "source": [
    "# Run this cell to run your program, and test example interaction 2.\n",
    "%run payday.py"
   ]
  },
  {
   "cell_type": "code",
   "execution_count": null,
   "metadata": {},
   "outputs": [],
   "source": [
    "# Run this cell to run your program, and test example interaction 3.\n",
    "%run payday.py"
   ]
  },
  {
   "cell_type": "code",
   "execution_count": null,
   "metadata": {},
   "outputs": [],
   "source": [
    "# Run this cell to run your program, and test example interaction 4.\n",
    "%run payday.py"
   ]
  },
  {
   "cell_type": "markdown",
   "metadata": {},
   "source": [
    "## Computing for the social good\n",
    "\n",
    "Your program has the purpose of making loan terms clearer to borrowers, and has the benefit of empowering loan consumers, rather than predatory lenders.\n",
    "\n",
    "However, not all software benefits the good of society.  Answer the following questions to explore a little bit more about payday loans and computing for the social good.  (There is space for your answers in the next cell.)\n",
    "\n",
    "  1. Use a search engine to find the average APR of a payday loan, \n",
    "and also the average APR of a \"personal loan\" (this is a loan that a bank will give you).  Do payday loans seem realistic or fair when you compare these rates?\n",
    "\n",
    "  2. Find a real-world example of when an algorithm (a program or piece of software) went wrong, and did not benefit the social good. Tell me what you found in a couple of sentences, including a link to an article you read."
   ]
  },
  {
   "cell_type": "markdown",
   "metadata": {},
   "source": [
    "__Put your answers here:__ (Double click to edit this Markdown cell.)\n",
    "\n",
    "Question 1: \n",
    "\n",
    "Question 2:"
   ]
  },
  {
   "cell_type": "markdown",
   "metadata": {},
   "source": [
    "## Submitting your project\n",
    "\n",
    "Before submitting your project, you must make sure your notebook shows evidence that your code works correctly. Specifically:\n",
    "\n",
    "- Below each of the four blocks in the \"Testing your program\" section, the correct output of the program should be visible. (If not, run the blocks again.)\n",
    "- The block above should contain answers to the two questions.\n",
    "\n",
    "When you've checked that your notebook is correct, run the cell below! You may submit as many times as you like before the deadline."
   ]
  },
  {
   "cell_type": "code",
   "execution_count": null,
   "metadata": {},
   "outputs": [],
   "source": [
    "# Run this cell to submit.\n",
    "from cs1.notebooks import *\n",
    "ok_submit('project-2.ok')"
   ]
  },
  {
   "cell_type": "markdown",
   "metadata": {},
   "source": [
    "## Completing the technical report\n",
    "\n",
    "You are required to submit a **technical report**, in which you will answer three questions (in a Google form) about your submitted code. This technical report is due 24 hours after the main project deadline, but you are encouraged to go ahead and complete it as soon as you are satisfied with your project. You should expect the technical report to take about 15 minutes of your time. Click the link below to get started:\n",
    "\n",
    "[Project 2: technical report](https://forms.gle/u9FJimKzqF1gqLmp6)"
   ]
  },
  {
   "cell_type": "markdown",
   "metadata": {},
   "source": [
    "## Additional challenges\n",
    "\n",
    "You are welcome to continue to improve your program after completing the required steps above! This is optional, and you should make sure that your program doesn't lose the functionality from the main part of the project. Here is an idea you can try, or come up with your own:\n",
    "\n",
    "* Read about string formatting [here](https://docs.python.org/3/tutorial/inputoutput.html#fancier-output-formatting), and use one of the approaches to make your output print with exactly two decimal places."
   ]
  },
  {
   "cell_type": "code",
   "execution_count": null,
   "metadata": {},
   "outputs": [],
   "source": []
  }
 ],
 "metadata": {
  "kernelspec": {
   "display_name": "Python 3 (ipykernel)",
   "language": "python",
   "name": "python3"
  },
  "language_info": {
   "codemirror_mode": {
    "name": "ipython",
    "version": 3
   },
   "file_extension": ".py",
   "mimetype": "text/x-python",
   "name": "python",
   "nbconvert_exporter": "python",
   "pygments_lexer": "ipython3",
   "version": "3.11.4"
  },
  "varInspector": {
   "cols": {
    "lenName": 16,
    "lenType": 16,
    "lenVar": 40
   },
   "kernels_config": {
    "python": {
     "delete_cmd_postfix": "",
     "delete_cmd_prefix": "del ",
     "library": "var_list.py",
     "varRefreshCmd": "print(var_dic_list())"
    },
    "r": {
     "delete_cmd_postfix": ") ",
     "delete_cmd_prefix": "rm(",
     "library": "var_list.r",
     "varRefreshCmd": "cat(var_dic_list()) "
    }
   },
   "types_to_exclude": [
    "module",
    "function",
    "builtin_function_or_method",
    "instance",
    "_Feature"
   ],
   "window_display": false
  }
 },
 "nbformat": 4,
 "nbformat_minor": 2
}
