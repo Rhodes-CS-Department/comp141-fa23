{
 "cells": [
  {
   "cell_type": "markdown",
   "metadata": {},
   "source": [
    "# Project 3: Potato heads\n",
    "\n",
    "As a reminder, projects are designed to be completed individually. You may discuss the project with others, and you may help one another complete the project, but all help should follow the principle of **\"understanding, not answers.\"** In particular, you may not copy code from any source. (See the collaboration rules in the \"Programming projects\" section of the syllabus.)\n",
    "\n",
    "## Introduction\n",
    "\n",
    "The [potato head toy](https://en.wikipedia.org/wiki/Mr._Potato_Head) is a children's toy (and pair of [movie characters](https://en.wikipedia.org/wiki/List_of_Toy_Story_characters#Mr._Potato_Head)) that consists of a plastic potato-shaped model to which children stick different facial features such as eyes, noses, mouth, hair, ears, etc. When [first introduced](https://www.collectorsweekly.com/stories/189413-the-original-mr-potato-head-1952-with-r), that list included a pipe, and the potato was indeed an actual potato.\n",
    "\n",
    "In this program, we will re-create the experience of assembling such a head by designing a program that creates a potato head with eyes, hair, and a mouth. Once everyone has completed the program, we'll combine the programs together to make randomly-generated heads.\n",
    "\n",
    "All of the potatoes are represented by circles of radius 150. Your job is to write functions that draw eyes, hair, and mouth on a potato. However, your functions must be designed so that the potato can be placed anywhere on the screen--to that end, your functions should all take two parameters called `centerx` and `centery`, which represent the center of the potato-circle where the facial features should be drawn. __In other words, each of your functions must calculate the correct placement of the facial features based on the `centerx` and `centery` parameters.__\n",
    "\n",
    "## Implementing your potato\n",
    "\n",
    "1. First, open `potato.py`. Inside, you'll see a [skeleton program](https://en.wikipedia.org/wiki/Skeleton_(computer_programming)) that has some functions that you'll need to fill in. The `main` function is already written for you; it is set up to draw two identical potato heads side-by-side. __Don't modify anything inside of `main`.__\n",
    "\n",
    "1. Edit the three drawing functions for eyes, mouth, and hair, so that they draw the appropriate facial features on the potato. Each function should call any drawing functions you want from the CS1 graphics library to draw the facial features. Refer to our class [Python reference](https://cs.rhodes.edu/~superdockm/comp141/doc2/) as you write your code!\n",
    "    * Note that the facial features can be embellished with other appropriate things in that area of the face. For instance, you may also draw a nose or facial hair in your mouth function, ears or a hat in the hair function, etc.\n",
    "    * The functions you write should only draw a single potato at a time. Even though there are two potatoes drawn, you will notice that the `main` function takes care of calling your functions twice, with different `centerx` and `centery` values.\n",
    "1. Remember that your drawing functions __should not assume the location of the circle for the face is at one fixed location!__ This means that the location of the eyes, mouth, and hair that you are drawing must be calculated from the provided `centerx` and `centery` parameter variables. This will involve doing some math; for example, if you want to draw eyes that are to the left and right of the center point, you would do something like `draw_circle(centerx - 50, centery, 10)` for the left eye and `draw_circle(centerx + 50, centery, 10)` for the right eye. This way, if the center point of the potato changes, your code will draw eyes that also shift location accordingly.\n",
    "    \n",
    "An example output might look something like this:\n",
    "<img src=\"https://storage.googleapis.com/141-files/heads-example.png\" width=500/>\n",
    "  \n",
    "To run your code and generate your potato heads, run the cell below."
   ]
  },
  {
   "cell_type": "code",
   "execution_count": null,
   "metadata": {
    "scrolled": false
   },
   "outputs": [],
   "source": [
    "%run potato.py"
   ]
  },
  {
   "cell_type": "markdown",
   "metadata": {},
   "source": [
    "## Testing your program\n",
    "\n",
    "Since _how_ you draw your potato is up to you, there is no exact output I expect. However, you should definitely expect to see two identical potatoes.\n",
    "\n",
    "**Note:** The potato heads will change locations slightly every time you run your program. This helps you check that your code works no matter where the potatoes are drawn. If your facial features are *not* moving with the potatoes, then you are not correctly drawing them based off `centerx` and `centery`.\n",
    "\n",
    "## Evaluation\n",
    "\n",
    "When I evaluate your project, I'm mainly looking for the following:\n",
    "\n",
    "- Does your code use the `centerx` and `centery` parameters to draw two identical potatoes?\n",
    "- Does your code call a variety of drawing functions from the graphics API?\n",
    "- Does your code show creativity and attention to detail?\n",
    "\n",
    "For full credit, as a rough guideline, you should use **at least five colors, five different drawing functions, and at least 25 total non-blank lines of code**.\n",
    "\n",
    "If you are struggling to come up with things to draw for all the colors, commands, and lines of code, you may think outside the box for the eyes, hair, and mouth by including other common things people wear in those general facial areas. For hair you may include a hat or something else people wear on their head or in their hair. For eyes, you can include glasses, eyebrows, eyelashes, or something else people wear near their eyes. For the mouth, you can draw facial hair, teeth, lips, or other similar things (such as the cheek blush in the example above).\n",
    "\n",
    "## Submitting your project\n",
    "\n",
    "Before submitting your project, you must make sure your notebook shows evidence that your code works correctly. Specifically:\n",
    "\n",
    "- Run the `%run potato.py` block above, so that your notebooks shows your two identical potatoes.\n",
    "\n",
    "When you've checked that your notebook is correct, run the cell below! You may submit as many times as you like before the deadline."
   ]
  },
  {
   "cell_type": "code",
   "execution_count": null,
   "metadata": {},
   "outputs": [],
   "source": [
    "# Run this cell to submit.\n",
    "from cs1.notebooks import *\n",
    "ok_submit('project-3.ok')"
   ]
  },
  {
   "cell_type": "markdown",
   "metadata": {},
   "source": [
    "## Completing the technical report\n",
    "\n",
    "You are required to submit a **technical report**, in which you will answer three questions (in a Google form) about your submitted code. This technical report is due 24 hours after the main project deadline, but you are encouraged to go ahead and complete it as soon as you are satisfied with your project. You should expect the technical report to take about 15 minutes of your time. Click the link below to get started:\n",
    "\n",
    "[Project 3: technical report](https://forms.gle/9mFshX3vNXNg85kAA)"
   ]
  },
  {
   "cell_type": "code",
   "execution_count": null,
   "metadata": {},
   "outputs": [],
   "source": []
  }
 ],
 "metadata": {
  "kernelspec": {
   "display_name": "Python 3 (ipykernel)",
   "language": "python",
   "name": "python3"
  },
  "language_info": {
   "codemirror_mode": {
    "name": "ipython",
    "version": 3
   },
   "file_extension": ".py",
   "mimetype": "text/x-python",
   "name": "python",
   "nbconvert_exporter": "python",
   "pygments_lexer": "ipython3",
   "version": "3.11.4"
  },
  "varInspector": {
   "cols": {
    "lenName": 16,
    "lenType": 16,
    "lenVar": 40
   },
   "kernels_config": {
    "python": {
     "delete_cmd_postfix": "",
     "delete_cmd_prefix": "del ",
     "library": "var_list.py",
     "varRefreshCmd": "print(var_dic_list())"
    },
    "r": {
     "delete_cmd_postfix": ") ",
     "delete_cmd_prefix": "rm(",
     "library": "var_list.r",
     "varRefreshCmd": "cat(var_dic_list()) "
    }
   },
   "types_to_exclude": [
    "module",
    "function",
    "builtin_function_or_method",
    "instance",
    "_Feature"
   ],
   "window_display": false
  }
 },
 "nbformat": 4,
 "nbformat_minor": 2
}
