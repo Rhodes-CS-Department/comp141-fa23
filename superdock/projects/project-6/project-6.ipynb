{
 "cells": [
  {
   "cell_type": "markdown",
   "metadata": {},
   "source": [
    "# Project 6: The strange garden\n",
    "\n",
    "As a reminder, projects are designed to be completed individually. You may discuss the project with others, and you may help one another complete the project, but all help should follow the principle of **\"understanding, not answers.\"** In particular, you may not copy code from any source. (See the collaboration rules in the \"Programming projects\" section of the syllabus.)\n",
    "\n",
    "## Introduction\n",
    "\n",
    "You want to take up gardening as a new hobby, so you visit a new flower shop in your neighborhood. The shop owner eagerly welcomes you in, and he shows you to an arched door near the back wall. He seems a bit unusual, but friendly enough, and you're here to learn, so you decide to follow him. Stepping across the threshold, you see a row of plants, some sprouted and green, others wilted and brown. The shop owner stands to your left, but your attention is fixed on the strange garden in front of you. Suddenly, you feel a light gust of air, and a wind chime warmly rings. In a moment, several of the wilted and brown plants sprout up, new and green; at the same time, several of the green plants wilt and decay to brown.\n",
    "\n",
    "Feeling a mix of emotions, you look to the shop owner, who smiles knowingly. He is taller than you first noticed. He hands you a small packet of seeds and nods gently. You step back through the door into the main section of the store, and hear again the soft sounds of customers roaming and chatting. You turn the packet of seeds over in your hands; on the back you discover a hand-scrawled note. After some time, you realize that the note describes the precise behavior of the strange garden. The plants live and die according to specific rules, which are detailed in the section, \"Rules for the plants,\" below.\n",
    "\n",
    "<p></p>\n",
    "<center>\n",
    "🌱 🍂 🌱 🍂 🌱\n",
    "</center>\n",
    "\n",
    "\n",
    "\n",
    "## Your task\n",
    "\n",
    "You will write a program that simulates the strange garden. Your final program should ask for the following inputs:\n",
    "\n",
    "- The starting garden, as a string of 0's and 1's. (A '0' indicates a dormant plant; a '1' indicates a living plant.)\n",
    "- A number of additional dormant plants to add to both sides. (This makes it easier to specify starting gardens with many dormant plants.)\n",
    "- A number of generations to show.\n",
    "\n",
    "A **generation** is a particular configuration of dormant and living plants, and can be shown in a single line of output. Each successive generation is determined from the previous generation based on the rules detailed in the section, \"Rules for the plants,\" below.\n",
    "\n",
    "Your final program should output the requested number of generations, one per line. Each line should contain:\n",
    "\n",
    "- A row of 🍂's and 🌱's with spaces in between; each symbol represents one plant, either dormant (🍂) or alive (🌱).\n",
    "  - Note: These symbols are unicode characters; you can copy them into your code & use them in string literals. (See the \"How to print\" section below.)\n",
    "- A generation number (e.g. \"g0\" for the starting generation).\n",
    "- The number of living plants in the generation (e.g. \"(1)\" for a generation with only one 🌱).\n",
    "\n",
    "**Note:** Some additional requirements are given in the section, \"Writing your program,\" below. Read on before starting to write code.\n",
    "\n",
    "## Example interaction\n",
    "\n",
    "```\n",
    "Starting garden (1 for alive, 0 for dormant): 111001\n",
    "How many extra dormant plants are on either side? 1\n",
    "How many generations do you want to see? 5\n",
    "\n",
    "🍂 🌱 🌱 🌱 🍂 🍂 🌱 🍂  g0 (4)\n",
    "🍂 🌱 🍂 🌱 🌱 🌱 🍂 🍂  g1 (4)\n",
    "🍂 🍂 🍂 🌱 🍂 🌱 🌱 🍂  g2 (3)\n",
    "🍂 🍂 🌱 🍂 🍂 🌱 🌱 🍂  g3 (3)\n",
    "🍂 🌱 🍂 🌱 🌱 🌱 🌱 🍂  g4 (5)\n",
    "```\n",
    "\n",
    "## Rules for the plants\n",
    "\n",
    "\n",
    "Every plant will always be either \"alive\" or \"dormant.\"\n",
    "\n",
    "* If a plant is alive and exactly one of its two neighboring plants (the plants to its left and right) are also alive, then it will stay alive in the next generation.\n",
    "* If a plant is alive and both of its two neighboring plants are alive, then it will become dormant in the next generation due to overcrowding.\n",
    "* If a plant is alive and both of its two neighboring plants are dormant, then it will become dormant in the next generation due to loneliness.\n",
    "* If a plant is dormant and exactly one of its two neighboring plants are alive, then it regenerates and becomes alive in the next generation.\n",
    "* If a plant is dormant and its two neighboring plants are both alive or both dormant, then it stays dormant in the next generation.\n",
    "\n",
    "**Note 1:** All the plants in the row change to the next generation at the same time.\n",
    "\n",
    "**Note 2:** The plant on the far left and the plant on the far right of the row have only one neighbor, so these rules do not apply; they will always be dormant.\n",
    "\n",
    "## Working through an example\n",
    "\n",
    "To make sure we understand the rules, let's examine a few generations. Suppose we have a row of eight plants. Suppose the plants begin like this:\n",
    "```\n",
    "🍂 🌱 🌱 🌱 🍂 🍂 🌱 🍂\n",
    "```\n",
    "\n",
    "There are 8 plants above; let's number them 0 to 7. To figure out what happens at the next generation, let's examine the plants from left to right.\n",
    "\n",
    "* Plant 0 is on the far left, so it always stays dormant.\n",
    "* Plant 1 is alive and has exactly one alive neighbor, so it will remain alive in the next generation.\n",
    "* Plant 2 is also alive, but both of its neighbors are alive, so it will become dormant in the next generation.\n",
    "* Plant 3, like plant 1, is alive and has exactly one alive neighbor, so it will remain alive.\n",
    "* Plant 4 is dormant, but it has exactly one alive neighbor, so it will regenerate and become alive in the next generation.\n",
    "* Plant 5 is similar to plant 4 (dormant, but has one alive neighbor), so it will also become alive.\n",
    "* Plant 6 is alive, but has no alive neighbors, so it will become dormant in the next generation.\n",
    "* Plant 7 is on the far right, so it always stays dormant.\n",
    "\n",
    "So the first two generations of plants in the row look like this, with the initial generation on top and the second generation below.\n",
    "```\n",
    "🍂 🌱 🌱 🌱 🍂 🍂 🌱 🍂\n",
    "🍂 🌱 🍂 🌱 🌱 🌱 🍂 🍂\n",
    "```\n",
    "\n",
    "You are encouraged to try to work out the next generation by hand! Do this by applying the same rules to the *second* generation above; this gives you the third generation. To check your work, here are the first three generations all together:\n",
    "```\n",
    "🍂 🌱 🌱 🌱 🍂 🍂 🌱 🍂\n",
    "🍂 🌱 🍂 🌱 🌱 🌱 🍂 🍂\n",
    "🍂 🍂 🍂 🌱 🍂 🌱 🌱 🍂\n",
    "```"
   ]
  },
  {
   "cell_type": "markdown",
   "metadata": {},
   "source": [
    "## How to print the plant symbols\n",
    "\n",
    "The plant symbols (🍂 and 🌱) are Unicode characters. Python allows you to use them in string literals just like any other character, though Python does not allow you to use them in variable names. For example, try running this code block:"
   ]
  },
  {
   "cell_type": "code",
   "execution_count": null,
   "metadata": {},
   "outputs": [],
   "source": [
    "alive = \"🌱\"\n",
    "dead = \"🍂\"\n",
    "\n",
    "print(alive + \" \" + dead)\n",
    "print(\"🍂 🌱\")"
   ]
  },
  {
   "cell_type": "markdown",
   "metadata": {},
   "source": [
    "This should give you an idea of how to print these symbols in your code."
   ]
  },
  {
   "cell_type": "markdown",
   "metadata": {},
   "source": [
    "## Writing your program\n",
    "\n",
    "### Requirements\n",
    "\n",
    "- You must use a `main()` function, and you must define and use at least **three additional functions** in your code.\n",
    "  - Each additional function must have a **function comment** (see the Style Guide on Canvas) explaining its behavior.\n",
    "  - For at least three of your additional functions, you must **write 3 tests each** in the section, \"Testing your program,\" below.\n",
    "- You must include the standard header comment. (See the Style Guide on Canvas for details.)\n",
    "\n",
    "### Suggested steps\n",
    "\n",
    "You will use **incremental development** to complete this project. If you're comfortable doing this without any further guidance, you're welcome to ignore the steps below and write your code in whatever order makes sense to you. If you'd prefer a step-by-step process, then follow the steps below:\n",
    "\n",
    "**Step 0**: Open `garden.py` and write the header comment. (See the Style Guide on Canvas for details.)\n",
    "\n",
    "**Step 1**: Create a `main()` function. For now, just use `pass` as the body. Call `main()` at the bottom of your code.\n",
    "\n",
    "**Step 2:** In `main()`, write code that takes the three inputs from the user.\n",
    "\n",
    "Note: You should define a variable called `current_generation` or something similar, which keeps track of the current generation as the program runs. You have to make an important decision here--what types should we use for `current_generation`? Here are a few options:\n",
    "\n",
    "- Store `current_generation` as a list of 0's & 1's, e.g., [0, 1, 1, 1, 0, 0, 1, 0].\n",
    "- Store `current_generation` as a list of emoji strings, e.g., [\"🍂\", \"🌱\", \"🌱\", \"🌱\", \"🍂\", \"🍂\", \"🌱\", \"🍂\"].\n",
    "- Store `current_generation` as a list of booleans, e.g., [False, True, True, True, False, False, True, False].\n",
    "- Store `current_generation` as a string of 0's & 1's, e.g., \"01110010\".\n",
    "- Store `current_generation` as a string of emojis, e.g., \"🍂🌱🌱🌱🍂🍂🌱🍂\".\n",
    "\n",
    "Any of these choices will work fine; choose the one that makes sense to you. Note that the user will enter the starting generation using 0's and 1's, so you will have to convert the user's input into the format you'd like to use for `current_generation`. This might be a good opportunity to define a function.\n",
    "\n",
    "**Step 3:** In `main()`, write code that prints out the starting generation using the plant emojis.\n",
    "\n",
    "Note: This is a good opportunity to define a function. You should start by writing the function signature (the `def` line), then the function comment, and then three tests for the function. (The tests should go in this notebook, in the section below.) You have to decide what parameters the function should take, and what the function should return. In deciding these things, there are many reasonable options! Here are some options:\n",
    "\n",
    "- You could define a `print_generation()` function that takes a generation in the format you chose above, and prints it out, returning None.\n",
    "  - You decide whether this function should also be responsible for printing out the generation number, and/or the number of living plants.\n",
    "- Or, you could define a `to_emojis()` function that takes a generation, and returns the corresponding string of emojis (e.g., \"🍂 🌱 🌱 🌱 🍂 🍂 🌱 🍂\").\n",
    "\n",
    "For either option above, one of the parameters of the function should be a generation, in the format you chose above. For example, if you're storing your generation as a list of booleans (e.g., [False, True, True, True, False, False, True, False]), then one parameter should be a list of booleans.\n",
    "\n",
    "**Step 4:** Modify your code to also print the generation number (\"g0\") of the starting generation.\n",
    "\n",
    "**Step 5:** Modify your code to also print the number of living plants in the starting generation.\n",
    "\n",
    "Note: This is another good opportunity to define a function.\n",
    "\n",
    "**Step 6:** Write a function, e.g. `next_generation()`, that takes a generation and returns the next generation.\n",
    "\n",
    "Note: Start by writing the function signature and a function comment. If you're storing your generation as a list of booleans, then some tests are given in the notebook section below. If you're storing your generation in any other way, then modify the tests given below to use your way of representing a generation.\n",
    "\n",
    "Before writing this function, carefully read the rules above that describe how a generation is determined from the previous generation. Your task here is to carry out these rules in code, so it is important that you understand the rules thoroughly first.\n",
    "\n",
    "**Step 7:** In `main()`, write code that calls `next_generation()` to get the second generation, and then print out the second generation in the same way as the first. At this point, your code should correctly match the example interaction through the first two generations.\n",
    "\n",
    "**Step 8:** Modify your code to print the number of generations requested by the user, not just the first two.\n",
    "\n",
    "Note: This will require a while-loop or a for-loop."
   ]
  },
  {
   "cell_type": "markdown",
   "metadata": {},
   "source": [
    "## Testing your program\n",
    "\n",
    "You are required to test your program in two ways; you must test (1) individual functions and (2) the entire program.\n",
    "\n",
    "Ideally, you should test individual functions immediately after you write them!\n",
    "\n",
    "### Testing individual functions.\n",
    "\n",
    "Use the code blocks below to test individual functions. **You must write at least 3 tests below for each of at least 3 functions other than `main()`.**\n",
    "\n",
    "As an example, I've included tests for a `next_generation()` function, assuming that you're storing your generations as a list of booleans.\n",
    "- If you're storing your generations as a list of booleans, you're welcome to use these tests--these count as one set of 3 tests.\n",
    "- If you're storing your generations in some other way, you're welcome to modify these tests accordingly.\n",
    "- If you're not using a `next_generation()` function, then delete these tests and replace them with tests for one of your functions.\n",
    "\n",
    "If you write more than 3 functions, you are encouraged (but not required) to test additional functions by inserting another cell."
   ]
  },
  {
   "cell_type": "code",
   "execution_count": null,
   "metadata": {
    "tags": [
     "#A2"
    ]
   },
   "outputs": [],
   "source": [
    "# Test the next_generation() function:\n",
    "from cs1.notebooks import *\n",
    "reload_functions('garden.py')\n",
    "\n",
    "print(next_generation([False, True, False, False]))\n",
    "# [False, False, True, False]\n",
    "\n",
    "print(next_generation([False, True, True, True, False, False, True, False]))\n",
    "# [False, True, False, True, True, True, False, False]\n",
    "\n",
    "print(next_generation([False, True, False, True, True, True, False, False]))\n",
    "# [False, False, False, True, False, True, True, False]"
   ]
  },
  {
   "cell_type": "code",
   "execution_count": null,
   "metadata": {},
   "outputs": [],
   "source": [
    "# Test another function:\n",
    "from cs1.notebooks import *\n",
    "reload_functions('garden.py')\n",
    "\n",
    "# (put tests here)"
   ]
  },
  {
   "cell_type": "code",
   "execution_count": null,
   "metadata": {},
   "outputs": [],
   "source": [
    "# Test another function:\n",
    "from cs1.notebooks import *\n",
    "reload_functions('garden.py')\n",
    "\n",
    "# (put tests here)"
   ]
  },
  {
   "cell_type": "markdown",
   "metadata": {},
   "source": [
    "### Testing the entire program.\n",
    "\n",
    "Below are shown two example interactions. Below each example interaction, run your program.\n",
    "\n",
    "You should aim to match these example interactions exactly, down to the character.\n",
    "\n",
    "#### Example interaction 1\n",
    "\n",
    "```\n",
    "Starting garden (1 for alive, 0 for dormant): 111001\n",
    "How many extra dormant plants are on either side? 1\n",
    "How many generations do you want to see? 5\n",
    "\n",
    "🍂 🌱 🌱 🌱 🍂 🍂 🌱 🍂  g0 (4)\n",
    "🍂 🌱 🍂 🌱 🌱 🌱 🍂 🍂  g1 (4)\n",
    "🍂 🍂 🍂 🌱 🍂 🌱 🌱 🍂  g2 (3)\n",
    "🍂 🍂 🌱 🍂 🍂 🌱 🌱 🍂  g3 (3)\n",
    "🍂 🌱 🍂 🌱 🌱 🌱 🌱 🍂  g4 (5)\n",
    "```"
   ]
  },
  {
   "cell_type": "code",
   "execution_count": null,
   "metadata": {},
   "outputs": [],
   "source": [
    "%run garden.py"
   ]
  },
  {
   "cell_type": "markdown",
   "metadata": {},
   "source": [
    "#### Example interaction 2\n",
    "\n",
    "```\n",
    "Starting garden (0 for dormant, 1 for alive): 1\n",
    "How many extra dormant plants are on either side? 16\n",
    "How many generations do you want to see? 17\n",
    "\n",
    "🍂 🍂 🍂 🍂 🍂 🍂 🍂 🍂 🍂 🍂 🍂 🍂 🍂 🍂 🍂 🍂 🌱 🍂 🍂 🍂 🍂 🍂 🍂 🍂 🍂 🍂 🍂 🍂 🍂 🍂 🍂 🍂 🍂  g0 (1)\n",
    "🍂 🍂 🍂 🍂 🍂 🍂 🍂 🍂 🍂 🍂 🍂 🍂 🍂 🍂 🍂 🌱 🍂 🌱 🍂 🍂 🍂 🍂 🍂 🍂 🍂 🍂 🍂 🍂 🍂 🍂 🍂 🍂 🍂  g1 (2)\n",
    "🍂 🍂 🍂 🍂 🍂 🍂 🍂 🍂 🍂 🍂 🍂 🍂 🍂 🍂 🌱 🍂 🍂 🍂 🌱 🍂 🍂 🍂 🍂 🍂 🍂 🍂 🍂 🍂 🍂 🍂 🍂 🍂 🍂  g2 (2)\n",
    "🍂 🍂 🍂 🍂 🍂 🍂 🍂 🍂 🍂 🍂 🍂 🍂 🍂 🌱 🍂 🌱 🍂 🌱 🍂 🌱 🍂 🍂 🍂 🍂 🍂 🍂 🍂 🍂 🍂 🍂 🍂 🍂 🍂  g3 (4)\n",
    "🍂 🍂 🍂 🍂 🍂 🍂 🍂 🍂 🍂 🍂 🍂 🍂 🌱 🍂 🍂 🍂 🍂 🍂 🍂 🍂 🌱 🍂 🍂 🍂 🍂 🍂 🍂 🍂 🍂 🍂 🍂 🍂 🍂  g4 (2)\n",
    "🍂 🍂 🍂 🍂 🍂 🍂 🍂 🍂 🍂 🍂 🍂 🌱 🍂 🌱 🍂 🍂 🍂 🍂 🍂 🌱 🍂 🌱 🍂 🍂 🍂 🍂 🍂 🍂 🍂 🍂 🍂 🍂 🍂  g5 (4)\n",
    "🍂 🍂 🍂 🍂 🍂 🍂 🍂 🍂 🍂 🍂 🌱 🍂 🍂 🍂 🌱 🍂 🍂 🍂 🌱 🍂 🍂 🍂 🌱 🍂 🍂 🍂 🍂 🍂 🍂 🍂 🍂 🍂 🍂  g6 (4)\n",
    "🍂 🍂 🍂 🍂 🍂 🍂 🍂 🍂 🍂 🌱 🍂 🌱 🍂 🌱 🍂 🌱 🍂 🌱 🍂 🌱 🍂 🌱 🍂 🌱 🍂 🍂 🍂 🍂 🍂 🍂 🍂 🍂 🍂  g7 (8)\n",
    "🍂 🍂 🍂 🍂 🍂 🍂 🍂 🍂 🌱 🍂 🍂 🍂 🍂 🍂 🍂 🍂 🍂 🍂 🍂 🍂 🍂 🍂 🍂 🍂 🌱 🍂 🍂 🍂 🍂 🍂 🍂 🍂 🍂  g8 (2)\n",
    "🍂 🍂 🍂 🍂 🍂 🍂 🍂 🌱 🍂 🌱 🍂 🍂 🍂 🍂 🍂 🍂 🍂 🍂 🍂 🍂 🍂 🍂 🍂 🌱 🍂 🌱 🍂 🍂 🍂 🍂 🍂 🍂 🍂  g9 (4)\n",
    "🍂 🍂 🍂 🍂 🍂 🍂 🌱 🍂 🍂 🍂 🌱 🍂 🍂 🍂 🍂 🍂 🍂 🍂 🍂 🍂 🍂 🍂 🌱 🍂 🍂 🍂 🌱 🍂 🍂 🍂 🍂 🍂 🍂  g10 (4)\n",
    "🍂 🍂 🍂 🍂 🍂 🌱 🍂 🌱 🍂 🌱 🍂 🌱 🍂 🍂 🍂 🍂 🍂 🍂 🍂 🍂 🍂 🌱 🍂 🌱 🍂 🌱 🍂 🌱 🍂 🍂 🍂 🍂 🍂  g11 (8)\n",
    "🍂 🍂 🍂 🍂 🌱 🍂 🍂 🍂 🍂 🍂 🍂 🍂 🌱 🍂 🍂 🍂 🍂 🍂 🍂 🍂 🌱 🍂 🍂 🍂 🍂 🍂 🍂 🍂 🌱 🍂 🍂 🍂 🍂  g12 (4)\n",
    "🍂 🍂 🍂 🌱 🍂 🌱 🍂 🍂 🍂 🍂 🍂 🌱 🍂 🌱 🍂 🍂 🍂 🍂 🍂 🌱 🍂 🌱 🍂 🍂 🍂 🍂 🍂 🌱 🍂 🌱 🍂 🍂 🍂  g13 (8)\n",
    "🍂 🍂 🌱 🍂 🍂 🍂 🌱 🍂 🍂 🍂 🌱 🍂 🍂 🍂 🌱 🍂 🍂 🍂 🌱 🍂 🍂 🍂 🌱 🍂 🍂 🍂 🌱 🍂 🍂 🍂 🌱 🍂 🍂  g14 (8)\n",
    "🍂 🌱 🍂 🌱 🍂 🌱 🍂 🌱 🍂 🌱 🍂 🌱 🍂 🌱 🍂 🌱 🍂 🌱 🍂 🌱 🍂 🌱 🍂 🌱 🍂 🌱 🍂 🌱 🍂 🌱 🍂 🌱 🍂  g15 (16)\n",
    "🍂 🍂 🍂 🍂 🍂 🍂 🍂 🍂 🍂 🍂 🍂 🍂 🍂 🍂 🍂 🍂 🍂 🍂 🍂 🍂 🍂 🍂 🍂 🍂 🍂 🍂 🍂 🍂 🍂 🍂 🍂 🍂 🍂  g16 (0)\n",
    "```"
   ]
  },
  {
   "cell_type": "code",
   "execution_count": null,
   "metadata": {
    "scrolled": true
   },
   "outputs": [],
   "source": [
    "%run garden.py"
   ]
  },
  {
   "cell_type": "markdown",
   "metadata": {},
   "source": [
    "## Aside: One-dimensional cellular automata\n",
    "\n",
    "Your garden is in fact what computer scientists call a one-dimensional cellular automaton (also called an [elementary cellular automaton](https://en.wikipedia.org/wiki/Elementary_cellular_automaton)).\n",
    "\n",
    "One thing that is interesting about 1d cellular automata is that they exhibit seemingly chaotic and random behavior, even though they are completely deterministic and follow a simple set of rules. For example, the following image is the result of simulating many generations of a 1d cellular automata. In the image, each row is a generation, and the row following it is the next generation.\n",
    "\n",
    "<img src=\"https://storage.googleapis.com/141-files/ca-result.png\" width=500/>\n",
    "\n",
    "Small tweaks in the rules for the next generation result in a wildly different simulation:\n",
    "\n",
    "<img src=\"https://storage.googleapis.com/141-files/ca-result2.png\" width=500/>\n",
    "\n",
    "1d cellular automata are useful for studying physical phenomena from chemistry to physics. For example, they describe how patterns on seashells arise:\n",
    "\n",
    "<img src=\"https://storage.googleapis.com/141-files/ca-shell.jpeg\" width=500/>"
   ]
  },
  {
   "cell_type": "markdown",
   "metadata": {},
   "source": [
    "## Submitting your project\n",
    "\n",
    "Before submitting your project, you must make sure your notebook shows evidence that your code works correctly. Specifically:\n",
    "\n",
    "- In the \"Testing your program\" section, you should have 3 tests for each of three additional functions.\n",
    "  - The successful output of those tests should be visible. (If not, run the tests again.)\n",
    "- In the \"Testing your program\" section, under both example interactions, a successful run of your program should be visible.\n",
    "  - The input/output of your program should match the example interaction exactly, down to the character.\n",
    "\n",
    "When you've checked that your notebook is correct, run the cell below! You may submit as many times as you like before the deadline."
   ]
  },
  {
   "cell_type": "code",
   "execution_count": null,
   "metadata": {},
   "outputs": [],
   "source": [
    "# Run this cell to submit.\n",
    "from cs1.notebooks import *\n",
    "ok_submit('project-6.ok')"
   ]
  },
  {
   "cell_type": "markdown",
   "metadata": {},
   "source": [
    "## Completing the technical report\n",
    "\n",
    "You are required to submit a **technical report**, in which you will answer three questions (in a Google form) about your submitted code. This technical report is due 24 hours after the main project deadline, but you are encouraged to go ahead and complete it as soon as you are satisfied with your project. You should expect the technical report to take about 15 minutes of your time. Click the link below to get started:\n",
    "\n",
    "[Project 6: technical report](https://forms.gle/pWQLDf8DPzwQPixA9)"
   ]
  },
  {
   "cell_type": "markdown",
   "metadata": {},
   "source": [
    "## Additional challenges (optional)\n",
    "\n",
    "Here are some ideas:\n",
    "\n",
    "- Adjust the formatting of output so that the numbers of alive plants in each generation are aligned.\n",
    "  - (For example, note that the `(4)` for g9 & g10 in example interaction 2 are currently not aligned.)\n",
    "- Create a new plant with more complex rules.\n",
    "  - (For example, a plant that lives or dies depending on whether there are an odd or even number of living plants that are at most 2 spaces away.)\n",
    "- Stop the simulation if all plants are dormant, and print a special message in this case.\n",
    "- Stop the simulation if we reach a generation that matches a previous generation, and print a special message in this case."
   ]
  },
  {
   "cell_type": "code",
   "execution_count": null,
   "metadata": {},
   "outputs": [],
   "source": []
  }
 ],
 "metadata": {
  "kernelspec": {
   "display_name": "Python 3 (ipykernel)",
   "language": "python",
   "name": "python3"
  },
  "language_info": {
   "codemirror_mode": {
    "name": "ipython",
    "version": 3
   },
   "file_extension": ".py",
   "mimetype": "text/x-python",
   "name": "python",
   "nbconvert_exporter": "python",
   "pygments_lexer": "ipython3",
   "version": "3.11.4"
  },
  "varInspector": {
   "cols": {
    "lenName": 16,
    "lenType": 16,
    "lenVar": 40
   },
   "kernels_config": {
    "python": {
     "delete_cmd_postfix": "",
     "delete_cmd_prefix": "del ",
     "library": "var_list.py",
     "varRefreshCmd": "print(var_dic_list())"
    },
    "r": {
     "delete_cmd_postfix": ") ",
     "delete_cmd_prefix": "rm(",
     "library": "var_list.r",
     "varRefreshCmd": "cat(var_dic_list()) "
    }
   },
   "types_to_exclude": [
    "module",
    "function",
    "builtin_function_or_method",
    "instance",
    "_Feature"
   ],
   "window_display": false
  }
 },
 "nbformat": 4,
 "nbformat_minor": 2
}
