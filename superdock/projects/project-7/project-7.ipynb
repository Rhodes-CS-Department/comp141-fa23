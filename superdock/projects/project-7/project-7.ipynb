{
 "cells": [
  {
   "cell_type": "markdown",
   "metadata": {
    "deletable": false,
    "editable": false
   },
   "source": [
    "# Project 7: Connect the Dots\n",
    "\n",
    "As a reminder, projects are designed to be completed individually. You may discuss the project with others, and you may help one another complete the project, but all help should follow the principle of **\"understanding, not answers.\"** In particular, you may not copy code from any source. (See the collaboration rules in the \"Programming projects\" section of the syllabus.)\n",
    "\n",
    "## Introduction\n",
    "\n",
    "In this program you will be creating a program that draws images from a sequence of $x$ and $y$ coordinates that will be read from an input file.\n",
    "\n",
    "At a high level, your program should function as follows:\n",
    "\n",
    "1. Ask the user for a file name to get coordinates from.\n",
    "1. Open a canvas with the dimensions given in the file.\n",
    "1. Read the in the rest of the file and parse and run the commands in the file.\n",
    "1. After all of the commands have been read and executed, display the canvas.\n",
    "\n",
    "In this project, you're not given a step-by-step process--you're on your own! You're encouraged to use the approach of **incremental development**. The rest of this notebook describes what your final program should do, and some ideas for how to write it are given in the section titled, \"Writing your program.\"\n",
    "\n",
    "## The picture file format\n",
    "\n",
    "The files that you read in are regular text files, but they will have a specific format. Each line will be a command that your Python code should interpret and run. These commands will specify where and how to draw lines on the canvas; the end result of executing these commands will be an image.\n",
    "\n",
    "\n",
    "### Commands\n",
    "\n",
    "* `canvas`: This command specifies the size of the drawing canvas to use. It will __always__ be the very first line of the file and will appear only once.\n",
    "\n",
    "* `lineto` (line to): This command should draw a line from the _current point_ to the _next point._\n",
    "\n",
    "* `dlineto` (dotted line to): This command should draw a dotted line from the _current point_ to the _next point._\n",
    "\n",
    "* `jumpto` (jump to): This command should result in the _current point_ changing to the specified point, with no line drawn between them.\n",
    "\n",
    "The lines should be drawn with a thickness of 2.\n",
    "\n",
    "### Example\n",
    "\n",
    "As an example, here is the contents of the file `picture1.txt`:\n",
    "\n",
    "```\n",
    "canvas 200 300\n",
    "jumpto 50 50\n",
    "lineto 90 90\n",
    "jumpto 50 90\n",
    "lineto 90 50\n",
    "jumpto 100 200\n",
    "lineto 100 250\n",
    "lineto 150 250\n",
    "lineto 150 200\n",
    "lineto 100 200\n",
    "```\n",
    "\n",
    "These commands tell us to:\n",
    "\n",
    "1. Open a canvas that is 200 pixels wide by 300 pixels tall.\n",
    "1. Set the current point as $(50, 50)$.\n",
    "1. Draw a line from the current point to $(90, 90)$ and set the current point as $(90, 90)$.\n",
    "1. Set the current point as $(50, 90)$.\n",
    "1. Draw a line from the current point to $(90, 50)$ and set the current point as $(90, 50)$.\n",
    "1. Set the current point as $(100, 200)$.\n",
    "1. Draw a line from the current point to $(100, 250)$ and set the current point as $(100, 250)$\n",
    "1. Draw a line from the current point to $(150, 250)$ and set the current point as $(150, 250)$\n",
    "1. Draw a line from the current point to $(150, 200)$ and set the current point as $(150, 200)$\n",
    "1. Draw a line from the current point to $(100, 200)$ and set the current point as $(100, 200)$\n",
    "\n",
    "The result of doing this will be the following image:\n",
    "\n",
    "<img src=\"https://storage.googleapis.com/141-files/picture1.png\"/>\n",
    "\n",
    "### Executing instructions\n",
    "\n",
    "You don't have to draw the entire picture all at once. Rather, you should read the file line-by-line and, for each instruction:\n",
    "* Draw a line (only for `lineto` and `dlineto`), and\n",
    "* Update the current point.\n",
    "\n",
    "### Sample files\n",
    "\n",
    "You should test your program with each of the following files to make sure they draw the pictures correctly. Each of the files is in the same folder as this notebook and you can open them to look at their contents.\n",
    "\n",
    "The output for each of these should be:\n",
    "* [picture1.txt](https://storage.googleapis.com/141-files/picture1.png)\n",
    "* [picture2.txt](https://storage.googleapis.com/141-files/picture2.png)\n",
    "* [homer.txt](https://storage.googleapis.com/141-files/homer.png)\n",
    "* [panda.txt](https://storage.googleapis.com/141-files/panda.png)\n",
    "* [lynx.txt](https://storage.googleapis.com/141-files/lynx.png)\n",
    "\n",
    "## Writing your program\n",
    "\n",
    "The file `draw.py` is in the same folder as this notebook. Start by writing the required header comment. Keep in mind that you are expected to write a function comment for each function you write other than `main()`.\n",
    "\n",
    "Your `main()` function should:\n",
    "* Prompt the user for the name of a file to open.\n",
    "* Open the file and read the size of the canvas to open.\n",
    "* Using a loop, read and execute the commands.\n",
    "\n",
    "For each `line` command, you should call `draw_line()` from the graphics library (see our [Python reference](https://cs.rhodes.edu/~superdockm/comp141/doc4/)). For each `dline` command, you should call a `draw_dotted_line()` function, which you will have to write yourself.\n",
    "\n",
    "Here are two possible approaches you could take to write this program:\n",
    "\n",
    "1. Start by writing & testing `draw_dotted_line()` (see section below), and then write `main()`.\n",
    "2. Write a placeholder version of `draw_dotted_line()`, then write `main()`, and then rewrite `draw_dotted_line()` correctly.\n",
    "\n",
    "If you like approach (2), you might use the following as your placeholder version of `draw_dotted_line()`:\n",
    "\n",
    "```\n",
    "def draw_dotted_line(x1, y1, x2, y2):\n",
    "    # Just draws a solid line, for now.\n",
    "    draw_line(x1, y1, x2, y2)\n",
    "```"
   ]
  },
  {
   "cell_type": "markdown",
   "metadata": {
    "deletable": false,
    "editable": false
   },
   "source": [
    "## Testing your program\n",
    "\n",
    "Here's a block you can use to test your program:"
   ]
  },
  {
   "cell_type": "code",
   "execution_count": null,
   "metadata": {
    "deletable": false,
    "editable": false
   },
   "outputs": [],
   "source": [
    "# Run this cell to run your program.\n",
    "%run draw.py"
   ]
  },
  {
   "cell_type": "markdown",
   "metadata": {
    "deletable": false,
    "editable": false
   },
   "source": [
    "## Drawing dotted lines\n",
    "\n",
    "Your dotted lines should look like this:\n",
    "\n",
    "<img src=\"https://storage.googleapis.com/141-files/dots.png\"/>\n",
    "\n",
    "In order to draw these types of lines, we will need to design and implement an algorithm.\n",
    "\n",
    "### Deciding where the dots go\n",
    "\n",
    "First, let's look at the problem: we are given $(x1, y1)$ and $(x2, y2)$. We want to draw a sequence of dots between them. The dots are going to be spaced apart by 10 pixels.\n",
    "\n",
    "<img src=\"https://storage.googleapis.com/141-files/dots-step1.png\"/>\n",
    "\n",
    "If we know the distance between the points, that tells us how many points are required in total.\n",
    "\n",
    "<img src=\"https://storage.googleapis.com/141-files/dots-step2.png\"/>\n",
    "\n",
    "Once we know the number of points, we can compute their positions. In order to do that, we need to know the change in x and y between the points (we'll call these x-step and y-step).\n",
    "\n",
    "<img src=\"https://storage.googleapis.com/141-files/dots-step3.png\"/>\n",
    "\n",
    "The first point will be at $(x1, y1)$. Then, the next point (moving from left to right) will be at $(x1 + xstep, y1 + ystep)$. The third point can be found by adding the x-step and y-step to the second point, and so on. The last point is at $(x2, y2)$.\n",
    "\n",
    "\n",
    "### The algorithm\n",
    "\n",
    "First, calculate the number of gaps in the line, and the x and y steps.\n",
    "* Calculate the distance from the starting point to the ending point.\n",
    "* Divide this distance by 10 and convert it to an integer. The resulting value is the number of gaps in the line.\n",
    "* Calculate the total change in the x and y directions.\n",
    "* Divide these by the number of gaps to get the `x_step` and `y_step`.\n",
    "\n",
    "Then, draw the line:\n",
    "* Draw a dot at the starting point (circle of radius 2).\n",
    "* Use a loop to draw the intermediate dots between the starting point and the ending point. With each iteration of the loop, calculate the location of the next dot by adding `x_step` and `y_step` to the current x and y coordinates. Draw a circle at each point.\n",
    "* If necessary, draw the ending point.\n",
    "\n",
    "Your function should have four parameters: `draw_dotted_line(x1, y1, x2, y2)`. $(x1, y1)$ and $(x2, y2)$ will be the endpoints of the line segment.\n",
    "\n",
    "It will be helpful to use the notebook to design and test your function. The cell below is set up to do exactly that."
   ]
  },
  {
   "cell_type": "code",
   "execution_count": null,
   "metadata": {},
   "outputs": [],
   "source": [
    "from cs1.graphics import *\n",
    "from math import sqrt\n",
    "\n",
    "# YOUR FUNCTION HERE\n",
    "\n",
    "# Open a canvas\n",
    "open_canvas(200, 200)\n",
    "\n",
    "# Draw a few lines\n",
    "draw_line(100, 150, 150, 100)\n",
    "draw_line(50, 100, 50, 150)\n",
    "draw_line(0, 0, 200, 200)"
   ]
  },
  {
   "cell_type": "markdown",
   "metadata": {
    "deletable": false,
    "editable": false
   },
   "source": [
    "Your result should look like the example above.\n",
    "\n",
    "Once you have completed your function, you can copy it into `draw.py` and complete the project. You can run your program by running the following cell. Remember to use a thickness of 2 for drawing lines. Also remember to add import statements."
   ]
  },
  {
   "cell_type": "markdown",
   "metadata": {
    "deletable": false,
    "editable": false
   },
   "source": [
    "## Testing your program\n",
    "\n",
    "Here's another block you can use to test your program:"
   ]
  },
  {
   "cell_type": "code",
   "execution_count": null,
   "metadata": {
    "deletable": false,
    "editable": false
   },
   "outputs": [],
   "source": [
    "# Run this cell to run your program.\n",
    "%run draw.py"
   ]
  },
  {
   "cell_type": "markdown",
   "metadata": {
    "deletable": false,
    "editable": false
   },
   "source": [
    "## Completing the technical report\n",
    "\n",
    "You are required to submit a **technical report**, in which you will answer three questions (in a Google form) about your submitted code. This technical report is due 24 hours after the main project deadline, but you are encouraged to go ahead and complete it as soon as you are satisfied with your project. You should expect the technical report to take about 15 minutes of your time. Click the link below to get started:\n",
    "\n",
    "[Project 7: technical report](https://forms.gle/irSsnyCcB1xFv7p99)"
   ]
  },
  {
   "cell_type": "markdown",
   "metadata": {
    "deletable": false,
    "editable": false
   },
   "source": [
    "## Submitting your project\n",
    "\n",
    "Before submitting your project, you are encouraged to test using each of the provided sample files.\n",
    "\n",
    "When you're ready to submit, run the cell below! You may submit as many times as you like before the deadline."
   ]
  },
  {
   "cell_type": "code",
   "execution_count": null,
   "metadata": {
    "deletable": false,
    "editable": false
   },
   "outputs": [],
   "source": [
    "# Run this cell to log in to okpy.org so that you can submit\n",
    "# at the end of the project.\n",
    "from cs1.notebooks import *\n",
    "ok_submit('project-7.ok')"
   ]
  }
 ],
 "metadata": {
  "kernelspec": {
   "display_name": "Python 3 (ipykernel)",
   "language": "python",
   "name": "python3"
  },
  "language_info": {
   "codemirror_mode": {
    "name": "ipython",
    "version": 3
   },
   "file_extension": ".py",
   "mimetype": "text/x-python",
   "name": "python",
   "nbconvert_exporter": "python",
   "pygments_lexer": "ipython3",
   "version": "3.11.4"
  },
  "varInspector": {
   "cols": {
    "lenName": 16,
    "lenType": 16,
    "lenVar": 40
   },
   "kernels_config": {
    "python": {
     "delete_cmd_postfix": "",
     "delete_cmd_prefix": "del ",
     "library": "var_list.py",
     "varRefreshCmd": "print(var_dic_list())"
    },
    "r": {
     "delete_cmd_postfix": ") ",
     "delete_cmd_prefix": "rm(",
     "library": "var_list.r",
     "varRefreshCmd": "cat(var_dic_list()) "
    }
   },
   "types_to_exclude": [
    "module",
    "function",
    "builtin_function_or_method",
    "instance",
    "_Feature"
   ],
   "window_display": false
  }
 },
 "nbformat": 4,
 "nbformat_minor": 2
}
