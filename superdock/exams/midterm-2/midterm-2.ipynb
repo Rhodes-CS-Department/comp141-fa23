{
 "cells": [
  {
   "cell_type": "markdown",
   "id": "9a820c59",
   "metadata": {
    "deletable": false,
    "editable": false
   },
   "source": [
    "# Midterm 2: Programming section\n",
    "\n",
    "Write your solutions in the code blocks below.\n",
    "\n",
    "You are encouraged to run your code to test your work."
   ]
  },
  {
   "cell_type": "markdown",
   "id": "db546417",
   "metadata": {
    "deletable": false,
    "editable": false
   },
   "source": [
    "## Problem 1."
   ]
  },
  {
   "cell_type": "code",
   "execution_count": null,
   "id": "ac80f16d",
   "metadata": {},
   "outputs": [],
   "source": []
  },
  {
   "cell_type": "markdown",
   "id": "4511f2f6",
   "metadata": {
    "deletable": false,
    "editable": false
   },
   "source": [
    "## Problem 2."
   ]
  },
  {
   "cell_type": "code",
   "execution_count": null,
   "id": "166e5177",
   "metadata": {},
   "outputs": [],
   "source": []
  },
  {
   "cell_type": "markdown",
   "id": "36232e2f",
   "metadata": {
    "deletable": false,
    "editable": false
   },
   "source": [
    "## Problem 3."
   ]
  },
  {
   "cell_type": "code",
   "execution_count": null,
   "id": "92e333ae",
   "metadata": {},
   "outputs": [],
   "source": []
  },
  {
   "cell_type": "markdown",
   "id": "a462c732",
   "metadata": {
    "deletable": false,
    "editable": false
   },
   "source": [
    "## Problem 4."
   ]
  },
  {
   "cell_type": "code",
   "execution_count": null,
   "id": "bceca693",
   "metadata": {},
   "outputs": [],
   "source": []
  },
  {
   "cell_type": "markdown",
   "id": "70e4d3db",
   "metadata": {
    "deletable": false,
    "editable": false
   },
   "source": [
    "## Submit.\n",
    "\n",
    "Before submitting, make sure that the output of each code block is visible below that code block."
   ]
  },
  {
   "cell_type": "code",
   "execution_count": 1,
   "id": "089f3afe",
   "metadata": {
    "deletable": false,
    "editable": false
   },
   "outputs": [],
   "source": [
    "# Run this cell to submit.\n",
    "from cs1.notebooks import *\n",
    "ok_submit('midterm-2.ok')"
   ]
  }
 ],
 "metadata": {
  "kernelspec": {
   "display_name": "Python 3 (ipykernel)",
   "language": "python",
   "name": "python3"
  },
  "language_info": {
   "codemirror_mode": {
    "name": "ipython",
    "version": 3
   },
   "file_extension": ".py",
   "mimetype": "text/x-python",
   "name": "python",
   "nbconvert_exporter": "python",
   "pygments_lexer": "ipython3",
   "version": "3.11.4"
  },
  "varInspector": {
   "cols": {
    "lenName": 16,
    "lenType": 16,
    "lenVar": 40
   },
   "kernels_config": {
    "python": {
     "delete_cmd_postfix": "",
     "delete_cmd_prefix": "del ",
     "library": "var_list.py",
     "varRefreshCmd": "print(var_dic_list())"
    },
    "r": {
     "delete_cmd_postfix": ") ",
     "delete_cmd_prefix": "rm(",
     "library": "var_list.r",
     "varRefreshCmd": "cat(var_dic_list()) "
    }
   },
   "types_to_exclude": [
    "module",
    "function",
    "builtin_function_or_method",
    "instance",
    "_Feature"
   ],
   "window_display": false
  }
 },
 "nbformat": 4,
 "nbformat_minor": 5
}
