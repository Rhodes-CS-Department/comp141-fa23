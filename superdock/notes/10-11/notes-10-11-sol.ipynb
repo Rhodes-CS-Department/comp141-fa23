{
 "cells": [
  {
   "cell_type": "markdown",
   "id": "d62ff4c8",
   "metadata": {},
   "source": [
    "# 10/11: Writing code with `while` loops. (solutions)"
   ]
  },
  {
   "cell_type": "markdown",
   "id": "1a786554",
   "metadata": {},
   "source": [
    "## Example: Counting.\n",
    "\n",
    "Together, we'll write a program that prints the numbers from 1 to 100, each on its own line:"
   ]
  },
  {
   "cell_type": "code",
   "execution_count": null,
   "id": "06a493d5",
   "metadata": {
    "scrolled": true
   },
   "outputs": [],
   "source": [
    "i = 1\n",
    "\n",
    "while i <= 100:\n",
    "    print(1)\n",
    "    i += 1"
   ]
  },
  {
   "cell_type": "markdown",
   "id": "49fd7a29",
   "metadata": {},
   "source": [
    "## Examples\n",
    "\n",
    "(1) Write code that counts by 10's to 1000. The program should print the following, all on one line:\n",
    "\n",
    "`10, 20, 30, ... , 1000`\n",
    "\n",
    "(Instead of the dots above, the program should actually print all of the numbers, separated by commas.)"
   ]
  },
  {
   "cell_type": "code",
   "execution_count": null,
   "id": "6db19d0d",
   "metadata": {},
   "outputs": [],
   "source": [
    "i = 10\n",
    "\n",
    "while i < 1000:\n",
    "    print(i, end=\", \")\n",
    "    i += 10\n",
    "    \n",
    "print(1000)"
   ]
  },
  {
   "cell_type": "markdown",
   "id": "8eb0e91e",
   "metadata": {},
   "source": [
    "(2) Write code that prints \"Hello world!\" 10 times, each on its own line."
   ]
  },
  {
   "cell_type": "code",
   "execution_count": null,
   "id": "8a147189",
   "metadata": {},
   "outputs": [],
   "source": [
    "i = 0\n",
    "\n",
    "while i < 10:\n",
    "    print('Hello world!')\n",
    "    i += 1"
   ]
  },
  {
   "cell_type": "markdown",
   "id": "584fd6e9",
   "metadata": {},
   "source": [
    "(3) Write code that asks the user to input an integer between 1 and 10. If the user inputs an integer not between 1 and 10, ask the user to try again until the user inputs an integer between 1 and 10. (We call this an **input validation loop**.)"
   ]
  },
  {
   "cell_type": "code",
   "execution_count": null,
   "id": "e5da4add",
   "metadata": {},
   "outputs": [],
   "source": [
    "x = int(input('Enter an integer between 1 and 10: '))\n",
    "\n",
    "while x < 1 or x > 10:\n",
    "    x = int(input('Try again: '))\n",
    "    \n",
    "print(x)"
   ]
  },
  {
   "cell_type": "markdown",
   "id": "0f875e62",
   "metadata": {},
   "source": [
    "## Problems\n",
    "\n",
    "(1) Write code that prints the even numbers between 1 and 100 (inclusive), each on its own line.\n",
    "\n",
    "The first three lines of output should be as follows:\n",
    "\n",
    "```\n",
    "2\n",
    "4\n",
    "6\n",
    "```"
   ]
  },
  {
   "cell_type": "code",
   "execution_count": null,
   "id": "75f6b691",
   "metadata": {},
   "outputs": [],
   "source": [
    "i = 2\n",
    "\n",
    "while i <= 100:\n",
    "    print(i)\n",
    "    i += 2"
   ]
  },
  {
   "cell_type": "markdown",
   "id": "be08ff59",
   "metadata": {},
   "source": [
    "(2) Write code that prints the following list of perfect squares using a loop.\n",
    "\n",
    "You should match this output exactly, including the \"^2\" and the equals signs:\n",
    "\n",
    "```\n",
    "1^2 = 1\n",
    "2^2 = 4\n",
    "3^2 = 9\n",
    "4^2 = 16\n",
    "5^2 = 25\n",
    "6^2 = 36\n",
    "7^2 = 49\n",
    "8^2 = 64\n",
    "9^2 = 81\n",
    "10^2 = 100\n",
    "```"
   ]
  },
  {
   "cell_type": "code",
   "execution_count": null,
   "id": "fcfdf99b",
   "metadata": {},
   "outputs": [],
   "source": [
    "i = 1\n",
    "\n",
    "while i <= 10:\n",
    "    print(str(i) + \"^2 = \" + str(i ** 2))\n",
    "    i += 1"
   ]
  },
  {
   "cell_type": "markdown",
   "id": "6db5aebd",
   "metadata": {},
   "source": [
    "(3) Write code that counts down from 100 to 0 (inclusive), but replaces each multiple of 3 with \"Fizz\".\n",
    "\n",
    "The first six lines of output should be as follows:\n",
    "\n",
    "```\n",
    "100\n",
    "Fizz\n",
    "98\n",
    "97\n",
    "Fizz\n",
    "95\n",
    "```"
   ]
  },
  {
   "cell_type": "code",
   "execution_count": null,
   "id": "9ab96a6a",
   "metadata": {},
   "outputs": [],
   "source": [
    "i = 100\n",
    "\n",
    "while i >= 0:\n",
    "    if i % 3 == 0:\n",
    "        print('Fizz')\n",
    "    else:\n",
    "        print(i)\n",
    "    \n",
    "    i -= 1"
   ]
  },
  {
   "cell_type": "markdown",
   "id": "2e199654",
   "metadata": {},
   "source": [
    "## Challenge: Drawing a bulls-eye with a loop.\n",
    "\n",
    "Below is our code that draws a bulls-eye. Rewrite it using a loop, so that each iteration of the loop has just one call to `draw_filled_circle()`."
   ]
  },
  {
   "cell_type": "code",
   "execution_count": null,
   "id": "34c05345",
   "metadata": {},
   "outputs": [],
   "source": [
    "from cs1.graphics import *\n",
    "\n",
    "open_canvas(500, 500)\n",
    "\n",
    "radius = 50\n",
    "color = \"red\"\n",
    "\n",
    "while radius > 0:\n",
    "    set_color(color)\n",
    "    draw_filled_circle(250, 250, radius)\n",
    "    \n",
    "    radius -= 10\n",
    "    \n",
    "    if color == \"red\":\n",
    "        color = \"white\"\n",
    "    else:\n",
    "        color = \"red\""
   ]
  },
  {
   "cell_type": "code",
   "execution_count": null,
   "id": "8ac44659",
   "metadata": {},
   "outputs": [],
   "source": []
  }
 ],
 "metadata": {
  "kernelspec": {
   "display_name": "Python 3 (ipykernel)",
   "language": "python",
   "name": "python3"
  },
  "language_info": {
   "codemirror_mode": {
    "name": "ipython",
    "version": 3
   },
   "file_extension": ".py",
   "mimetype": "text/x-python",
   "name": "python",
   "nbconvert_exporter": "python",
   "pygments_lexer": "ipython3",
   "version": "3.11.4"
  },
  "varInspector": {
   "cols": {
    "lenName": 16,
    "lenType": 16,
    "lenVar": 40
   },
   "kernels_config": {
    "python": {
     "delete_cmd_postfix": "",
     "delete_cmd_prefix": "del ",
     "library": "var_list.py",
     "varRefreshCmd": "print(var_dic_list())"
    },
    "r": {
     "delete_cmd_postfix": ") ",
     "delete_cmd_prefix": "rm(",
     "library": "var_list.r",
     "varRefreshCmd": "cat(var_dic_list()) "
    }
   },
   "types_to_exclude": [
    "module",
    "function",
    "builtin_function_or_method",
    "instance",
    "_Feature"
   ],
   "window_display": false
  }
 },
 "nbformat": 4,
 "nbformat_minor": 5
}
