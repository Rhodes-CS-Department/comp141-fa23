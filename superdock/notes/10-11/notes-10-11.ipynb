{
 "cells": [
  {
   "cell_type": "markdown",
   "id": "d62ff4c8",
   "metadata": {},
   "source": [
    "# 10/11: Writing code with `while` loops.\n",
    "\n",
    "## Warmup: Tracing code.\n",
    "\n",
    "Trace the following blocks of code. Your final answer should consist of (1) all printed output, and (2) the final environment, with values and types."
   ]
  },
  {
   "cell_type": "code",
   "execution_count": null,
   "id": "8ef1b90c",
   "metadata": {},
   "outputs": [],
   "source": [
    "s = \"\"\n",
    "i = 2\n",
    "\n",
    "while i < 10:\n",
    "    s += str(i)\n",
    "    i += 2\n",
    "    print(s)\n",
    "    \n",
    "print(i)"
   ]
  },
  {
   "cell_type": "code",
   "execution_count": null,
   "id": "6049a55e",
   "metadata": {},
   "outputs": [],
   "source": [
    "j = 0\n",
    "k = 1000\n",
    "\n",
    "while k > 10:\n",
    "    j = 2 * k\n",
    "    k -= 2\n",
    "    \n",
    "print(j)\n",
    "print(k)"
   ]
  },
  {
   "cell_type": "markdown",
   "id": "1a786554",
   "metadata": {},
   "source": [
    "## Example: Counting.\n",
    "\n",
    "Together, we'll write a program that prints the numbers from 1 to 100, each on its own line:"
   ]
  },
  {
   "cell_type": "code",
   "execution_count": null,
   "id": "06a493d5",
   "metadata": {
    "scrolled": true
   },
   "outputs": [],
   "source": []
  },
  {
   "cell_type": "markdown",
   "id": "4d043936",
   "metadata": {},
   "source": [
    "To summarize, we used the following problem-solving strategies:\n",
    "\n",
    "**1. Solve a simpler problem:** Write a program that prints the numbers from 1 to 5, each on its own line.\n",
    "\n",
    "**2. Write out the straightforward solution first.**\n",
    "\n",
    "**3. Generalize by introducing variables.**\n",
    "\n",
    "**4. Replace repeated code with an equivalent loop.**"
   ]
  },
  {
   "cell_type": "markdown",
   "id": "49fd7a29",
   "metadata": {},
   "source": [
    "## Count-controlled loops\n",
    "\n",
    "Our counting program above is an example of a **count-controlled** loop, a loop that uses an integer variable (sometimes called a **counter**) in its condition to determine whether or not to keep going to the next iteration.\n",
    "\n",
    "The comments below show the general structure of a count-controlled loop:\n",
    "\n",
    "```\n",
    "i = 1               # Define the counter.\n",
    "\n",
    "while i <= 100:     # Test whether the counter is in a certain range.\n",
    "\n",
    "    print(i)\n",
    "    \n",
    "    i += 1          # Update the counter.\n",
    "```\n",
    "\n",
    "## Examples\n",
    "\n",
    "(1) Write code that counts by 10's to 1000. The program should print the following, all on one line:\n",
    "\n",
    "`10, 20, 30, ... , 1000`\n",
    "\n",
    "(Instead of the dots above, the program should actually print all of the numbers, separated by commas.)"
   ]
  },
  {
   "cell_type": "code",
   "execution_count": null,
   "id": "6db19d0d",
   "metadata": {},
   "outputs": [],
   "source": []
  },
  {
   "cell_type": "markdown",
   "id": "8eb0e91e",
   "metadata": {},
   "source": [
    "(2) Write code that prints \"Hello world!\" 10 times, each on its own line."
   ]
  },
  {
   "cell_type": "code",
   "execution_count": null,
   "id": "8a147189",
   "metadata": {},
   "outputs": [],
   "source": []
  },
  {
   "cell_type": "markdown",
   "id": "584fd6e9",
   "metadata": {},
   "source": [
    "(3) Write code that asks the user to input an integer between 1 and 10. If the user inputs an integer not between 1 and 10, ask the user to try again until the user inputs an integer between 1 and 10. (We call this an **input validation loop**.)"
   ]
  },
  {
   "cell_type": "code",
   "execution_count": null,
   "id": "e5da4add",
   "metadata": {},
   "outputs": [],
   "source": []
  },
  {
   "cell_type": "markdown",
   "id": "0f875e62",
   "metadata": {},
   "source": [
    "## Problems\n",
    "\n",
    "(1) Write code that prints the even numbers between 1 and 100 (inclusive), each on its own line.\n",
    "\n",
    "The first three lines of output should be as follows:\n",
    "\n",
    "```\n",
    "2\n",
    "4\n",
    "6\n",
    "```"
   ]
  },
  {
   "cell_type": "code",
   "execution_count": null,
   "id": "75f6b691",
   "metadata": {},
   "outputs": [],
   "source": []
  },
  {
   "cell_type": "markdown",
   "id": "be08ff59",
   "metadata": {},
   "source": [
    "(2) Write code that prints the following list of perfect squares using a loop.\n",
    "\n",
    "You should match this output exactly, including the \"^2\" and the equals signs:\n",
    "\n",
    "```\n",
    "1^2 = 1\n",
    "2^2 = 4\n",
    "3^2 = 9\n",
    "4^2 = 16\n",
    "5^2 = 25\n",
    "6^2 = 36\n",
    "7^2 = 49\n",
    "8^2 = 64\n",
    "9^2 = 81\n",
    "10^2 = 100\n",
    "```"
   ]
  },
  {
   "cell_type": "code",
   "execution_count": null,
   "id": "fcfdf99b",
   "metadata": {},
   "outputs": [],
   "source": []
  },
  {
   "cell_type": "markdown",
   "id": "6db5aebd",
   "metadata": {},
   "source": [
    "(3) Write code that counts down from 100 to 0 (inclusive), but replaces each multiple of 3 with \"Fizz\".\n",
    "\n",
    "The first six lines of output should be as follows:\n",
    "\n",
    "```\n",
    "100\n",
    "Fizz\n",
    "98\n",
    "97\n",
    "Fizz\n",
    "95\n",
    "```"
   ]
  },
  {
   "cell_type": "code",
   "execution_count": null,
   "id": "9ab96a6a",
   "metadata": {},
   "outputs": [],
   "source": []
  },
  {
   "cell_type": "markdown",
   "id": "2e199654",
   "metadata": {},
   "source": [
    "## Challenge: Drawing a bulls-eye with a loop.\n",
    "\n",
    "Below is our code that draws a bulls-eye. Rewrite it using a loop, so that each iteration of the loop has just one call to `draw_filled_circle()`."
   ]
  },
  {
   "cell_type": "code",
   "execution_count": null,
   "id": "34c05345",
   "metadata": {},
   "outputs": [],
   "source": [
    "from cs1.graphics import *\n",
    "\n",
    "open_canvas(500, 500)\n",
    "\n",
    "set_color(\"red\")\n",
    "draw_filled_circle(250, 250, 50)\n",
    "\n",
    "set_color(\"white\")\n",
    "draw_filled_circle(250, 250, 40)\n",
    "\n",
    "set_color(\"red\")\n",
    "draw_filled_circle(250, 250, 30)\n",
    "\n",
    "set_color(\"white\")\n",
    "draw_filled_circle(250, 250, 20)\n",
    "\n",
    "set_color(\"red\")\n",
    "draw_filled_circle(250, 250, 10)"
   ]
  }
 ],
 "metadata": {
  "kernelspec": {
   "display_name": "Python 3 (ipykernel)",
   "language": "python",
   "name": "python3"
  },
  "language_info": {
   "codemirror_mode": {
    "name": "ipython",
    "version": 3
   },
   "file_extension": ".py",
   "mimetype": "text/x-python",
   "name": "python",
   "nbconvert_exporter": "python",
   "pygments_lexer": "ipython3",
   "version": "3.11.4"
  },
  "varInspector": {
   "cols": {
    "lenName": 16,
    "lenType": 16,
    "lenVar": 40
   },
   "kernels_config": {
    "python": {
     "delete_cmd_postfix": "",
     "delete_cmd_prefix": "del ",
     "library": "var_list.py",
     "varRefreshCmd": "print(var_dic_list())"
    },
    "r": {
     "delete_cmd_postfix": ") ",
     "delete_cmd_prefix": "rm(",
     "library": "var_list.r",
     "varRefreshCmd": "cat(var_dic_list()) "
    }
   },
   "types_to_exclude": [
    "module",
    "function",
    "builtin_function_or_method",
    "instance",
    "_Feature"
   ],
   "window_display": false
  }
 },
 "nbformat": 4,
 "nbformat_minor": 5
}
