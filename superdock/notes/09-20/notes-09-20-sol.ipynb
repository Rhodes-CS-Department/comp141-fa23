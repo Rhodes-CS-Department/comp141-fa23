{
 "cells": [
  {
   "cell_type": "markdown",
   "id": "d6780ad1",
   "metadata": {},
   "source": [
    "# 9/20: Using the graphics API.\n",
    "\n",
    "**Note:** This is a copy of the 9/20 notes, including a solution to the bulls-eye problem we didn't get to in class.\n",
    "\n",
    "## Warm-Up: Tracing code.\n",
    "\n",
    "Trace each of the following blocks of code. (Execute the code by hand, keeping track of the environment and printed output.)\n",
    "\n",
    "A few reminders:\n",
    "\n",
    "- When a `def` statement is executed, be sure to add the function to the environment.\n",
    "- When a user-defined function call is evaluated, create a new frame for the function call.\n",
    "\n",
    "**Problem 1.**"
   ]
  },
  {
   "cell_type": "code",
   "execution_count": null,
   "id": "26cdae7d",
   "metadata": {},
   "outputs": [],
   "source": [
    "def f(x, y):\n",
    "    x *= 2\n",
    "    z = 10\n",
    "    print(x, y)\n",
    "    \n",
    "x = 1\n",
    "z = 3\n",
    "\n",
    "f(x, 6)\n",
    "f(z, x)"
   ]
  },
  {
   "cell_type": "markdown",
   "id": "b8d1ea01",
   "metadata": {},
   "source": [
    "**Problem 2.**"
   ]
  },
  {
   "cell_type": "code",
   "execution_count": null,
   "id": "9244096a",
   "metadata": {},
   "outputs": [],
   "source": [
    "def g(a, b, c):\n",
    "    a = b\n",
    "    b = c\n",
    "    print('hello')\n",
    "    print(b)\n",
    "\n",
    "g(9, 8, 2)\n",
    "\n",
    "a = 4\n",
    "b = 5\n",
    "c = 6\n",
    "\n",
    "print(a, b, c)\n",
    "\n",
    "g(a, b, c)\n",
    "g(c, b, a)"
   ]
  },
  {
   "cell_type": "markdown",
   "id": "d0440193",
   "metadata": {},
   "source": [
    "## Graphics\n",
    "\n"
   ]
  },
  {
   "attachments": {
    "image.png": {
     "image/png": "[encoded data removed]"
    }
   },
   "cell_type": "markdown",
   "id": "df16beee",
   "metadata": {},
   "source": [
    "Today we'll learn to work with a graphics *library*.\n",
    "\n",
    "- A **library** is a collection of related functions, which we can import and use within our own programs.\n",
    "- The **API** (application programming interface) of a library refers to the collection of functions a programmer is intended to use.\n",
    "- A library typically provides **documentation** or a **reference**, which describes the functions provided by the library and how to use them.\n",
    "\n",
    "To start, open our updated Python reference ([link](https://cs.rhodes.edu/~superdockm/comp141/doc2/)), and scroll down to the new section titled \"Graphics\". These is the API we'll be learning to use.\n",
    "\n",
    "First, there are a few concepts to understand:\n",
    "\n",
    "### The canvas\n",
    "\n",
    "When we work with graphics, we do all of our drawing on a **canvas**:\n",
    "\n",
    "- We have to \"open\" the canvas before we do any drawing.\n",
    "- The canvas has coordinates; the coordinates are similar to coordinates in math, but with a flipped y-axis.\n",
    "- The coordinates are in terms of **pixels** on our screen.\n",
    "\n",
    "![image.png](attachment:image.png)\n",
    "\n",
    "**Note:** The point (0, 0) refers to the top-left corner of the canvas.\n",
    "\n",
    "### Example\n",
    "\n",
    "Let's do some drawing."
   ]
  },
  {
   "cell_type": "code",
   "execution_count": null,
   "id": "1f42a84d",
   "metadata": {},
   "outputs": [],
   "source": [
    "from cs1.graphics import *\n",
    "\n",
    "open_canvas(500, 500)\n",
    "\n",
    "set_color(\"blue\")\n",
    "draw_line(100, 400, 400, 400)\n",
    "draw_line(100, 410, 400, 410)\n",
    "\n",
    "set_color(\"#FFFF00\")\n",
    "draw_filled_circle(300, 100, 50)"
   ]
  },
  {
   "cell_type": "markdown",
   "id": "4d289c9c",
   "metadata": {},
   "source": [
    "A few takeaways:\n",
    "\n",
    "- We have to import the graphics library, using `from cs1.graphics import *`.\n",
    "  - This is like `import cs1.graphics`, but it puts all of the functions in our environment so we don't have to prefix them with `cs1.graphics.`.\n",
    "- We then open a canvas of the desired size, using `open_canvas()`.\n",
    "- To control the color, we call `set_color()`. This affects all subsequent drawing actions, until we call `set_color()` again."
   ]
  },
  {
   "cell_type": "markdown",
   "id": "fa6b3731",
   "metadata": {},
   "source": [
    "## Colors\n",
    "\n",
    "The `set_color()` function takes a string. There are two ways to specify a color:\n",
    "\n",
    "1. A HTML color name (e.g. \"blue\"). For a full list of recognized HTML color names, see [here](https://htmlcolorcodes.com/color-names/>).\n",
    "\n",
    "2. A hex code (e.g. \"#FFFF00\"). For an interactive tool to choose a hex code, see [here](https://htmlcolorcodes.com/color-picker/).\n",
    "\n",
    "A hex code specifies a combination of red, green, and blue (RGB) values:\n",
    "- The `#` symbol indicates that what follows should be interpreted as a hex code.\n",
    "- The next two characters `FF` represent the amount of red. (`FF` is the number 255 in the base-16 number system.)\n",
    "- The next two characters `FF` represent the amount of green.\n",
    "- The last two characters `00` represent the amount of blue.\n",
    "\n",
    "So \"#FFFF00\" means a mix of red and green, which is yellow. For another example, \"#0000FF\" is blue."
   ]
  },
  {
   "cell_type": "markdown",
   "id": "603abc15",
   "metadata": {},
   "source": [
    "## The `main()` function\n",
    "\n",
    "It's considered good style to put all of your code, other than import statements and constants, in functions:\n",
    "\n",
    "- One of your functions should be called `main()`, with no parameters.\n",
    "- You can call other functions from within the `main()` function.\n",
    "- The last line of your program be an expression statement that simply calls `main()`.\n",
    "\n",
    "Here's a rewritten version of the example code above, using a `main()` function:"
   ]
  },
  {
   "cell_type": "code",
   "execution_count": null,
   "id": "bf73b4f0",
   "metadata": {},
   "outputs": [],
   "source": [
    "from cs1.graphics import *\n",
    "\n",
    "def main():\n",
    "    open_canvas(500, 500)\n",
    "\n",
    "    set_color(\"blue\")\n",
    "    draw_line(100, 400, 400, 400)\n",
    "    draw_line(100, 410, 400, 410)\n",
    "\n",
    "    set_color(\"#FFFF00\")\n",
    "    draw_filled_circle(300, 100, 50)\n",
    "\n",
    "main()"
   ]
  },
  {
   "cell_type": "markdown",
   "id": "3c47ee03",
   "metadata": {},
   "source": [
    "Here's another rewritten version of the example code above, using a `main()` function and two additional functions:"
   ]
  },
  {
   "cell_type": "code",
   "execution_count": null,
   "id": "4b5884da",
   "metadata": {},
   "outputs": [],
   "source": [
    "from cs1.graphics import *\n",
    "\n",
    "def draw_water():\n",
    "    set_color(\"blue\")\n",
    "    draw_line(100, 400, 400, 400)\n",
    "    draw_line(100, 410, 400, 410)\n",
    "    \n",
    "def draw_sun():\n",
    "    set_color(\"#FFFF00\")\n",
    "    draw_filled_circle(300, 100, 50)\n",
    "\n",
    "def main():\n",
    "    open_canvas(500, 500)\n",
    "    draw_water()\n",
    "    draw_sun()\n",
    "\n",
    "main()"
   ]
  },
  {
   "cell_type": "markdown",
   "id": "a9d4ab5e",
   "metadata": {},
   "source": [
    "**Note:** From now on, you are expected to use a `main()` function in any major program you write, including projects (but not including project 2)."
   ]
  },
  {
   "attachments": {
    "image.png": {
     "image/png": "[encoded data removed]"
    }
   },
   "cell_type": "markdown",
   "id": "7dd5d020",
   "metadata": {},
   "source": [
    "## Example: Drawing a bulls-eye.\n",
    "\n",
    "Let's draw the following bulls-eye.\n",
    "\n",
    "- The canvas should be a square, 500 pixels by 500 pixels.\n",
    "- The bulls-eye should be centered vertically and horizontally.\n",
    "- The rings of the bulls-eye should be made up of circles of radius 10, 20, 30, 40, and 50.\n",
    "\n",
    "![image.png](attachment:image.png)"
   ]
  },
  {
   "cell_type": "code",
   "execution_count": null,
   "id": "6856262f",
   "metadata": {},
   "outputs": [],
   "source": [
    "from cs1.graphics import *\n",
    "\n",
    "def main():\n",
    "    open_canvas(500, 500)\n",
    "    \n",
    "    set_color(\"red\")\n",
    "    draw_filled_circle(250, 250, 50)\n",
    "    \n",
    "    set_color(\"white\")\n",
    "    draw_filled_circle(250, 250, 40)\n",
    "        \n",
    "    set_color(\"red\")\n",
    "    draw_filled_circle(250, 250, 30)\n",
    "    \n",
    "    set_color(\"white\")\n",
    "    draw_filled_circle(250, 250, 20)\n",
    "            \n",
    "    set_color(\"red\")\n",
    "    draw_filled_circle(250, 250, 10)\n",
    "\n",
    "main()"
   ]
  },
  {
   "attachments": {
    "image.png": {
     "image/png": "[encoded data removed]"
    }
   },
   "cell_type": "markdown",
   "id": "6ec949aa",
   "metadata": {},
   "source": [
    "## Practice: Experimenting with graphics functions.\n",
    "\n",
    "In our remaining time, let's experiment with the other graphics functions.\n",
    "\n",
    "Refer back to the graphics reference ([link](https://cs.rhodes.edu/~superdockm/comp141/doc2/)), and try out as many graphics functions as you can.\n",
    "\n",
    "If you have time, try drawing a picture! Here's one for inspiration; you can imitate this if you'd like:\n",
    "\n",
    "![image.png](attachment:image.png)\n",
    "\n",
    "Write your code in the block below:"
   ]
  },
  {
   "cell_type": "code",
   "execution_count": null,
   "id": "32017334",
   "metadata": {},
   "outputs": [],
   "source": [
    "from cs1.graphics import *\n",
    "\n"
   ]
  }
 ],
 "metadata": {
  "kernelspec": {
   "display_name": "Python 3 (ipykernel)",
   "language": "python",
   "name": "python3"
  },
  "language_info": {
   "codemirror_mode": {
    "name": "ipython",
    "version": 3
   },
   "file_extension": ".py",
   "mimetype": "text/x-python",
   "name": "python",
   "nbconvert_exporter": "python",
   "pygments_lexer": "ipython3",
   "version": "3.11.4"
  },
  "varInspector": {
   "cols": {
    "lenName": 16,
    "lenType": 16,
    "lenVar": 40
   },
   "kernels_config": {
    "python": {
     "delete_cmd_postfix": "",
     "delete_cmd_prefix": "del ",
     "library": "var_list.py",
     "varRefreshCmd": "print(var_dic_list())"
    },
    "r": {
     "delete_cmd_postfix": ") ",
     "delete_cmd_prefix": "rm(",
     "library": "var_list.r",
     "varRefreshCmd": "cat(var_dic_list()) "
    }
   },
   "types_to_exclude": [
    "module",
    "function",
    "builtin_function_or_method",
    "instance",
    "_Feature"
   ],
   "window_display": false
  }
 },
 "nbformat": 4,
 "nbformat_minor": 5
}
