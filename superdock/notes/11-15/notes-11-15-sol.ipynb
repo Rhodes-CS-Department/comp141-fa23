{
 "cells": [
  {
   "cell_type": "markdown",
   "id": "18b4880c",
   "metadata": {},
   "source": [
    "# 11/15: 2d lists.\n",
    "\n",
    "## Warm-up: drawing a tree.\n",
    "\n",
    "Write code to draw the following tree, using nested loops:\n",
    "\n",
    "<pre>\n",
    "    /\\\n",
    "   /  \\\n",
    "  /    \\\n",
    " /      \\\n",
    "/________\\\n",
    "</pre>"
   ]
  },
  {
   "cell_type": "code",
   "execution_count": null,
   "id": "5609b535",
   "metadata": {},
   "outputs": [],
   "source": [
    "spaces_left = 4\n",
    "spaces_mid = 0\n",
    "\n",
    "while spaces_left > 0:\n",
    "    print(spaces_left * ' ' + '/' + spaces_mid * ' ' + '\\\\')\n",
    "    \n",
    "    spaces_left -= 1\n",
    "    spaces_mid += 2\n",
    "    \n",
    "print('/' + 8 * '_' + '\\\\')"
   ]
  },
  {
   "cell_type": "markdown",
   "id": "e5eaf262",
   "metadata": {},
   "source": [
    "## Loops with 2d lists.\n",
    "\n",
    "### Example: Accumulation.\n",
    "\n",
    "Write a function that computes the sum of the elements of a 2d list of integers:"
   ]
  },
  {
   "cell_type": "code",
   "execution_count": null,
   "id": "8c455c31",
   "metadata": {},
   "outputs": [],
   "source": [
    "# Compute the sum of the elements of a 2d list.\n",
    "# grid - A 2d list of integers.\n",
    "# Returns the sum of the elements (int).\n",
    "def sum_2d(grid):\n",
    "    total = 0\n",
    "    \n",
    "    for row in grid: # 1st iteration: row is [1, 0, 0]\n",
    "        for x in row:\n",
    "            total += x\n",
    "    \n",
    "    return total\n",
    "\n",
    "grid1 = [\n",
    "    [1, 0, 0],\n",
    "    [0, 2, 0]\n",
    "]\n",
    "\n",
    "grid2 = [\n",
    "    [1, 3, 5, 7],\n",
    "    [2, 4, 6, 8],\n",
    "    [5, 10, 15, 20]\n",
    "]\n",
    "\n",
    "print(sum_2d(grid1)) # 3\n",
    "print(sum_2d(grid2)) # 86"
   ]
  },
  {
   "cell_type": "markdown",
   "id": "26ec15db",
   "metadata": {},
   "source": [
    "### Example: Mapping.\n",
    "\n",
    "Write a function that takes a 2d list of integers and returns a new 2d list with each element doubled:"
   ]
  },
  {
   "cell_type": "code",
   "execution_count": null,
   "id": "d0a75628",
   "metadata": {},
   "outputs": [],
   "source": [
    "# Double each element of a 2d list, producing a new 2d list.\n",
    "# grid - A 2d list of integers.\n",
    "# Returns a new 2d list of integers.\n",
    "def double(grid):\n",
    "    result = []\n",
    "    \n",
    "    for row in grid: # 1st iteration: row is [1, 0, 0]\n",
    "        \n",
    "        new_row = []\n",
    "        \n",
    "        for x in row:\n",
    "            new_row += [2 * x]\n",
    "            # or: new_row.append(2 * x)\n",
    "        \n",
    "        result += [new_row]\n",
    "        # or: result.append(new_row)\n",
    "    \n",
    "    return result\n",
    "\n",
    "grid1 = [\n",
    "    [1, 0, 0],\n",
    "    [0, 2, 0]\n",
    "]\n",
    "\n",
    "grid2 = [\n",
    "    [1, 3, 5, 7],\n",
    "    [2, 4, 6, 8],\n",
    "    [5, 10, 15, 20]\n",
    "]\n",
    "\n",
    "print(double(grid1)) # [[2, 0, 0], [0, 4, 0]]\n",
    "print(double(grid2))"
   ]
  },
  {
   "cell_type": "markdown",
   "id": "e83c30b9",
   "metadata": {},
   "source": [
    "### Example: Mapping in-place.\n",
    "\n",
    "Write a function that takes a 2d list of integers and **modifies it in-place** by multiplying each element by 2.\n",
    "\n",
    "In other words, this function will change the given list, instead of returning a new list."
   ]
  },
  {
   "cell_type": "code",
   "execution_count": null,
   "id": "cbce1a41",
   "metadata": {},
   "outputs": [],
   "source": [
    "# Double each element of a 2d list, modifying the list.\n",
    "# grid - A 2d list of integers.\n",
    "# Returns None (NoneType).\n",
    "def double_inplace(grid):\n",
    "    for i in range(len(grid)):\n",
    "        for j in range(len(grid[i])):\n",
    "            grid[i][j] = 2 * grid[i][j]\n",
    "\n",
    "grid1 = [\n",
    "    [1, 0, 0],\n",
    "    [0, 2, 0]\n",
    "]\n",
    "\n",
    "grid2 = [\n",
    "    [1, 3, 5, 7],\n",
    "    [2, 4, 6, 8],\n",
    "    [5, 10, 15, 20]\n",
    "]\n",
    "\n",
    "double_inplace(grid1)\n",
    "double_inplace(grid2)\n",
    "\n",
    "print(grid1)\n",
    "print(grid2)"
   ]
  },
  {
   "cell_type": "markdown",
   "id": "964afa57",
   "metadata": {},
   "source": [
    "### Practice: Maximum.\n",
    "\n",
    "Write a function that calculates the maximum element of a 2d list of integers."
   ]
  },
  {
   "cell_type": "code",
   "execution_count": null,
   "id": "4c567ac0",
   "metadata": {},
   "outputs": [],
   "source": [
    "# Compute the maximum element of a 2d list.\n",
    "# grid - A 2d list of integers.\n",
    "# Returns the maximum element (int).\n",
    "def max_2d(grid):\n",
    "    maximum = grid[0][0]\n",
    "    \n",
    "    for row in grid:\n",
    "        for x in row:\n",
    "            if x > maximum:\n",
    "                maximum = x\n",
    "    \n",
    "    return maximum\n",
    "\n",
    "grid1 = [\n",
    "    [1, 0, 0],\n",
    "    [0, 2, 0]\n",
    "]\n",
    "\n",
    "grid2 = [\n",
    "    [1, 3, 5, 7],\n",
    "    [2, 4, 6, 8],\n",
    "    [5, 10, 15, 20]\n",
    "]\n",
    "\n",
    "print(max_2d(grid1))\n",
    "print(max_2d(grid2))"
   ]
  },
  {
   "cell_type": "markdown",
   "id": "ac276528",
   "metadata": {},
   "source": [
    "## Nested loops with a single list\n",
    "\n",
    "**Example:** Given a list, determine whether the list has duplicate elements--that is, two elements that are equal to each other."
   ]
  },
  {
   "cell_type": "code",
   "execution_count": null,
   "id": "706d3754",
   "metadata": {},
   "outputs": [],
   "source": [
    "# Determine whether a list has duplicate elements.\n",
    "# lst - A list of values of any type (list).\n",
    "# Returns a boolean indicating whether `lst` has duplicate elements.\n",
    "def has_duplicates1(lst):\n",
    "    for i in range(len(lst)):\n",
    "        for j in range(len(lst)):\n",
    "            if i != j and lst[i] == lst[j]:\n",
    "                return True\n",
    "    return False\n",
    "\n",
    "print(has_duplicates1([1, 4, 5, 0])) # False\n",
    "print(has_duplicates1([2, 3, 2])) # True\n",
    "print(has_duplicates1([6, 8, 7, 8])) # True\n",
    "print(has_duplicates1([])) # False"
   ]
  },
  {
   "cell_type": "code",
   "execution_count": null,
   "id": "074a0d1b",
   "metadata": {},
   "outputs": [],
   "source": [
    "# Determine whether a list has duplicate elements.\n",
    "# lst - A list of values of any type (list).\n",
    "# Returns a boolean indicating whether `lst` has duplicate elements.\n",
    "def has_duplicates2(lst):\n",
    "    for i in range(len(lst)):\n",
    "        for j in range(i + 1, len(lst)):\n",
    "            if lst[i] == lst[j]:\n",
    "                return True\n",
    "    return False\n",
    "\n",
    "print(has_duplicates2([1, 4, 5, 0])) # False\n",
    "print(has_duplicates2([2, 3, 2])) # True\n",
    "print(has_duplicates2([6, 8, 7, 8])) # True\n",
    "print(has_duplicates2([])) # False"
   ]
  }
 ],
 "metadata": {
  "kernelspec": {
   "display_name": "Python 3 (ipykernel)",
   "language": "python",
   "name": "python3"
  },
  "language_info": {
   "codemirror_mode": {
    "name": "ipython",
    "version": 3
   },
   "file_extension": ".py",
   "mimetype": "text/x-python",
   "name": "python",
   "nbconvert_exporter": "python",
   "pygments_lexer": "ipython3",
   "version": "3.11.4"
  },
  "varInspector": {
   "cols": {
    "lenName": 16,
    "lenType": 16,
    "lenVar": 40
   },
   "kernels_config": {
    "python": {
     "delete_cmd_postfix": "",
     "delete_cmd_prefix": "del ",
     "library": "var_list.py",
     "varRefreshCmd": "print(var_dic_list())"
    },
    "r": {
     "delete_cmd_postfix": ") ",
     "delete_cmd_prefix": "rm(",
     "library": "var_list.r",
     "varRefreshCmd": "cat(var_dic_list()) "
    }
   },
   "types_to_exclude": [
    "module",
    "function",
    "builtin_function_or_method",
    "instance",
    "_Feature"
   ],
   "window_display": false
  }
 },
 "nbformat": 4,
 "nbformat_minor": 5
}
