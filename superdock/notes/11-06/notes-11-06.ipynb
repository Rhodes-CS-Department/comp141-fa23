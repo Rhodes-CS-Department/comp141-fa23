{
 "cells": [
  {
   "cell_type": "markdown",
   "id": "1e5fe530",
   "metadata": {},
   "source": [
    "# 11/6: Midterm 2 Review.\n",
    "\n",
    "## Practice: Tracing code.\n",
    "\n",
    "Today's warm-up is a series of problems designed to help you review key concepts. For each problem, trace the code. Important things to remember:\n",
    "\n",
    "- Write out the *value* and *type* of each variable in the environment.\n",
    "- Create a new environment for any function call.\n",
    "- Represent list variables using *pointers*, rather than writing out the list directly.\n",
    "\n",
    "You can check answers by running the code block, or using [Python tutor](https://pythontutor.com/python-compiler.html#mode=edit).\n",
    "\n",
    "(1) List variables store pointers."
   ]
  },
  {
   "cell_type": "code",
   "execution_count": null,
   "id": "ee8909da",
   "metadata": {},
   "outputs": [],
   "source": [
    "x = [1, 2, 3]\n",
    "y = [1, 2, 3]\n",
    "z = x\n",
    "\n",
    "y[1] = 4\n",
    "z[2] = 5\n",
    "\n",
    "print(x[1])\n",
    "print(y[2])\n",
    "print(z[-2:-1])"
   ]
  },
  {
   "cell_type": "markdown",
   "id": "4cd560ae",
   "metadata": {},
   "source": [
    "(2) Lists are mutable."
   ]
  },
  {
   "cell_type": "code",
   "execution_count": null,
   "id": "5204284b",
   "metadata": {},
   "outputs": [],
   "source": [
    "def g(lst):\n",
    "    lst[0] = lst[-1]\n",
    "\n",
    "a = [\"z\", \"y\", \"w\", \"x\"]\n",
    "g(a)\n",
    "print(a)\n",
    "\n",
    "a[3] = \"sit\"\n",
    "g(a)\n",
    "print(a)"
   ]
  },
  {
   "cell_type": "markdown",
   "id": "a5cd6ba7",
   "metadata": {},
   "source": [
    "(3) String & list methods. (You're encouraged to use the Python reference while working on this problem.)"
   ]
  },
  {
   "cell_type": "code",
   "execution_count": null,
   "id": "787cdae5",
   "metadata": {},
   "outputs": [],
   "source": [
    "s = \"peace\"\n",
    "t = s.upper()\n",
    "\n",
    "print(s + t)\n",
    "print(s.startswith(\"pea\"))\n",
    "\n",
    "l = [0.1, 0.2, True]\n",
    "l.reverse()\n",
    "l.append(0.3)\n",
    "l.insert(1, 0.4)\n",
    "\n",
    "print(l[:-1:2])\n",
    "print(l)"
   ]
  },
  {
   "cell_type": "markdown",
   "id": "651bdce1",
   "metadata": {},
   "source": [
    "(4) while-loops"
   ]
  },
  {
   "cell_type": "code",
   "execution_count": null,
   "id": "5c239104",
   "metadata": {},
   "outputs": [],
   "source": [
    "i = 0\n",
    "total = 0\n",
    "\n",
    "while i < 5:\n",
    "    \n",
    "    total += i * i\n",
    "    i += 2\n",
    "\n",
    "print(total)\n",
    "print(i)"
   ]
  },
  {
   "cell_type": "markdown",
   "id": "ae1f5a5b",
   "metadata": {},
   "source": [
    "(5) for-loops over a list."
   ]
  },
  {
   "cell_type": "code",
   "execution_count": null,
   "id": "8f397e6e",
   "metadata": {},
   "outputs": [],
   "source": [
    "def first(lst):\n",
    "    \n",
    "    for x in lst:\n",
    "        if x < 5:\n",
    "            return x\n",
    "\n",
    "print(first([5, 4, 7, 6]))\n",
    "print(first([9, 8, 11, 10]))\n",
    "print(first([]))"
   ]
  },
  {
   "cell_type": "markdown",
   "id": "8bcae1fa",
   "metadata": {},
   "source": [
    "(6) for-loops over a string."
   ]
  },
  {
   "cell_type": "code",
   "execution_count": null,
   "id": "3a207c15",
   "metadata": {},
   "outputs": [],
   "source": [
    "def change(s):\n",
    "    \n",
    "    result = ''\n",
    "    \n",
    "    for c in s:\n",
    "        if c.isdigit():\n",
    "            result += '0'\n",
    "        else:\n",
    "            result += c\n",
    "    \n",
    "    return result\n",
    "\n",
    "print(change('abc'))\n",
    "print(change('a1b2c3'))\n",
    "print(change('098a76'))\n",
    "print(change(''))"
   ]
  },
  {
   "cell_type": "markdown",
   "id": "8d5b835a",
   "metadata": {},
   "source": [
    "(7) for-loops over a range."
   ]
  },
  {
   "cell_type": "code",
   "execution_count": null,
   "id": "1dcf9519",
   "metadata": {},
   "outputs": [],
   "source": [
    "for i in range(-1, 10, 2):\n",
    "    \n",
    "    if i == 3:\n",
    "        continue\n",
    "    \n",
    "    print(i)\n",
    "    \n",
    "    if i == 7:\n",
    "        print('test')"
   ]
  },
  {
   "cell_type": "code",
   "execution_count": null,
   "id": "aed87ea2",
   "metadata": {},
   "outputs": [],
   "source": []
  }
 ],
 "metadata": {
  "kernelspec": {
   "display_name": "Python 3 (ipykernel)",
   "language": "python",
   "name": "python3"
  },
  "language_info": {
   "codemirror_mode": {
    "name": "ipython",
    "version": 3
   },
   "file_extension": ".py",
   "mimetype": "text/x-python",
   "name": "python",
   "nbconvert_exporter": "python",
   "pygments_lexer": "ipython3",
   "version": "3.11.4"
  },
  "varInspector": {
   "cols": {
    "lenName": 16,
    "lenType": 16,
    "lenVar": 40
   },
   "kernels_config": {
    "python": {
     "delete_cmd_postfix": "",
     "delete_cmd_prefix": "del ",
     "library": "var_list.py",
     "varRefreshCmd": "print(var_dic_list())"
    },
    "r": {
     "delete_cmd_postfix": ") ",
     "delete_cmd_prefix": "rm(",
     "library": "var_list.r",
     "varRefreshCmd": "cat(var_dic_list()) "
    }
   },
   "types_to_exclude": [
    "module",
    "function",
    "builtin_function_or_method",
    "instance",
    "_Feature"
   ],
   "window_display": false
  }
 },
 "nbformat": 4,
 "nbformat_minor": 5
}
