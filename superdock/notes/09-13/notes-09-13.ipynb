{
 "cells": [
  {
   "cell_type": "markdown",
   "id": "76d69d56",
   "metadata": {},
   "source": [
    "# 9/13: Logical operators (`and`, `or`, `not`)\n",
    "\n",
    "## Warm-Up: Tracing code with booleans.\n",
    "\n",
    "Trace the following code blocks. (To **trace** code means to execute each line by hand, keeping track of the current environment at each step, and writing down everything that is printed. Your final answer should include the final environment; it's OK if you erase previous environments.)\n",
    "\n",
    "**Problem 1.**"
   ]
  },
  {
   "cell_type": "code",
   "execution_count": null,
   "id": "c1db6331",
   "metadata": {},
   "outputs": [],
   "source": [
    "graduation_year = 2026\n",
    "\n",
    "if graduation_year == 2023:\n",
    "    print(\"senior\")\n",
    "elif graduation_year == 2024:\n",
    "    print(\"junior\")\n",
    "elif graduation_year == 2025:\n",
    "    print(\"sophomore\")\n",
    "elif graduation_year == 2026:\n",
    "    print(\"freshman\")\n",
    "else:\n",
    "    print(\"Error: invalid graduation year.\")"
   ]
  },
  {
   "cell_type": "markdown",
   "id": "c7632940",
   "metadata": {},
   "source": [
    "**Problem 2.**"
   ]
  },
  {
   "cell_type": "code",
   "execution_count": null,
   "id": "9d78aeb6",
   "metadata": {},
   "outputs": [],
   "source": [
    "x = 10\n",
    "y = 2\n",
    "\n",
    "if x > 2 * y:\n",
    "    x = y\n",
    "    y = x + 1\n",
    "    \n",
    "else:\n",
    "    x = 0\n",
    "    \n",
    "if y < 0:\n",
    "    y *= 2\n",
    "\n",
    "print(x)\n",
    "print(y)"
   ]
  },
  {
   "cell_type": "markdown",
   "id": "797c8b09",
   "metadata": {},
   "source": [
    "## Example: Converting frequencies to musical notes.\n",
    "\n",
    "Musical notes correspond to sound waves with certain frequencies, as shown in the table below:\n",
    "\n",
    "(C4 is \"middle C.\")\n",
    "\n",
    "| Note | Frequency (Hz) |\n",
    "| -- | -- |\n",
    "| C4 | 261.63 |\n",
    "| D4 | 293.66 |\n",
    "| E4 | 329.63 |\n",
    "| F4 | 349.23 |\n",
    "| G4 | 392.00 |\n",
    "| A4 | 440.00 |\n",
    "| B4 | 493.88 |\n",
    "| C5 | 523.25 |\n",
    "\n",
    "Here's code that takes a frequency as input and determines the corresponding musical note:"
   ]
  },
  {
   "cell_type": "code",
   "execution_count": null,
   "id": "0fc9f841",
   "metadata": {},
   "outputs": [],
   "source": [
    "frequency = float(input(\"Enter a frequency (in Hz): \"))\n",
    "\n",
    "c4 = 261.63\n",
    "d4 = 293.66\n",
    "e4 = 329.63\n",
    "f4 = 349.23\n",
    "g4 = 392.00\n",
    "a5 = 440.00\n",
    "b5 = 493.88\n",
    "c5 = 523.25\n",
    "\n",
    "if frequency > c4 - 1 and frequency < c4 + 1:\n",
    "    note = \"C4\"\n",
    "elif frequency > d4 - 1 and frequency < d4 + 1:\n",
    "    note = \"D4\"\n",
    "elif frequency > e4 - 1 and frequency < e4 + 1:\n",
    "    note = \"E4\"\n",
    "elif frequency > f4 - 1 and frequency < f4 + 1:\n",
    "    note = \"F4\"\n",
    "elif frequency > g4 - 1 and frequency < g4 + 1:\n",
    "    note = \"G4\"\n",
    "elif frequency > a5 - 1 and frequency < a5 + 1:\n",
    "    note = \"A5\"\n",
    "elif frequency > b5 - 1 and frequency < b5 + 1:\n",
    "    note = \"B5\"\n",
    "elif frequency > c5 - 1 and frequency < c5 + 1:\n",
    "    note = \"C5\"\n",
    "elif frequency < c4 - 1 or frequency > c5 + 1:\n",
    "    note = \"out of range\"\n",
    "else:\n",
    "    note = \"out of key\"\n",
    "\n",
    "print(\"Corresponding note: \" + note)"
   ]
  },
  {
   "cell_type": "markdown",
   "id": "a2489eff",
   "metadata": {},
   "source": [
    "- We can use `and` to construct a condition that evaluates to true exactly when the first condition **and** the second condition both evaluate to true.\n",
    "- We can use `or` to construct a condition that evaluates to true exactly when the first condition **or** the second condition both evaluate to true.\n",
    "\n",
    "**Key idea:** `and` and `or` are *operators*. They take two booleans as inputs and produce a boolean as output."
   ]
  },
  {
   "cell_type": "markdown",
   "id": "5afad313",
   "metadata": {},
   "source": [
    "## The `and`, `or`, and `not` operators.\n",
    "\n",
    "Since there are only two boolean values, we can explain how `and` works with a table, called a \"truth table\":\n",
    "\n",
    "| `x` | `y` | `x and y` |\n",
    "| -- | -- | -- |\n",
    "| false | false | false |\n",
    "| false | true | false |\n",
    "| true | false | false |\n",
    "| true | true | true |\n",
    "\n",
    "(For each row, we can figure out what the value of `x and y` should be by asking, \"are `x` **and** `y` true?\")\n",
    "\n",
    "Here's the truth table for `or`:\n",
    "\n",
    "| `x` | `y` | `x or y` |\n",
    "| -- | -- | -- |\n",
    "| false | false | false |\n",
    "| false | true | true |\n",
    "| true | false | true |\n",
    "| true | true | true |\n",
    "\n",
    "(For each row, we can figure out what the value of `x or y` should be by asking, \"is `x` **or** `y` true?\")\n",
    "\n",
    "Finally, we have another operator called `not`, which only takes one argument:\n",
    "\n",
    "| `x` | `not x` |\n",
    "| -- | -- |\n",
    "| false | true |\n",
    "| true | false |\n",
    "\n",
    "For example, let's evaluate some simple expressions with `and`, `or`, and `not`:"
   ]
  },
  {
   "cell_type": "code",
   "execution_count": null,
   "id": "3e454565",
   "metadata": {},
   "outputs": [],
   "source": [
    "False and True"
   ]
  },
  {
   "cell_type": "code",
   "execution_count": null,
   "id": "169b8acb",
   "metadata": {},
   "outputs": [],
   "source": [
    "True and True"
   ]
  },
  {
   "cell_type": "code",
   "execution_count": null,
   "id": "9e18062f",
   "metadata": {},
   "outputs": [],
   "source": [
    "False or True"
   ]
  },
  {
   "cell_type": "code",
   "execution_count": null,
   "id": "29970d58",
   "metadata": {},
   "outputs": [],
   "source": [
    "False or False"
   ]
  },
  {
   "cell_type": "code",
   "execution_count": null,
   "id": "70d1dc72",
   "metadata": {},
   "outputs": [],
   "source": [
    "not False"
   ]
  },
  {
   "cell_type": "code",
   "execution_count": null,
   "id": "a4259ebe",
   "metadata": {},
   "outputs": [],
   "source": [
    "not True"
   ]
  },
  {
   "cell_type": "markdown",
   "id": "6044e03d",
   "metadata": {},
   "source": [
    "## Evaluating expressions with `and`, `or`, `not`.\n",
    "\n",
    "How do we evaluate more complicated expressions with `and`, `or`, and `not`? For example:\n",
    "\n",
    "```\n",
    "frequency > c4 - 1 and frequency < c4 + 1\n",
    "```\n",
    "\n",
    "To build a parse tree, we need to know where `and`, `or`, and `not` go in our order of operations:\n",
    "\n",
    "- parentheses\n",
    "- function calls\n",
    "- `**` (exponentiation)\n",
    "- `-` (negation, like `-1` in `3 * min(-1, 2 ** 3, 4)`)\n",
    "- `*` (multiplication), `/` (floating-point division), `//` (integer division), `%` (mod/remainder)\n",
    "- `+` (addition), `-` (subtraction)\n",
    "- `>`, `<`, `>=`, `<=`, `==`, `!=` (relational operators)\n",
    "- `not` (logical not)\n",
    "- `and` (logical and)\n",
    "- `or` (logical or)\n",
    "\n",
    "Note that `not`, `and`, `or` have lower precedence than all other operators we've seen, and they each have different precedence.\n",
    "\n",
    "### Short-circuiting\n",
    "\n",
    "Also, expressions with `and`/`or` evaluate using **short-circuiting**. This means that if Python can determine the value of the `and`/`or` from just the first expression, it doesn't even evaluate the second expression. (This is unlike any of the operators we've seen so far.)\n",
    "\n",
    "More specifically:\n",
    "\n",
    "To evaluate an expression of the form `[expression] and [expression]`:\n",
    "- Evaluate the left expression.\n",
    "- If the left expression evaluates to false, then the whole expression evaluates to false. (In this case, we do not evaluate the right expression.)\n",
    "- If the left expression evaluates to true, then evaluate the right expression, and compute the final value using the truth table for `and`.\n",
    "\n",
    "To evaluate an expression of the form `[expression] or [expression]`:\n",
    "- Evaluate the left expression.\n",
    "- If the left expression evaluates to true, then the whole expression evaluates to true. (In this case, we do not evaluate the right expression.)\n",
    "- If the left expression evaluates to false, then evaluate the right expression, and compute the final value using the truth table for `or`."
   ]
  },
  {
   "cell_type": "markdown",
   "id": "f1b75fff",
   "metadata": {},
   "source": [
    "## Practice\n",
    "\n",
    "For each of the following expressions, draw a parse tree, and evaluate the expression:"
   ]
  },
  {
   "cell_type": "code",
   "execution_count": null,
   "id": "bd752b4d",
   "metadata": {},
   "outputs": [],
   "source": [
    "not 1 < 2 and \"abc\" == \"ab\" + \"c\""
   ]
  },
  {
   "cell_type": "code",
   "execution_count": null,
   "id": "6cd2693c",
   "metadata": {},
   "outputs": [],
   "source": [
    "7 != \"test\" and 5 - 2 == 3"
   ]
  },
  {
   "cell_type": "code",
   "execution_count": null,
   "id": "1b6e29a9",
   "metadata": {},
   "outputs": [],
   "source": [
    "\"def\" != \"gh\" or 1 < int(\"abc\")"
   ]
  },
  {
   "cell_type": "markdown",
   "id": "a00ddb55",
   "metadata": {},
   "source": [
    "## Problem Solving: Incremental development.\n",
    "\n",
    "**Incremental development** is the strategy of breaking down a hard problem into simpler problems.\n",
    "\n",
    "Problem: Write code that calculates a user's age from their birthday and the current date.\n",
    "\n",
    "Example interaction (user input shown in **bold**):\n",
    "\n",
    "<pre>\n",
    "Enter your birthday.\n",
    "\n",
    "Month: <b>1</b>\n",
    "Day: <b>7</b>\n",
    "Year: <b>1991</b>\n",
    "\n",
    "Enter the current date.\n",
    "\n",
    "Month: <b>9</b>\n",
    "Day: <b>13</b>\n",
    "Year: <b>2023</b>\n",
    "\n",
    "Your age: 32\n",
    "</pre>\n",
    "\n",
    "We will write our code together in the block below:"
   ]
  },
  {
   "cell_type": "code",
   "execution_count": null,
   "id": "eb64bd6e",
   "metadata": {},
   "outputs": [],
   "source": []
  },
  {
   "cell_type": "markdown",
   "id": "3a67d8e6",
   "metadata": {},
   "source": [
    "### Takeaways\n",
    "\n",
    "What problem-solving strategies did we learn?\n",
    "\n",
    "(Write down any takeaways in your notes, or write them here by editing this Markdown block.)"
   ]
  },
  {
   "cell_type": "code",
   "execution_count": null,
   "id": "d54aba6d",
   "metadata": {},
   "outputs": [],
   "source": []
  }
 ],
 "metadata": {
  "kernelspec": {
   "display_name": "Python 3 (ipykernel)",
   "language": "python",
   "name": "python3"
  },
  "language_info": {
   "codemirror_mode": {
    "name": "ipython",
    "version": 3
   },
   "file_extension": ".py",
   "mimetype": "text/x-python",
   "name": "python",
   "nbconvert_exporter": "python",
   "pygments_lexer": "ipython3",
   "version": "3.11.4"
  },
  "varInspector": {
   "cols": {
    "lenName": 16,
    "lenType": 16,
    "lenVar": 40
   },
   "kernels_config": {
    "python": {
     "delete_cmd_postfix": "",
     "delete_cmd_prefix": "del ",
     "library": "var_list.py",
     "varRefreshCmd": "print(var_dic_list())"
    },
    "r": {
     "delete_cmd_postfix": ") ",
     "delete_cmd_prefix": "rm(",
     "library": "var_list.r",
     "varRefreshCmd": "cat(var_dic_list()) "
    }
   },
   "types_to_exclude": [
    "module",
    "function",
    "builtin_function_or_method",
    "instance",
    "_Feature"
   ],
   "window_display": false
  }
 },
 "nbformat": 4,
 "nbformat_minor": 5
}
