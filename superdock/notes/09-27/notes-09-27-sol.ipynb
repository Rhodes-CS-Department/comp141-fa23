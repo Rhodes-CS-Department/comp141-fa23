{
 "cells": [
  {
   "cell_type": "markdown",
   "id": "38d4d5eb",
   "metadata": {},
   "source": [
    "# 9/27: Writing functions (solutions)."
   ]
  },
  {
   "cell_type": "markdown",
   "id": "dce93eeb",
   "metadata": {},
   "source": [
    "## Writing functions: Examples\n",
    "\n",
    "(1) Write a function `area_circle()` that calculates the area of a circle, given the radius."
   ]
  },
  {
   "cell_type": "code",
   "execution_count": null,
   "id": "9b97cb3e",
   "metadata": {},
   "outputs": [],
   "source": [
    "import math\n",
    "\n",
    "# Calculate the area of a circle.\n",
    "# radius - the radius of the circle (int or float).\n",
    "# Returns the area of the circle (float).\n",
    "def area_circle(radius):\n",
    "    return math.pi * radius ** 2\n",
    "\n",
    "print(area_circle(0)) # 0.0\n",
    "print(area_circle(1)) # 3.14 (approximately)\n",
    "print(area_circle(2)) # 12.57 (approximately)"
   ]
  },
  {
   "cell_type": "markdown",
   "id": "4b3208a1",
   "metadata": {},
   "source": [
    "(2) Write a function `is_even()` that returns a boolean indicating whether a given integer is even.\n",
    "\n",
    "(Write your own function comment & tests.)"
   ]
  },
  {
   "cell_type": "code",
   "execution_count": null,
   "id": "101735aa",
   "metadata": {},
   "outputs": [],
   "source": [
    "# Determine if an integer is even.\n",
    "# n - the given integer (int).\n",
    "# Returns whether n is even (bool).\n",
    "def is_even(n):\n",
    "    return n % 2 == 0\n",
    "\n",
    "print(is_even(0)) # True\n",
    "print(is_even(5)) # False\n",
    "print(is_even(-2)) # True"
   ]
  },
  {
   "cell_type": "markdown",
   "id": "ee10fa40",
   "metadata": {},
   "source": [
    "## Writing functions: Practice\n",
    "\n",
    "(1) Write a function that calculates the area of a triangle, given the base and height. (Use the formula $A = \\frac{1}{2} \\cdot b \\cdot h$.)"
   ]
  },
  {
   "cell_type": "code",
   "execution_count": null,
   "id": "23f0dc44",
   "metadata": {},
   "outputs": [],
   "source": [
    "# Calculate the area of a triangle.\n",
    "# base - the base of the triangle (int or float).\n",
    "# height - the height of the triangle (int or float).\n",
    "# Returns the area of the triangle (float).\n",
    "def area_triangle(base, height):\n",
    "    return 1 / 2 * base * height\n",
    "\n",
    "print(area_triangle(0, 5)) # 0.0\n",
    "print(area_triangle(1, 1)) # 0.5\n",
    "print(area_triangle(3, 4)) # 6.0"
   ]
  },
  {
   "cell_type": "markdown",
   "id": "09f20f4d",
   "metadata": {},
   "source": [
    "(2) Write a function that calculates the sum of three numbers.\n",
    "\n",
    "(The function signature & one test is given; write two more tests before writing the function body.)"
   ]
  },
  {
   "cell_type": "code",
   "execution_count": null,
   "id": "f9551d2c",
   "metadata": {},
   "outputs": [],
   "source": [
    "# Calculate the sum of three numbers.\n",
    "# num1, num2, num3 - any numbers (int or float).\n",
    "# Returns the sum (int if all three arguments are ints, or float otherwise).\n",
    "def sum_3(num1, num2, num3):\n",
    "    return num1 + num2 + num3\n",
    "\n",
    "print(sum_3(5, 6, 7)) # 18\n",
    "print(sum_3(1, 2, 4)) # 7\n",
    "print(sum_3(-1, 0, 5)) # 4"
   ]
  },
  {
   "cell_type": "markdown",
   "id": "34e925c2",
   "metadata": {},
   "source": [
    "(3) Write a function `is_weekend()` that takes a string representing a day of the week as input (\"Monday\", \"Tuesday\", etc.) and returns a boolean indicating whether than day is part of the weekend. Return none if the given string is invalid. For example:\n",
    "\n",
    "- `is_weekend(\"Tuesday\")` should return false.\n",
    "- `is_weekend(\"Sunday\")` should return true.\n",
    "- `is_weekend(\"asdfasdf\")` should return none.\n",
    "\n",
    "(Write your own function comment & tests. You can use the examples above as your tests.)"
   ]
  },
  {
   "cell_type": "code",
   "execution_count": null,
   "id": "efe5f72f",
   "metadata": {},
   "outputs": [],
   "source": [
    "# Determine if the given day is a weekend.\n",
    "# day - a day of the week; first letter should be capitalized (str).\n",
    "# Returns whether `day` represents a weekend (bool).\n",
    "def is_weekend(day):\n",
    "    if day == 'Monday' or day == 'Tuesday' or day == 'Wednesdsay' or day == 'Thursday' or day == 'Friday':\n",
    "        return False\n",
    "    elif day == 'Saturday' or day == 'Sunday':\n",
    "        return True\n",
    "\n",
    "print(is_weekend(\"Tuesday\")) # False\n",
    "print(is_weekend(\"Sunday\")) # True\n",
    "print(is_weekend(\"asdfasdf\")) # None"
   ]
  },
  {
   "cell_type": "markdown",
   "id": "49ed2ceb",
   "metadata": {},
   "source": [
    "(4) Write a function `middle()` that takes three distinct integers and returns the integer that is between the other two. For example:\n",
    "\n",
    "- `middle(0, 1, 2)` should return 1.\n",
    "- `middle(1, 7, 6)` should return 6.\n",
    "- `middle(7, 18, -2)` should return 7.\n",
    "\n",
    "(Write your own function comment & tests. You can use the examples above as your tests.)"
   ]
  },
  {
   "cell_type": "code",
   "execution_count": null,
   "id": "f49939c0",
   "metadata": {},
   "outputs": [],
   "source": [
    "# Determine the middle of three distinct integers.\n",
    "# x, y, z - numbers to compare (int).\n",
    "# Returns one of x, y, z, whichever is between the others (int).\n",
    "def middle(x, y, z):\n",
    "    if x < y and y < z:\n",
    "        return y\n",
    "    elif x < z and z < y:\n",
    "        return z\n",
    "    elif y < x and x < z:\n",
    "        return x\n",
    "    elif y < z and z < x:\n",
    "        return z\n",
    "    elif z < x and x < y:\n",
    "        return x\n",
    "    elif z < y and y < x:\n",
    "        return y\n",
    "\n",
    "print(middle(0, 1, 2)) # 1\n",
    "print(middle(1, 7, 6)) # 6\n",
    "print(middle(7, 18, -2)) # 7"
   ]
  }
 ],
 "metadata": {
  "kernelspec": {
   "display_name": "Python 3 (ipykernel)",
   "language": "python",
   "name": "python3"
  },
  "language_info": {
   "codemirror_mode": {
    "name": "ipython",
    "version": 3
   },
   "file_extension": ".py",
   "mimetype": "text/x-python",
   "name": "python",
   "nbconvert_exporter": "python",
   "pygments_lexer": "ipython3",
   "version": "3.11.4"
  },
  "varInspector": {
   "cols": {
    "lenName": 16,
    "lenType": 16,
    "lenVar": 40
   },
   "kernels_config": {
    "python": {
     "delete_cmd_postfix": "",
     "delete_cmd_prefix": "del ",
     "library": "var_list.py",
     "varRefreshCmd": "print(var_dic_list())"
    },
    "r": {
     "delete_cmd_postfix": ") ",
     "delete_cmd_prefix": "rm(",
     "library": "var_list.r",
     "varRefreshCmd": "cat(var_dic_list()) "
    }
   },
   "types_to_exclude": [
    "module",
    "function",
    "builtin_function_or_method",
    "instance",
    "_Feature"
   ],
   "window_display": false
  }
 },
 "nbformat": 4,
 "nbformat_minor": 5
}
