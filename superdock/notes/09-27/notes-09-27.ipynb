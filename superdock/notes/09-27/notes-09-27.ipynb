{
 "cells": [
  {
   "cell_type": "markdown",
   "id": "38d4d5eb",
   "metadata": {},
   "source": [
    "# 9/27: Writing functions.\n",
    "\n",
    "## Warm-Up: Tracing function calls.\n",
    "\n",
    "Trace the following blocks of code. (That is, execute the blocks of code by hand, keeping track of the current environments.)\n",
    "\n",
    "Your final answer should consist of (1) a final environment, and (2) the printed output of the block.\n",
    "\n",
    "Run the blocks to check your answers."
   ]
  },
  {
   "cell_type": "code",
   "execution_count": null,
   "id": "eba70baf",
   "metadata": {},
   "outputs": [],
   "source": [
    "def f(cats, dogs):\n",
    "    if cats > dogs:\n",
    "        print('meow')\n",
    "        return 'cats'\n",
    "    else:\n",
    "        print('bark')\n",
    "        return 'dogs'\n",
    "\n",
    "a = 4\n",
    "b = 6\n",
    "\n",
    "x = f(a, b)\n",
    "y = f(b, a)\n",
    "\n",
    "print(x, y)"
   ]
  },
  {
   "cell_type": "code",
   "execution_count": null,
   "id": "3d814d38",
   "metadata": {},
   "outputs": [],
   "source": [
    "def a(x, y, z):\n",
    "    print(z)\n",
    "    return b(x + y)\n",
    "    print(x)\n",
    "    \n",
    "def b(w):\n",
    "    print(w)\n",
    "    return 2 * w\n",
    "    \n",
    "x = a(2, 3, 4)\n",
    "    \n",
    "print(a(\"a\", \"b\", \"c\"))\n",
    "\n",
    "print(x)"
   ]
  },
  {
   "cell_type": "markdown",
   "id": "dce93eeb",
   "metadata": {},
   "source": [
    "## Writing functions: Examples\n",
    "\n",
    "(1) Write a function `area_circle()` that calculates the area of a circle, given the radius."
   ]
  },
  {
   "cell_type": "code",
   "execution_count": null,
   "id": "9b97cb3e",
   "metadata": {},
   "outputs": [],
   "source": [
    "import math\n",
    "\n",
    "# Calculate the area of a circle.\n",
    "# radius - the radius of the circle (int or float).\n",
    "# Returns the area of the circle (float).\n",
    "def area_circle(radius):\n",
    "    pass # Note: `pass` is a special statement that does nothing.\n",
    "\n",
    "print(area_circle(0)) # 0.0\n",
    "print(area_circle(1)) # 3.14 (approximately)\n",
    "print(area_circle(2)) # 12.57 (approximately)"
   ]
  },
  {
   "cell_type": "markdown",
   "id": "4b3208a1",
   "metadata": {},
   "source": [
    "(2) Write a function `is_even()` that returns a boolean indicating whether a given integer is even.\n",
    "\n",
    "(Write your own function comment & tests.)"
   ]
  },
  {
   "cell_type": "code",
   "execution_count": null,
   "id": "101735aa",
   "metadata": {},
   "outputs": [],
   "source": []
  },
  {
   "cell_type": "markdown",
   "id": "9c4f88b4",
   "metadata": {},
   "source": [
    "### Summary\n",
    "\n",
    "We generally write functions in four steps:\n",
    "\n",
    "1. Write the **function signature**, that is, the `def` line that begins the function definition.\n",
    "2. Write the function comment, which should look like this:\n",
    "\n",
    "```\n",
    "# Calculate the area of a circle.                    <- description of function.\n",
    "# radius - the radius of the circle (int or float).  <- description of parameter, including type.\n",
    "# Returns the area of the circle (float).            <- description of return value, including type.\n",
    "```\n",
    "\n",
    "3. Write a few tests below the function definition.\n",
    "4. Write the *body* of the function.\n",
    "\n",
    "How to write the body of the function:\n",
    "\n",
    "- Assume that the parameters are already equal to specific values. (You **don't** have to assign the parameters or use `input`!)\n",
    "- When you determine the answer, `return` it. (You usually **don't** want to `print` the result!)"
   ]
  },
  {
   "cell_type": "markdown",
   "id": "ee10fa40",
   "metadata": {},
   "source": [
    "## Writing functions: Practice\n",
    "\n",
    "(1) Write a function that calculates the area of a triangle, given the base and height. (Use the formula $A = \\frac{1}{2} \\cdot b \\cdot h$.)"
   ]
  },
  {
   "cell_type": "code",
   "execution_count": null,
   "id": "23f0dc44",
   "metadata": {},
   "outputs": [],
   "source": [
    "# Calculate the area of a triangle.\n",
    "# base - the base of the triangle (int or float).\n",
    "# height - the height of the triangle (int or float).\n",
    "# Returns the area of the triangle (float).\n",
    "def area_triangle(base, height):\n",
    "    pass\n",
    "\n",
    "print(area_triangle(0, 5)) # 0.0\n",
    "print(area_triangle(1, 1)) # 0.5\n",
    "print(area_triangle(3, 4)) # 6.0"
   ]
  },
  {
   "cell_type": "markdown",
   "id": "09f20f4d",
   "metadata": {},
   "source": [
    "(2) Write a function that calculates the sum of three numbers.\n",
    "\n",
    "(The function signature & one test is given; write two more tests before writing the function body.)"
   ]
  },
  {
   "cell_type": "code",
   "execution_count": null,
   "id": "f9551d2c",
   "metadata": {},
   "outputs": [],
   "source": [
    "# Calculate the sum of three numbers.\n",
    "# num1, num2, num3 - any numbers (int or float).\n",
    "# Returns the sum (int if all three arguments are ints, or float otherwise).\n",
    "def sum_3(num1, num2, num3):\n",
    "    pass\n",
    "\n",
    "print(sum_3(5, 6, 7)) # 18\n",
    "\n",
    "# Write two more tests here.\n"
   ]
  },
  {
   "cell_type": "markdown",
   "id": "34e925c2",
   "metadata": {},
   "source": [
    "(3) Write a function `is_weekend()` that takes a string representing a day of the week as input (\"Monday\", \"Tuesday\", etc.) and returns a boolean indicating whether than day is part of the weekend. Return none if the given string is invalid. For example:\n",
    "\n",
    "- `is_weekend(\"Tuesday\")` should return false.\n",
    "- `is_weekend(\"Sunday\")` should return true.\n",
    "- `is_weekend(\"asdfasdf\")` should return none.\n",
    "\n",
    "(Write your own function comment & tests. You can use the examples above as your tests.)"
   ]
  },
  {
   "cell_type": "code",
   "execution_count": null,
   "id": "efe5f72f",
   "metadata": {},
   "outputs": [],
   "source": [
    "# Write the function signature here first:\n"
   ]
  },
  {
   "cell_type": "markdown",
   "id": "38e4d1e0",
   "metadata": {},
   "source": [
    "(4) Write a function `middle()` that takes three distinct integers and returns the integer that is between the other two. For example:\n",
    "\n",
    "- `middle(0, 1, 2)` should return 1.\n",
    "- `middle(1, 7, 6)` should return 6.\n",
    "- `middle(7, 18, -2)` should return 7.\n",
    "\n",
    "(Write your own function comment & tests. You can use the examples above as your tests.)"
   ]
  },
  {
   "cell_type": "code",
   "execution_count": null,
   "id": "686fbf9e",
   "metadata": {},
   "outputs": [],
   "source": [
    "# Write the function signature here first:\n"
   ]
  },
  {
   "cell_type": "markdown",
   "id": "3ed4d985",
   "metadata": {},
   "source": [
    "(5) (Challenge) Write a function that takes a float and returns the greatest perfect square less than or equal to that float.\n",
    "\n",
    "If the given float is negative, return -1.\n",
    "\n",
    "(Perfect squares are 0, 1, 4, 9, and so on. For example, if the input to the function is 5.6, the function should return 4.)"
   ]
  },
  {
   "cell_type": "code",
   "execution_count": null,
   "id": "7c3a312a",
   "metadata": {},
   "outputs": [],
   "source": [
    "import math\n",
    "\n",
    "# Write the function signature here first:\n"
   ]
  }
 ],
 "metadata": {
  "kernelspec": {
   "display_name": "Python 3 (ipykernel)",
   "language": "python",
   "name": "python3"
  },
  "language_info": {
   "codemirror_mode": {
    "name": "ipython",
    "version": 3
   },
   "file_extension": ".py",
   "mimetype": "text/x-python",
   "name": "python",
   "nbconvert_exporter": "python",
   "pygments_lexer": "ipython3",
   "version": "3.11.4"
  },
  "varInspector": {
   "cols": {
    "lenName": 16,
    "lenType": 16,
    "lenVar": 40
   },
   "kernels_config": {
    "python": {
     "delete_cmd_postfix": "",
     "delete_cmd_prefix": "del ",
     "library": "var_list.py",
     "varRefreshCmd": "print(var_dic_list())"
    },
    "r": {
     "delete_cmd_postfix": ") ",
     "delete_cmd_prefix": "rm(",
     "library": "var_list.r",
     "varRefreshCmd": "cat(var_dic_list()) "
    }
   },
   "types_to_exclude": [
    "module",
    "function",
    "builtin_function_or_method",
    "instance",
    "_Feature"
   ],
   "window_display": false
  }
 },
 "nbformat": 4,
 "nbformat_minor": 5
}
