{
 "cells": [
  {
   "cell_type": "markdown",
   "id": "8a811fcb",
   "metadata": {},
   "source": [
    "# 8/28: Strings, conversions, mods.\n",
    "\n",
    "## Warm-Up.\n",
    "\n",
    "For each of the following expressions, draw a parse tree, and evaluate the expression by hand. Your final answer should include a *value* and *type* at each node of the tree. Then check your answers by running the code block.\n",
    "\n",
    "(To run a code block in JupyterHub, select it, and then click \"Run\" on the toolbar, or type Shift-Enter.)"
   ]
  },
  {
   "cell_type": "code",
   "execution_count": null,
   "id": "3195e7e2",
   "metadata": {},
   "outputs": [],
   "source": [
    "- 5 - 2e1 + 3"
   ]
  },
  {
   "cell_type": "code",
   "execution_count": null,
   "id": "6b10acd7",
   "metadata": {},
   "outputs": [],
   "source": [
    "2 * (102 - (1 + 1))"
   ]
  },
  {
   "cell_type": "markdown",
   "id": "61a66066",
   "metadata": {},
   "source": [
    "If you finish early, read the following expression, and predict how it evaluates:"
   ]
  },
  {
   "cell_type": "code",
   "execution_count": null,
   "id": "af67fa27",
   "metadata": {},
   "outputs": [],
   "source": [
    "\"11/4 = \" + str(11 // 4) + \"r\" + str(11 % 4)"
   ]
  },
  {
   "cell_type": "markdown",
   "id": "e28c8d6f",
   "metadata": {},
   "source": [
    "## The string (`str`) type.\n",
    "\n",
    "A **string** is a sequence of **characters**, representing some text. We typically write a string using quotes; for example, \"hello\" is a string with 5 characters.\n",
    "\n",
    "More examples:\n",
    "\n",
    "- \"HELLO\" (lowercase & capital letters are different).\n",
    "- \"hello world\" (strings can include spaces).\n",
    "- \"_123;+-*\" (strings can include numbers, underscores, and other symbols).\n",
    "- \"❤️❤️❤️\" (strings can include emojis--in Python, strings use the Unicode character set).\n",
    "- \"\" (a string can have zero characters--we call this the **empty string**).\n",
    "\n",
    "To write a **string literal**, we just type our string directly into the code, surrounded by either single or double quotes:"
   ]
  },
  {
   "cell_type": "code",
   "execution_count": null,
   "id": "c61e3bdc",
   "metadata": {},
   "outputs": [],
   "source": [
    "\"hello world\""
   ]
  },
  {
   "cell_type": "code",
   "execution_count": null,
   "id": "9b5b4043",
   "metadata": {},
   "outputs": [],
   "source": [
    "'❤️❤️❤️'"
   ]
  },
  {
   "cell_type": "code",
   "execution_count": null,
   "id": "40ed607a",
   "metadata": {},
   "outputs": [],
   "source": [
    "\"\""
   ]
  },
  {
   "cell_type": "markdown",
   "id": "c9339bc8",
   "metadata": {},
   "source": [
    "Some of the arithmetic operations we can use with integers and floats can also be used with strings. The official documentation on this is [here](https://docs.python.org/3/library/stdtypes.html#common-sequence-operations), but we'll learn by experimentation. Try running the blocks below:"
   ]
  },
  {
   "cell_type": "code",
   "execution_count": null,
   "id": "1dfcc246",
   "metadata": {},
   "outputs": [],
   "source": [
    "\"Hello\" + \"world\""
   ]
  },
  {
   "cell_type": "code",
   "execution_count": null,
   "id": "c9de77a7",
   "metadata": {},
   "outputs": [],
   "source": [
    "\"12\" + \"34\""
   ]
  },
  {
   "cell_type": "code",
   "execution_count": null,
   "id": "9e01db9a",
   "metadata": {},
   "outputs": [],
   "source": [
    "'Hello' * 'world'"
   ]
  },
  {
   "cell_type": "code",
   "execution_count": null,
   "id": "a11bfba4",
   "metadata": {},
   "outputs": [],
   "source": [
    "'Hello' - 'ello'"
   ]
  },
  {
   "cell_type": "code",
   "execution_count": null,
   "id": "54aa58d5",
   "metadata": {},
   "outputs": [],
   "source": [
    "5 * \"hello\""
   ]
  },
  {
   "cell_type": "code",
   "execution_count": null,
   "id": "ea11ee8b",
   "metadata": {},
   "outputs": [],
   "source": [
    "\"hello\" * 5"
   ]
  },
  {
   "cell_type": "code",
   "execution_count": null,
   "id": "29665440",
   "metadata": {},
   "outputs": [],
   "source": [
    "5.0 * \"hello\""
   ]
  },
  {
   "cell_type": "markdown",
   "id": "b91712c3",
   "metadata": {},
   "source": [
    "To summarize what we learned above:\n",
    "\n",
    "- `+`: Takes two strings and puts them together to form a longer string. This operation is called **string concatenation**.\n",
    "- `*`: Takes a string *s* and an integer *n*, and concatenates *s* with itself *n* times."
   ]
  },
  {
   "cell_type": "markdown",
   "id": "6190266a",
   "metadata": {},
   "source": [
    "## Function calls.\n",
    "\n",
    "Python provides certain built-in functions that we can use, for example:"
   ]
  },
  {
   "cell_type": "code",
   "execution_count": null,
   "id": "2b4625e2",
   "metadata": {},
   "outputs": [],
   "source": [
    "min(2, 3, 4)"
   ]
  },
  {
   "cell_type": "markdown",
   "id": "501e9609",
   "metadata": {},
   "source": [
    "Here's a list of the built-in functions we'll use today:\n",
    "\n",
    "- `min()`: takes two or more ints or floats, returns the **minimum**.\n",
    "- `max()`: takes two or more ints or floats, returns the **maximum**.\n",
    "- `abs()`: takes a single int or float, returns its **absolute value**.\n",
    "- `str()`: convert a value of another type into a `str`.\n",
    "\n",
    "Let's learn about these by experimentation:"
   ]
  },
  {
   "cell_type": "markdown",
   "id": "dc03ac2d",
   "metadata": {},
   "source": [
    "### min"
   ]
  },
  {
   "cell_type": "code",
   "execution_count": null,
   "id": "b2634641",
   "metadata": {},
   "outputs": [],
   "source": [
    "min(5, 6)"
   ]
  },
  {
   "cell_type": "code",
   "execution_count": null,
   "id": "323f1ca9",
   "metadata": {},
   "outputs": [],
   "source": [
    "min(8, 2, 9, 10.4)"
   ]
  },
  {
   "cell_type": "code",
   "execution_count": null,
   "id": "4a0ccdd0",
   "metadata": {},
   "outputs": [],
   "source": [
    "min(2)"
   ]
  },
  {
   "cell_type": "code",
   "execution_count": null,
   "id": "01cb57d6",
   "metadata": {},
   "outputs": [],
   "source": [
    "min(-100, 0)"
   ]
  },
  {
   "cell_type": "markdown",
   "id": "6d43cc32",
   "metadata": {},
   "source": [
    "Note: if the minimum is an `int`, then `min()` returns an int, even if some of the inputs are floats.\n",
    "\n",
    "In other words, `min()` does not perform *widening* like `+`, `-`, `*` do."
   ]
  },
  {
   "cell_type": "markdown",
   "id": "4d67da0d",
   "metadata": {},
   "source": [
    "### max"
   ]
  },
  {
   "cell_type": "code",
   "execution_count": null,
   "id": "f0841de9",
   "metadata": {},
   "outputs": [],
   "source": [
    "max(5, 6)"
   ]
  },
  {
   "cell_type": "code",
   "execution_count": null,
   "id": "f0ec4a56",
   "metadata": {},
   "outputs": [],
   "source": [
    "max(8, 2, 9, 10.4)"
   ]
  },
  {
   "cell_type": "code",
   "execution_count": null,
   "id": "c3ebc989",
   "metadata": {},
   "outputs": [],
   "source": [
    "max(2)"
   ]
  },
  {
   "cell_type": "code",
   "execution_count": null,
   "id": "92120211",
   "metadata": {},
   "outputs": [],
   "source": [
    "max(-100, 0)"
   ]
  },
  {
   "cell_type": "markdown",
   "id": "4a7a53bc",
   "metadata": {},
   "source": [
    "### abs"
   ]
  },
  {
   "cell_type": "code",
   "execution_count": null,
   "id": "7f89087f",
   "metadata": {},
   "outputs": [],
   "source": [
    "abs(-3)"
   ]
  },
  {
   "cell_type": "code",
   "execution_count": null,
   "id": "0ba29747",
   "metadata": {},
   "outputs": [],
   "source": [
    "abs(3)"
   ]
  },
  {
   "cell_type": "code",
   "execution_count": null,
   "id": "982735f9",
   "metadata": {},
   "outputs": [],
   "source": [
    "abs(-1.0)"
   ]
  },
  {
   "cell_type": "code",
   "execution_count": null,
   "id": "87436129",
   "metadata": {},
   "outputs": [],
   "source": [
    "abs(1.0)"
   ]
  },
  {
   "cell_type": "markdown",
   "id": "0fe7f43d",
   "metadata": {},
   "source": [
    "Note: if the input is an `int`, then `abs()` returns an int. If the input is a `float`, then `abs()` returns a float."
   ]
  },
  {
   "cell_type": "markdown",
   "id": "9cec2093",
   "metadata": {},
   "source": [
    "### str"
   ]
  },
  {
   "cell_type": "code",
   "execution_count": null,
   "id": "3afe7cda",
   "metadata": {},
   "outputs": [],
   "source": [
    "str(2)"
   ]
  },
  {
   "cell_type": "code",
   "execution_count": null,
   "id": "36abde7d",
   "metadata": {},
   "outputs": [],
   "source": [
    "str(-3)"
   ]
  },
  {
   "cell_type": "code",
   "execution_count": null,
   "id": "15c06559",
   "metadata": {},
   "outputs": [],
   "source": [
    "str(2.9)"
   ]
  },
  {
   "cell_type": "code",
   "execution_count": null,
   "id": "736ddcc6",
   "metadata": {},
   "outputs": [],
   "source": [
    "str(\"hello\")"
   ]
  },
  {
   "cell_type": "markdown",
   "id": "b5e5c8e1",
   "metadata": {},
   "source": [
    "## More arithmetic operations.\n",
    "\n",
    "**Exponentiation** (`**`): Raise the first argument to the power of the second argument:"
   ]
  },
  {
   "cell_type": "code",
   "execution_count": null,
   "id": "b9ff2ca4",
   "metadata": {},
   "outputs": [],
   "source": [
    "2 ** 3"
   ]
  },
  {
   "cell_type": "code",
   "execution_count": null,
   "id": "4ae04178",
   "metadata": {},
   "outputs": [],
   "source": [
    "2 ** 4"
   ]
  },
  {
   "cell_type": "code",
   "execution_count": null,
   "id": "6abcfe53",
   "metadata": {},
   "outputs": [],
   "source": [
    "8 ** 0"
   ]
  },
  {
   "cell_type": "markdown",
   "id": "b4762c84",
   "metadata": {},
   "source": [
    "**Floating point division** (`/`): Divide the first argument by the second. Always returns a `float`, even if both arguments are integers."
   ]
  },
  {
   "cell_type": "code",
   "execution_count": null,
   "id": "838a20f8",
   "metadata": {},
   "outputs": [],
   "source": [
    "3 / 2"
   ]
  },
  {
   "cell_type": "code",
   "execution_count": null,
   "id": "b852d78a",
   "metadata": {},
   "outputs": [],
   "source": [
    "4 / 3"
   ]
  },
  {
   "cell_type": "code",
   "execution_count": null,
   "id": "01c5d8e5",
   "metadata": {},
   "outputs": [],
   "source": [
    "10 / 0"
   ]
  },
  {
   "cell_type": "markdown",
   "id": "985a13ea",
   "metadata": {},
   "source": [
    "## Modular arithmetic."
   ]
  },
  {
   "attachments": {
    "image.png": {
     "image/png": "[encoded data removed]"
    }
   },
   "cell_type": "markdown",
   "id": "578270b5",
   "metadata": {},
   "source": [
    "The integer division operator (`//`) and the mod operator (`%`; also called the remainder operator) are important operators in computer science that you may not be as familiar with. You read about them in your textbook reading assignment; here's also a quick recap:\n",
    "\n",
    "- Both operators typically take a non-negative `int` on each side. (They also work with floats & negative numbers, but they are not commonly used this way, and you are not expected to know their behavior except for non-negative numbers.)\n",
    "- Both operators evaluate to an integer (*if* their arguments are integers).\n",
    "- Both operators have the same precedence as multiplication (`*`) and floating point division (`/`).\n",
    "\n",
    "For example, let's consider `11 // 4` and `11 % 4`. Think about how you learned to do division in elementary school:\n",
    "\n",
    "![image.png](attachment:image.png)\n",
    "\n",
    "- We ask how many (full) times 4 goes into 11; the answer is 2. (Since 3 * 4 is 12, which is too big.)\n",
    "- We multiply 2 by 4 to get 8, which is how much of the original 11 we've accounted for.\n",
    "- We subtract 8 from 11 to get 3, which is the remainder.\n",
    "\n",
    "Therefore, `11 // 4` is 2, and `11 % 4` is 3.\n",
    "\n",
    "- You can read `11 // 4` as \"11 divided by 4, rounded down.\"\n",
    "- You can read `11 % 4` as \"the remainder when 11 is divided by 4.\"\n",
    "\n",
    "Let's try some examples:"
   ]
  },
  {
   "cell_type": "code",
   "execution_count": null,
   "id": "a2bf9d77",
   "metadata": {},
   "outputs": [],
   "source": [
    "7 // 3"
   ]
  },
  {
   "cell_type": "code",
   "execution_count": null,
   "id": "48f7fc6b",
   "metadata": {},
   "outputs": [],
   "source": [
    "7 % 3"
   ]
  },
  {
   "cell_type": "code",
   "execution_count": null,
   "id": "24d29e80",
   "metadata": {},
   "outputs": [],
   "source": [
    "7 / 3"
   ]
  },
  {
   "cell_type": "code",
   "execution_count": null,
   "id": "a3cdfba0",
   "metadata": {},
   "outputs": [],
   "source": [
    "25 // 4"
   ]
  },
  {
   "cell_type": "code",
   "execution_count": null,
   "id": "c443b262",
   "metadata": {},
   "outputs": [],
   "source": [
    "25 % 4"
   ]
  },
  {
   "cell_type": "code",
   "execution_count": null,
   "id": "6b2907dc",
   "metadata": {},
   "outputs": [],
   "source": [
    "0 // 2"
   ]
  },
  {
   "cell_type": "code",
   "execution_count": null,
   "id": "509b9683",
   "metadata": {},
   "outputs": [],
   "source": [
    "0 % 2"
   ]
  },
  {
   "cell_type": "code",
   "execution_count": null,
   "id": "336e655f",
   "metadata": {},
   "outputs": [],
   "source": [
    "3 // 0"
   ]
  },
  {
   "cell_type": "code",
   "execution_count": null,
   "id": "7e450059",
   "metadata": {},
   "outputs": [],
   "source": [
    "3 % 0"
   ]
  },
  {
   "cell_type": "code",
   "execution_count": null,
   "id": "a886e757",
   "metadata": {},
   "outputs": [],
   "source": [
    "3 / 0"
   ]
  },
  {
   "cell_type": "markdown",
   "id": "ea06832a",
   "metadata": {},
   "source": [
    "## Updated order of operations.\n",
    "\n",
    "From highest precedence to lowest:\n",
    "\n",
    "- parentheses\n",
    "- function calls\n",
    "- `**` (exponentiation)\n",
    "- `-` (negation)\n",
    "- `*` (multiplication), `/` (floating-point division), `//` (integer division), `%` (mod/remainder)\n",
    "- `+` (addition), `-` (subtraction)\n",
    "\n",
    "If there is a tie, the operations evaluate left-to-right. In other words, operators farther to the left in the expression have higher precedence.\n",
    "\n",
    "(The official full list is [here](https://docs.python.org/3/reference/expressions.html#operator-precedence).)"
   ]
  },
  {
   "cell_type": "markdown",
   "id": "dfa1d940",
   "metadata": {},
   "source": [
    "## Examples: evaluating expressions.\n",
    "\n",
    "Now let's evaluate some expressions that involve these new features, by drawing parse trees:"
   ]
  },
  {
   "cell_type": "code",
   "execution_count": null,
   "id": "8cece7b4",
   "metadata": {},
   "outputs": [],
   "source": [
    "min(9, 11 - 4) - max(12, 13.0)"
   ]
  },
  {
   "cell_type": "code",
   "execution_count": null,
   "id": "cc4158ec",
   "metadata": {},
   "outputs": [],
   "source": [
    "\"11/4 = \" + str(11 // 4) + \"r\" + str(11 % 4)"
   ]
  },
  {
   "cell_type": "markdown",
   "id": "5e4071c8",
   "metadata": {},
   "source": [
    "## Practice: evaluating expressions.\n",
    "\n",
    "For each of the following expressions, draw a parse tree, and evaluate the expression by hand. Your final answer should include a *value* and *type* at each node of the tree. Then check your answers by running the code block."
   ]
  },
  {
   "cell_type": "code",
   "execution_count": null,
   "id": "d9bdc02a",
   "metadata": {},
   "outputs": [],
   "source": [
    "str(1) + str(21 // 2)"
   ]
  },
  {
   "cell_type": "code",
   "execution_count": null,
   "id": "b4f22d56",
   "metadata": {},
   "outputs": [],
   "source": [
    "\"ab\" * min(1, 3 ** 2) + \"c\""
   ]
  },
  {
   "cell_type": "markdown",
   "id": "4b1078de",
   "metadata": {},
   "source": [
    "If you finish early, experiment by writing your own expressions below. Try doing a meaningful calculation, or producing an interesting error."
   ]
  },
  {
   "cell_type": "code",
   "execution_count": null,
   "id": "c2787ee8",
   "metadata": {},
   "outputs": [],
   "source": []
  }
 ],
 "metadata": {
  "kernelspec": {
   "display_name": "Python 3 (ipykernel)",
   "language": "python",
   "name": "python3"
  },
  "language_info": {
   "codemirror_mode": {
    "name": "ipython",
    "version": 3
   },
   "file_extension": ".py",
   "mimetype": "text/x-python",
   "name": "python",
   "nbconvert_exporter": "python",
   "pygments_lexer": "ipython3",
   "version": "3.11.4"
  },
  "varInspector": {
   "cols": {
    "lenName": 16,
    "lenType": 16,
    "lenVar": 40
   },
   "kernels_config": {
    "python": {
     "delete_cmd_postfix": "",
     "delete_cmd_prefix": "del ",
     "library": "var_list.py",
     "varRefreshCmd": "print(var_dic_list())"
    },
    "r": {
     "delete_cmd_postfix": ") ",
     "delete_cmd_prefix": "rm(",
     "library": "var_list.r",
     "varRefreshCmd": "cat(var_dic_list()) "
    }
   },
   "types_to_exclude": [
    "module",
    "function",
    "builtin_function_or_method",
    "instance",
    "_Feature"
   ],
   "window_display": false
  }
 },
 "nbformat": 4,
 "nbformat_minor": 5
}
