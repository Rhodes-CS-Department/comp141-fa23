{
 "cells": [
  {
   "cell_type": "markdown",
   "id": "ff882e9c",
   "metadata": {},
   "source": [
    "# 10/30: String & list methods, slices\n",
    "\n",
    "## Example: Reversing a list of numbers"
   ]
  },
  {
   "cell_type": "code",
   "execution_count": null,
   "id": "12a9d26a",
   "metadata": {},
   "outputs": [],
   "source": [
    "numbers = []\n",
    "\n",
    "while True:\n",
    "\n",
    "    n = int(input('Enter a number (0 to stop): '))\n",
    "    \n",
    "    if n == 0:\n",
    "        break\n",
    "    else:\n",
    "        numbers.append(n)\n",
    "\n",
    "numbers.reverse()\n",
    "\n",
    "print()\n",
    "print('Your numbers, reversed:')\n",
    "print()\n",
    "\n",
    "for n in numbers:\n",
    "    print(n)"
   ]
  },
  {
   "cell_type": "markdown",
   "id": "d8b0e1a8",
   "metadata": {},
   "source": [
    "### Explanation\n",
    "\n",
    "The code above uses a list, called `numbers`. The code calls two **methods** on the list `numbers`:\n",
    "\n",
    "- `numbers.append(n)`: This expression appends `n` to the end of `numbers`.\n",
    "- `numbers.reverse()`: This expression reverses the order of the items in `numbers`.\n",
    "\n",
    "Let's take a closer look at the first one:\n",
    "\n",
    "```\n",
    "numbers.append(n)\n",
    "```\n",
    "\n",
    "You should think of this as a function call:\n",
    "- `append` is the name of the function.\n",
    "- `numbers` is one argument to the function.\n",
    "- We put the remaining arguments inside the parentheses, so `n` is another argument to the function.\n",
    "\n",
    "Both of these methods change the value of `numbers`. (This is another example of the fact that lists are *mutable*.)\n",
    "\n",
    "**Note:** `numbers.append(n)` has the same effect as `numbers += [n]`."
   ]
  },
  {
   "cell_type": "markdown",
   "id": "57c88742",
   "metadata": {},
   "source": [
    "## Methods\n",
    "\n",
    "A **method** is a function that is called using the dot-notation above. Here's the general syntax for a method call:\n",
    "\n",
    "```\n",
    "expression.identifier(expression, ... expression)\n",
    "```\n",
    "\n",
    "Today we'll learn some **list methods** and **string methods**:\n",
    "\n",
    "- A **list method** is a method where the expression before the dot is expected to be a list.\n",
    "- A **string method** is a method where the expression before the dot is expected to be a string.\n",
    "\n",
    "We'll learn these methods by reading documentation; start by clicking this link:\n",
    "\n",
    "[Python reference](https://cs.rhodes.edu/~superdockm/comp141/doc3/#strings)"
   ]
  },
  {
   "cell_type": "markdown",
   "id": "ed86bd37",
   "metadata": {},
   "source": [
    "### Predict the output\n",
    "\n",
    "Based on your reading of the Python reference, predict what will happen when you run each of the following code blocks:\n",
    "\n",
    "Run the blocks to check your predictions."
   ]
  },
  {
   "cell_type": "code",
   "execution_count": null,
   "id": "06935b11",
   "metadata": {},
   "outputs": [],
   "source": [
    "s = \"a\"\n",
    "print(s.isalpha())\n",
    "print(s.isdigit())\n",
    "print(s.islower())\n",
    "print(s.isupper())\n",
    "print(s.isspace())"
   ]
  },
  {
   "cell_type": "code",
   "execution_count": null,
   "id": "1c3770d3",
   "metadata": {},
   "outputs": [],
   "source": [
    "s = \" \"\n",
    "print(s.isalpha())\n",
    "print(s.isdigit())\n",
    "print(s.islower())\n",
    "print(s.isupper())\n",
    "print(s.isspace())"
   ]
  },
  {
   "cell_type": "code",
   "execution_count": null,
   "id": "d7aeed78",
   "metadata": {},
   "outputs": [],
   "source": [
    "s = \"1\"\n",
    "print(s.isalpha())\n",
    "print(s.isdigit())\n",
    "print(s.islower())\n",
    "print(s.isupper())\n",
    "print(s.isspace())"
   ]
  },
  {
   "cell_type": "code",
   "execution_count": null,
   "id": "64441aaa",
   "metadata": {},
   "outputs": [],
   "source": [
    "s = \"hello\"\n",
    "s.startswith(\"he\")"
   ]
  },
  {
   "cell_type": "code",
   "execution_count": null,
   "id": "4fc00bc4",
   "metadata": {},
   "outputs": [],
   "source": [
    "\"hello\".endswith(\"l\")"
   ]
  },
  {
   "cell_type": "code",
   "execution_count": null,
   "id": "0c9ceea2",
   "metadata": {},
   "outputs": [],
   "source": [
    "\"hello\".upper()"
   ]
  },
  {
   "cell_type": "code",
   "execution_count": null,
   "id": "7bffb09f",
   "metadata": {},
   "outputs": [],
   "source": [
    "x = [1, 2, 3]\n",
    "x.insert(0, 10)\n",
    "print(x)"
   ]
  },
  {
   "cell_type": "code",
   "execution_count": null,
   "id": "184b1dd2",
   "metadata": {},
   "outputs": [],
   "source": [
    "x = [3, 2, 1]\n",
    "x.pop(1)\n",
    "print(x)"
   ]
  },
  {
   "cell_type": "code",
   "execution_count": null,
   "id": "0dbff913",
   "metadata": {},
   "outputs": [],
   "source": [
    "[\"a\", \"b\"].append(\"z\")"
   ]
  },
  {
   "cell_type": "markdown",
   "id": "04b99f3e",
   "metadata": {},
   "source": [
    "## Indexing\n",
    "\n",
    "We know that each item in a sequence is indexed by its position. For example, suppose `s = \"Computer\"`:\n",
    "\n",
    "|  0  |  1  |  2  |  3  |  4  |  5  |  6  |  7  |\n",
    "|:---:|:---:|:---:|:---:|:---:|:---:|:---:|:---:|\n",
    "| \"C\" | \"o\" | \"m\" | \"p\" | \"u\" | \"t\" | \"e\" | \"r\" |\n",
    "\n",
    "We can also refer to an item by its negative index:\n",
    "\n",
    "|  -8  |  -7  |  -6  |  -5  |  -4  |  -3  |  -2  |  -1  |\n",
    "|:---:|:---:|:---:|:---:|:---:|:---:|:---:|:---:|\n",
    "|  0  |  1  |  2  |  3  |  4  |  5  |  6  |  7  |\n",
    "| \"C\" | \"o\" | \"m\" | \"p\" | \"u\" | \"t\" | \"e\" | \"r\" |\n",
    "\n",
    "Examples:"
   ]
  },
  {
   "cell_type": "code",
   "execution_count": null,
   "id": "fa89ff48",
   "metadata": {},
   "outputs": [],
   "source": [
    "s = \"Computer\"\n",
    "s[-1]"
   ]
  },
  {
   "cell_type": "code",
   "execution_count": null,
   "id": "c9654db6",
   "metadata": {},
   "outputs": [],
   "source": [
    "lst = [100, 200, 300, 400]\n",
    "lst[-2]"
   ]
  },
  {
   "cell_type": "markdown",
   "id": "7f6a5e67",
   "metadata": {},
   "source": [
    "## Slicing\n",
    "\n",
    "Example of a **slice** of a string or list:"
   ]
  },
  {
   "cell_type": "code",
   "execution_count": null,
   "id": "28d8c9f2",
   "metadata": {},
   "outputs": [],
   "source": [
    "s = \"Computer\"\n",
    "s[3:6]"
   ]
  },
  {
   "cell_type": "code",
   "execution_count": null,
   "id": "f6ce4e12",
   "metadata": {},
   "outputs": [],
   "source": [
    "lst = [100, 200, 300, 400]\n",
    "lst[2:0:-1]"
   ]
  },
  {
   "cell_type": "markdown",
   "id": "af7a784f",
   "metadata": {},
   "source": [
    "* General syntax: `sequence[start:end]` or `sequence[start:end:sep]`\n",
    "* Returns a new sequence starting with `sequence[start]` and going up to, *but not including*, `sequence[end]`.\n",
    "\n",
    "* If `start` is omitted, 0 is used for the starting index. (In other words, start at the beginning of the sequence.)\n",
    "* If `end` not specified, `len(sequence)` is used for the ending index. (In other words, end at the end of the sequence.)\n",
    "* Slices can use negative indices.\n",
    "\n",
    "Examples:"
   ]
  },
  {
   "cell_type": "code",
   "execution_count": null,
   "id": "24f54e47",
   "metadata": {},
   "outputs": [],
   "source": [
    "s = \"Computer\"\n",
    "s[1:7:2]"
   ]
  },
  {
   "cell_type": "code",
   "execution_count": null,
   "id": "386be98e",
   "metadata": {},
   "outputs": [],
   "source": [
    "s = \"Computer\"\n",
    "s[:3]"
   ]
  },
  {
   "cell_type": "code",
   "execution_count": null,
   "id": "22603aa0",
   "metadata": {},
   "outputs": [],
   "source": [
    "lst = [100, 200, 300, 400]\n",
    "lst[2:]"
   ]
  },
  {
   "cell_type": "code",
   "execution_count": null,
   "id": "7687f0b4",
   "metadata": {},
   "outputs": [],
   "source": [
    "lst = [100, 200, 300, 400]\n",
    "lst[1:len(lst)]"
   ]
  },
  {
   "cell_type": "markdown",
   "id": "af77f410",
   "metadata": {},
   "source": [
    "## Practice: String indexing & slicing\n",
    "\n",
    "For each of the following code blocks, fill in the brackets in `s[]` so that the code prints the string given in the comment:"
   ]
  },
  {
   "cell_type": "code",
   "execution_count": null,
   "id": "a229cf2d",
   "metadata": {},
   "outputs": [],
   "source": [
    "s = \"programming\"\n",
    "print(s[]) # prints \"r\""
   ]
  },
  {
   "cell_type": "code",
   "execution_count": null,
   "id": "b3f6b105",
   "metadata": {},
   "outputs": [],
   "source": [
    "s = \"programming\"\n",
    "print(s[]) # prints \"i\" (use a negative index)"
   ]
  },
  {
   "cell_type": "code",
   "execution_count": null,
   "id": "ca418618",
   "metadata": {},
   "outputs": [],
   "source": [
    "s = \"programming\"\n",
    "print(s[]) # prints \"grammi\""
   ]
  },
  {
   "cell_type": "code",
   "execution_count": null,
   "id": "8ad680e5",
   "metadata": {},
   "outputs": [],
   "source": [
    "s = \"programming\"\n",
    "print(s[]) # prints \"prog\" (use a string slice with a default value)"
   ]
  },
  {
   "cell_type": "code",
   "execution_count": null,
   "id": "ab9a1ff0",
   "metadata": {},
   "outputs": [],
   "source": [
    "s = \"programming\"\n",
    "print(s[]) # prints \"ing\" (use a string slice with a negative index)"
   ]
  },
  {
   "cell_type": "code",
   "execution_count": null,
   "id": "e28ca2d6",
   "metadata": {},
   "outputs": [],
   "source": [
    "s = \"programming\"\n",
    "print(s[]) # prints \"gmrr\""
   ]
  },
  {
   "cell_type": "markdown",
   "id": "2cfc482e",
   "metadata": {},
   "source": [
    "## Challenge\n",
    "\n",
    "Write a function `increment_digits()` that takes a string as input and returns a new string, where each digit is replaced by the next digit."
   ]
  },
  {
   "cell_type": "code",
   "execution_count": null,
   "id": "2ac5b05d",
   "metadata": {},
   "outputs": [],
   "source": [
    "def increment_digits(s):\n",
    "    pass\n",
    "\n",
    "print(increment_digits(\"a1b2c3\"))  # \"a2b3c4\"\n",
    "print(increment_digits(\"ab4cD90\")) # \"ab5cD01\"\n",
    "print(increment_digits(\"\"))        # \"\""
   ]
  },
  {
   "cell_type": "code",
   "execution_count": null,
   "id": "4cc9e1e0",
   "metadata": {},
   "outputs": [],
   "source": []
  }
 ],
 "metadata": {
  "kernelspec": {
   "display_name": "Python 3 (ipykernel)",
   "language": "python",
   "name": "python3"
  },
  "language_info": {
   "codemirror_mode": {
    "name": "ipython",
    "version": 3
   },
   "file_extension": ".py",
   "mimetype": "text/x-python",
   "name": "python",
   "nbconvert_exporter": "python",
   "pygments_lexer": "ipython3",
   "version": "3.11.4"
  },
  "varInspector": {
   "cols": {
    "lenName": 16,
    "lenType": 16,
    "lenVar": 40
   },
   "kernels_config": {
    "python": {
     "delete_cmd_postfix": "",
     "delete_cmd_prefix": "del ",
     "library": "var_list.py",
     "varRefreshCmd": "print(var_dic_list())"
    },
    "r": {
     "delete_cmd_postfix": ") ",
     "delete_cmd_prefix": "rm(",
     "library": "var_list.r",
     "varRefreshCmd": "cat(var_dic_list()) "
    }
   },
   "types_to_exclude": [
    "module",
    "function",
    "builtin_function_or_method",
    "instance",
    "_Feature"
   ],
   "window_display": false
  }
 },
 "nbformat": 4,
 "nbformat_minor": 5
}
