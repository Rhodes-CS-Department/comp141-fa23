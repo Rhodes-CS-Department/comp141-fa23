{
 "cells": [
  {
   "cell_type": "markdown",
   "id": "38d4d5eb",
   "metadata": {},
   "source": [
    "# 9/25: Functions that return values.\n",
    "\n",
    "## Example: Speeding fines.\n",
    "\n",
    "Here's a program that calculates the speeding fine for two Memphis drivers:"
   ]
  },
  {
   "cell_type": "code",
   "execution_count": null,
   "id": "3bcf8bf5",
   "metadata": {},
   "outputs": [],
   "source": [
    "speed_limit = int(input('Speed limit: '))\n",
    "speed1 = int(input('Speed (car 1): '))\n",
    "speed2 = int(input('Speed (car 2): '))\n",
    "\n",
    "if speed1 > speed_limit + 15:\n",
    "    fine1 = 77.75\n",
    "elif speed1 > speed_limit + 10:\n",
    "    fine1 = 67.75\n",
    "elif speed1 > speed_limit + 5:\n",
    "    fine1 = 52.75\n",
    "elif speed1 > speed_limit:\n",
    "    fine1 = 42.75\n",
    "else:\n",
    "    fine1 = 0\n",
    "    \n",
    "if speed2 > speed_limit + 15:\n",
    "    fine2 = 77.75\n",
    "elif speed2 > speed_limit + 10:\n",
    "    fine2 = 67.75\n",
    "elif speed2 > speed_limit + 5:\n",
    "    fine2 = 52.75\n",
    "elif speed2 > speed_limit:\n",
    "    fine2 = 42.75\n",
    "else:\n",
    "    fine2 = 0\n",
    "\n",
    "print('Fine (car 1): $' + str(fine1))\n",
    "print('Fine (car 2): $' + str(fine2))"
   ]
  },
  {
   "cell_type": "markdown",
   "id": "2e0bb263",
   "metadata": {},
   "source": [
    "We can write this program in a simpler way using a function definition:"
   ]
  },
  {
   "cell_type": "code",
   "execution_count": null,
   "id": "e53e1408",
   "metadata": {},
   "outputs": [],
   "source": [
    "# Calculate the Memphis speeding fine for a given speed and speed limit.\n",
    "# speed - the driver's speed, in miles per hour (int or float).\n",
    "# limit - the speed limit, in miles per hour (int or float).\n",
    "# Returns the speeding fine, in dollars (float).\n",
    "def speeding_fine(speed, limit):\n",
    "    if speed > limit + 15:\n",
    "        fine = 77.75\n",
    "    elif speed > limit + 10:\n",
    "        fine = 67.75\n",
    "    elif speed > limit + 5:\n",
    "        fine = 52.75\n",
    "    elif speed > limit:\n",
    "        fine = 42.75\n",
    "    else:\n",
    "        fine = 0.0\n",
    "    return fine\n",
    "\n",
    "speed_limit = int(input('Speed limit: '))\n",
    "speed1 = int(input('Speed (car 1): '))\n",
    "speed2 = int(input('Speed (car 2): '))\n",
    "print('Fine (car 1): $' + str(speeding_fine(speed1, speed_limit)))\n",
    "print('Fine (car 2): $' + str(speeding_fine(speed2, speed_limit)))"
   ]
  },
  {
   "cell_type": "markdown",
   "id": "bd15ff0a",
   "metadata": {},
   "source": [
    "How does the code above work?\n",
    "\n",
    "First look at the `speeding_fine()` definition:\n",
    "\n",
    "- The `speeding_fine()` function has a `return` statement that returns a float representing the speeding fine.\n",
    "\n",
    "Then look at the last two lines of code.\n",
    "\n",
    "- In these last two lines, we call the `speeding_fine()` function.\n",
    "- It evaluates to whatever the `speeding_fine()` function call returns.\n",
    "- Then we continue evaluation by passing the result of `speeding_fine()` to the `str()` function.\n"
   ]
  },
  {
   "cell_type": "markdown",
   "id": "7d878652",
   "metadata": {},
   "source": [
    "## The `return` statement\n",
    "\n",
    "A `return` statement returns a value from a function; the general syntax is:\n",
    "\n",
    "```\n",
    "return [expression]\n",
    "```\n",
    "\n",
    "To execute a return statement:\n",
    "- Evaluate the expression, resulting in a *value* and a *type*.\n",
    "- Go back to where the current function was called, using the value of the expression as the return value of the function.\n",
    "\n",
    "If you write `return` without an expression, the function returns None.\n",
    "\n",
    "**Note:** We don't execute any additional lines of the function body. Once we return, we're *done* with the function call.\n",
    "\n",
    "## Example\n",
    "\n",
    "(We'll trace the `speeding_fine()` example above.)\n",
    "\n",
    "## Evaluating a function call, revisited\n",
    "\n",
    "Here's how to evaluate a function call:\n",
    "- Create a new empty **frame** for the function call.\n",
    "- Within this new frame, set the *parameters* of the function to the *arguments* passed to the function.\n",
    "- Execute the *body* of the function using the new frame.\n",
    "  - If we reach a return statement, we return the value of that expression.\n",
    "  - If we reach the end of the body, we return `None` (`NoneType`).\n",
    "- Destroy the frame created for the function call.\n",
    "\n",
    "## Two kinds of functions\n",
    "\n",
    "There are essentially two kinds of functions, and we've seen examples of both:\n",
    "\n",
    "(1) Functions that do a calculation and return a value. (Examples: `speeding_fine()`, `max()`, `int()`.)\n",
    "- These functions typically do not do any input or output.\n",
    "\n",
    "(2) Functions that do input and/or output. (Examples: `draw_bullseye()`, `input()`, `print()`, `main()`.)\n",
    "- These functions typically do not have any return statements, and they return None."
   ]
  },
  {
   "cell_type": "markdown",
   "id": "5cf8b7e0",
   "metadata": {},
   "source": [
    "## Practice\n",
    "\n",
    "Trace the following blocks of code. (That is, execute the blocks of code by hand, keeping track of the current environment.)\n",
    "\n",
    "Your final answer should consist of (1) a final environment, and (2) the printed output of the block.\n",
    "\n",
    "Run the blocks to check your answers."
   ]
  },
  {
   "cell_type": "code",
   "execution_count": null,
   "id": "84dd07a3",
   "metadata": {},
   "outputs": [],
   "source": [
    "a = 0\n",
    "\n",
    "def surround(s):\n",
    "    a = 1\n",
    "    print('test1')\n",
    "    return \"(\" + s + \")\"\n",
    "    print('test2')\n",
    "    \n",
    "t = \"hello\"\n",
    "t = surround(t)\n",
    "t = surround(t)\n",
    "print(surround(t))\n",
    "\n",
    "print(a)"
   ]
  },
  {
   "cell_type": "code",
   "execution_count": null,
   "id": "f361e17b",
   "metadata": {},
   "outputs": [],
   "source": [
    "x = 10\n",
    "y = 18\n",
    "\n",
    "def less_than_half(x, y):\n",
    "    print('test1')\n",
    "    return x < y / 2\n",
    "\n",
    "print('test2')\n",
    "\n",
    "if less_than_half(x, y):\n",
    "    print('test3')\n",
    "    temp = x\n",
    "    x = y\n",
    "    y = temp\n",
    "    \n",
    "print(x)\n",
    "print(y)\n",
    "print(less_than_half(x, y))"
   ]
  },
  {
   "cell_type": "code",
   "execution_count": null,
   "id": "6cb60b6a",
   "metadata": {},
   "outputs": [],
   "source": [
    "def f(x):\n",
    "    print('calling f')\n",
    "    x += 1\n",
    "    return 2 * x\n",
    "    \n",
    "def g(x):\n",
    "    print('calling g')\n",
    "    return f(x // 2) + f(x)\n",
    "\n",
    "x = 1\n",
    "print('test')\n",
    "print(g(2))\n",
    "print(x)"
   ]
  },
  {
   "cell_type": "code",
   "execution_count": null,
   "id": "b8b72e1d",
   "metadata": {},
   "outputs": [],
   "source": []
  }
 ],
 "metadata": {
  "kernelspec": {
   "display_name": "Python 3 (ipykernel)",
   "language": "python",
   "name": "python3"
  },
  "language_info": {
   "codemirror_mode": {
    "name": "ipython",
    "version": 3
   },
   "file_extension": ".py",
   "mimetype": "text/x-python",
   "name": "python",
   "nbconvert_exporter": "python",
   "pygments_lexer": "ipython3",
   "version": "3.11.4"
  },
  "varInspector": {
   "cols": {
    "lenName": 16,
    "lenType": 16,
    "lenVar": 40
   },
   "kernels_config": {
    "python": {
     "delete_cmd_postfix": "",
     "delete_cmd_prefix": "del ",
     "library": "var_list.py",
     "varRefreshCmd": "print(var_dic_list())"
    },
    "r": {
     "delete_cmd_postfix": ") ",
     "delete_cmd_prefix": "rm(",
     "library": "var_list.r",
     "varRefreshCmd": "cat(var_dic_list()) "
    }
   },
   "types_to_exclude": [
    "module",
    "function",
    "builtin_function_or_method",
    "instance",
    "_Feature"
   ],
   "window_display": false
  }
 },
 "nbformat": 4,
 "nbformat_minor": 5
}
