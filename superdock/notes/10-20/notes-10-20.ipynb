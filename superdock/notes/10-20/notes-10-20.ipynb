{
 "cells": [
  {
   "cell_type": "markdown",
   "id": "c71aed49",
   "metadata": {},
   "source": [
    "# 10-20: `for`-loops; accumulation & search.\n",
    "\n",
    "## Warm-Up: Tracing code with lists.\n",
    "\n",
    "Trace the following blocks of code.\n",
    "\n",
    "**Note:** Remember that when we evaluate a function call, we create a new environment and set the parameters equal to the arguments."
   ]
  },
  {
   "cell_type": "code",
   "execution_count": null,
   "id": "448d44f0",
   "metadata": {},
   "outputs": [],
   "source": [
    "def f(a):\n",
    "    a[0] = a[1]\n",
    "    return a\n",
    "    \n",
    "my_list1 = ['a', 'b', 'c']\n",
    "my_list2 = f(my_list1)\n",
    "\n",
    "print(my_list1)\n",
    "print(my_list2)"
   ]
  },
  {
   "cell_type": "code",
   "execution_count": null,
   "id": "866acd99",
   "metadata": {},
   "outputs": [],
   "source": [
    "my_list = [1, 6, 2, 5, 3]\n",
    "\n",
    "maximum = my_list[0]\n",
    "\n",
    "i = 0\n",
    "\n",
    "while i < len(my_list):\n",
    "    \n",
    "    if (my_list[i] > maximum):\n",
    "        maximum = my_list[i]\n",
    "    \n",
    "    i += 1\n",
    "    \n",
    "print(maximum)"
   ]
  },
  {
   "cell_type": "markdown",
   "id": "1d39097e",
   "metadata": {},
   "source": [
    "## `for`-loops\n",
    "\n",
    "The last code block above is an example of **looping through a list**:\n",
    "\n",
    "- We create a *counter* variable representing an index of the list (`i = 0`).\n",
    "- We update the counter to the next index as the last line of the body (`i += 1`).\n",
    "- We check whether the counter is in range in the condition (`i < len(my_list)`).\n",
    "- We use the indexing operator within the body to access the current element of the list (`my_list[i]`).\n",
    "\n",
    "A `for` statement provides a more convenient way to loop through a list.\n",
    "\n",
    "For example, we can rewrite the last code block above using a for-loop:"
   ]
  },
  {
   "cell_type": "code",
   "execution_count": null,
   "id": "76efcc61",
   "metadata": {},
   "outputs": [],
   "source": [
    "my_list = [1, 6, 2, 5, 3]\n",
    "\n",
    "maximum = my_list[0]\n",
    "\n",
    "# read this line as, \"for each `num` in `my_list`\"\n",
    "for num in my_list:\n",
    "    \n",
    "    if num > maximum:\n",
    "        maximum = num   \n",
    "        \n",
    "print(maximum)"
   ]
  },
  {
   "cell_type": "markdown",
   "id": "f8ed9cc6",
   "metadata": {},
   "source": [
    "Here's the syntax of a `for` statement (also called a `for`-loop):\n",
    "\n",
    "```\n",
    "for [identifier] in [expression]:\n",
    "    [block]\n",
    "```\n",
    "\n",
    "- The indented block of statements is called the **body**, as with a `while` statement.\n",
    "  - It can contain any kind of statement, including `break` or `continue`.\n",
    "- The identifier represents a variable name.\n",
    "- The expression can be any expression that evaluates to a list.\n",
    "\n",
    "How does Python execute a `for` statement?\n",
    "\n",
    "- Evaluate the expression to get a list.\n",
    "- Set the identifier to the *first* element of the list, in the current environment.\n",
    "- Execute the body.\n",
    "- Set the identifier to the *second* element of the list, in the current environment.\n",
    "- Execute the body.\n",
    "\n",
    "...\n",
    "\n",
    "- Set the identifier to the *last* element of the list, in the current environment.\n",
    "- Execute the body.\n",
    "\n",
    "For example, let's trace the block above."
   ]
  },
  {
   "cell_type": "markdown",
   "id": "35812081",
   "metadata": {},
   "source": [
    "## Tracing code with `for`-loops.\n",
    "\n",
    "Trace the following code.\n",
    "\n",
    "**Problem 1.**"
   ]
  },
  {
   "cell_type": "code",
   "execution_count": null,
   "id": "cb2a0feb",
   "metadata": {},
   "outputs": [],
   "source": [
    "def my_function(lst):\n",
    "    \n",
    "    s = 0\n",
    "    \n",
    "    for x in lst:\n",
    "        s += x\n",
    "    \n",
    "    return s\n",
    "\n",
    "print(my_function([1, 5, 6]))\n",
    "print(my_function([12, -2]))\n",
    "print(my_function([]))"
   ]
  },
  {
   "cell_type": "markdown",
   "id": "2de974ee",
   "metadata": {},
   "source": [
    "**Problem 2.**"
   ]
  },
  {
   "cell_type": "code",
   "execution_count": null,
   "id": "0e831c52",
   "metadata": {},
   "outputs": [],
   "source": [
    "def my_function(lst):\n",
    "    \n",
    "    for x in lst:\n",
    "        if x > 0:\n",
    "            return x\n",
    "        \n",
    "    return -1\n",
    "\n",
    "print(my_function([-5, 2, 1]))\n",
    "print(my_function([-2, -1, -3]))\n",
    "print(my_function([]))"
   ]
  },
  {
   "cell_type": "markdown",
   "id": "3b0f8fce",
   "metadata": {},
   "source": [
    "## Idea: Accumulation.\n",
    "\n",
    "**Problem 1** above is an example of the idea of **accumulation**--we use a variable to keep track of some quantity as our loop executes.\n",
    "\n",
    "Here's a rewritten version of the code from that problem:"
   ]
  },
  {
   "cell_type": "code",
   "execution_count": null,
   "id": "bd692d06",
   "metadata": {},
   "outputs": [],
   "source": [
    "def sum(lst)\n",
    "\n",
    "    current_sum = 0\n",
    "    \n",
    "    for x in lst:\n",
    "        current_sum += x\n",
    "    \n",
    "    return current_sum"
   ]
  },
  {
   "cell_type": "markdown",
   "id": "77507734",
   "metadata": {},
   "source": [
    "There are three main components of this code:\n",
    "\n",
    "1. Set up one or more variables before the loop.\n",
    "2. Update the variables within each iteration of the loop.\n",
    "3. Return one of the variables after the loop.\n",
    "\n",
    "**Question:** How would you modify the code above to calculate the *product* above?\n",
    "\n",
    "The *maximum* example above is also an example of **accumulation**.\n",
    "\n",
    "- In the `sum` example above, we keep track of the *sum* of the numbers seen so far.\n",
    "- In the `maximum` example from earlier, we keep track of the *maximum* of the numbers seen so far."
   ]
  },
  {
   "cell_type": "markdown",
   "id": "57513e03",
   "metadata": {},
   "source": [
    "## Idea: Search.\n",
    "\n",
    "**Problem 2** above is an example of the idea of **search**--we go through our list, looking for the first occurrence of something.\n",
    "\n",
    "Here's a rewritten version of the code from that problem:"
   ]
  },
  {
   "cell_type": "code",
   "execution_count": null,
   "id": "d3506bc6",
   "metadata": {},
   "outputs": [],
   "source": [
    "def first_positive(lst):\n",
    "    \n",
    "    for x in lst:\n",
    "        if x > 0:\n",
    "            return x\n",
    "        \n",
    "    return -1"
   ]
  },
  {
   "cell_type": "markdown",
   "id": "513d4eae",
   "metadata": {},
   "source": [
    "There are three main components of this code:\n",
    "\n",
    "1. Evaluate a boolean expression (using `if`) within each iteration of the loop.\n",
    "2. If the expression is true, then immediately return the appropriate value.\n",
    "3. After the loop, handle the case where the expression was never true."
   ]
  },
  {
   "cell_type": "markdown",
   "id": "cb89ba0c",
   "metadata": {},
   "source": [
    "**Questions:**\n",
    "\n",
    "- How would you modify the code above to return `None` instead of `-1` in the case where no positive number is found?\n",
    "- How would you modify the code above to determine the first negative number instead?"
   ]
  },
  {
   "cell_type": "markdown",
   "id": "bf67a99a",
   "metadata": {},
   "source": [
    "## Example: Writing code with `for`-loops.\n",
    "\n",
    "**Problem:** Write a function `alternating_sum` that takes a list as a parameter, and calculates an alternating sum of the elements of the list.\n",
    "\n",
    "**Example:** `alternating_sum(1, 6, 7, 3)` should calculate $1 - 6 + 7 - 3$, and should return -1."
   ]
  },
  {
   "cell_type": "code",
   "execution_count": null,
   "id": "1ef9365f",
   "metadata": {},
   "outputs": [],
   "source": [
    "# Calculate an alternating sum of the given list.\n",
    "# lst - A list of integers or floats.\n",
    "# Returns the sum of the elements of `lst`, as an integer or float.\n",
    "def alternating_sum(lst):\n",
    "    pass\n",
    "\n",
    "print(alternating_sum([1, 6, 7, 3])) # -1\n",
    "print(alternating_sum([2, 1, 5])) # 6\n",
    "print(alternating_sum([])) # 0"
   ]
  }
 ],
 "metadata": {
  "kernelspec": {
   "display_name": "Python 3 (ipykernel)",
   "language": "python",
   "name": "python3"
  },
  "language_info": {
   "codemirror_mode": {
    "name": "ipython",
    "version": 3
   },
   "file_extension": ".py",
   "mimetype": "text/x-python",
   "name": "python",
   "nbconvert_exporter": "python",
   "pygments_lexer": "ipython3",
   "version": "3.11.4"
  },
  "varInspector": {
   "cols": {
    "lenName": 16,
    "lenType": 16,
    "lenVar": 40
   },
   "kernels_config": {
    "python": {
     "delete_cmd_postfix": "",
     "delete_cmd_prefix": "del ",
     "library": "var_list.py",
     "varRefreshCmd": "print(var_dic_list())"
    },
    "r": {
     "delete_cmd_postfix": ") ",
     "delete_cmd_prefix": "rm(",
     "library": "var_list.r",
     "varRefreshCmd": "cat(var_dic_list()) "
    }
   },
   "types_to_exclude": [
    "module",
    "function",
    "builtin_function_or_method",
    "instance",
    "_Feature"
   ],
   "window_display": false
  }
 },
 "nbformat": 4,
 "nbformat_minor": 5
}
