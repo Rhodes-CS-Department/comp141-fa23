{
 "cells": [
  {
   "cell_type": "markdown",
   "id": "18b4880c",
   "metadata": {},
   "source": [
    "# 11/13: Nested loops & 2d lists."
   ]
  },
  {
   "cell_type": "markdown",
   "id": "669eb71f",
   "metadata": {},
   "source": [
    "## Notes: Writing a nested loop.\n",
    "\n",
    "**Example:** Write code that prints the following text:\n",
    "\n",
    "```\n",
    "        1\n",
    "       12\n",
    "      123\n",
    "     1234\n",
    "    12345\n",
    "   123456\n",
    "  1234567\n",
    " 12345678\n",
    "123456789\n",
    "```\n",
    "\n",
    "**Solution 1:**"
   ]
  },
  {
   "cell_type": "code",
   "execution_count": null,
   "id": "f4c64958",
   "metadata": {},
   "outputs": [],
   "source": [
    "spaces = 8\n",
    "stop = 2\n",
    "\n",
    "while spaces >= 0: # stop <= 10\n",
    "    print(spaces * ' ', end='')\n",
    "    for j in range(1, stop):\n",
    "        print(j, end='')\n",
    "    print()\n",
    "    \n",
    "    spaces -= 1\n",
    "    stop += 1"
   ]
  },
  {
   "cell_type": "markdown",
   "id": "ebe7b799",
   "metadata": {},
   "source": [
    "**Solution 2:**"
   ]
  },
  {
   "cell_type": "code",
   "execution_count": null,
   "id": "27c231c6",
   "metadata": {},
   "outputs": [],
   "source": [
    "# think of i as a line number, going from 1 to 9.\n",
    "for i in range(1, 10):\n",
    "    print((9 - i) * ' ', end='')\n",
    "    for j in range(1, i + 1):\n",
    "        print(j, end='')\n",
    "    print()"
   ]
  },
  {
   "cell_type": "markdown",
   "id": "ae58f822",
   "metadata": {},
   "source": [
    "## Practice: Writing a nested loop.\n",
    "\n",
    "**Problem 1:** Write code that prints the following text:\n",
    "\n",
    "```\n",
    "123456789\n",
    "12345678\n",
    "1234567\n",
    "123456\n",
    "12345\n",
    "1234\n",
    "123\n",
    "12\n",
    "1\n",
    "```"
   ]
  },
  {
   "cell_type": "code",
   "execution_count": null,
   "id": "3795bd52",
   "metadata": {},
   "outputs": [],
   "source": [
    "# think of i as a line number, going from 9 to 1.\n",
    "for i in range(9, 0, -1):\n",
    "    for j in range(1, i + 1):\n",
    "        print(j, end='')\n",
    "    print()"
   ]
  },
  {
   "cell_type": "markdown",
   "id": "5704b0be",
   "metadata": {},
   "source": [
    "**Problem 2:** Write code that prints the following text:\n",
    "\n",
    "```\n",
    "123456789\n",
    " 12345678\n",
    "  1234567\n",
    "   123456\n",
    "    12345\n",
    "     1234\n",
    "      123\n",
    "       12\n",
    "        1\n",
    "```"
   ]
  },
  {
   "cell_type": "code",
   "execution_count": null,
   "id": "50c3868d",
   "metadata": {},
   "outputs": [],
   "source": [
    "# think of i as a line number, going from 9 to 1.\n",
    "for i in range(9, 0, -1):\n",
    "    print((9 - i) * ' ', end='')\n",
    "    for j in range(1, i + 1):\n",
    "        print(j, end='')\n",
    "    print()"
   ]
  },
  {
   "cell_type": "markdown",
   "id": "bd16952c",
   "metadata": {},
   "source": [
    "**Problem 3:** Write code that prints the following text:\n",
    "\n",
    "```\n",
    "123456789\n",
    " 23456789\n",
    "  3456789\n",
    "   456789\n",
    "    56789\n",
    "     6789\n",
    "      789\n",
    "       89\n",
    "        9\n",
    "```"
   ]
  },
  {
   "cell_type": "code",
   "execution_count": null,
   "id": "2c124921",
   "metadata": {},
   "outputs": [],
   "source": [
    "# think of i as a line number, going from 1 to 9.\n",
    "for i in range(1, 10):\n",
    "    print((i - 1) * ' ', end='')\n",
    "    for j in range(i, 10):\n",
    "        print(j, end='')\n",
    "    print()"
   ]
  }
 ],
 "metadata": {
  "kernelspec": {
   "display_name": "Python 3 (ipykernel)",
   "language": "python",
   "name": "python3"
  },
  "language_info": {
   "codemirror_mode": {
    "name": "ipython",
    "version": 3
   },
   "file_extension": ".py",
   "mimetype": "text/x-python",
   "name": "python",
   "nbconvert_exporter": "python",
   "pygments_lexer": "ipython3",
   "version": "3.11.4"
  },
  "varInspector": {
   "cols": {
    "lenName": 16,
    "lenType": 16,
    "lenVar": 40
   },
   "kernels_config": {
    "python": {
     "delete_cmd_postfix": "",
     "delete_cmd_prefix": "del ",
     "library": "var_list.py",
     "varRefreshCmd": "print(var_dic_list())"
    },
    "r": {
     "delete_cmd_postfix": ") ",
     "delete_cmd_prefix": "rm(",
     "library": "var_list.r",
     "varRefreshCmd": "cat(var_dic_list()) "
    }
   },
   "types_to_exclude": [
    "module",
    "function",
    "builtin_function_or_method",
    "instance",
    "_Feature"
   ],
   "window_display": false
  }
 },
 "nbformat": 4,
 "nbformat_minor": 5
}
