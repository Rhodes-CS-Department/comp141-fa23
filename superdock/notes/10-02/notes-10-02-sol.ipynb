{
 "cells": [
  {
   "cell_type": "markdown",
   "id": "9c8a2590",
   "metadata": {},
   "source": [
    "# 10/2: Midterm 1 Review. (solutions)\n",
    "\n",
    "## Warm-Up (Extended):"
   ]
  },
  {
   "cell_type": "markdown",
   "id": "4d87cc36",
   "metadata": {},
   "source": [
    "**(2) Execute statements.**"
   ]
  },
  {
   "cell_type": "code",
   "execution_count": 4,
   "id": "8f0870f1",
   "metadata": {},
   "outputs": [
    {
     "name": "stdout",
     "output_type": "stream",
     "text": [
      "A\n",
      "f\n",
      "C\n",
      "14\n",
      "f\n",
      "16\n",
      "142\n"
     ]
    }
   ],
   "source": [
    "x = 2\n",
    "y = 3\n",
    "\n",
    "def f(a, b):\n",
    "    print('f')\n",
    "    x = a\n",
    "    return x + b\n",
    "\n",
    "if 4 < 10:\n",
    "    print('A')\n",
    "    \n",
    "    if x < 4:\n",
    "        x += f(x, y)\n",
    "    if x < 4:\n",
    "        x += 1\n",
    "    elif y < 5:\n",
    "        y -= 1\n",
    "\n",
    "else:\n",
    "    print('B')\n",
    "    y += x\n",
    "    s = \"a_string\"\n",
    "    \n",
    "if x > 2:\n",
    "    print('C') \n",
    "    x *= y\n",
    "\n",
    "print(x)\n",
    "print(f(x, y))\n",
    "print(str(x) + str(y))"
   ]
  },
  {
   "cell_type": "markdown",
   "id": "90918140",
   "metadata": {},
   "source": [
    "Final environment:\n",
    "\n",
    "- `x`: 14 (int)\n",
    "- `y`: 2 (int)\n",
    "- `f`: (function)"
   ]
  },
  {
   "cell_type": "markdown",
   "id": "c492c66a",
   "metadata": {},
   "source": [
    "**(3) Write a function.**"
   ]
  },
  {
   "cell_type": "markdown",
   "id": "4e8e849a",
   "metadata": {},
   "source": [
    "**Solution 1.**"
   ]
  },
  {
   "cell_type": "code",
   "execution_count": null,
   "id": "d0d1af62",
   "metadata": {},
   "outputs": [],
   "source": [
    "# Determine whether the player gets to roll again.\n",
    "# (This occurs if either die is 1 or 5.)\n",
    "# die1, die2 - the numbers shown on each die (int).\n",
    "# Returns whether the player gets to roll again (bool).\n",
    "def roll_again(die1, die2):\n",
    "    if die1 == 1:\n",
    "        return True\n",
    "    elif die1 == 5:\n",
    "        return True\n",
    "    elif die2 == 1:\n",
    "        return True\n",
    "    elif die2 == 5:\n",
    "        return True\n",
    "    else:\n",
    "        return False\n",
    "\n",
    "print(roll_again(1, 1)) # True\n",
    "print(roll_again(6, 5)) # True\n",
    "print(roll_again(2, 4)) # False"
   ]
  },
  {
   "cell_type": "markdown",
   "id": "824456b0",
   "metadata": {},
   "source": [
    "**Solution 2.**"
   ]
  },
  {
   "cell_type": "code",
   "execution_count": null,
   "id": "da9fd32c",
   "metadata": {},
   "outputs": [],
   "source": [
    "# Determine whether the player gets to roll again.\n",
    "# (This occurs if either die is 1 or 5.)\n",
    "# die1, die2 - the numbers shown on each die (int).\n",
    "# Returns whether the player gets to roll again (bool).\n",
    "def roll_again(die1, die2):\n",
    "    return die1 == 1 or die1 == 5 or die2 == 1 or die2 == 5\n",
    "\n",
    "print(roll_again(1, 1)) # True\n",
    "print(roll_again(6, 5)) # True\n",
    "print(roll_again(2, 4)) # False"
   ]
  },
  {
   "cell_type": "markdown",
   "id": "50b9573d",
   "metadata": {},
   "source": [
    "**Note:** On the actual exam, you are not required to write a function comment."
   ]
  },
  {
   "cell_type": "markdown",
   "id": "ff723403",
   "metadata": {},
   "source": [
    "**(4) Write an interactive program.**"
   ]
  },
  {
   "cell_type": "code",
   "execution_count": null,
   "id": "b879cae8",
   "metadata": {},
   "outputs": [],
   "source": [
    "name = input('Enter your name: ')\n",
    "\n",
    "print()\n",
    "print('Enter your birthday:')\n",
    "print()\n",
    "\n",
    "month = input('Month: ')\n",
    "day = int(input('Day: '))\n",
    "\n",
    "print()\n",
    "\n",
    "if month == 'October' and day == 2:\n",
    "    print('Happy birthday to you!')\n",
    "    print('Happy birthday to you!')\n",
    "    print('Happy birthday, dear ' + name + '!')\n",
    "    print('Happy birthday to you!')\n",
    "    \n",
    "elif month == 'October':\n",
    "    print(\"It's your birth month!\")\n",
    "\n",
    "else:\n",
    "    print(\"Looking forward to your birthday!\")"
   ]
  },
  {
   "cell_type": "markdown",
   "id": "69aa62b4",
   "metadata": {},
   "source": [
    "**Note:** You may use a `main()` function but it is not required for this midterm."
   ]
  },
  {
   "cell_type": "code",
   "execution_count": null,
   "id": "92da060a",
   "metadata": {},
   "outputs": [],
   "source": []
  }
 ],
 "metadata": {
  "kernelspec": {
   "display_name": "Python 3 (ipykernel)",
   "language": "python",
   "name": "python3"
  },
  "language_info": {
   "codemirror_mode": {
    "name": "ipython",
    "version": 3
   },
   "file_extension": ".py",
   "mimetype": "text/x-python",
   "name": "python",
   "nbconvert_exporter": "python",
   "pygments_lexer": "ipython3",
   "version": "3.11.4"
  },
  "varInspector": {
   "cols": {
    "lenName": 16,
    "lenType": 16,
    "lenVar": 40
   },
   "kernels_config": {
    "python": {
     "delete_cmd_postfix": "",
     "delete_cmd_prefix": "del ",
     "library": "var_list.py",
     "varRefreshCmd": "print(var_dic_list())"
    },
    "r": {
     "delete_cmd_postfix": ") ",
     "delete_cmd_prefix": "rm(",
     "library": "var_list.r",
     "varRefreshCmd": "cat(var_dic_list()) "
    }
   },
   "types_to_exclude": [
    "module",
    "function",
    "builtin_function_or_method",
    "instance",
    "_Feature"
   ],
   "window_display": false
  }
 },
 "nbformat": 4,
 "nbformat_minor": 5
}
