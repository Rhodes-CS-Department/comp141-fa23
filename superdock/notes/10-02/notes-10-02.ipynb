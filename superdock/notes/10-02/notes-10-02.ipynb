{
 "cells": [
  {
   "cell_type": "markdown",
   "id": "9c8a2590",
   "metadata": {},
   "source": [
    "# 10/2: Midterm 1 Review.\n",
    "\n",
    "## Warm-Up (Extended):\n",
    "\n",
    "In today's warm-up, we will practice the four main skills that you'll be tested on in the upcoming midterm.\n",
    "\n",
    "**(1) Evaluate expressions.**\n",
    "\n",
    "Suppose the current environment contains the following variables:\n",
    "\n",
    "|||\n",
    "| - | - |\n",
    "| $x$ | 5 (int) |\n",
    "| $b$ | False (bool) |\n",
    "\n",
    "Draw a parse tree for the following expression, and evaluate the expression in the current environment:\n",
    "\n",
    "`21 % x < 2 and not b`\n",
    "\n",
    "Check your work by running the code block below:"
   ]
  },
  {
   "cell_type": "code",
   "execution_count": null,
   "id": "46dd4e86",
   "metadata": {},
   "outputs": [],
   "source": [
    "x = 5\n",
    "b = False\n",
    "\n",
    "21 % x < 1 and not b"
   ]
  },
  {
   "cell_type": "markdown",
   "id": "4d87cc36",
   "metadata": {},
   "source": [
    "**(2) Execute statements.**\n",
    "\n",
    "Trace the following code. Your final answer should show all printed output, and the final environment.\n",
    "\n",
    "Check your work by running the code block."
   ]
  },
  {
   "cell_type": "code",
   "execution_count": null,
   "id": "8f0870f1",
   "metadata": {},
   "outputs": [],
   "source": [
    "x = 2\n",
    "y = 3\n",
    "\n",
    "def f(a, b):\n",
    "    print('f')\n",
    "    x = a\n",
    "    return x + b\n",
    "\n",
    "if 4 < 10:\n",
    "    print('A')\n",
    "    \n",
    "    if x < 4:\n",
    "        x += f(x, y)\n",
    "    if x < 4:\n",
    "        x += 1\n",
    "    elif y < 5:\n",
    "        y -= 1\n",
    "\n",
    "else:\n",
    "    print('B')\n",
    "    y += x\n",
    "    s = \"a_string\"\n",
    "    \n",
    "if x > 2:\n",
    "    print('C') \n",
    "    x *= y\n",
    "\n",
    "print(x)\n",
    "print(f(x, y))\n",
    "print(str(x) + str(y))"
   ]
  },
  {
   "cell_type": "markdown",
   "id": "c492c66a",
   "metadata": {},
   "source": [
    "**(3) Write a function.**\n",
    "\n",
    "You are playing a dice game, which involves rolling two six-sided dice. (The sides of the dice are labeled with the numbers 1, 2, 3, 4, 5, 6.) After rolling, if either die shows the number 1 or 5, you get to roll again. Write a function that takes the two numbers showing on the dice, and returns a boolean indicating whether you get to roll again. You should include a function comment as modeled in class. Three tests are given to test your function."
   ]
  },
  {
   "cell_type": "code",
   "execution_count": null,
   "id": "d0d1af62",
   "metadata": {},
   "outputs": [],
   "source": [
    "def roll_again(die1, die2):\n",
    "    pass\n",
    "\n",
    "print(roll_again(1, 1)) # True\n",
    "print(roll_again(6, 5)) # True\n",
    "print(roll_again(2, 4)) # False"
   ]
  },
  {
   "cell_type": "markdown",
   "id": "ff723403",
   "metadata": {},
   "source": [
    "**(4) Write an interactive program.**\n",
    "\n",
    "Write an interactive program that asks the user for their name and birthday (just month and day), and then prints a message accordingly:\n",
    "\n",
    "- If the user's birthday is October 2, then print the lyrics of the song, \"Happy Birthday.\"\n",
    "- If the user's birthday is another day in October, then print, \"It's your birth month!\"\n",
    "- If the user's birthday is not in October, then print, \"Looking forward to your birthday!\"\n",
    "\n",
    "Example interaction 1:\n",
    "\n",
    "```\n",
    "Enter your name: Matt\n",
    "\n",
    "Enter your birthday:\n",
    "\n",
    "Month: January\n",
    "Day: 7\n",
    "\n",
    "Looking forward to your birthday!\n",
    "```\n",
    "\n",
    "Example interaction 2:\n",
    "\n",
    "```\n",
    "Enter your name: Dorothy\n",
    "\n",
    "Enter your birthday:\n",
    "\n",
    "Month: October\n",
    "Day: 2\n",
    "\n",
    "Happy birthday to you!\n",
    "Happy birthday to you!\n",
    "Happy birthday, dear Dorothy!\n",
    "Happy birthday to you!\n",
    "```"
   ]
  },
  {
   "cell_type": "code",
   "execution_count": null,
   "id": "b879cae8",
   "metadata": {},
   "outputs": [],
   "source": []
  }
 ],
 "metadata": {
  "kernelspec": {
   "display_name": "Python 3 (ipykernel)",
   "language": "python",
   "name": "python3"
  },
  "language_info": {
   "codemirror_mode": {
    "name": "ipython",
    "version": 3
   },
   "file_extension": ".py",
   "mimetype": "text/x-python",
   "name": "python",
   "nbconvert_exporter": "python",
   "pygments_lexer": "ipython3",
   "version": "3.11.4"
  },
  "varInspector": {
   "cols": {
    "lenName": 16,
    "lenType": 16,
    "lenVar": 40
   },
   "kernels_config": {
    "python": {
     "delete_cmd_postfix": "",
     "delete_cmd_prefix": "del ",
     "library": "var_list.py",
     "varRefreshCmd": "print(var_dic_list())"
    },
    "r": {
     "delete_cmd_postfix": ") ",
     "delete_cmd_prefix": "rm(",
     "library": "var_list.r",
     "varRefreshCmd": "cat(var_dic_list()) "
    }
   },
   "types_to_exclude": [
    "module",
    "function",
    "builtin_function_or_method",
    "instance",
    "_Feature"
   ],
   "window_display": false
  }
 },
 "nbformat": 4,
 "nbformat_minor": 5
}
