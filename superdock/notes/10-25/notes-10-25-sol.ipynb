{
 "cells": [
  {
   "cell_type": "markdown",
   "id": "4e474990",
   "metadata": {},
   "source": [
    "# 10/25: Mapping & filtering, writing code with functions.\n",
    "\n",
    "## Warm-Up: Modifying code.\n",
    "\n",
    "Let's take another look at our \"potato\" code from last class, copied below.\n",
    "\n",
    "This code creates a new string `result` that consists of the characters of \"potato\", with lowercase o's replaced with capital O's."
   ]
  },
  {
   "cell_type": "code",
   "execution_count": null,
   "id": "0ccd77c2",
   "metadata": {},
   "outputs": [],
   "source": [
    "result = \"\"\n",
    "\n",
    "for c in \"potato\":\n",
    "    if c == \"o\":\n",
    "        result += \"O\"\n",
    "    else:\n",
    "        result += c\n",
    "        \n",
    "print(result)"
   ]
  },
  {
   "cell_type": "markdown",
   "id": "defd3015",
   "metadata": {},
   "source": [
    "**Problem 1.** In the block below, modify our \"potato\" code to replace each \"o\" with \"y\" instead. (The result should be \"pytaty\".)"
   ]
  },
  {
   "cell_type": "code",
   "execution_count": null,
   "id": "b36c88f0",
   "metadata": {},
   "outputs": [],
   "source": [
    "result = \"\"\n",
    "\n",
    "for c in \"potato\":\n",
    "    if c == \"o\":\n",
    "        result += \"y\"\n",
    "    else:\n",
    "        result += c\n",
    "        \n",
    "print(result)"
   ]
  },
  {
   "cell_type": "markdown",
   "id": "65956d4e",
   "metadata": {},
   "source": [
    "**Problem 2.** In the block below, modify our \"potato\" code to remove each \"o\". (The result should be \"ptat\".)"
   ]
  },
  {
   "cell_type": "code",
   "execution_count": null,
   "id": "92925e38",
   "metadata": {},
   "outputs": [],
   "source": [
    "result = \"\"\n",
    "\n",
    "for c in \"potato\":\n",
    "    if c != \"o\":\n",
    "        result += c\n",
    "        \n",
    "print(result)"
   ]
  },
  {
   "cell_type": "markdown",
   "id": "7b896b33",
   "metadata": {},
   "source": [
    "## Mapping & filtering.\n",
    "\n",
    "- Problem 1 above is an example of **mapping**--creating a new sequence (list/string), where each item of the new sequence is calculated in some way based on the corresponding item of the original sequence.\n",
    "- Problem 2 above is an example of **filtering**--creating a new sequence (list/string), where each item of the new sequence are exactly the elements of the original sequence that satisfy a certain property.\n",
    "\n",
    "In both cases, we follow the same pattern:\n",
    "\n",
    "- Define an empty list or string, maybe called `result`.\n",
    "- Loop through the items in the original list or string.\n",
    "  - In each iteration, possibly add a new item to the end of `result`.\n",
    "- After the loop, return or print `result`."
   ]
  },
  {
   "cell_type": "markdown",
   "id": "fde37dc7",
   "metadata": {},
   "source": [
    "## Example: Doubling all integers in a list.\n",
    "\n",
    "**Problem.** Write a function that takes a list of integers, and returns a new list of doubled integers."
   ]
  },
  {
   "cell_type": "code",
   "execution_count": null,
   "id": "e3becaf4",
   "metadata": {},
   "outputs": [],
   "source": [
    "# Given a list, return a new list with each element doubled.\n",
    "# lst - A list of integers.\n",
    "# Returns a list of doubled integers.\n",
    "def double_all(lst):\n",
    "    result = []\n",
    "    \n",
    "    for x in lst:\n",
    "        result += [2 * x]\n",
    "    \n",
    "    return result\n",
    "\n",
    "print(double_all([1, 2, 3]))     # [2, 4, 6]\n",
    "print(double_all([5, -1, 2, 0])) # [10, -2, 4, 0]\n",
    "print(double_all([]))            # []"
   ]
  },
  {
   "cell_type": "markdown",
   "id": "462a8891",
   "metadata": {},
   "source": [
    "## Practice: Finding all even integers in a list.\n",
    "\n",
    "**Problem.** Write a function that takes a list of integers, and returns a new list consisting only of the even integers in the original list."
   ]
  },
  {
   "cell_type": "code",
   "execution_count": 21,
   "id": "5f2c14c8",
   "metadata": {},
   "outputs": [
    {
     "name": "stdout",
     "output_type": "stream",
     "text": [
      "[2, 4]\n",
      "[-4, 2, 0]\n",
      "[]\n"
     ]
    }
   ],
   "source": [
    "# Given a list, return a new list consisting only of the even integers.\n",
    "# lst - A list of integers.\n",
    "# Returns a filtered list of even integers.\n",
    "def filter_even(lst):\n",
    "    result = []\n",
    "    \n",
    "    for x in lst:\n",
    "        if x % 2 == 0:\n",
    "            result += [x]\n",
    "    \n",
    "    return result\n",
    "\n",
    "print(filter_even([1, 2, 3, 4]))  # [2, 4]\n",
    "print(filter_even([-4, 2, 1, 0])) # [-4, 2, 0]\n",
    "print(filter_even([]))            # []"
   ]
  },
  {
   "cell_type": "markdown",
   "id": "3dba3fc6",
   "metadata": {},
   "source": [
    "## The `in` operator.\n",
    "\n",
    "Examples:"
   ]
  },
  {
   "cell_type": "code",
   "execution_count": null,
   "id": "768dfd94",
   "metadata": {},
   "outputs": [],
   "source": [
    "2 in [9, 10, 11]"
   ]
  },
  {
   "cell_type": "code",
   "execution_count": null,
   "id": "4a1d0347",
   "metadata": {},
   "outputs": [],
   "source": [
    "10 in [9, 10, 11]"
   ]
  },
  {
   "cell_type": "code",
   "execution_count": null,
   "id": "aa93b7f3",
   "metadata": {},
   "outputs": [],
   "source": [
    "\"s\" in \"bass\""
   ]
  },
  {
   "cell_type": "code",
   "execution_count": null,
   "id": "f7d26bbd",
   "metadata": {},
   "outputs": [],
   "source": [
    "\"t\" in \"bass\""
   ]
  },
  {
   "cell_type": "code",
   "execution_count": null,
   "id": "8e2e2a4d",
   "metadata": {},
   "outputs": [],
   "source": [
    "4 in range(1, 100, 2)"
   ]
  },
  {
   "cell_type": "code",
   "execution_count": null,
   "id": "8b8e6dd5",
   "metadata": {},
   "outputs": [],
   "source": [
    "5 in range(1, 100, 2)"
   ]
  },
  {
   "cell_type": "markdown",
   "id": "70e028bf",
   "metadata": {},
   "source": [
    "The `in` operator takes two arguments:\n",
    "\n",
    "- The argument on the right must be a *sequence* (e.g. a list, string, or range).\n",
    "- The argument on the left should be a possible item of that sequence.\n",
    "\n",
    "The expression `x in s` tests whether `x` is equal to any item in `s`, and returns a boolean (True or False).\n",
    "\n",
    "**Note:** Don't confuse the `in` operator with the `in` that appears as part of a `for` statement:"
   ]
  },
  {
   "cell_type": "code",
   "execution_count": null,
   "id": "a36e3f5e",
   "metadata": {},
   "outputs": [],
   "source": [
    "print(\"s\" in \"bass\") # an example of the `in` operator."
   ]
  },
  {
   "cell_type": "code",
   "execution_count": null,
   "id": "9b76ec7f",
   "metadata": {},
   "outputs": [],
   "source": [
    "for c in \"bass\":     # NOT an example of the `in` operator. (The `in` is just part of the `for` statement.)\n",
    "    print(c)"
   ]
  },
  {
   "cell_type": "markdown",
   "id": "181258ef",
   "metadata": {},
   "source": [
    "If you'd like to see a full list of operators that work on sequences, here's the official documentation:\n",
    "\n",
    "- [common sequence operations](https://docs.python.org/3/library/stdtypes.html#common-sequence-operations)\n",
    "- [mutable sequence operations](https://docs.python.org/3/library/stdtypes.html#mutable-sequence-types)"
   ]
  },
  {
   "cell_type": "markdown",
   "id": "1d76f0b8",
   "metadata": {},
   "source": [
    "## Example: Bulls & Cows.\n",
    "\n",
    "Bulls & Cows is a one-player game where a player has to guess a secret 4-digit number. (The four digits are always distinct.)\n",
    "\n",
    "**Example interaction:**\n",
    "\n",
    "```\n",
    "Let's play Bulls & Cows!\n",
    "\n",
    "Guess: 0246\n",
    "🐂 🐄 \n",
    "\n",
    "Guess: 1357\n",
    "🐄 🐄 \n",
    "\n",
    "Guess: 4567\n",
    "(no matches)\n",
    "\n",
    "Guess: 0123\n",
    "🐂 🐂 🐂 🐂 \n",
    "\n",
    "You win!\n",
    "\n",
    "```\n",
    "\n",
    "Based on the player's guess, we print some number of *bulls* and *cows*:\n",
    "\n",
    "- If the player guesses a correct number in the correct position, we print a *bull* (🐂).\n",
    "- If the player guesses a correct number in the incorrect position, we print a *cow* (🐄).\n",
    "\n",
    "We always print bulls first, then cows. If the player guesses the exact number, the game ends.\n",
    "\n",
    "Let's write our code together here:"
   ]
  },
  {
   "cell_type": "code",
   "execution_count": null,
   "id": "f3e778cf",
   "metadata": {},
   "outputs": [],
   "source": [
    "import random\n",
    "\n",
    "# Generate a secret four-digit string with distinct digits.\n",
    "# Returns the generated secret (str).\n",
    "def generate_secret():\n",
    "    secret = ''\n",
    "    \n",
    "    while len(secret) < 4:\n",
    "        digit = str(random.randint(0, 9))\n",
    "        \n",
    "        if not (digit in secret):\n",
    "            secret += digit\n",
    "            \n",
    "    return secret\n",
    "\n",
    "# Determine the number of correct numbers in correct positions.\n",
    "# guess - a four-digit guess (str).\n",
    "# secret - a four-digit secret (str).\n",
    "# Returns the number of bulls (int).\n",
    "def num_bulls(guess, secret):\n",
    "    bulls = 0\n",
    "    \n",
    "    for i in range(4):\n",
    "        if guess[i] == secret[i]:\n",
    "            bulls += 1\n",
    "    \n",
    "    return bulls\n",
    "\n",
    "# Determine the number of correct numbers in incorrect positions.\n",
    "# guess - a four-digit guess (str).\n",
    "# secret - a four-digit secret (str).\n",
    "# Returns the number of bulls (int).\n",
    "def num_cows(guess, secret):\n",
    "    cows = 0\n",
    "    \n",
    "    for i in range(4):\n",
    "        if guess[i] != secret[i] and guess[i] in secret:\n",
    "            cows += 1\n",
    "    \n",
    "    return cows\n",
    "\n",
    "# Print the specified number of bulls & cows.\n",
    "# bulls - the number of bulls to print (int).\n",
    "# cows - the number of cows to print (int).\n",
    "# Returns None (NoneType).\n",
    "def print_result(bulls, cows):\n",
    "    if bulls == 0 and cows == 0:\n",
    "        print('(no matches)')\n",
    "    else:\n",
    "        print(bulls * '🐂 ' + cows * '🐄 ')\n",
    "\n",
    "def main():\n",
    "    print(\"Let's play Bulls & Cows!\")\n",
    "    print()\n",
    "    \n",
    "    secret = generate_secret()\n",
    "    bulls = 0\n",
    "    \n",
    "    while bulls < 4:\n",
    "        guess = input('Guess: ')\n",
    "        bulls = num_bulls(guess, secret)\n",
    "        cows = num_cows(guess, secret)\n",
    "        print_result(bulls, cows)\n",
    "        print()\n",
    "    \n",
    "    print('You win!')\n",
    "    \n",
    "main()"
   ]
  },
  {
   "cell_type": "code",
   "execution_count": null,
   "id": "22c84710",
   "metadata": {},
   "outputs": [],
   "source": []
  }
 ],
 "metadata": {
  "kernelspec": {
   "display_name": "Python 3 (ipykernel)",
   "language": "python",
   "name": "python3"
  },
  "language_info": {
   "codemirror_mode": {
    "name": "ipython",
    "version": 3
   },
   "file_extension": ".py",
   "mimetype": "text/x-python",
   "name": "python",
   "nbconvert_exporter": "python",
   "pygments_lexer": "ipython3",
   "version": "3.11.4"
  },
  "varInspector": {
   "cols": {
    "lenName": 16,
    "lenType": 16,
    "lenVar": 40
   },
   "kernels_config": {
    "python": {
     "delete_cmd_postfix": "",
     "delete_cmd_prefix": "del ",
     "library": "var_list.py",
     "varRefreshCmd": "print(var_dic_list())"
    },
    "r": {
     "delete_cmd_postfix": ") ",
     "delete_cmd_prefix": "rm(",
     "library": "var_list.r",
     "varRefreshCmd": "cat(var_dic_list()) "
    }
   },
   "types_to_exclude": [
    "module",
    "function",
    "builtin_function_or_method",
    "instance",
    "_Feature"
   ],
   "window_display": false
  }
 },
 "nbformat": 4,
 "nbformat_minor": 5
}
