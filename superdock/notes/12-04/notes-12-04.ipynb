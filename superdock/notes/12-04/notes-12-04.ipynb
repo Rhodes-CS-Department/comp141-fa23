{
 "cells": [
  {
   "cell_type": "markdown",
   "id": "4992c0e6",
   "metadata": {},
   "source": [
    "# 12/4: Final exam review\n",
    "\n",
    "Below is a mix of problems to help prepare for the final exam."
   ]
  },
  {
   "cell_type": "markdown",
   "id": "719d9aa0",
   "metadata": {},
   "source": [
    "## Problem 1: evaluating expressions.\n",
    "\n",
    "Suppose `a` is 5 (int) and `b` is True (bool) in the current environment:"
   ]
  },
  {
   "cell_type": "code",
   "execution_count": null,
   "id": "c9020960",
   "metadata": {},
   "outputs": [],
   "source": [
    "a = 5\n",
    "b = True"
   ]
  },
  {
   "cell_type": "markdown",
   "id": "d0c7e57e",
   "metadata": {},
   "source": [
    "Draw a parse tree and evaluate the following expression:"
   ]
  },
  {
   "cell_type": "code",
   "execution_count": null,
   "id": "816833a4",
   "metadata": {},
   "outputs": [],
   "source": [
    "a != 5 or (not b and a > 0)"
   ]
  },
  {
   "cell_type": "markdown",
   "id": "4e8ed938",
   "metadata": {},
   "source": [
    "## Problem 2: tracing code.\n",
    "\n",
    "Trace the following code. Your answer should include the final environment and all printed output."
   ]
  },
  {
   "cell_type": "code",
   "execution_count": null,
   "id": "81955050",
   "metadata": {},
   "outputs": [],
   "source": [
    "def f(z):\n",
    "    z.append(0)\n",
    "    z.insert(0, 1)\n",
    "\n",
    "x = [0, 10]\n",
    "y = x\n",
    "\n",
    "x[0] = 2\n",
    "print(y)\n",
    "\n",
    "f(x)\n",
    "print(x)\n",
    "\n",
    "print(y[-1])\n",
    "print(y[1:3])"
   ]
  },
  {
   "cell_type": "markdown",
   "id": "cbf42028",
   "metadata": {},
   "source": [
    "## Problem 3: writing a function.\n",
    "\n",
    "A **transposition cipher** encrypts a string by grouping the characters into pairs and swapping the characters in each pair. Specifically:\n",
    "\n",
    "- We swap the characters at index 0 and index 1.\n",
    "- We swap the characters at index 2 and index 3.\n",
    "- We swap the characters at index 4 and index 5.\n",
    "- ... and so on.\n",
    "\n",
    "If there are an odd number of characters, the last character is unchanged.\n",
    "\n",
    "Write a function that implements this transposition cipher below:"
   ]
  },
  {
   "cell_type": "code",
   "execution_count": null,
   "id": "afdae070",
   "metadata": {},
   "outputs": [],
   "source": [
    "def transpose(string):\n",
    "    pass\n",
    "\n",
    "print(transpose('abcdef'))   # 'badcfe'\n",
    "print(transpose('computer')) # 'ocpmture'\n",
    "print(transpose('hello'))    # 'ehllo'\n",
    "print(transpose(''))         # ''"
   ]
  },
  {
   "cell_type": "markdown",
   "id": "b990b1d5",
   "metadata": {},
   "source": [
    "## Problem 4: writing an interactive program.\n",
    "\n",
    "Write an interactive program that asks the user to enter two positive integers, using an *input validation loop*--if the user enters a negative integer or zero, the program should ask the user to enter that integer again. Then print out the sum of the two integers.\n",
    "\n",
    "You should imitate these example interactions exactly:\n",
    "\n",
    "### Example interaction 1\n",
    "\n",
    "<pre>\n",
    "Enter a positive integer: <b>5</b>\n",
    "\n",
    "Enter a positive integer: <b>4</b>\n",
    "\n",
    "The sum is 9.\n",
    "</pre>\n",
    "\n",
    "### Example interaction 2\n",
    "\n",
    "<pre>\n",
    "Enter a positive integer: <b>-1</b>\n",
    "Try again: <b>0</b>\n",
    "Try again: <b>2</b>\n",
    "\n",
    "Enter a positive integer: <b>-4</b>\n",
    "Try again: <b>5</b>\n",
    "\n",
    "The sum is 7.\n",
    "</pre>"
   ]
  },
  {
   "cell_type": "code",
   "execution_count": null,
   "id": "a4622fcd",
   "metadata": {},
   "outputs": [],
   "source": []
  }
 ],
 "metadata": {
  "kernelspec": {
   "display_name": "Python 3 (ipykernel)",
   "language": "python",
   "name": "python3"
  },
  "language_info": {
   "codemirror_mode": {
    "name": "ipython",
    "version": 3
   },
   "file_extension": ".py",
   "mimetype": "text/x-python",
   "name": "python",
   "nbconvert_exporter": "python",
   "pygments_lexer": "ipython3",
   "version": "3.11.4"
  },
  "varInspector": {
   "cols": {
    "lenName": 16,
    "lenType": 16,
    "lenVar": 40
   },
   "kernels_config": {
    "python": {
     "delete_cmd_postfix": "",
     "delete_cmd_prefix": "del ",
     "library": "var_list.py",
     "varRefreshCmd": "print(var_dic_list())"
    },
    "r": {
     "delete_cmd_postfix": ") ",
     "delete_cmd_prefix": "rm(",
     "library": "var_list.r",
     "varRefreshCmd": "cat(var_dic_list()) "
    }
   },
   "types_to_exclude": [
    "module",
    "function",
    "builtin_function_or_method",
    "instance",
    "_Feature"
   ],
   "window_display": false
  }
 },
 "nbformat": 4,
 "nbformat_minor": 5
}
