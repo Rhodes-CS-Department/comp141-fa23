{
 "cells": [
  {
   "cell_type": "markdown",
   "id": "d84f5d1c",
   "metadata": {},
   "source": [
    "# 8/25: Expressions & evaluation.\n",
    "\n",
    "## Warm-Up.\n",
    "\n",
    "Below are three Python expressions. When Python evaluates each of the following expressions, what do you think will be the resulting value?\n",
    "\n",
    "To check your answers, select an expression, and then click \"Run\" on the toolbar, or press Shift-Enter on your keyboard."
   ]
  },
  {
   "cell_type": "code",
   "execution_count": null,
   "id": "94d95cbe",
   "metadata": {},
   "outputs": [],
   "source": [
    "1 + 3.1 * 2"
   ]
  },
  {
   "cell_type": "code",
   "execution_count": null,
   "id": "50ff634a",
   "metadata": {},
   "outputs": [],
   "source": [
    "- 1 - (2 + -3)"
   ]
  },
  {
   "cell_type": "code",
   "execution_count": null,
   "id": "2967ac9d",
   "metadata": {},
   "outputs": [],
   "source": [
    "(1.1 + 5 * 0 * 2)"
   ]
  },
  {
   "cell_type": "markdown",
   "id": "850ffb37",
   "metadata": {},
   "source": [
    "## Evaluating expressions using parse trees.\n",
    "\n",
    "Python evaluates an expression in two steps:\n",
    "\n",
    "(1) Represent the expression as a *parse tree*, based on order of operations.\n",
    "\n",
    "(2) Evaluate the parse tree.\n",
    "\n",
    "(We'll write out an example on the board.)\n",
    "\n",
    "## The `int` and `float` types.\n",
    "\n",
    "Whenever we evaluate an expression, we get a *value* and an associated *type*. A **type** describes a collection of possible values.\n",
    "\n",
    "Two examples of types are `int` and `float`:\n",
    "\n",
    "In Python, the `int` type describes *any* integer (e.g., -100, 0, 27, or 24601).\n",
    "\n",
    "(Unlike most other languages, there is no limit to how large the integer may be.)\n",
    "\n",
    "In Python, the `float` type describes a real number (e.g., 0.33, 2.718281828, -5, or $10^{-100}$).\n",
    "\n",
    "There *are* limits on how large a float may be; it depends on your system, but usually a float may be between $2.3 \\cdot 20^{-308}$ and $1.7 \\cdot 10^{308}$, with up to 15 decimal places of precision.\n",
    "\n",
    "(The official documentation on `int` and `float`, with much more information, is [here](https://docs.python.org/3/library/stdtypes.html#numeric-types-int-float-complex).)"
   ]
  },
  {
   "cell_type": "markdown",
   "id": "56a0b481",
   "metadata": {},
   "source": [
    "## Anatomy of a Python expression.\n",
    "\n",
    "Consider the expression:\n",
    "\n",
    "`- 1 - (2 + -3)`\n",
    "\n",
    "- A **literal** is how we directly express a value in code. For example, `3` is an `int` literal.\n",
    "- An **operator** is a symbol that accepts arguments (called **operands**) on one or both sides. For example, `*` and `**` are operators.\n",
    "- An **expression** is any well-formed Python code consisting of literals and operators (and other constructs we haven't learned yet).\n",
    "- A **subexpression** is an expression contained within an expression. For example, `2 + -3` is a subexpression of `- 1 - (2 + -3)`.\n",
    "\n",
    "## `int` and `float` literals.\n",
    "\n",
    "An `int` literal is just a number with no decimal point, possibly with a negative sign in front. Examples:\n",
    "\n",
    "- `23`\n",
    "- `-5`\n",
    "- `0`\n",
    "- `9801`\n",
    "\n",
    "A `float` literal is a number with a decimal point, or a number in scientific notation, possibly with a negative sign in front. Examples:\n",
    "\n",
    "- `2.5`\n",
    "- `-5.0`\n",
    "- `1e-100` (expresses the value $1 \\cdot 10^{-100}$).\n",
    "- `6.022e23`\n",
    "\n",
    "Note that if we want to express the number -5 as a float in a Python expression, we must write `-5.0` to make it a float literal rather than an integer literal.\n",
    "\n",
    "## Basic operations.\n",
    "\n",
    "- `+` is addition.\n",
    "- `-` is subtraction.\n",
    "- `*` is multiplication.\n",
    "\n",
    "They work like you think they do.\n",
    "\n",
    "But you have to pay attention to types! Operators often have different behavior depending on the types of their arguments.\n",
    "\n",
    "For example, consider the expression:\n",
    "\n",
    "`x * y`\n",
    "\n",
    "If `x` is an `int` and `y` is an `int`, then `*` performs *exact* multiplication of `x` and `y`, giving another `int`.\n",
    "\n",
    "If `x` is a `float` and `y` is a `float`, then `*` performs *approximate* multiplication of `x` and `y`. The result is rounded to fit within the allowed number of decimal places of precision, and may even overflow:\n"
   ]
  },
  {
   "cell_type": "code",
   "execution_count": null,
   "id": "c6bd7662",
   "metadata": {},
   "outputs": [],
   "source": [
    "-2 * 6"
   ]
  },
  {
   "cell_type": "code",
   "execution_count": null,
   "id": "1c572c35",
   "metadata": {},
   "outputs": [],
   "source": [
    "0.0 * 10.0"
   ]
  },
  {
   "cell_type": "code",
   "execution_count": null,
   "id": "83557ef6",
   "metadata": {},
   "outputs": [],
   "source": [
    "1.1 * 2.2"
   ]
  },
  {
   "cell_type": "code",
   "execution_count": null,
   "id": "da2d60af",
   "metadata": {},
   "outputs": [],
   "source": [
    "1e300 * 1e300"
   ]
  },
  {
   "cell_type": "markdown",
   "id": "0f986581",
   "metadata": {},
   "source": [
    "## Widening.\n",
    "\n",
    "Consider the expression:\n",
    "\n",
    "`2.0 * 3`\n",
    "\n",
    "We are multiplying 2 (float) by 3 (int). Do we perform `int` multiplication or `float` multiplication?\n",
    "\n",
    "Python performs **widening**--the value with the narrower type (`int`) is \"widened\" to the wider type (`float`). So this expression is evaluated in two steps:\n",
    "\n",
    "- We convert the `int` 3 to the `float` 3. (We can write 3.0 if we like.)\n",
    "- We perform `float` multiplication of 2 and 3, to get the `float` 6.\n",
    "\n",
    "So the answer is 6, as a *float*. (We can write 6.0 if we like.)"
   ]
  },
  {
   "cell_type": "code",
   "execution_count": null,
   "id": "2d224b5c",
   "metadata": {},
   "outputs": [],
   "source": [
    "2.0 * 3"
   ]
  },
  {
   "cell_type": "code",
   "execution_count": null,
   "id": "96ae342d",
   "metadata": {},
   "outputs": [],
   "source": [
    "4 * 1.2"
   ]
  },
  {
   "cell_type": "code",
   "execution_count": null,
   "id": "2305a328",
   "metadata": {},
   "outputs": [],
   "source": [
    "1e2 * 3"
   ]
  },
  {
   "cell_type": "markdown",
   "id": "1bb7a49e",
   "metadata": {},
   "source": [
    "## Order of operations.\n",
    "\n",
    "From highest precedence to lowest:\n",
    "\n",
    "- parentheses\n",
    "- `-` (negation, like `-1` in `3 * min(-1, 2 ** 3, 4)`)\n",
    "- `*` (multiplication)\n",
    "- `+` (addition), `-` (subtraction)\n",
    "\n",
    "If there is a tie, the operations evaluate left-to-right. In other words, operators farther to the right in the expression have lower precedence.\n",
    "\n",
    "(The official full list is [here](https://docs.python.org/3/reference/expressions.html#operator-precedence).)\n",
    "\n",
    "## General process for constructing a parse tree.\n",
    "\n",
    "- Look for the lowest-precedence operator in your expression not inside parentheses.\n",
    "  - (If there is a tie, choose the operator farthest to the right in the expression.)\n",
    "- That operator should go at the root of the tree.\n",
    "- Identify the resulting subexpressions, and handle each individually.\n",
    "\n",
    "(If there is no such operator, then your expression is either a literal or a parenthesized expression; handle each accordingly.)\n",
    "\n",
    "Q: What operator goes at the root of the parse tree in each of the following expressions?"
   ]
  },
  {
   "cell_type": "code",
   "execution_count": null,
   "id": "28e8405d",
   "metadata": {},
   "outputs": [],
   "source": [
    "1 + 3.1 * 2"
   ]
  },
  {
   "cell_type": "code",
   "execution_count": null,
   "id": "e235e536",
   "metadata": {},
   "outputs": [],
   "source": [
    "- 1 - (2 + -3)"
   ]
  },
  {
   "cell_type": "code",
   "execution_count": null,
   "id": "a1665a62",
   "metadata": {},
   "outputs": [],
   "source": [
    "(1.1 + 5 * 0 * 2)"
   ]
  },
  {
   "cell_type": "markdown",
   "id": "018d88ca",
   "metadata": {},
   "source": [
    "## Practice.\n",
    "\n",
    "For each of the following expressions, draw a parse tree and evaluate the expression.\n",
    "\n",
    "Remember, at each step of evaluation you should write down a *value* and a *type* (`int` or `float`).\n",
    "\n",
    "Then check your answers by running the code blocks."
   ]
  },
  {
   "cell_type": "code",
   "execution_count": null,
   "id": "f546f52f",
   "metadata": {},
   "outputs": [],
   "source": [
    "2 * 1.5 - 1"
   ]
  },
  {
   "cell_type": "code",
   "execution_count": null,
   "id": "443ebce0",
   "metadata": {},
   "outputs": [],
   "source": [
    "- (1 + 4) * -1"
   ]
  },
  {
   "cell_type": "code",
   "execution_count": null,
   "id": "c5b7134f",
   "metadata": {},
   "outputs": [],
   "source": [
    "2.0e2 - 1 + 3 + 2"
   ]
  },
  {
   "cell_type": "markdown",
   "id": "7b203cd3",
   "metadata": {},
   "source": [
    "If you finish early, try experimenting below with more expressions. Here are some other operations you can try: `**`, `/`, `//`, `%`, `==`."
   ]
  },
  {
   "cell_type": "code",
   "execution_count": null,
   "id": "39d4feb0",
   "metadata": {},
   "outputs": [],
   "source": []
  }
 ],
 "metadata": {
  "kernelspec": {
   "display_name": "Python 3 (ipykernel)",
   "language": "python",
   "name": "python3"
  },
  "language_info": {
   "codemirror_mode": {
    "name": "ipython",
    "version": 3
   },
   "file_extension": ".py",
   "mimetype": "text/x-python",
   "name": "python",
   "nbconvert_exporter": "python",
   "pygments_lexer": "ipython3",
   "version": "3.11.4"
  },
  "varInspector": {
   "cols": {
    "lenName": 16,
    "lenType": 16,
    "lenVar": 40
   },
   "kernels_config": {
    "python": {
     "delete_cmd_postfix": "",
     "delete_cmd_prefix": "del ",
     "library": "var_list.py",
     "varRefreshCmd": "print(var_dic_list())"
    },
    "r": {
     "delete_cmd_postfix": ") ",
     "delete_cmd_prefix": "rm(",
     "library": "var_list.r",
     "varRefreshCmd": "cat(var_dic_list()) "
    }
   },
   "types_to_exclude": [
    "module",
    "function",
    "builtin_function_or_method",
    "instance",
    "_Feature"
   ],
   "window_display": false
  }
 },
 "nbformat": 4,
 "nbformat_minor": 5
}
