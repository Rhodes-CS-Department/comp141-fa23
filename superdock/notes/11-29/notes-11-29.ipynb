{
 "cells": [
  {
   "cell_type": "markdown",
   "id": "8627fc50",
   "metadata": {},
   "source": [
    "# 11/29: Writing code with dictionaries\n",
    "\n",
    "## Warm-Up: Tracing Code.\n",
    "\n",
    "Trace the following code."
   ]
  },
  {
   "cell_type": "code",
   "execution_count": null,
   "id": "1a6cf499",
   "metadata": {},
   "outputs": [],
   "source": [
    "a = {\n",
    "    1: True,\n",
    "    5: False,\n",
    "    9: True\n",
    "}\n",
    "\n",
    "a[4] = True\n",
    "a[9] = False\n",
    "del a[5]\n",
    "\n",
    "print(a[9])\n",
    "print(5 in a)\n",
    "print(4 in a)\n",
    "\n",
    "s = 0\n",
    "for x in a:\n",
    "    if a[x]:\n",
    "        s += x\n",
    "        \n",
    "print(s)"
   ]
  },
  {
   "cell_type": "markdown",
   "id": "cb1a7de5",
   "metadata": {},
   "source": [
    "## Example: Accumulation.\n",
    "\n",
    "Write a function that computes the maximum value of a dictionary whose values are positive integers."
   ]
  },
  {
   "cell_type": "code",
   "execution_count": null,
   "id": "53fa4fa4",
   "metadata": {},
   "outputs": [],
   "source": [
    "# Compute the maximum value of a dictionary.\n",
    "# d - a dictionary whose values are positive integers.\n",
    "# Returns the maximum value (int).\n",
    "def max_dict(d):\n",
    "    pass\n",
    "\n",
    "print(max_dict({'a': 2, 'b': 1, 'c': 4, 'd': 3})) # 4"
   ]
  },
  {
   "cell_type": "markdown",
   "id": "14b67578",
   "metadata": {},
   "source": [
    "## Example: Mapping.\n",
    "\n",
    "Write a function that adds one to every value in a dictionary whose values are integers, producing a new dictionary."
   ]
  },
  {
   "cell_type": "code",
   "execution_count": null,
   "id": "91d1b57b",
   "metadata": {},
   "outputs": [],
   "source": [
    "# Add one to every value in a dictionary, producing a new dictionary.\n",
    "# d - A dictionary whose values are integers.\n",
    "# Returns a new dictionary with the updated values.\n",
    "def increment_dict(d):\n",
    "    pass\n",
    "\n",
    "print(increment_dict({'a': 2, 'b': 1, 'c': 4, 'd': 3}))\n",
    "# {'a': 3, 'b': 2, 'c': 5, 'd': 4}"
   ]
  },
  {
   "cell_type": "markdown",
   "id": "184e4a00",
   "metadata": {},
   "source": [
    "## Example: Mapping in-place.\n",
    "\n",
    "Write a function that adds one to every value in a dictionary whose values are integers, in place."
   ]
  },
  {
   "cell_type": "code",
   "execution_count": null,
   "id": "656fdeee",
   "metadata": {},
   "outputs": [],
   "source": [
    "# Add one to every value in a dictionary, in place.\n",
    "# d - A dictionary whose values are integers.\n",
    "# Returns None (NoneType).\n",
    "def increment_dict_inplace(d):\n",
    "    pass\n",
    "\n",
    "d = {'a': 2, 'b': 1, 'c': 4, 'd': 3}\n",
    "increment_dict_inplace(d)\n",
    "print(d)\n",
    "# {'a': 3, 'b': 2, 'c': 5, 'd': 4}"
   ]
  },
  {
   "cell_type": "markdown",
   "id": "bc12a39a",
   "metadata": {},
   "source": [
    "## Example: Filtering.\n",
    "\n",
    "Write a function that creates a new dictionary consisting only of the key-value pairs where the key is lowercase."
   ]
  },
  {
   "cell_type": "code",
   "execution_count": null,
   "id": "21b55694",
   "metadata": {},
   "outputs": [],
   "source": [
    "# Create a new dictionary consisting of only the lowercase keys.\n",
    "# d - A dictionary whose keys are strings.\n",
    "# Returns a new dictionary (dict).\n",
    "def lower_dict(d):\n",
    "    pass\n",
    "\n",
    "print(lower_dict({'a': 2, 'B': 1, 'c': 4, 'D': 3}))\n",
    "# {'a': 2, 'c': 4}"
   ]
  },
  {
   "cell_type": "markdown",
   "id": "5b5a1998",
   "metadata": {},
   "source": [
    "## Practice\n",
    "\n",
    "**Problem 1.** Write a function that takes a dictionary `d` as input whose values are strings, and returns a new dictionary consisting only of the key-value pairs where the value has length at most 5."
   ]
  },
  {
   "cell_type": "code",
   "execution_count": null,
   "id": "7a80424c",
   "metadata": {},
   "outputs": [],
   "source": [
    "# Create a new dictionary consisting of only the values of length at most 5.\n",
    "# d - A dictionary whose values are strings.\n",
    "# Returns a new dictionary (dict).\n",
    "def short_values(d):\n",
    "    pass\n",
    "\n",
    "print(short_values({1: 'hello', 2: 'awesome'}))\n",
    "# {1: 'hello'}\n",
    "\n",
    "print(short_values({'a': 'goodbye', 'b': 'short', 'c': 'test'}))\n",
    "# {'b': 'short', 'c': 'test'}\n",
    "\n",
    "print(short_values({}))\n",
    "# {}"
   ]
  },
  {
   "cell_type": "markdown",
   "id": "a11c144b",
   "metadata": {},
   "source": [
    "**Problem 2.** Write a function that takes a dictionary `d` as input whose values are ints, and returns the average of the values as a float.\n",
    "\n",
    "You may assume the dictionary is not empty."
   ]
  },
  {
   "cell_type": "code",
   "execution_count": null,
   "id": "92f9f4c8",
   "metadata": {},
   "outputs": [],
   "source": [
    "# Compute the average of the values of a dictionary.\n",
    "# d - a dictionary whose values are integers.\n",
    "# Returns the average value, as a float.\n",
    "def average(d):\n",
    "    pass\n",
    "\n",
    "print(average({'a': 1, 'b': 2, 'c': 3})) # 2\n",
    "print(average({'d': 4, 'e': 5}))         # 4.5\n",
    "print(average({'f': 6}))                 # 6"
   ]
  },
  {
   "cell_type": "markdown",
   "id": "15e93396",
   "metadata": {},
   "source": [
    "**Problem 3.** Write a function that takes two dictionaries `d1` and `d2` as input whose values are ints, and returns a new dictionary `d` whose values are the sums of the values in `d1` and `d2`. More specifically:\n",
    "\n",
    "- If a key `key` is present in both dictionaries, then `d[key]` should be `d1[key] + d2[key]`.\n",
    "- If a key `key` is present in just one dictionary, then `d[key]` should be the value in that dictionary.\n",
    "  - (We think of the other dictionary as contributing zero.)\n",
    "- If a key `key` is present in neither dictionary, then it should not be present in `d` either."
   ]
  },
  {
   "cell_type": "code",
   "execution_count": 1,
   "id": "3457f13f",
   "metadata": {},
   "outputs": [],
   "source": [
    "# Add the values in two dictionaries, obtaining a new dictionary.\n",
    "# d1, d2 - dictionaries whose values are integers.\n",
    "# Returns a dictionary whose values are the sums of the values in d1 and d2.\n",
    "def add(d1, d2):\n",
    "    pass"
   ]
  }
 ],
 "metadata": {
  "kernelspec": {
   "display_name": "Python 3 (ipykernel)",
   "language": "python",
   "name": "python3"
  },
  "language_info": {
   "codemirror_mode": {
    "name": "ipython",
    "version": 3
   },
   "file_extension": ".py",
   "mimetype": "text/x-python",
   "name": "python",
   "nbconvert_exporter": "python",
   "pygments_lexer": "ipython3",
   "version": "3.11.4"
  },
  "varInspector": {
   "cols": {
    "lenName": 16,
    "lenType": 16,
    "lenVar": 40
   },
   "kernels_config": {
    "python": {
     "delete_cmd_postfix": "",
     "delete_cmd_prefix": "del ",
     "library": "var_list.py",
     "varRefreshCmd": "print(var_dic_list())"
    },
    "r": {
     "delete_cmd_postfix": ") ",
     "delete_cmd_prefix": "rm(",
     "library": "var_list.r",
     "varRefreshCmd": "cat(var_dic_list()) "
    }
   },
   "types_to_exclude": [
    "module",
    "function",
    "builtin_function_or_method",
    "instance",
    "_Feature"
   ],
   "window_display": false
  }
 },
 "nbformat": 4,
 "nbformat_minor": 5
}
