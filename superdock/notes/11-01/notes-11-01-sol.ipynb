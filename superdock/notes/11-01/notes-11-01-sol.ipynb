{
 "cells": [
  {
   "cell_type": "markdown",
   "id": "8c4216ea",
   "metadata": {},
   "source": [
    "# 11/1: Files, sliding window. (solutions)"
   ]
  },
  {
   "cell_type": "markdown",
   "id": "146d6c8d",
   "metadata": {},
   "source": [
    "## Warm-Up: Writing functions with strings.\n",
    "\n",
    "(1) Write a function that tests whether a string representing a filename has a `.txt` extension (that is, whether the string ends with \".txt\")."
   ]
  },
  {
   "cell_type": "code",
   "execution_count": null,
   "id": "0b47fdc8",
   "metadata": {},
   "outputs": [],
   "source": [
    "# Determine if the given filename has a \".txt\" extension.\n",
    "# filename - A filename (str).\n",
    "# Returns whether `filename` ends with \".txt\" (bool).\n",
    "def has_txt_extension(filename):\n",
    "    return filename.endswith('.txt')\n",
    "\n",
    "print(has_txt_extension('todo.txt'))   # True\n",
    "print(has_txt_extension('party.txt'))  # True\n",
    "print(has_txt_extension('report.pdf')) # False"
   ]
  },
  {
   "cell_type": "markdown",
   "id": "dee884e4",
   "metadata": {},
   "source": [
    "(2) Write a function that takes a string representing a person's last name and checks the capitalization. Your function should return `True` if the name starts with a capital letter, and the remaining characters are lowercase letters."
   ]
  },
  {
   "cell_type": "code",
   "execution_count": null,
   "id": "58101ea7",
   "metadata": {},
   "outputs": [],
   "source": [
    "# Determine if the given name is correctly capitalized.\n",
    "# name - A last name (str).\n",
    "# Returns True if `name` starts with a capital letter,\n",
    "#   and the remaining characters are lowercase letters.\n",
    "# Returns False otherwise (bool).\n",
    "def check_capitalization(name):\n",
    "    return name[0].isupper() and name[1:].islower()\n",
    "    \n",
    "print(check_capitalization(\"kirlin\"))    # False\n",
    "print(check_capitalization(\"Sanders\"))   # True\n",
    "print(check_capitalization(\"SUPERdock\")) # False"
   ]
  },
  {
   "cell_type": "markdown",
   "id": "27a9cf82",
   "metadata": {},
   "source": [
    "(3) Write a function that removes all whitespace characters (as defined by `s.isspace()`) from a string."
   ]
  },
  {
   "cell_type": "code",
   "execution_count": null,
   "id": "3fe7d2ed",
   "metadata": {},
   "outputs": [],
   "source": [
    "# Construct a copy of a string with all whitespace characters removed.\n",
    "# s - Any string (str).\n",
    "# Returns a copy of `s` with whitespace characters removed.\n",
    "def remove_spaces(s):\n",
    "    result = ''\n",
    "    \n",
    "    for c in s:\n",
    "        if not c.isspace():\n",
    "            result += c\n",
    "    \n",
    "    return result\n",
    "\n",
    "print(remove_spaces(\"Hello World!\")) # \"HelloWorld!\"\n",
    "print(remove_spaces(\"a b c d\"))      # \"abcd\"\n",
    "print(remove_spaces(\"test\"))         # \"test\""
   ]
  },
  {
   "cell_type": "markdown",
   "id": "01eb884b",
   "metadata": {},
   "source": [
    "## The sliding window technique\n",
    "\n",
    "The \"sliding window technique\" is the idea of storing a current value within a loop, so that you can access that value within the next iteration of the loop.\n",
    "\n",
    "**Example:** The file \"AAPL.csv\" contains Apple stock prices for the past year. Count how many days the adjusted close increased from the previous day, and how many days the adjusted close decreased from the previous day."
   ]
  },
  {
   "cell_type": "code",
   "execution_count": null,
   "id": "6a12db68",
   "metadata": {},
   "outputs": [],
   "source": [
    "def main():\n",
    "    file = open('AAPL.csv')\n",
    "    \n",
    "    # skip the first line\n",
    "    file.readline()\n",
    "    \n",
    "    increased = 0\n",
    "    decreased = 0\n",
    "    \n",
    "    adj_close_prev = None\n",
    "    \n",
    "    for line in file:\n",
    "        line = line.rstrip()\n",
    "        tokens = line.split(',')\n",
    "        \n",
    "        adj_close = float(tokens[5])\n",
    "        \n",
    "        if adj_close_prev != None:\n",
    "            if adj_close > adj_close_prev:\n",
    "                increased += 1\n",
    "            elif adj_close < adj_close_prev:\n",
    "                decreased += 1\n",
    "        \n",
    "        adj_close_prev = adj_close\n",
    "    \n",
    "    file.close()\n",
    "    \n",
    "    print(increased)\n",
    "    print(decreased)\n",
    "    \n",
    "main()"
   ]
  },
  {
   "cell_type": "code",
   "execution_count": null,
   "id": "aa924893",
   "metadata": {},
   "outputs": [],
   "source": []
  }
 ],
 "metadata": {
  "kernelspec": {
   "display_name": "Python 3 (ipykernel)",
   "language": "python",
   "name": "python3"
  },
  "language_info": {
   "codemirror_mode": {
    "name": "ipython",
    "version": 3
   },
   "file_extension": ".py",
   "mimetype": "text/x-python",
   "name": "python",
   "nbconvert_exporter": "python",
   "pygments_lexer": "ipython3",
   "version": "3.11.4"
  },
  "varInspector": {
   "cols": {
    "lenName": 16,
    "lenType": 16,
    "lenVar": 40
   },
   "kernels_config": {
    "python": {
     "delete_cmd_postfix": "",
     "delete_cmd_prefix": "del ",
     "library": "var_list.py",
     "varRefreshCmd": "print(var_dic_list())"
    },
    "r": {
     "delete_cmd_postfix": ") ",
     "delete_cmd_prefix": "rm(",
     "library": "var_list.r",
     "varRefreshCmd": "cat(var_dic_list()) "
    }
   },
   "types_to_exclude": [
    "module",
    "function",
    "builtin_function_or_method",
    "instance",
    "_Feature"
   ],
   "window_display": false
  }
 },
 "nbformat": 4,
 "nbformat_minor": 5
}
