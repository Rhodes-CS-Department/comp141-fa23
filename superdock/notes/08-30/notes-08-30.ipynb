{
 "cells": [
  {
   "cell_type": "markdown",
   "id": "03164ff8",
   "metadata": {},
   "source": [
    "# 8/30: Statements & execution.\n",
    "\n",
    "## Warm-Up.\n",
    "\n",
    "Evaluate the following expressions, by drawing a parse tree and evaluating:\n",
    "\n",
    "**Problem 1.**"
   ]
  },
  {
   "cell_type": "code",
   "execution_count": null,
   "id": "d7d57730",
   "metadata": {},
   "outputs": [],
   "source": [
    "\"a\" + (1 + 2) * \"b\""
   ]
  },
  {
   "cell_type": "markdown",
   "id": "53a31b17",
   "metadata": {},
   "source": [
    "**Problem 2.**"
   ]
  },
  {
   "cell_type": "code",
   "execution_count": null,
   "id": "778f89f8",
   "metadata": {},
   "outputs": [],
   "source": [
    "str(29 % max(5.1, 7))"
   ]
  },
  {
   "cell_type": "markdown",
   "id": "2de6d9ac",
   "metadata": {},
   "source": [
    "## An example Python program.\n",
    "\n",
    "Let's say two teams are playing football, a \"home\" team and an \"away\" team:\n",
    "\n",
    "- In the first quarter, the home team scores 3 points.\n",
    "- In the second quarter, the away team scores 7 points.\n",
    "- In the third quarter, the home team scores another 3 points.\n",
    "- (Neither team scores in the fourth quarter.)\n",
    "\n",
    "We want to calculate the total combined score of the two teams:"
   ]
  },
  {
   "cell_type": "code",
   "execution_count": null,
   "id": "9326e2ff",
   "metadata": {},
   "outputs": [],
   "source": [
    "home_score = 0\n",
    "away_score = 0\n",
    "home_score = home_score + 3\n",
    "away_score = away_score + 7\n",
    "home_score = home_score + 3\n",
    "home_score + away_score"
   ]
  },
  {
   "cell_type": "markdown",
   "id": "8a21f2f6",
   "metadata": {},
   "source": [
    "### Variables\n",
    "\n",
    "- `home_score` and `away_score` are **variables**.\n",
    "- A **variable** stores a value, along with a type.\n",
    "- The value and type can change as a program runs.\n",
    "\n",
    "### Environments\n",
    "\n",
    "- The **environment** is the collection of all variables, along with their current values and types.\n",
    "- For example, this is the environment after executing the first 5 lines in the example above:\n",
    "\n",
    "| | |\n",
    "| - | - |\n",
    "| `home_score`: | 6 (`int`) |\n",
    "| `away_score`: | 7 (`int`) |\n",
    "\n",
    "### Expressions with variables\n",
    "\n",
    "Earlier, we learned that an **expression** is \"any well-formed Python code consisting of literals, operators, and function calls.\"\n",
    "\n",
    "An expression can also contain variables; for example:\n",
    "\n",
    "`home_score + away_score`\n",
    "\n",
    "When we evaluate a variable, we look up the variable in the current environment and get its value and type. So in the last line of our example:\n",
    "\n",
    "- The variable `home_score` evaluates to 6 (an `int`).\n",
    "- The variable `away_score` evaluates to 7 (an `int`).\n",
    "- The sum `home_score + away_score` evaluates to 13 (an `int`).\n",
    "\n",
    "### Statements\n",
    "\n",
    "- A **statement** is a single line of Python code.\n",
    "- The example above consists of 6 statements.\n",
    "- We can **execute** a statement, which can change the current environment.\n",
    "\n",
    "There are many types of statements; two are **assignment statements** and **expression statements**.\n",
    "\n",
    "An **assignment statement** is of the form `variable = expression`; for example:\n",
    "\n",
    "`home_score = home_score + 3`\n",
    "\n",
    "We read this line as, \"Set `home_score` to `home_score + 3`.\"\n",
    "\n",
    "To execute an assignment statement:\n",
    "\n",
    "- We evaluate the expression (on the right side of the equals sign) in the current environment to get a value and a type.\n",
    "- We change the environment to record that the variable (on the left side of the equals sign) now has that value and type.\n",
    "\n",
    "An **expression statement** can be any Python expression; for example:\n",
    "\n",
    "`home_score + away_score`\n",
    "\n",
    "To execute an expression statement:\n",
    "\n",
    "- We evaluate the expression in the current environment.\n",
    "- (We do *not* change the environment at all.)\n",
    "\n",
    "(If you're curious, you can see the complete list of statement types [here](https://docs.python.org/3/reference/simple_stmts.html).)\n",
    "\n",
    "### Blocks\n",
    "\n",
    "A **block** is a sequence of statements; our example above is a block of 6 statements:\n",
    "\n",
    "```\n",
    "home_score = 0\n",
    "away_score = 0\n",
    "home_score = home_score + 3\n",
    "away_score = away_score + 7\n",
    "home_score = home_score + 3\n",
    "home_score + away_score\n",
    "```\n",
    "\n",
    "To execute a block, we execute each statement in order (from top to bottom).\n",
    "\n",
    "## Executing our example program\n",
    "\n",
    "We can use a site called Python Tutor (pythontutor.com) to visualize the execution of our example program: [link](https://pythontutor.com/python-debugger.html#code=home_score%20%3D%200%0Aaway_score%20%3D%200%0Ahome_score%20%3D%20home_score%20%2B%203%0Aaway_score%20%3D%20away_score%20%2B%207%0Ahome_score%20%3D%20home_score%20%2B%203%0Ahome_score%20%2B%20away_score&cumulative=false&heapPrimitives=nevernest&mode=edit&origin=opt-frontend.js&py=3&rawInputLstJSON=%5B%5D&textReferences=false)"
   ]
  },
  {
   "cell_type": "markdown",
   "id": "3199a6f7",
   "metadata": {},
   "source": [
    "## Common errors\n",
    "\n",
    "Here's a modified version of our code example, which has an error.\n",
    "\n",
    "Let's refresh our kernel to reset the environment, and then run the code below:"
   ]
  },
  {
   "cell_type": "code",
   "execution_count": null,
   "id": "7c50267b",
   "metadata": {},
   "outputs": [],
   "source": [
    "home_score = home_score + 3\n",
    "away_score = away_score + 7\n",
    "home_score = home_score + 3\n",
    "home_score + away_score"
   ]
  },
  {
   "cell_type": "markdown",
   "id": "5b806c34",
   "metadata": {},
   "source": [
    "We get an error: `NameError: name 'home_score' is not defined`. What's the problem here, in your own words?"
   ]
  },
  {
   "cell_type": "markdown",
   "id": "ec8f4eac",
   "metadata": {},
   "source": [
    "Here's another modified version of our code example. This runs, but has a **logical error**; that is, the program doesn't do what the programmer intended.\n",
    "\n",
    "Let's run the code below (no need to refresh the kernel this time):"
   ]
  },
  {
   "cell_type": "code",
   "execution_count": null,
   "id": "59b783ff",
   "metadata": {},
   "outputs": [],
   "source": [
    "home_score = 0\n",
    "away_score = 0\n",
    "home_score + 3\n",
    "away_score + 7\n",
    "home_score + 3\n",
    "home_score + away_score"
   ]
  },
  {
   "cell_type": "markdown",
   "id": "592190c6",
   "metadata": {},
   "source": [
    "We get the wrong final answer. What's the problem here, in your own words?"
   ]
  },
  {
   "cell_type": "markdown",
   "id": "ed0ca5ce",
   "metadata": {},
   "source": [
    "## Assignment operators\n",
    "\n"
   ]
  },
  {
   "cell_type": "markdown",
   "id": "0362aab6",
   "metadata": {},
   "source": [
    "In our example above, one of the lines was:\n",
    "\n",
    "`home_score = home_score + 3`\n",
    "\n",
    "Another way to write the same line is:\n",
    "\n",
    "`home_score += 3`\n",
    "\n",
    "When Python sees the statement `home_score += 3`, it translates it to `home_score = home_score + 3` and then executes it.\n",
    "\n",
    "There are similar **assignment operators** for many of the basic operators:\n",
    "\n",
    "| Assignment operator | Example | Translation |\n",
    "| - | - | - |\n",
    "| `+=` | `x += expression` | `x = x + (expression)` |\n",
    "| `-=` | `x -= expression` | `x = x - (expression)` |\n",
    "| `*=` | `x *= expression` | `x = x * (expression)` |\n",
    "| `/=` | `x /= expression` | `x = x / (expression)` |\n",
    "| `//=` | `x //= expression` | `x = x // (expression)` |\n",
    "| `%=` | `x %= expression` | `x = x % (expression)` |\n",
    "| `**=` | `x **= expression` | `x = x ** (expression)` |\n",
    "\n",
    "Note the parentheses in the translations above; the `expression` on the right side of an assignment operator is always fully evaluated first.\n",
    "\n",
    "When you are executing code by hand, and you see one of these operators, start by rewriting the statement as an ordinary assignment statement.\n",
    "\n",
    "## Example\n",
    "\n",
    "Execute the following block of statements by hand, then run the block to check your work."
   ]
  },
  {
   "cell_type": "code",
   "execution_count": null,
   "id": "ce1eea99",
   "metadata": {},
   "outputs": [],
   "source": [
    "name = \"Camilo\"\n",
    "age = 17 + 1\n",
    "name = \"Mirabel\"\n",
    "age -= 2\n",
    "name + \": \" + str(age)"
   ]
  },
  {
   "cell_type": "markdown",
   "id": "e3813ba9",
   "metadata": {},
   "source": [
    "## Practice\n",
    "\n",
    "(1) Execute the following block of statements by hand, then run the block to check your work.\n",
    "\n",
    "(Keep track of the current environment on a piece of paper.)"
   ]
  },
  {
   "cell_type": "code",
   "execution_count": null,
   "id": "d1acd7d9",
   "metadata": {},
   "outputs": [],
   "source": [
    "a = 12\n",
    "b //= 2\n",
    "a = 4 + 2 * b\n",
    "float(a - b)"
   ]
  },
  {
   "cell_type": "markdown",
   "id": "0084c4bb",
   "metadata": {},
   "source": [
    "(2) Our example from above is copied again below. Rewrite as many of the statements as possible using assignment operators:"
   ]
  },
  {
   "cell_type": "code",
   "execution_count": null,
   "id": "e2ee4918",
   "metadata": {},
   "outputs": [],
   "source": [
    "home_score = 0\n",
    "away_score = 0\n",
    "home_score = home_score + 3\n",
    "away_score = away_score + 7\n",
    "home_score = home_score + 3\n",
    "home_score + away_score"
   ]
  },
  {
   "cell_type": "markdown",
   "id": "bf7e7ee8",
   "metadata": {},
   "source": [
    "If you finish early, you're welcome to work on or discuss the problem set."
   ]
  },
  {
   "cell_type": "code",
   "execution_count": null,
   "id": "8165a7e2",
   "metadata": {},
   "outputs": [],
   "source": []
  }
 ],
 "metadata": {
  "kernelspec": {
   "display_name": "Python 3 (ipykernel)",
   "language": "python",
   "name": "python3"
  },
  "language_info": {
   "codemirror_mode": {
    "name": "ipython",
    "version": 3
   },
   "file_extension": ".py",
   "mimetype": "text/x-python",
   "name": "python",
   "nbconvert_exporter": "python",
   "pygments_lexer": "ipython3",
   "version": "3.11.4"
  },
  "varInspector": {
   "cols": {
    "lenName": 16,
    "lenType": 16,
    "lenVar": 40
   },
   "kernels_config": {
    "python": {
     "delete_cmd_postfix": "",
     "delete_cmd_prefix": "del ",
     "library": "var_list.py",
     "varRefreshCmd": "print(var_dic_list())"
    },
    "r": {
     "delete_cmd_postfix": ") ",
     "delete_cmd_prefix": "rm(",
     "library": "var_list.r",
     "varRefreshCmd": "cat(var_dic_list()) "
    }
   },
   "types_to_exclude": [
    "module",
    "function",
    "builtin_function_or_method",
    "instance",
    "_Feature"
   ],
   "window_display": false
  }
 },
 "nbformat": 4,
 "nbformat_minor": 5
}
