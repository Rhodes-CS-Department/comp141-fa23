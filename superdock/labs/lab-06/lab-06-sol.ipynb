{
 "cells": [
  {
   "cell_type": "markdown",
   "metadata": {},
   "source": [
    "# Lab 6: Counting & drawing with while-loops. (solutions)"
   ]
  },
  {
   "cell_type": "markdown",
   "metadata": {},
   "source": [
    "## Problem 1: Countdown."
   ]
  },
  {
   "cell_type": "code",
   "execution_count": null,
   "metadata": {},
   "outputs": [],
   "source": [
    "# Write your code inside of this main function:\n",
    "def main():\n",
    "    i = 100\n",
    "    \n",
    "    while i >= 0:\n",
    "        print(i)\n",
    "        i -= 2\n",
    "    \n",
    "main()"
   ]
  },
  {
   "cell_type": "markdown",
   "metadata": {},
   "source": [
    "## Problem 2: Stars\n",
    "\n",
    "### Solution 1"
   ]
  },
  {
   "cell_type": "code",
   "execution_count": null,
   "metadata": {},
   "outputs": [],
   "source": [
    "# Write your code inside of this main function:\n",
    "def main():\n",
    "    i = 1\n",
    "    \n",
    "    while i <= 20:\n",
    "        print(i * '*')\n",
    "        i += 1\n",
    "\n",
    "main()"
   ]
  },
  {
   "cell_type": "markdown",
   "metadata": {},
   "source": [
    "### Solution 2\n",
    "\n",
    "Idea: Keep track of two variables:\n",
    "\n",
    "- `i` keeps track of which iteration of the loop we're on; we use `i` to determine when to end the loop.\n",
    "- `s` keeps track of the current string to print."
   ]
  },
  {
   "cell_type": "code",
   "execution_count": null,
   "metadata": {},
   "outputs": [],
   "source": [
    "# Write your code inside of this main function:\n",
    "def main():\n",
    "    i = 0\n",
    "    s = '*'\n",
    "    \n",
    "    while i < 20:\n",
    "        print(s)\n",
    "        i += 1\n",
    "        s += '*'\n",
    "\n",
    "main()"
   ]
  },
  {
   "cell_type": "markdown",
   "metadata": {},
   "source": [
    "## Problem 3: Stripes."
   ]
  },
  {
   "cell_type": "code",
   "execution_count": null,
   "metadata": {},
   "outputs": [],
   "source": [
    "from cs1.graphics import *\n",
    "\n",
    "def main():\n",
    "    open_canvas(500, 500)\n",
    "    set_color('blue')\n",
    "    \n",
    "    y = 0\n",
    "    while y < 500:\n",
    "        draw_filled_rect(0, y, 500, 10)\n",
    "        y += 20\n",
    "    \n",
    "main()"
   ]
  },
  {
   "cell_type": "markdown",
   "metadata": {},
   "source": [
    "## Problem 4: Main diagonal."
   ]
  },
  {
   "cell_type": "code",
   "execution_count": null,
   "metadata": {},
   "outputs": [],
   "source": [
    "from cs1.graphics import *\n",
    "\n",
    "def main():\n",
    "    open_canvas(500, 500)\n",
    "    set_color('green')\n",
    "    \n",
    "    i = 0\n",
    "    \n",
    "    while i < 500:\n",
    "        draw_filled_rect(i, i, 10, 10)\n",
    "        i += 10\n",
    "    \n",
    "main()"
   ]
  },
  {
   "cell_type": "markdown",
   "metadata": {},
   "source": [
    "## Problem 5: Distorted bulls-eye."
   ]
  },
  {
   "cell_type": "code",
   "execution_count": null,
   "metadata": {},
   "outputs": [],
   "source": [
    "from cs1.graphics import *\n",
    "\n",
    "def main():\n",
    "    open_canvas(500, 500)\n",
    "    \n",
    "    x = 250\n",
    "    color = 'red'\n",
    "    \n",
    "    while x > 0:\n",
    "        \n",
    "        set_color(color)\n",
    "        \n",
    "        # use `x` as the radius so that the circle touches the left edge.\n",
    "        draw_filled_circle(x, 250, x)\n",
    "        \n",
    "        # update `x`.\n",
    "        x -= 10\n",
    "        \n",
    "        # update `color`.\n",
    "        if color == 'red':\n",
    "            color = 'white'\n",
    "        else:\n",
    "            color = 'red'\n",
    "    \n",
    "main()"
   ]
  }
 ],
 "metadata": {
  "kernelspec": {
   "display_name": "Python 3 (ipykernel)",
   "language": "python",
   "name": "python3"
  },
  "language_info": {
   "codemirror_mode": {
    "name": "ipython",
    "version": 3
   },
   "file_extension": ".py",
   "mimetype": "text/x-python",
   "name": "python",
   "nbconvert_exporter": "python",
   "pygments_lexer": "ipython3",
   "version": "3.11.4"
  },
  "varInspector": {
   "cols": {
    "lenName": 16,
    "lenType": 16,
    "lenVar": 40
   },
   "kernels_config": {
    "python": {
     "delete_cmd_postfix": "",
     "delete_cmd_prefix": "del ",
     "library": "var_list.py",
     "varRefreshCmd": "print(var_dic_list())"
    },
    "r": {
     "delete_cmd_postfix": ") ",
     "delete_cmd_prefix": "rm(",
     "library": "var_list.r",
     "varRefreshCmd": "cat(var_dic_list()) "
    }
   },
   "types_to_exclude": [
    "module",
    "function",
    "builtin_function_or_method",
    "instance",
    "_Feature"
   ],
   "window_display": false
  }
 },
 "nbformat": 4,
 "nbformat_minor": 2
}
