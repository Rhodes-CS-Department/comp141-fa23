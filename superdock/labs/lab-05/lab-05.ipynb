{
 "cells": [
  {
   "cell_type": "markdown",
   "metadata": {
    "deletable": false,
    "editable": false
   },
   "source": [
    "# Lab 5: Writing functions that return values.\n",
    "\n",
    "This lab involves writing a variety of functions that return values.\n",
    "\n",
    "We will complete this lab in pairs, using **pair-programming**. Choose a single computer to work on, and edit the cell below to enter your names:"
   ]
  },
  {
   "cell_type": "markdown",
   "metadata": {},
   "source": [
    "- Partner 1: [name here]\n",
    "- Partner 2: [name here]"
   ]
  },
  {
   "cell_type": "markdown",
   "metadata": {
    "deletable": false,
    "editable": false
   },
   "source": [
    "## Directions\n",
    "\n",
    "Follow the same process as in class to write each function:\n",
    "\n",
    "1. Write the function signature (the `def` line that begins the function definition).\n",
    "2. Write the function comment above the signature.\n",
    "3. Write **three tests** below the function definition.\n",
    "4. Write the *body* of the function.\n",
    "\n",
    "Reminders:\n",
    "\n",
    "- Don't use the `input()` function--use the parameters of the function.\n",
    "- In the function body, don't `print()` the result of the function--`return` it instead."
   ]
  },
  {
   "cell_type": "markdown",
   "metadata": {
    "deletable": false,
    "editable": false
   },
   "source": [
    "## Example\n",
    "\n",
    "Here's an example from last class, to remind you of what you're expected to do."
   ]
  },
  {
   "cell_type": "code",
   "execution_count": null,
   "metadata": {
    "deletable": false,
    "editable": false
   },
   "outputs": [],
   "source": [
    "import math\n",
    "\n",
    "# Calculate the area of a circle.\n",
    "# radius - the radius of the circle (int or float).\n",
    "# Returns the area of the circle (float).\n",
    "def area_circle(radius):\n",
    "    return math.pi * radius ** 2\n",
    "\n",
    "print(area_circle(0)) # 0.0\n",
    "print(area_circle(1)) # 3.14 (approximately)\n",
    "print(area_circle(2)) # 12.57 (approximately)"
   ]
  },
  {
   "cell_type": "markdown",
   "metadata": {
    "deletable": false,
    "editable": false
   },
   "source": [
    "## 1. Dividing a tip\n",
    "\n",
    "Write a function called `divide_tip` that takes three arguments: \n",
    "- the total amount of a restaurant bill, \n",
    "- the percent you want to tip (as an integer), \n",
    "- and the number of people at the table. \n",
    "\n",
    "The function returns the amount each person needs to pay to cover the bill if it is split evenly among all the people. \n",
    "\n",
    "Example: `divide_tip(40, 15, 4)` means the total bill was \\\\$40, you're leaving a 15% tip, \n",
    "and it's being split 4 ways. The total amount to split therefore will be \\\\$46, which means each person pays \\\\$11.50. So this function call will return `11.5` (as a float). \n",
    "\n",
    "Hint: the function definition line should look something like this: \n",
    "\n",
    "`def divide_tip(bill, percent, people):`\n",
    "                "
   ]
  },
  {
   "cell_type": "code",
   "execution_count": null,
   "metadata": {},
   "outputs": [],
   "source": [
    "# Write and test your function here.\n"
   ]
  },
  {
   "cell_type": "markdown",
   "metadata": {
    "deletable": false,
    "editable": false
   },
   "source": [
    "## 2. Election winner\n",
    "\n",
    "Write a function called `winner` that calculates the winner of an election. \n",
    "The function takes four arguments: the name of the first candidate and how many votes they got, followed by the second candidate's name and their votes. \n",
    "\n",
    "The function compares the votes and returns either the name of the candidate who won, or the string `\"tie\"` if there's a tie. \n",
    "\n",
    "Example: `winner(\"David\", 50, \"Kristin\", 65)` would return the string \"Kristin\".\n",
    "\n",
    "Example: `winner(\"Sally\", 400, \"Morgan\", 400)` would return the string \"tie\".\n",
    "\n",
    "Hint: the function definition line should look something like this: `def winner(name1, votes1, name2, votes2):`"
   ]
  },
  {
   "cell_type": "code",
   "execution_count": null,
   "metadata": {},
   "outputs": [],
   "source": [
    "# Write and test your function here.\n"
   ]
  },
  {
   "cell_type": "markdown",
   "metadata": {
    "deletable": false,
    "editable": false
   },
   "source": [
    "## 3. Alphabetically first string\n",
    "\n",
    "Write a function called `first_string` that takes three string arguments and returns the one that is first alphabetically. You can compare strings alphabetically using `<=`, `>`, and `>=`."
   ]
  },
  {
   "cell_type": "code",
   "execution_count": null,
   "metadata": {},
   "outputs": [],
   "source": [
    "# Write and test your function here.\n"
   ]
  },
  {
   "cell_type": "markdown",
   "metadata": {
    "deletable": false,
    "editable": false
   },
   "source": [
    "## 4. Postage calculation\n",
    "\n",
    "Write a function called `postage` that calculates the amount the post office will charge you to mail a large flat envelope using first-class mail, based on its weight. \n",
    "The charge is based on the envelope's weight in ounces: an envelope weighing one ounce will cost 90 cents to mail, and each additional ounce is an additional 20 cents. However, you can only mail envelopes that weigh 13 ounces or less. \n",
    "\n",
    "Your function will take an integer argument called `ounces` and return the amount in dollars (as a float) that you should be charged. However, if the `ounces` argument is 0 or less, or if it is greater than 13, the function should return 0 (indicating an error). \n",
    "\n",
    "For example, `postage(1)` returns 0.90, `postage(2)` returns 1.10, `postage(3)` returns 1.30, and so on, up to `postage(13)` which returns 3.30. \n",
    "\n",
    "Try not to do this with a 13-section `if-elif-else` statement!\n",
    "\n",
    "Hint: the function definition line should look something like this: `def postage(ounces):`"
   ]
  },
  {
   "cell_type": "code",
   "execution_count": null,
   "metadata": {},
   "outputs": [],
   "source": [
    "# Write and test your function here.\n"
   ]
  },
  {
   "cell_type": "markdown",
   "metadata": {
    "deletable": false,
    "editable": false
   },
   "source": [
    "## 5. Time zones\n",
    "\n",
    "Write a function called `timezone_diff` that takes two string arguments and determines how you would adjust your watch if you traveled between the time zones. The possible arguments are `\"eastern\"`, `\"central\"`, `\"mountain\"`, and `\"pacific\"`.  The answer should be returned as a positive or negative integer (or zero) expressing how many hours difference there are between the two arguments. A positive return value means you set your watch forwards, and a negative value means you set your watch backwards. \n",
    "\n",
    "Example: `timezone_diff(\"central\", \"eastern\")` returns `1` because when you travel from the Central time zone to the Eastern, you set your watch forward one hour. \n",
    "\n",
    "Example: `timezone_diff(\"eastern\", \"central\")` returns `-1` because going the opposite direction, you set your watch back one hour. \n",
    "\n",
    "Hint: There are sixteen different combinations of time zones here, but try not to do this with a sixteen-section `if-elif-else` statement. Instead, think about a way of doing this using subtraction."
   ]
  },
  {
   "cell_type": "code",
   "execution_count": null,
   "metadata": {},
   "outputs": [],
   "source": [
    "# Write and test your function here.\n"
   ]
  },
  {
   "cell_type": "markdown",
   "metadata": {
    "deletable": false,
    "editable": false
   },
   "source": [
    "## Feedback.\n",
    "\n",
    "Are there any parts of this lab that you're confused about? Are there any parts that you'd like to discuss in class?\n",
    "\n",
    "If so, create a new Markdown cell below to answer. If not, continue to the next part."
   ]
  },
  {
   "cell_type": "markdown",
   "metadata": {
    "deletable": false,
    "editable": false
   },
   "source": [
    "## Submit.\n",
    "\n",
    "Run the cell below to submit your lab. As usual, you may submit as many times as you like before the deadline.\n",
    "\n",
    "Be sure to click the URL that appears after you submit, to make sure that your notebook is submitted properly.\n",
    "\n",
    "Remember that labs are graded for completeness; for full credit, I'd like to see *at least an effort* towards each of the required features of the program."
   ]
  },
  {
   "cell_type": "code",
   "execution_count": null,
   "metadata": {
    "deletable": false,
    "editable": false
   },
   "outputs": [],
   "source": [
    "# Run this cell to log in to okpy.org, and submit your lab.\n",
    "from cs1.notebooks import *\n",
    "ok_submit('lab-05.ok')"
   ]
  }
 ],
 "metadata": {
  "kernelspec": {
   "display_name": "Python 3 (ipykernel)",
   "language": "python",
   "name": "python3"
  },
  "language_info": {
   "codemirror_mode": {
    "name": "ipython",
    "version": 3
   },
   "file_extension": ".py",
   "mimetype": "text/x-python",
   "name": "python",
   "nbconvert_exporter": "python",
   "pygments_lexer": "ipython3",
   "version": "3.11.4"
  },
  "varInspector": {
   "cols": {
    "lenName": 16,
    "lenType": 16,
    "lenVar": 40
   },
   "kernels_config": {
    "python": {
     "delete_cmd_postfix": "",
     "delete_cmd_prefix": "del ",
     "library": "var_list.py",
     "varRefreshCmd": "print(var_dic_list())"
    },
    "r": {
     "delete_cmd_postfix": ") ",
     "delete_cmd_prefix": "rm(",
     "library": "var_list.r",
     "varRefreshCmd": "cat(var_dic_list()) "
    }
   },
   "oldHeight": 122,
   "position": {
    "height": "144px",
    "left": "720px",
    "right": "20px",
    "top": "120px",
    "width": "350px"
   },
   "types_to_exclude": [
    "module",
    "function",
    "builtin_function_or_method",
    "instance",
    "_Feature"
   ],
   "varInspector_section_display": "block",
   "window_display": false
  }
 },
 "nbformat": 4,
 "nbformat_minor": 2
}
