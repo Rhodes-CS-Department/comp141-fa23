{
 "cells": [
  {
   "cell_type": "markdown",
   "metadata": {},
   "source": [
    "# Lab 5: Writing functions that return values."
   ]
  },
  {
   "cell_type": "markdown",
   "metadata": {},
   "source": [
    "## 1. Dividing a tip"
   ]
  },
  {
   "cell_type": "code",
   "execution_count": null,
   "metadata": {},
   "outputs": [],
   "source": [
    "# Divide a bill with tip among a given number of people.\n",
    "# bill - the total amount of a restaurant bill (float).\n",
    "# percent - the percent you want to tip (int).\n",
    "# people - the number of people at the table (int).\n",
    "# Returns the divided amount (float).\n",
    "def divide_tip(bill, percent, people):\n",
    "    return bill * (1 + percent / 100) / people\n",
    "\n",
    "print(divide_tip(40, 15, 4)) # 11.5\n",
    "print(divide_tip(80, 10, 2)) # 44.0\n",
    "print(divide_tip(10, 20, 3)) # 4.0"
   ]
  },
  {
   "cell_type": "markdown",
   "metadata": {},
   "source": [
    "## 2. Election winner"
   ]
  },
  {
   "cell_type": "code",
   "execution_count": null,
   "metadata": {},
   "outputs": [],
   "source": [
    "# Determine the winner of an election.\n",
    "# candidate1, candidate2 - the names of the candidates (str).\n",
    "# votes1, votes2 - the number of votes to each candidate (int).\n",
    "# Returns the winning candidate, or \"tie\" if a tie (str).\n",
    "def winner(candidate1, votes1, candidate2, votes2):\n",
    "    if votes1 > votes2:\n",
    "        return candidate1\n",
    "    elif votes2 > votes1:\n",
    "        return candidate2\n",
    "    else:\n",
    "        return \"tie\"\n",
    "\n",
    "print(winner(\"David\", 50, \"Kristin\", 65)) # Kristin\n",
    "print(winner(\"David\", 80, \"Kristin\", 20)) # David\n",
    "print(winner(\"Sally\", 400, \"Morgan\", 400)) # tie"
   ]
  },
  {
   "cell_type": "markdown",
   "metadata": {},
   "source": [
    "## 3. Alphabetically first string"
   ]
  },
  {
   "cell_type": "code",
   "execution_count": null,
   "metadata": {},
   "outputs": [],
   "source": [
    "# Given three strings, determine which one comes first alphabetically.\n",
    "# s1, s2, s3 - three strings to compare (str).\n",
    "# Returns one of `s1`, `s2`, `s3`, whichever is first alphabetically (str).\n",
    "def first_string(s1, s2, s3):\n",
    "    \n",
    "    # Note: we use `<=` to allow ties.\n",
    "    if s1 <= s2 and s1 <= s3:\n",
    "        return s1\n",
    "    elif s2 <= s1 and s2 <= s3:\n",
    "        return s2\n",
    "    else:\n",
    "        return s3\n",
    "\n",
    "print(first_string(\"a\", \"b\", \"c\")) # a\n",
    "print(first_string(\"s\", \"t\", \"r\")) # r\n",
    "print(first_string(\"z\", \"y\", \"x\")) # x"
   ]
  },
  {
   "cell_type": "markdown",
   "metadata": {},
   "source": [
    "## 4. Postage calculation"
   ]
  },
  {
   "cell_type": "code",
   "execution_count": null,
   "metadata": {},
   "outputs": [],
   "source": [
    "# Calculate the cost of postage for a package of given weight.\n",
    "# ounces - the weight of the package (int).\n",
    "# Returns the cost of postage (float).\n",
    "def postage(ounces):\n",
    "    if ounces <= 0 or ounces > 13:\n",
    "        return 0\n",
    "    else:\n",
    "        return 0.9 + 0.2 * (ounces - 1)\n",
    "\n",
    "print(postage(2)) # 1.1\n",
    "print(postage(3)) # 1.3\n",
    "print(postage(0)) # 0\n",
    "print(postage(14)) # 0"
   ]
  },
  {
   "cell_type": "markdown",
   "metadata": {},
   "source": [
    "## 5. Time zones"
   ]
  },
  {
   "cell_type": "code",
   "execution_count": null,
   "metadata": {},
   "outputs": [],
   "source": [
    "# Calculate the time difference between two timezones.\n",
    "# zone1, zone2: the two timezones to consider (str).\n",
    "# (either \"eastern\", \"central\", \"mountain\", or \"pacific\")\n",
    "# Returns the difference in hours: zone1 - zone2 (int).\n",
    "def timezone_diff(zone1, zone2):\n",
    "    return timezone_int(zone1) - timezone_int(zone2)\n",
    "\n",
    "# Convert a timezone to an integer.\n",
    "# zone: a timezone (str)\n",
    "# (either \"eastern\", \"central\", \"mountain\", or \"pacific\")\n",
    "# Returns an integer corresponding to the timezone (int).\n",
    "def timezone_int(zone):\n",
    "    if zone == \"eastern\":\n",
    "        return 0\n",
    "    elif zone == \"central\":\n",
    "        return 1\n",
    "    elif zone == \"mountain\":\n",
    "        return 2\n",
    "    elif zone == \"pacific\":\n",
    "        return 3\n",
    "\n",
    "print(timezone_diff(\"central\", \"eastern\")) # 1\n",
    "print(timezone_diff(\"eastern\", \"central\")) # -1\n",
    "print(timezone_diff(\"eastern\", \"pacific\")) # -3"
   ]
  }
 ],
 "metadata": {
  "kernelspec": {
   "display_name": "Python 3 (ipykernel)",
   "language": "python",
   "name": "python3"
  },
  "language_info": {
   "codemirror_mode": {
    "name": "ipython",
    "version": 3
   },
   "file_extension": ".py",
   "mimetype": "text/x-python",
   "name": "python",
   "nbconvert_exporter": "python",
   "pygments_lexer": "ipython3",
   "version": "3.11.4"
  },
  "varInspector": {
   "cols": {
    "lenName": 16,
    "lenType": 16,
    "lenVar": 40
   },
   "kernels_config": {
    "python": {
     "delete_cmd_postfix": "",
     "delete_cmd_prefix": "del ",
     "library": "var_list.py",
     "varRefreshCmd": "print(var_dic_list())"
    },
    "r": {
     "delete_cmd_postfix": ") ",
     "delete_cmd_prefix": "rm(",
     "library": "var_list.r",
     "varRefreshCmd": "cat(var_dic_list()) "
    }
   },
   "oldHeight": 122,
   "position": {
    "height": "144px",
    "left": "720px",
    "right": "20px",
    "top": "120px",
    "width": "350px"
   },
   "types_to_exclude": [
    "module",
    "function",
    "builtin_function_or_method",
    "instance",
    "_Feature"
   ],
   "varInspector_section_display": "block",
   "window_display": false
  }
 },
 "nbformat": 4,
 "nbformat_minor": 2
}
