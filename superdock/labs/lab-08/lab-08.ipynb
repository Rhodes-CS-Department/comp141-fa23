{
 "cells": [
  {
   "cell_type": "markdown",
   "metadata": {},
   "source": [
    "# Lab 8: File Reading with the Billboard Hot 100  \n",
    "\n"
   ]
  },
  {
   "cell_type": "markdown",
   "metadata": {},
   "source": [
    "This lab is designed to give you practice with reading from files, and using loops with files.\n",
    "\n",
    "If you're working with a partner, edit the cell below to enter your names, and use **pair programming** to write your code."
   ]
  },
  {
   "cell_type": "markdown",
   "metadata": {},
   "source": [
    "- Partner 1: [name here]\n",
    "- Partner 2: [name here]"
   ]
  },
  {
   "cell_type": "markdown",
   "metadata": {},
   "source": [
    "## Introduction\n",
    "\n",
    "The Billboard Hot 100 (https://www.billboard.com/charts/hot-100) is a record chart indicating the popularity of songs in the United States.  The list was first\n",
    "published in the 1950s and has been updated every week since.  Song\n",
    "popularity is currently determined by song sales, radio play, and online streaming.  The list is presented in ranked\n",
    "order, so the most popular song for the week is first on the list, the second-most popular song is next, and so on.\n",
    "\n",
    "You are given a file `songs.txt` that contains information about the top 20 songs on the Billboard Hot 100 chart\n",
    "for this week.  The songs in the file are presented in the same order as the Billboard list, meaning the first line of\n",
    "the file contains the #1 song for the week (the most popular), the second line has the #2 song (second most\n",
    "popular), and so on.\n",
    "\n",
    "Each line of the file contains information about one song:\n",
    "* The song’s title\n",
    "* The song’s artist\n",
    "* The song’s ranking on the chart during the previous week (-1 if this song was not in the top 20 during the previous week)\n",
    "* The number of weeks the song has been in the top 100 (e.g., a 2 means this song has been on the chart for two weeks; a 1 means this song appeared this week on the chart for the first time)\n",
    "\n",
    "A semicolon (;) is used to separate these four parts on a single line of the file."
   ]
  },
  {
   "cell_type": "markdown",
   "metadata": {},
   "source": [
    "### Step 1\n",
    "\n",
    "Write code to open the file and print all the information in the file. Things to remember:\n",
    "\n",
    "- Open the file.\n",
    "- Use a `for` loop to read each line.\n",
    "- Strip the newline character from the end of the line using `rstrip()`.\n",
    "- Split the line into a list of tokens using `split()`.\n",
    "- Store each token as a separate variable, converting the previous ranking and number of weeks into integers.\n",
    "- Print each variable.\n",
    "- Close the file.\n",
    "\n",
    "Feel free to refer back to previous notebooks for a refresher on how to do this."
   ]
  },
  {
   "cell_type": "code",
   "execution_count": null,
   "metadata": {},
   "outputs": [],
   "source": [
    "def main():\n",
    "    pass\n",
    "    \n",
    "main()"
   ]
  },
  {
   "cell_type": "markdown",
   "metadata": {},
   "source": [
    "### Step 2\n",
    "\n",
    "Write code to print the names and artists of all the songs that have been on the chart for at least 20 weeks."
   ]
  },
  {
   "cell_type": "code",
   "execution_count": null,
   "metadata": {},
   "outputs": [],
   "source": [
    "# Copy your code from Step 1 and paste here, \n",
    "# then modify your code to complete this step.\n"
   ]
  },
  {
   "cell_type": "markdown",
   "metadata": {},
   "source": [
    "### Step 3\n",
    "\n",
    "Write code to print the name and artist of the song that has been on the chart the greatest number of weeks, and the name and artist of the song that has been on the chart the fewest number of weeks.  (If there is a tie, you may choose any one you like to print.)\n",
    "\n",
    "**Hint:** First find the largest and smallest number of weeks on the chart, then change your code so it also stores the artist and title."
   ]
  },
  {
   "cell_type": "code",
   "execution_count": null,
   "metadata": {},
   "outputs": [],
   "source": [
    "# Copy your code from Step 2 and paste here, \n",
    "# then modify your code to complete this step.\n"
   ]
  },
  {
   "cell_type": "markdown",
   "metadata": {},
   "source": [
    "### Step 4\n",
    "\n",
    "Write code to print the name of each song on the chart, along with a message saying whether\n",
    "* the song moved up the chart from the previous week (that is, its ranking on the chart this week is less than its ranking the previous week), and how much the ranking changed,\n",
    "* the song moved down the chart from the previous week, and how much the ranking changed,\n",
    "* the song stayed the same when compared to the previous week, or\n",
    "* the song is a new song on the chart (it wasn’t even on the chart the previous week).\n",
    "\n",
    "Obviously only one of the four situations will apply to each song on the chart.\n",
    "\n",
    "**Hint:** The file directly gives you each’s song’s ranking on the chart for the previous week, but not the current week.  However, you can determine the ranking for the current week very easily, given what you know about how the file is organized."
   ]
  },
  {
   "cell_type": "code",
   "execution_count": null,
   "metadata": {},
   "outputs": [],
   "source": [
    "# Copy your code from Step 3 and paste here, \n",
    "# then modify your code to complete this step.\n"
   ]
  },
  {
   "cell_type": "markdown",
   "metadata": {},
   "source": [
    "### Step 5\n",
    "\n",
    "Write code to find all pairs of consecutively-ranked songs that appeared in the opposite order the prior week.\n",
    "\n",
    "For example, suppose that song A is ranked #4 this week, and song B is ranked #5 this week. If song A was ranked lower than song B last week, then print a message (e.g., \"song A passed song B\"). If song A was ranked higher than song B last week, then don't print a message.\n",
    "\n",
    "**Hint:** Use the sliding window technique."
   ]
  },
  {
   "cell_type": "code",
   "execution_count": null,
   "metadata": {},
   "outputs": [],
   "source": [
    "# Copy your code from Step 4 and paste here, \n",
    "# then modify your code to complete this step.\n"
   ]
  },
  {
   "cell_type": "markdown",
   "metadata": {},
   "source": [
    "## Feedback.\n",
    "\n",
    "Are there any parts of this lab that you're confused about? Are there any parts that you'd like to discuss in class?\n",
    "\n",
    "If so, create a new Markdown cell below to answer. If not, continue to the next part."
   ]
  },
  {
   "cell_type": "markdown",
   "metadata": {},
   "source": [
    "## Submit.\n",
    "\n",
    "Run the cell below to submit your lab. As usual, you may submit as many times as you like before the deadline.\n",
    "\n",
    "Be sure to click the URL that appears after you submit, to make sure that your notebook is submitted properly.\n",
    "\n",
    "Remember that labs are graded for completeness; for full credit, I'd like to see a good effort towards solving each problem."
   ]
  },
  {
   "cell_type": "code",
   "execution_count": null,
   "metadata": {},
   "outputs": [],
   "source": [
    "from cs1.notebooks import *\n",
    "ok_submit('lab-08.ok')"
   ]
  }
 ],
 "metadata": {
  "kernelspec": {
   "display_name": "Python 3 (ipykernel)",
   "language": "python",
   "name": "python3"
  },
  "language_info": {
   "codemirror_mode": {
    "name": "ipython",
    "version": 3
   },
   "file_extension": ".py",
   "mimetype": "text/x-python",
   "name": "python",
   "nbconvert_exporter": "python",
   "pygments_lexer": "ipython3",
   "version": "3.11.4"
  },
  "varInspector": {
   "cols": {
    "lenName": 16,
    "lenType": 16,
    "lenVar": 40
   },
   "kernels_config": {
    "python": {
     "delete_cmd_postfix": "",
     "delete_cmd_prefix": "del ",
     "library": "var_list.py",
     "varRefreshCmd": "print(var_dic_list())"
    },
    "r": {
     "delete_cmd_postfix": ") ",
     "delete_cmd_prefix": "rm(",
     "library": "var_list.r",
     "varRefreshCmd": "cat(var_dic_list()) "
    }
   },
   "types_to_exclude": [
    "module",
    "function",
    "builtin_function_or_method",
    "instance",
    "_Feature"
   ],
   "window_display": false
  }
 },
 "nbformat": 4,
 "nbformat_minor": 2
}
