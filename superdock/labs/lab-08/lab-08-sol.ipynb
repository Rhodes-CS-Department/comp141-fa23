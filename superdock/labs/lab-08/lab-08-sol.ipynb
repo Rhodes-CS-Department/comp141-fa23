{
 "cells": [
  {
   "cell_type": "markdown",
   "metadata": {},
   "source": [
    "# Lab 8: File Reading with the Billboard Hot 100  \n",
    "\n"
   ]
  },
  {
   "cell_type": "markdown",
   "metadata": {},
   "source": [
    "### Step 1\n",
    "\n",
    "Write code to open the file and print all the information in the file."
   ]
  },
  {
   "cell_type": "code",
   "execution_count": null,
   "metadata": {},
   "outputs": [],
   "source": [
    "def main():\n",
    "    file = open('songs.txt')\n",
    "    \n",
    "    for line in file:\n",
    "        line = line.rstrip()\n",
    "        tokens = line.split(';')\n",
    "        \n",
    "        song = tokens[0]\n",
    "        artist = tokens[1]\n",
    "        rank_last = int(tokens[2])\n",
    "        weeks = int(tokens[3])\n",
    "        \n",
    "        print(song, artist, rank_last, weeks, sep=', ')\n",
    "        \n",
    "    file.close()\n",
    "    \n",
    "main()"
   ]
  },
  {
   "cell_type": "markdown",
   "metadata": {},
   "source": [
    "### Step 2\n",
    "\n",
    "Write code to print the names and artists of all the songs that have been on the chart for at least 20 weeks."
   ]
  },
  {
   "cell_type": "code",
   "execution_count": null,
   "metadata": {},
   "outputs": [],
   "source": [
    "def main():\n",
    "    file = open('songs.txt')\n",
    "    \n",
    "    for line in file:\n",
    "        line = line.rstrip()\n",
    "        tokens = line.split(';')\n",
    "        \n",
    "        song = tokens[0]\n",
    "        artist = tokens[1]\n",
    "        rank_last = int(tokens[2])\n",
    "        weeks = int(tokens[3])\n",
    "        \n",
    "        if weeks >= 20:\n",
    "            print(song, artist, sep = ', ')\n",
    "        \n",
    "    file.close()\n",
    "    \n",
    "main()"
   ]
  },
  {
   "cell_type": "markdown",
   "metadata": {},
   "source": [
    "### Step 3\n",
    "\n",
    "Write code to print the name and artist of the song that has been on the chart the greatest number of weeks, and the name and artist of the song that has been on the chart the fewest number of weeks.  (If there is a tie, you may choose any one you like to print.)"
   ]
  },
  {
   "cell_type": "code",
   "execution_count": null,
   "metadata": {},
   "outputs": [],
   "source": [
    "def main():\n",
    "    file = open('songs.txt')\n",
    "    \n",
    "    min_weeks = None\n",
    "    max_weeks = 0\n",
    "    \n",
    "    for line in file:\n",
    "        line = line.rstrip()\n",
    "        tokens = line.split(';')\n",
    "        \n",
    "        song = tokens[0]\n",
    "        artist = tokens[1]\n",
    "        rank_last = int(tokens[2])\n",
    "        weeks = int(tokens[3])\n",
    "                \n",
    "        if weeks > max_weeks:\n",
    "            max_weeks = weeks\n",
    "            max_song = song\n",
    "            max_artist = artist\n",
    "        \n",
    "        if min_weeks == None or weeks < min_weeks:\n",
    "            min_weeks = weeks\n",
    "            min_song = song\n",
    "            min_artist = artist\n",
    "\n",
    "    file.close()\n",
    "    \n",
    "    print('Greatest number of weeks:')\n",
    "    print(max_song, max_artist, sep=', ')\n",
    "    print()\n",
    "    print('Fewest number of weeks:')\n",
    "    print(min_song, min_artist, sep=', ')\n",
    "            \n",
    "main()"
   ]
  },
  {
   "cell_type": "markdown",
   "metadata": {},
   "source": [
    "### Step 4\n",
    "\n",
    "Write code to print the name of each song on the chart, along with a message saying whether\n",
    "* the song moved up the chart from the previous week (that is, its ranking on the chart this week is less than its ranking the previous week), and how much the ranking changed,\n",
    "* the song moved down the chart from the previous week, and how much the ranking changed,\n",
    "* the song stayed the same when compared to the previous week, or\n",
    "* the song is a new song on the chart (it wasn’t even on the chart the previous week).\n",
    "\n",
    "Obviously only one of the four situations will apply to each song on the chart."
   ]
  },
  {
   "cell_type": "code",
   "execution_count": null,
   "metadata": {},
   "outputs": [],
   "source": [
    "def main():\n",
    "    file = open('songs.txt')\n",
    "    \n",
    "    rank = 1\n",
    "    \n",
    "    for line in file:\n",
    "        line = line.rstrip()\n",
    "        tokens = line.split(';')\n",
    "        \n",
    "        song = tokens[0]\n",
    "        artist = tokens[1]\n",
    "        rank_last = int(tokens[2])\n",
    "        weeks = int(tokens[3])\n",
    "        \n",
    "        if rank_last == -1:\n",
    "            print('(new)', song)\n",
    "        elif rank < rank_last:\n",
    "            print('(↑ ' + str(rank_last - rank) + ')', song)\n",
    "        elif rank > rank_last:\n",
    "            print('(↓ ' + str(rank - rank_last) + ')', song)\n",
    "        else:\n",
    "            print('(↕ 0)', song)\n",
    "                \n",
    "        rank += 1\n",
    "        \n",
    "    file.close()\n",
    "    \n",
    "main()"
   ]
  },
  {
   "cell_type": "markdown",
   "metadata": {},
   "source": [
    "### Step 5\n",
    "\n",
    "Write code to find all pairs of consecutively-ranked songs that appeared in the opposite order the prior week.\n",
    "\n",
    "For example, suppose that song A is ranked #4 this week, and song B is ranked #5 this week. If song A was ranked lower than song B last week, then print a message (e.g., \"song A passed song B\"). If song A was ranked higher than song B last week, then don't print a message."
   ]
  },
  {
   "cell_type": "code",
   "execution_count": null,
   "metadata": {},
   "outputs": [],
   "source": [
    "def main():\n",
    "    file = open('songs.txt')\n",
    "    \n",
    "    rank = 1\n",
    "    prev_song = None\n",
    "    \n",
    "    for line in file:\n",
    "        line = line.rstrip()\n",
    "        tokens = line.split(';')\n",
    "        \n",
    "        song = tokens[0]\n",
    "        artist = tokens[1]\n",
    "        rank_last = int(tokens[2])\n",
    "        weeks = int(tokens[3])\n",
    "        \n",
    "        # Treat any unranked song as being rank 21.\n",
    "        # (Just outside of the top 20.)\n",
    "        if rank_last == -1:\n",
    "            rank_last = 21\n",
    "        \n",
    "        if prev_song != None and rank_last < prev_rank_last:\n",
    "            print(prev_song, 'passed', song)\n",
    "        \n",
    "        prev_song = song\n",
    "        prev_rank = rank\n",
    "        prev_rank_last = rank_last\n",
    "        \n",
    "        rank += 1\n",
    "        \n",
    "    file.close()\n",
    "    \n",
    "main()"
   ]
  },
  {
   "cell_type": "code",
   "execution_count": null,
   "metadata": {},
   "outputs": [],
   "source": []
  }
 ],
 "metadata": {
  "kernelspec": {
   "display_name": "Python 3 (ipykernel)",
   "language": "python",
   "name": "python3"
  },
  "language_info": {
   "codemirror_mode": {
    "name": "ipython",
    "version": 3
   },
   "file_extension": ".py",
   "mimetype": "text/x-python",
   "name": "python",
   "nbconvert_exporter": "python",
   "pygments_lexer": "ipython3",
   "version": "3.11.4"
  },
  "varInspector": {
   "cols": {
    "lenName": 16,
    "lenType": 16,
    "lenVar": 40
   },
   "kernels_config": {
    "python": {
     "delete_cmd_postfix": "",
     "delete_cmd_prefix": "del ",
     "library": "var_list.py",
     "varRefreshCmd": "print(var_dic_list())"
    },
    "r": {
     "delete_cmd_postfix": ") ",
     "delete_cmd_prefix": "rm(",
     "library": "var_list.r",
     "varRefreshCmd": "cat(var_dic_list()) "
    }
   },
   "types_to_exclude": [
    "module",
    "function",
    "builtin_function_or_method",
    "instance",
    "_Feature"
   ],
   "window_display": false
  }
 },
 "nbformat": 4,
 "nbformat_minor": 2
}
