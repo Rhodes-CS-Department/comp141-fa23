{
 "cells": [
  {
   "cell_type": "markdown",
   "id": "4d47c3f8",
   "metadata": {},
   "source": [
    "# Lab 2 Solutions\n",
    "\n",
    "## Part 3: Temperature conversion. (Fixing errors.)\n",
    "\n",
    "### Original code"
   ]
  },
  {
   "cell_type": "code",
   "execution_count": null,
   "id": "b150552d",
   "metadata": {},
   "outputs": [],
   "source": [
    "temp_celsius = input('Enter a temperature in Celsius:'\n",
    "\n",
    "temp_fahrenheit = (9 // 5) * (temp_celsius + 32)\n",
    "\n",
    "print('Temperature in Fahrenheit:' + temp_f)"
   ]
  },
  {
   "cell_type": "markdown",
   "id": "6536e0ea",
   "metadata": {},
   "source": [
    "### Solution\n",
    "\n",
    "The changes are noted in comments above each line:"
   ]
  },
  {
   "cell_type": "code",
   "execution_count": null,
   "id": "eacef5f2",
   "metadata": {},
   "outputs": [],
   "source": [
    "# Add a parenthesis to the end of the first line.\n",
    "# Add a call to the `float` function to store the temp as a float.\n",
    "# (Converting to `int` is fine too, but `float` also allows non-integer inputs.)\n",
    "# Add a space after the colon, to improve the formatting of the prompt.\n",
    "temp_celsius = float(input('Enter a temperature in Celsius: '))\n",
    "\n",
    "# Replace the integer division `//` with floating-point division `/`.\n",
    "# Remove the parens around `temp_celsius + 32`.\n",
    "temp_fahrenheit = (9 / 5) * temp_celsius + 32\n",
    "\n",
    "# Replace `temp_f` with `temp_fahrenheit`.\n",
    "# Add a space after the colon, to improve the formatting of the output.\n",
    "# Add a call to the `str` function to convert `temp_fahrenheit` to a string.\n",
    "print('Temperature in Fahrenheit: ' + str(temp_fahrenheit))"
   ]
  },
  {
   "cell_type": "markdown",
   "id": "eda60264",
   "metadata": {},
   "source": [
    "## Part 4: Printing an address label\n",
    "\n",
    "### Example.\n",
    "\n",
    "<pre>\n",
    "What is your first name? <b>George</b>\n",
    "What is your last name? <b>Washington</b>\n",
    "What is your street address? <b>1600 Pennsylvania Ave</b>\n",
    "What is your city? <b>Washington</b>\n",
    "What is your state? <b>DC</b>\n",
    "What is your zipcode? <b>20500</b>\n",
    "\n",
    "Your label is:\n",
    "\n",
    "Washington, George\n",
    "1600 Pennsylvania Ave\n",
    "Washington, DC 20500\n",
    "</pre>\n",
    "\n",
    "### Solution 1 (using string concatenation)"
   ]
  },
  {
   "cell_type": "code",
   "execution_count": null,
   "id": "5e99e1d9",
   "metadata": {},
   "outputs": [],
   "source": [
    "first = input(\"First name: \")\n",
    "last = input(\"Last name: \")\n",
    "street = input(\"Street address: \")\n",
    "city = input(\"City: \")\n",
    "state = input(\"State: \")\n",
    "zip_code = input(\"Zip code: \")\n",
    "\n",
    "print(last + \", \" + first) \n",
    "print(street)\n",
    "print(city + \", \" + state + \" \" + zip_code)"
   ]
  },
  {
   "cell_type": "markdown",
   "id": "4b836e76",
   "metadata": {},
   "source": [
    "### Solution 2 (using print with multiple arguments)"
   ]
  },
  {
   "cell_type": "code",
   "execution_count": null,
   "id": "d5d466e9",
   "metadata": {},
   "outputs": [],
   "source": [
    "first = input(\"First name: \")\n",
    "last = input(\"Last name: \")\n",
    "street = input(\"Street address: \")\n",
    "city = input(\"City: \")\n",
    "state = input(\"State: \")\n",
    "zip_code = input(\"Zip code: \")\n",
    "\n",
    "# We set `sep` to the empty string so that spaces are not inserted between arguments.\n",
    "print(last, \", \", first, sep=\"\")\n",
    "print(street)\n",
    "print(city, \", \", state, \" \", zip_code, sep=\"\")"
   ]
  },
  {
   "cell_type": "markdown",
   "id": "97b3c2e1",
   "metadata": {},
   "source": [
    "## Part 5: The quadratic formula.\n",
    "\n",
    "### Example\n",
    "\n",
    "Below is an example run of the program. It's fine if your program prints the two solutions in a different order.\n",
    "\n",
    "```\n",
    "Enter a: 1\n",
    "Enter b: 5\n",
    "Enter c: 3\n",
    "The 2 solutions are: -0.6972243622680054 and -4.302775637731995\n",
    "```"
   ]
  },
  {
   "cell_type": "markdown",
   "id": "3a9a034e",
   "metadata": {},
   "source": [
    "### Solution"
   ]
  },
  {
   "cell_type": "code",
   "execution_count": null,
   "id": "6587f1d6",
   "metadata": {},
   "outputs": [],
   "source": [
    "import math\n",
    "\n",
    "# Using `int()` is also fine here.\n",
    "# But `float()` allows the user to enter decimal numbers also, which is nice.\n",
    "a = float(input(\"Enter a: \"))\n",
    "b = float(input(\"Enter b: \"))\n",
    "c = float(input(\"Enter c: \"))\n",
    "\n",
    "sol1 = (-b + math.sqrt(b ** 2 - 4 * a * c)) / (2 * a)\n",
    "sol2 = (-b - math.sqrt(b ** 2 - 4 * a * c)) / (2 * a)\n",
    "\n",
    "print(\"The 2 solutions are:\", sol1, \"and\", sol2)"
   ]
  },
  {
   "cell_type": "code",
   "execution_count": null,
   "id": "1cdd1545",
   "metadata": {},
   "outputs": [],
   "source": []
  }
 ],
 "metadata": {
  "kernelspec": {
   "display_name": "Python 3 (ipykernel)",
   "language": "python",
   "name": "python3"
  },
  "language_info": {
   "codemirror_mode": {
    "name": "ipython",
    "version": 3
   },
   "file_extension": ".py",
   "mimetype": "text/x-python",
   "name": "python",
   "nbconvert_exporter": "python",
   "pygments_lexer": "ipython3",
   "version": "3.11.4"
  },
  "varInspector": {
   "cols": {
    "lenName": 16,
    "lenType": 16,
    "lenVar": 40
   },
   "kernels_config": {
    "python": {
     "delete_cmd_postfix": "",
     "delete_cmd_prefix": "del ",
     "library": "var_list.py",
     "varRefreshCmd": "print(var_dic_list())"
    },
    "r": {
     "delete_cmd_postfix": ") ",
     "delete_cmd_prefix": "rm(",
     "library": "var_list.r",
     "varRefreshCmd": "cat(var_dic_list()) "
    }
   },
   "types_to_exclude": [
    "module",
    "function",
    "builtin_function_or_method",
    "instance",
    "_Feature"
   ],
   "window_display": false
  }
 },
 "nbformat": 4,
 "nbformat_minor": 5
}
