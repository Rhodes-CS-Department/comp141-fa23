{
 "cells": [
  {
   "cell_type": "markdown",
   "id": "0fc01223",
   "metadata": {},
   "source": [
    "# Lab 2: Interactive programs.\n",
    "\n",
    "This lab is about writing interactive programs.\n",
    "\n",
    "We will complete this lab in pairs, using **pair-programming**. Choose a single computer to work on, and edit the cell below to enter your names:"
   ]
  },
  {
   "cell_type": "markdown",
   "id": "2c25c475",
   "metadata": {},
   "source": [
    "- Partner 1: [name here]\n",
    "- Partner 2: [name here]"
   ]
  },
  {
   "cell_type": "markdown",
   "id": "ebc4ffcc",
   "metadata": {},
   "source": [
    "Here's what you will need to do:\n",
    "\n",
    "- Parts 1 & 2: Read through these parts and run the code examples.\n",
    "- Part 3: Fix all of the errors to get a working program.\n",
    "- Parts 4 & 5: Write an interactive program for each part.\n",
    "- Part 6: Give feedback on this lab.\n",
    "- Part 7: Submit the lab."
   ]
  },
  {
   "cell_type": "markdown",
   "id": "314acaac",
   "metadata": {},
   "source": [
    "## Part 1: Whitespace and comments.\n",
    "\n",
    "### Whitespace\n",
    "\n",
    "**Whitespace** refers to spaces, tabs, empty lines, and indentation within your program.\n",
    "\n",
    "In Python, *indentation matters*. Your code may run differently if you change the indentation. For now, you should not indent any lines of code.\n",
    "\n",
    "In Python, *all other whitespace does not matter*. For example, consider these two print calls:"
   ]
  },
  {
   "cell_type": "code",
   "execution_count": null,
   "id": "ea6e8005",
   "metadata": {},
   "outputs": [],
   "source": [
    "print(\"Hello \" + \"world!\")\n",
    "print   ( \"Hello \"+  \"world!\"  )"
   ]
  },
  {
   "cell_type": "markdown",
   "id": "5eca92cd",
   "metadata": {},
   "source": [
    "Both expressions above are equivalent! Specifically, they have exactly the same parse tree, so they do exactly the same thing.\n",
    "\n",
    "Also, *empty lines are ignored*. For example, consider the following code block:"
   ]
  },
  {
   "cell_type": "code",
   "execution_count": null,
   "id": "72621e22",
   "metadata": {},
   "outputs": [],
   "source": [
    "print(\"Hello world\")\n",
    "\n",
    "\n",
    "print(\"Hello world\")"
   ]
  },
  {
   "cell_type": "markdown",
   "id": "c0514046",
   "metadata": {},
   "source": [
    "The code block above consists of just two statements. The empty lines are ignored and are not statements at all.\n",
    "\n",
    "However, *spacing within a string literal matters.* For example, consider these two print calls:"
   ]
  },
  {
   "cell_type": "code",
   "execution_count": null,
   "id": "686193b8",
   "metadata": {},
   "outputs": [],
   "source": [
    "print(\"Hello world\")\n",
    "print(\"Hello   world\")"
   ]
  },
  {
   "cell_type": "markdown",
   "id": "9fe9db10",
   "metadata": {},
   "source": [
    "The two expressions above are different, due to the different spacing within the string literals."
   ]
  },
  {
   "cell_type": "markdown",
   "id": "b37ce23d",
   "metadata": {},
   "source": [
    "### Comments\n",
    "\n",
    "**Comments** are explanatory notes within code, meant for human readers (yourself or someone else). They are ignored by the Python interpreter.\n",
    "\n",
    "A comment begins with a `#` character and continues through the end of the line.\n",
    "\n",
    "For example, to explain a line of code, we can put a comment on the line before; for example:"
   ]
  },
  {
   "cell_type": "code",
   "execution_count": null,
   "id": "da0572e5",
   "metadata": {},
   "outputs": [],
   "source": [
    "# Read an integer from the user.\n",
    "x = int(input('Enter an integer: '))\n",
    "\n",
    "# Add one to `x`.\n",
    "x += 1\n",
    "\n",
    "# Print `x`.\n",
    "print(x)"
   ]
  },
  {
   "cell_type": "markdown",
   "id": "6d861acf",
   "metadata": {},
   "source": [
    "The comments are ignored by the Python interpreter, so the code above is equivalent to:"
   ]
  },
  {
   "cell_type": "code",
   "execution_count": null,
   "id": "9e2e8d04",
   "metadata": {},
   "outputs": [],
   "source": [
    "x = int(input('Enter an integer: '))\n",
    "x += 1\n",
    "print(x)"
   ]
  },
  {
   "cell_type": "markdown",
   "id": "fe1f1fe7",
   "metadata": {},
   "source": [
    "We can also explain a line of code with an **inline comment**, that is, a comment on the same line:"
   ]
  },
  {
   "cell_type": "code",
   "execution_count": null,
   "id": "cf23e537",
   "metadata": {},
   "outputs": [],
   "source": [
    "x = int(input('Enter an integer: ')) # Read an integer from the user.\n",
    "x += 1 # Add one to `x`.\n",
    "print(x) # Print `x`."
   ]
  },
  {
   "cell_type": "markdown",
   "id": "7e243ecc",
   "metadata": {},
   "source": [
    "You should add a comment whenever you feel that a line of code you've written is unclear. If your code is written clearly enough, then you don't need to include any comments at all. For more detailed guidelines on when to include comments in your own code, see the \"Style guide\" page on Canvas."
   ]
  },
  {
   "cell_type": "markdown",
   "id": "db4c7a92",
   "metadata": {},
   "source": [
    "## Part 2: Escape characters.\n",
    "\n",
    "**Escape characters** are characters in string literals typed using a backslash, like `\\n` (the newline character). The purpose of escape characters are to allow you to type characters that are otherwise difficult to type.\n",
    "\n",
    "For example, suppose we want to print the following message:\n",
    "\n",
    "```\n",
    "Hello\n",
    "world!\n",
    "```\n",
    "\n",
    "We might try to do this:"
   ]
  },
  {
   "cell_type": "code",
   "execution_count": null,
   "id": "25678214",
   "metadata": {},
   "outputs": [],
   "source": [
    "print(\"Hello\n",
    "       world\")"
   ]
  },
  {
   "cell_type": "markdown",
   "id": "280c2e30",
   "metadata": {},
   "source": [
    "This fails with an error: `SyntaxError: EOL while scanning string literal`. Here \"EOL\" means \"end of line.\" We're not allowed to write a string literal in Python that spans multiple lines. Instead, we should write:"
   ]
  },
  {
   "cell_type": "code",
   "execution_count": null,
   "id": "a66a190f",
   "metadata": {},
   "outputs": [],
   "source": [
    "print(\"Hello\\nworld\")"
   ]
  },
  {
   "cell_type": "markdown",
   "id": "ac464fe5",
   "metadata": {},
   "source": [
    "In the string literal `\"Hello\\nworld\"`, the `\\n` is interpreted as a newline character, and all of the other characters are interpreted as ordinary characters.\n",
    "\n",
    "We should point out that another way to print our two-line \"Hello world\" message is like this:"
   ]
  },
  {
   "cell_type": "code",
   "execution_count": null,
   "id": "23df974d",
   "metadata": {},
   "outputs": [],
   "source": [
    "print(\"Hello\")\n",
    "print(\"world\")"
   ]
  },
  {
   "cell_type": "markdown",
   "id": "808549ed",
   "metadata": {},
   "source": [
    "Here's a table of all of the escape characters you should know about:\n",
    "\n",
    "| Escape character | Meaning |\n",
    "| - | - |\n",
    "| `\\n` | newline character |\n",
    "| `\\t` | tab character |\n",
    "| `\\'` | single-quote character |\n",
    "| `\\\"` | double-quote character |\n",
    "| `\\\\` | backslash character |"
   ]
  },
  {
   "cell_type": "markdown",
   "id": "bcb3745b",
   "metadata": {},
   "source": [
    "(For a full list of all escape characters in Python, see [here](https://docs.python.org/3/reference/lexical_analysis.html#string-and-bytes-literals).)\n",
    "\n",
    "**Examples:**\n",
    "\n",
    "(1) Express the string, \"He said, \"yes\"\" as a Python string literal (with the double-quotes around \"yes\")."
   ]
  },
  {
   "cell_type": "code",
   "execution_count": null,
   "id": "5e38651d",
   "metadata": {},
   "outputs": [],
   "source": [
    "# One way (using single-quotes to surround the string literal):\n",
    "'He said, \"yes\"'\n",
    "\n",
    "# Another way (using double-quotes to surround the string literal, and the escape character `\\\"`):\n",
    "\"He said, \\\"yes\\\"\""
   ]
  },
  {
   "cell_type": "markdown",
   "id": "39823bfd",
   "metadata": {},
   "source": [
    "In the second way, if we don't use the escape character `\\\"` here, then Python can't tell where the string literal should end.\n",
    "\n",
    "(2) Express the string, \"I'm fine\" as a Python string literal."
   ]
  },
  {
   "cell_type": "code",
   "execution_count": null,
   "id": "721ae8b4",
   "metadata": {},
   "outputs": [],
   "source": [
    "# One way (using double-quotes to surround the string literal):\n",
    "\"I'm fine\"\n",
    "\n",
    "# Another way (using single-quotes to surround the string literal, and the escape character `\\'`):\n",
    "'I\\'m fine'"
   ]
  },
  {
   "cell_type": "markdown",
   "id": "4d47c3f8",
   "metadata": {},
   "source": [
    "## Part 3: Temperature conversion. (Fixing errors.)\n",
    "\n",
    "The following program does three things:\n",
    "\n",
    "- Read in a Celsius temperature from the user (as a float).\n",
    "- Convert the Celsius temperature to Fahrenheit using the formula $f = \\frac{9}{5}c + 32$.\n",
    "- Print out the Fahrenheit temperature.\n",
    "\n",
    "However, it has errors. These include **syntax errors** (errors that prevent Python from forming a parse tree), **type errors** (errors where an operation is given values of the wrong types), some **logical errors** (errors that produce an incorrect answer), and some **formatting errors** (errors in how the output is printed).\n",
    "\n",
    "**Your task:** Fix all of the errors to get a working program. Here's a suggested process:\n",
    "\n",
    "1. Read the code briefly; if anything is obviously wrong, fix it.\n",
    "2. Run the code; if there is an error message, read it carefully and try to fix it. (Then repeat.)\n",
    "3. Test the code on values for which you know the correct answer.\n",
    "\n",
    "To test your program, here are a couple of correct values:\n",
    "\n",
    "- A temperature of 0 degrees Celsius converts to 32 degrees Fahrenheit.\n",
    "- A temperature of 5 degrees Celsius converts to 41 degrees Fahrenheit."
   ]
  },
  {
   "cell_type": "code",
   "execution_count": null,
   "id": "b150552d",
   "metadata": {},
   "outputs": [],
   "source": [
    "temp_celsius = input('Enter a temperature in Celsius:'\n",
    "\n",
    "temp_fahrenheit = (9 // 5) * (temp_celsius + 32)\n",
    "\n",
    "print('Temperature in Fahrenheit:' + temp_f)"
   ]
  },
  {
   "cell_type": "markdown",
   "id": "eda60264",
   "metadata": {},
   "source": [
    "## Part 4: Printing an address label\n",
    "\n",
    "Write a program that lets the user enter the following information as separate string inputs:\n",
    "* First Name\n",
    "* Last Name\n",
    "* Street Address\n",
    "* City\n",
    "* State\n",
    "* Zip Code\n",
    "\n",
    "Your program should print out an address label formatted as follows:\n",
    "```\n",
    "Last, First\n",
    "Street\n",
    "City, State Zip\n",
    "```\n",
    "\n",
    "### Example.\n",
    "\n",
    "Below is an example run of the program.\n",
    "\n",
    "Some of the text below should be printed by the program, and some represents user input. The user input is shown in **bold**. For example, your program should first print \"What is your first name?\", and then should wait for user input. Then, we assume that the user types the string, \"George\".\n",
    "\n",
    "Your program should print *exactly* the text below, down to the character. No missing commas or spaces, and no extra commas or spaces!\n",
    "\n",
    "<pre>\n",
    "What is your first name? <b>George</b>\n",
    "What is your last name? <b>Washington</b>\n",
    "What is your street address? <b>1600 Pennsylvania Ave</b>\n",
    "What is your city? <b>Washington</b>\n",
    "What is your state? <b>DC</b>\n",
    "What is your zipcode? <b>20500</b>\n",
    "\n",
    "Your label is:\n",
    "\n",
    "Washington, George\n",
    "1600 Pennsylvania Ave\n",
    "Washington, DC 20500\n",
    "</pre>"
   ]
  },
  {
   "cell_type": "code",
   "execution_count": null,
   "id": "d5d466e9",
   "metadata": {},
   "outputs": [],
   "source": []
  },
  {
   "cell_type": "markdown",
   "id": "8e709ab7",
   "metadata": {},
   "source": [
    "## Part 5: The quadratic formula.\n",
    "\n",
    "Write a program that lets the user input floats $a$, $b$, and $c$ and prints out the two solutions to the equation:\n",
    "\n",
    "$$ax^2 + bx\t+ c\t= 0$$\n",
    "\n",
    "These solutions are given by the quadratic formula:\n",
    "\n",
    "$$x = \\frac{-b \\pm \\sqrt{b^{2} - 4ac}}{2a}$$\n",
    "\n",
    "Python does not provide a built-in function that takes a square root. However, Python provides a **module** called `math` which you can import in your code, which does provide a square root function, `math.sqrt()`.\n",
    "\n",
    "This function takes an `int` or `float` and always returns a float. For example, run the following block:"
   ]
  },
  {
   "cell_type": "code",
   "execution_count": null,
   "id": "ffd191a7",
   "metadata": {},
   "outputs": [],
   "source": [
    "# This line imports the `math` module.\n",
    "import math\n",
    "\n",
    "# `math.sqrt` refers to the `sqrt()` function within the `math` module.\n",
    "math.sqrt(4)"
   ]
  },
  {
   "cell_type": "markdown",
   "id": "97b3c2e1",
   "metadata": {},
   "source": [
    "For some values of $a$, $b$, and $c$, the equation $ax^{2} + bx + c = 0$ has no real solutions. You may assume that the user inputs values $a$, $b$, and $c$ corresponding to an equation that has two real solutions.\n",
    "\n",
    "### Example\n",
    "\n",
    "Below is an example run of the program. It's fine if your program prints the two solutions in a different order.\n",
    "\n",
    "<pre>\n",
    "Enter a: <b>1</b>\n",
    "Enter b: <b>5</b>\n",
    "Enter c: <b>3</b>\n",
    "The 2 solutions are: -0.6972243622680054 and -4.302775637731995\n",
    "</pre>"
   ]
  },
  {
   "cell_type": "code",
   "execution_count": null,
   "id": "6587f1d6",
   "metadata": {},
   "outputs": [],
   "source": [
    "import math\n",
    "\n",
    "# Start writing your code here:\n",
    "\n"
   ]
  },
  {
   "cell_type": "markdown",
   "id": "778b8bed",
   "metadata": {},
   "source": [
    "## Part 6: Feedback.\n",
    "\n",
    "Are there any parts of this lab that you're confused about? Are there any parts that you'd like to discuss in class?\n",
    "\n",
    "If so, create a new Markdown cell below to answer. If not, continue to the next part."
   ]
  },
  {
   "cell_type": "markdown",
   "id": "e8eeeff8",
   "metadata": {},
   "source": [
    "## Part 7: Submit.\n",
    "\n",
    "Run the block below to submit your lab. As usual, you may submit as many times as you like before the deadline.\n",
    "\n",
    "Be sure to click the URL that appears after you submit, to make sure that your notebook is submitted properly."
   ]
  },
  {
   "cell_type": "code",
   "execution_count": null,
   "id": "2237f8d2",
   "metadata": {},
   "outputs": [],
   "source": [
    "from cs1.notebooks import *\n",
    "ok_submit('lab-02.ok')"
   ]
  }
 ],
 "metadata": {
  "kernelspec": {
   "display_name": "Python 3 (ipykernel)",
   "language": "python",
   "name": "python3"
  },
  "language_info": {
   "codemirror_mode": {
    "name": "ipython",
    "version": 3
   },
   "file_extension": ".py",
   "mimetype": "text/x-python",
   "name": "python",
   "nbconvert_exporter": "python",
   "pygments_lexer": "ipython3",
   "version": "3.11.4"
  },
  "varInspector": {
   "cols": {
    "lenName": 16,
    "lenType": 16,
    "lenVar": 40
   },
   "kernels_config": {
    "python": {
     "delete_cmd_postfix": "",
     "delete_cmd_prefix": "del ",
     "library": "var_list.py",
     "varRefreshCmd": "print(var_dic_list())"
    },
    "r": {
     "delete_cmd_postfix": ") ",
     "delete_cmd_prefix": "rm(",
     "library": "var_list.r",
     "varRefreshCmd": "cat(var_dic_list()) "
    }
   },
   "types_to_exclude": [
    "module",
    "function",
    "builtin_function_or_method",
    "instance",
    "_Feature"
   ],
   "window_display": false
  }
 },
 "nbformat": 4,
 "nbformat_minor": 5
}
