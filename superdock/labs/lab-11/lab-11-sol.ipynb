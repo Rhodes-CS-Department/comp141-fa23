{
 "cells": [
  {
   "cell_type": "markdown",
   "id": "fa772a1b",
   "metadata": {},
   "source": [
    "# Lab 11: Encryption & decryption (solutions)"
   ]
  },
  {
   "cell_type": "markdown",
   "id": "08b67606",
   "metadata": {},
   "source": [
    "## Part 1: Caesar cipher"
   ]
  },
  {
   "cell_type": "code",
   "execution_count": null,
   "id": "f033be8c",
   "metadata": {},
   "outputs": [],
   "source": [
    "# Encrypt a single character using a Caesar cipher.\n",
    "# char - the character to encrypt (str).\n",
    "# key - the number of characters to shift by (int).\n",
    "# Returns the encrypted character (str).\n",
    "def encrypt_char(char, key):\n",
    "    if char == \" \":\n",
    "        return char\n",
    "    \n",
    "    k = ord(char)\n",
    "    k -= 97\n",
    "    k += key\n",
    "    k %= 26\n",
    "    k += 97\n",
    "    return chr(k)\n",
    "\n",
    "# Encrypt an arbitrary string using a Caesar cipher.\n",
    "# message - the string to encrypt (str).\n",
    "# key - the number of characters to shift by (int).\n",
    "# Returns the encrypted message (str).\n",
    "def encrypt(message, key):\n",
    "    result = \"\"\n",
    "    \n",
    "    for char in message:\n",
    "        result += encrypt_char(char, key)\n",
    "    \n",
    "    return result\n",
    "\n",
    "# Decrypt an arbitrary string using a Caesar cipher.\n",
    "# message - the string to encrypt (str).\n",
    "# key - the key used when encrypting (int).\n",
    "# Returns the decrypted message (str).\n",
    "def decrypt(message, key):\n",
    "    # Note: decryption is just like encryption with a negative key.\n",
    "    return encrypt(message, -key)\n",
    "\n",
    "def main():\n",
    "    choice = input(\"Encrypt(e) or Decrypt(d)? \")\n",
    "    message = input(\"Message: \")\n",
    "    key = int(input(\"Key: \"))\n",
    "    print()\n",
    "    \n",
    "    if choice == \"e\":\n",
    "        print(encrypt(message, key))    \n",
    "    elif choice == \"d\":\n",
    "        print(decrypt(message, key))\n",
    "    \n",
    "main()"
   ]
  },
  {
   "cell_type": "markdown",
   "id": "32f5b901",
   "metadata": {},
   "source": [
    "## Part 2: Breaking a Caesar cipher."
   ]
  },
  {
   "cell_type": "code",
   "execution_count": null,
   "id": "1bdb3b09",
   "metadata": {},
   "outputs": [],
   "source": [
    "# Encrypt a single character using a Caesar cipher.\n",
    "# char - the character to encrypt (str).\n",
    "# key - the number of characters to shift by (int).\n",
    "# Returns the encrypted character (str).\n",
    "def encrypt_char(char, key):\n",
    "    if char == \" \":\n",
    "        return char\n",
    "    \n",
    "    k = ord(char)\n",
    "    k -= 97\n",
    "    k += key\n",
    "    k %= 26\n",
    "    k += 97\n",
    "    return chr(k)\n",
    "\n",
    "# Encrypt an arbitrary string using a Caesar cipher.\n",
    "# message - the string to encrypt (str).\n",
    "# key - the number of characters to shift by (int).\n",
    "# Returns the encrypted message (str).\n",
    "def encrypt(message, key):\n",
    "    result = \"\"\n",
    "    \n",
    "    for char in message:\n",
    "        result += encrypt_char(char, key)\n",
    "    \n",
    "    return result\n",
    "\n",
    "# Decrypt an arbitrary string using a Caesar cipher.\n",
    "# message - the string to encrypt (str).\n",
    "# key - the key used when encrypting (int).\n",
    "# Returns the decrypted message (str).\n",
    "def decrypt(message, key):\n",
    "    return encrypt(message, -key)\n",
    "\n",
    "# Determine which character appears most in a string.\n",
    "# (Ignore space characters.)\n",
    "# s - any string (str).\n",
    "# Returns the most frequent character in `s`.\n",
    "def max_char(s):\n",
    "    d = {}\n",
    "\n",
    "    for char in s:\n",
    "        if char.isspace():\n",
    "            continue\n",
    "        if char in d:\n",
    "            d[char] += 1\n",
    "        else:\n",
    "            d[char] = 1\n",
    "\n",
    "    max_count = 0\n",
    "\n",
    "    for char in d:\n",
    "        if d[char] > max_count:\n",
    "            max_count = d[char]\n",
    "            max_char = char\n",
    "\n",
    "    return max_char\n",
    "\n",
    "def main():\n",
    "    message = input(\"Message: \")\n",
    "    print()\n",
    "    \n",
    "    key = (ord(max_char(message)) - ord(\"e\")) % 26\n",
    "    print(\"Key: \" + str(key))    \n",
    "    print(decrypt(message, key))\n",
    "    \n",
    "main()"
   ]
  },
  {
   "cell_type": "code",
   "execution_count": null,
   "id": "f8bf3683",
   "metadata": {},
   "outputs": [],
   "source": []
  }
 ],
 "metadata": {
  "kernelspec": {
   "display_name": "Python 3 (ipykernel)",
   "language": "python",
   "name": "python3"
  },
  "language_info": {
   "codemirror_mode": {
    "name": "ipython",
    "version": 3
   },
   "file_extension": ".py",
   "mimetype": "text/x-python",
   "name": "python",
   "nbconvert_exporter": "python",
   "pygments_lexer": "ipython3",
   "version": "3.11.4"
  },
  "varInspector": {
   "cols": {
    "lenName": 16,
    "lenType": 16,
    "lenVar": 40
   },
   "kernels_config": {
    "python": {
     "delete_cmd_postfix": "",
     "delete_cmd_prefix": "del ",
     "library": "var_list.py",
     "varRefreshCmd": "print(var_dic_list())"
    },
    "r": {
     "delete_cmd_postfix": ") ",
     "delete_cmd_prefix": "rm(",
     "library": "var_list.r",
     "varRefreshCmd": "cat(var_dic_list()) "
    }
   },
   "types_to_exclude": [
    "module",
    "function",
    "builtin_function_or_method",
    "instance",
    "_Feature"
   ],
   "window_display": false
  }
 },
 "nbformat": 4,
 "nbformat_minor": 5
}
