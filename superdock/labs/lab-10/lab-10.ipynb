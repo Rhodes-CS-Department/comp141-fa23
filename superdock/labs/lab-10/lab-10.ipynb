{
 "cells": [
  {
   "cell_type": "markdown",
   "metadata": {},
   "source": [
    "# Lab 10: Tic-Tac-Toe\n",
    "\n",
    "In this lab, you will implement a [Tic-Tac-Toe](https://en.wikipedia.org/wiki/Tic-tac-toe) game using 2d lists.\n",
    "\n",
    "If you're working with a partner, edit the cell below to enter your names, and use **pair programming** to write your code."
   ]
  },
  {
   "cell_type": "markdown",
   "metadata": {},
   "source": [
    "- Partner 1: [name here]\n",
    "- Partner 2: [name here]"
   ]
  },
  {
   "cell_type": "markdown",
   "metadata": {},
   "source": [
    "## Introduction\n",
    "\n",
    "In the game of Tic-Tac-Toe, players alternate placing Xs and Os on a board until one player gets three of their symbol in a row, column, or diagonal. We will store the Tic-Tac-Toe board as a 2-d list `board` of integers, where we use the following representation:\n",
    "- If `board[i][j]` is 0, it means that the space at row `i`, column `j` is **empty**.\n",
    "- If `board[i][j]` is 1, it means that the space at row `i`, column `j` is **filled with X**.\n",
    "- If `board[i][j]` is -1, it means that the space at row `i`, column `j` is **filled with O**.\n",
    "\n",
    "You are given some code in the block below, which you should use as a starting point."
   ]
  },
  {
   "cell_type": "markdown",
   "metadata": {},
   "source": [
    "## Suggested steps\n",
    "\n",
    "1. Write the `print_board()` function, which should print a Tic-Tac-Toe board. For example, the output might look like this:\n",
    "\n",
    "```\n",
    "X | - | O\n",
    "----------\n",
    "X | O | -\n",
    "----------\n",
    "- | - | -\n",
    "```\n",
    "\n",
    "Or, you might choose to use Unicode [box-drawing characters](https://en.wikipedia.org/wiki/Box-drawing_character), in which case your output might look like this:\n",
    "\n",
    "```\n",
    "X │ - │ O\n",
    "──┼───┼───\n",
    "X │ O │ -\n",
    "──┼───┼───\n",
    "- │ - │ -\n",
    "```\n",
    "\n",
    "2. Fill\tin the part\tof\t`main()` that places a\tpiece on the board and the part that switches the player. Look for the comments in the loop to guide you for this part. For now, don't worry about checking that the user's move is valid. You should be able to play the game now, though it will never end!\n",
    "\n",
    "3. Fill in the `add_row`,\t`add_column`,\t`add_diagonal`,\tand\t`add_diagonal2`\tfunctions.\n",
    "4. Fill in the `x_wins` and `o_wins` functions.\n",
    "5. Fill in the `board_full` function.\n",
    "6. Now you should be able to write a test for the loop that will stop the loop when\tsomeone\thas\twon, or if the board is full.\n",
    "7. Fill\tin the last part of\tthe\tprogram, which prints the winner or if it was a tie.\n",
    "8. Play the\tgame! Test lots\tof different situations. Fix bugs."
   ]
  },
  {
   "cell_type": "code",
   "execution_count": null,
   "metadata": {},
   "outputs": [],
   "source": [
    "# Starter code for TTT game. Follow the step-by-step instructions above and the comments in the code to complete the game.\n",
    "\n",
    "# some TTT board for testing:\n",
    "\n",
    "test_blank = [[0,0,0],[0,0,0],[0,0,0]]\n",
    "test_b1 = [[0,0,1],[0,-1,0],[1,0,0]]\n",
    "test_b2 = [[1,0,1],[1,-1,-1],[1,-1,0]]\n",
    "\n",
    "# Make a 2D list of all zeros with given dimensions.\n",
    "#(this function is complete)\n",
    "def make2dList(rows, cols):\n",
    "    g = []\n",
    "    for row in range(0, rows): \n",
    "        g.append([0] * cols)\n",
    "    return g\n",
    "\n",
    "# Print the TTT board to the screen using X's and O's.\n",
    "# Use the standard nested loops.\n",
    "# Hint: Use print(...whatever..., end='') to\n",
    "# not move to the next line at the end of a print statement.\n",
    "# Hint 2: Use an empty print statement: print() to move the cursor\n",
    "# to the next line.\n",
    "def print_board(board):\n",
    "    \"code here\"\n",
    "        \n",
    "# Add up and return the numbers in row r of the board.\n",
    "# (Can do with a loop or manually.)\n",
    "def add_row(board, r):\n",
    "    \"code here\"\n",
    "    \n",
    "# Add up and return the numbers in column c of the board.\n",
    "# (Can do with a loop or manually.)\n",
    "def add_column(board, c):\n",
    "    \"code here\"\n",
    "    \n",
    "# Add up and return the numbers on the upper-left to\n",
    "# lower-right of the board. (Can do with a loop or manually.)\n",
    "def add_diagonal1(board):\n",
    "    \"code here\"\n",
    "\n",
    "# Add up and return the numbers on the upper-right to\n",
    "# lower-left of the board. (Can do with a loop or manually.)\n",
    "def add_diagonal2(board):\n",
    "    \"code here\"\n",
    "    \n",
    "# Check if all the squares on the board are full (non-zero).\n",
    "# Return True if they're all full, and False if they're not.\n",
    "def board_full(board):\n",
    "    \"code here\"\n",
    "\n",
    "# Check to see if the sum of any row, column, or diagonal is 3.\n",
    "# Return True for an X win, and False otherwise.\n",
    "def x_wins(board):\n",
    "    \"code here\"\n",
    "    \n",
    "# Check to see if the sum of any row or column is -3.\n",
    "# Also check the diagonals for a win for O.\n",
    "def o_wins(board):\n",
    "    \"code here\"\n",
    "    \n",
    "# You can use this variable here for testing\n",
    "# before you write main:\n",
    "board = make2dList(3, 3)\n",
    "\n",
    "def main():\n",
    "    board = make2dList(3, 3)\n",
    "    current_player = \"X\"\n",
    "\n",
    "    while True:\n",
    "        # replace the \"True\" above with a test for\n",
    "        # keeping the game going (X hasn't won, O hasn't won,\n",
    "        # and the board isn't full.)\n",
    "        \n",
    "        print_board(board)\n",
    "        print(\"Enter move for player\", current_player)\n",
    "        row = int(input(\"Row (0-2): \"))\n",
    "        col = int(input(\"Column (0-2): \"))\n",
    "\n",
    "        # Code here to place the correct piece on the board.\n",
    "        # (doesn't require a loop --- just put a 1 or -1 in the right spot).\n",
    "\n",
    "        # Code here to switch the player.\n",
    "        # (also simple --- use an if statement)\n",
    "\n",
    "    # Loop is over, therefore the game has ended.\n",
    "\n",
    "    # Code here to detect if the game is a win for X or O, or a tie.\n",
    "    # Print which one it is.\n",
    "    \n",
    "#main()"
   ]
  },
  {
   "cell_type": "markdown",
   "metadata": {},
   "source": [
    "## Feedback.\n",
    "\n",
    "Are there any parts of this lab that you're confused about? Are there any parts that you'd like to discuss in class?\n",
    "\n",
    "If so, create a new Markdown cell below to answer. If not, continue to the next part."
   ]
  },
  {
   "cell_type": "markdown",
   "metadata": {},
   "source": [
    "## Submit.\n",
    "\n",
    "Run the cell below to submit your lab. As usual, you may submit as many times as you like before the deadline.\n",
    "\n",
    "Be sure to click the URL that appears after you submit, to make sure that your notebook is submitted properly.\n",
    "\n",
    "Remember that labs are graded for completeness; for full credit, I'd like to see a good effort towards solving each problem."
   ]
  },
  {
   "cell_type": "code",
   "execution_count": null,
   "metadata": {},
   "outputs": [],
   "source": [
    "# Run this cell to submit.\n",
    "# Submit as frequently as you like; I will only grade the last submission.\n",
    "from cs1.notebooks import *\n",
    "ok_submit('lab-10.ok')"
   ]
  }
 ],
 "metadata": {
  "kernelspec": {
   "display_name": "Python 3 (ipykernel)",
   "language": "python",
   "name": "python3"
  },
  "language_info": {
   "codemirror_mode": {
    "name": "ipython",
    "version": 3
   },
   "file_extension": ".py",
   "mimetype": "text/x-python",
   "name": "python",
   "nbconvert_exporter": "python",
   "pygments_lexer": "ipython3",
   "version": "3.11.4"
  },
  "varInspector": {
   "cols": {
    "lenName": 16,
    "lenType": 16,
    "lenVar": 40
   },
   "kernels_config": {
    "python": {
     "delete_cmd_postfix": "",
     "delete_cmd_prefix": "del ",
     "library": "var_list.py",
     "varRefreshCmd": "print(var_dic_list())"
    },
    "r": {
     "delete_cmd_postfix": ") ",
     "delete_cmd_prefix": "rm(",
     "library": "var_list.r",
     "varRefreshCmd": "cat(var_dic_list()) "
    }
   },
   "types_to_exclude": [
    "module",
    "function",
    "builtin_function_or_method",
    "instance",
    "_Feature"
   ],
   "window_display": false
  }
 },
 "nbformat": 4,
 "nbformat_minor": 2
}
