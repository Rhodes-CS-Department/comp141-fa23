{
 "cells": [
  {
   "cell_type": "markdown",
   "id": "766685dd",
   "metadata": {},
   "source": [
    "# Lab 3: Restaurant menu.\n",
    "\n",
    "You can see the final code (without additional challenges) under \"Part 4\" below."
   ]
  },
  {
   "cell_type": "markdown",
   "id": "ebc4ffcc",
   "metadata": {},
   "source": [
    "## Problem statement"
   ]
  },
  {
   "cell_type": "markdown",
   "id": "60603dd6",
   "metadata": {},
   "source": [
    "Example interaction #1:\n",
    "\n",
    "```\n",
    "Welcome to our restaurant!\n",
    "\n",
    "Would you like an entree or dessert? entree\n",
    "Would you like something hot or cold? hot\n",
    "\n",
    "What percent would you like to tip? 20\n",
    "Thanks, that's a generous tip!\n",
    "\n",
    "Dish:    Fried chicken\n",
    "Price:   $8.99\n",
    "Tax:     $0.63\n",
    "Tip:     $1.80\n",
    "Total:   $11.42\n",
    "\n",
    "Enjoy!\n",
    "```\n",
    "\n",
    "Example interaction #2:\n",
    "\n",
    "```\n",
    "Welcome to our restaurant!\n",
    "\n",
    "Would you like an entree or dessert? dessert\n",
    "Would you like something hot or cold? cold\n",
    "\n",
    "What percent would you like to tip? 0\n",
    "\n",
    "Dish:    Key lime pie\n",
    "Price:   $7.49\n",
    "Tax:     $0.52\n",
    "Tip:     $0.00\n",
    "Total:   $8.01\n",
    "\n",
    "Enjoy!\n",
    "```"
   ]
  },
  {
   "cell_type": "markdown",
   "id": "8491adb2",
   "metadata": {},
   "source": [
    "## Part 1: Welcome & closing messages."
   ]
  },
  {
   "cell_type": "code",
   "execution_count": null,
   "id": "a96f5b9d",
   "metadata": {},
   "outputs": [],
   "source": [
    "print('Welcome to our restaurant!')\n",
    "print()\n",
    "print('Enjoy!')"
   ]
  },
  {
   "cell_type": "markdown",
   "id": "2c30265c",
   "metadata": {},
   "source": [
    "## Part 2: Entree or dessert?"
   ]
  },
  {
   "cell_type": "code",
   "execution_count": null,
   "id": "0f5b0e03",
   "metadata": {},
   "outputs": [],
   "source": [
    "print('Welcome to our restaurant!')\n",
    "print()\n",
    "\n",
    "meal_type = input('Would you like an entree or dessert? ')\n",
    "\n",
    "print()\n",
    "\n",
    "if meal_type == 'entree':\n",
    "    dish = 'Fried chicken'\n",
    "elif meal_type == 'dessert':\n",
    "    dish = 'Key lime pie'\n",
    "\n",
    "print('Dish:    ' + dish)\n",
    "print()\n",
    "print('Enjoy!')"
   ]
  },
  {
   "cell_type": "markdown",
   "id": "2dcc9bc0",
   "metadata": {},
   "source": [
    "## Part 4: Finish your program"
   ]
  },
  {
   "cell_type": "code",
   "execution_count": null,
   "id": "aeaefa81",
   "metadata": {},
   "outputs": [],
   "source": [
    "print('Welcome to our restaurant!')\n",
    "print()\n",
    "\n",
    "meal_type = input('Would you like an entree or dessert? ')\n",
    "meal_temp = input('Would you like something hot or cold? ')\n",
    "\n",
    "print()\n",
    "\n",
    "tip_percent = float(input('What percent would you like to tip? '))\n",
    "\n",
    "if tip_percent >= 20:\n",
    "    print('Thanks, that\\'s a generous tip!')\n",
    "\n",
    "print()\n",
    "\n",
    "if meal_type == 'entree' and meal_temp == 'hot':\n",
    "    dish = 'Fried chicken'\n",
    "    price = 8.99\n",
    "elif meal_type == 'entree' and meal_temp == 'cold':\n",
    "    dish = 'Sushi'\n",
    "    price = 10.99\n",
    "elif meal_type == 'dessert' and meal_temp == 'hot':\n",
    "    dish = 'Volcano cake'\n",
    "    price = 7.99\n",
    "elif meal_type == 'dessert' and meal_temp == 'cold':\n",
    "    dish = 'Key lime pie'\n",
    "    price = 7.49\n",
    "\n",
    "tax = price * 0.07\n",
    "tip = price * tip_percent / 100\n",
    "total = price + tax + tip\n",
    "    \n",
    "print('Dish:    ' + dish)\n",
    "print('Price:   $' + str(price))\n",
    "print('Tax:     $' + str(tax))\n",
    "print('Tip:     $' + str(tip))\n",
    "print('Total:   $' + str(total))\n",
    "print()\n",
    "print('Enjoy!')"
   ]
  },
  {
   "cell_type": "markdown",
   "id": "5c4dca3d",
   "metadata": {},
   "source": [
    "## Additional challenges"
   ]
  },
  {
   "cell_type": "code",
   "execution_count": null,
   "id": "0334ddb9",
   "metadata": {},
   "outputs": [],
   "source": [
    "print('Welcome to our restaurant!')\n",
    "print()\n",
    "\n",
    "meal_type = input('Would you like an entree or dessert? ')\n",
    "meal_temp = input('Would you like something hot or cold? ')\n",
    "\n",
    "print()\n",
    "\n",
    "tip_percent = float(input('What percent would you like to tip? '))\n",
    "\n",
    "if tip_percent >= 20:\n",
    "    print('Thanks, that\\'s a generous tip!')\n",
    "\n",
    "print()\n",
    "\n",
    "coupon_code = input('Enter a coupon code (type Enter to skip): ')\n",
    "\n",
    "# `coupon` is a boolean representing whether a valid coupon code was entered.\n",
    "coupon = coupon_code == 'GOODFOOD23'\n",
    "\n",
    "if coupon:\n",
    "    print('Coupon accepted; $5 discount applied.')\n",
    "elif coupon_code != '':\n",
    "    print('Sorry, that\\'s not a valid coupon code.')\n",
    "    \n",
    "if meal_type == 'entree' and meal_temp == 'hot':\n",
    "    dish = 'Fried chicken'\n",
    "    price = 8.99\n",
    "elif meal_type == 'entree' and meal_temp == 'cold':\n",
    "    dish = 'Sushi'\n",
    "    price = 10.99\n",
    "elif meal_type == 'dessert' and meal_temp == 'hot':\n",
    "    dish = 'Volcano cake'\n",
    "    price = 7.99\n",
    "elif meal_type == 'dessert' and meal_temp == 'cold':\n",
    "    dish = 'Key lime pie'\n",
    "    price = 7.49\n",
    "\n",
    "tax = price * 0.07\n",
    "tip = price * tip_percent / 100\n",
    "total = price + tax + tip\n",
    "\n",
    "if coupon:\n",
    "    total -= 5\n",
    "    \n",
    "print()\n",
    "print('Dish:    ' + dish)\n",
    "print(f'Price:   ${price:.2f}')\n",
    "print(f'Tax:     ${tax:.2f}')\n",
    "print(f'Tip:     ${tip:.2f}')\n",
    "\n",
    "if coupon:\n",
    "    print('Coupon: -$5.00')\n",
    "\n",
    "print(f'Total:   ${total:.2f}')\n",
    "print()\n",
    "print('Enjoy!')"
   ]
  },
  {
   "cell_type": "code",
   "execution_count": null,
   "id": "c9a3af96",
   "metadata": {},
   "outputs": [],
   "source": []
  }
 ],
 "metadata": {
  "kernelspec": {
   "display_name": "Python 3 (ipykernel)",
   "language": "python",
   "name": "python3"
  },
  "language_info": {
   "codemirror_mode": {
    "name": "ipython",
    "version": 3
   },
   "file_extension": ".py",
   "mimetype": "text/x-python",
   "name": "python",
   "nbconvert_exporter": "python",
   "pygments_lexer": "ipython3",
   "version": "3.11.4"
  },
  "varInspector": {
   "cols": {
    "lenName": 16,
    "lenType": 16,
    "lenVar": 40
   },
   "kernels_config": {
    "python": {
     "delete_cmd_postfix": "",
     "delete_cmd_prefix": "del ",
     "library": "var_list.py",
     "varRefreshCmd": "print(var_dic_list())"
    },
    "r": {
     "delete_cmd_postfix": ") ",
     "delete_cmd_prefix": "rm(",
     "library": "var_list.r",
     "varRefreshCmd": "cat(var_dic_list()) "
    }
   },
   "types_to_exclude": [
    "module",
    "function",
    "builtin_function_or_method",
    "instance",
    "_Feature"
   ],
   "window_display": false
  }
 },
 "nbformat": 4,
 "nbformat_minor": 5
}
