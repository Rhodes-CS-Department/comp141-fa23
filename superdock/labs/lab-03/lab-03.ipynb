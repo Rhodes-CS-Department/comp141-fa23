{
 "cells": [
  {
   "cell_type": "markdown",
   "id": "766685dd",
   "metadata": {},
   "source": [
    "# Lab 3: Restaurant menu.\n",
    "\n",
    "This lab involves writing `if-elif-else` statements, and is designed to give you practice with a programming strategy called **incremental development.**\n",
    "\n",
    "We will complete this lab in pairs, using **pair-programming**. Choose a single computer to work on, and edit the cell below to enter your names:"
   ]
  },
  {
   "cell_type": "markdown",
   "id": "10262d91",
   "metadata": {},
   "source": [
    "- Partner 1: [name here]\n",
    "- Partner 2: [name here]"
   ]
  },
  {
   "cell_type": "markdown",
   "id": "ebc4ffcc",
   "metadata": {},
   "source": [
    "## Problem statement\n",
    "\n",
    "Sometimes, it's a hassle to decide what you want to eat.\n",
    "\n",
    "A forward-thinking restaurant owner has decided to replace their usual menu with an \"interactive menu,\" and they've hired you to write the code. Your task is to write a program that asks the user a few questions about what kind of food they want, and then chooses a dish for them.\n",
    "\n",
    "The restaurant owner has given you the following instructions:\n",
    "\n",
    "- The program should print a welcome message. (e.g., \"Welcome to our restaurant!\")\n",
    "- The program should ask the user whether they want an entree or a dessert, and whether they want something hot or cold.\n",
    "- The program should ask the user for a tip percentage, and apply it to the price of the dish.\n",
    "  - If the user tips at least 20%, the program should print a message thanking the user.\n",
    "- The program should print the chosen dish, price, tax, tip, and total.\n",
    "- The program should print a closing message. (e.g., \"Enjoy!\")\n",
    "\n",
    "Example interactions are given below. Your final program should have all of the functionality shown in the example interactions, but you are welcome to choose your own messages, dishes, and prices. You are not required to correctly format prices to two decimal places."
   ]
  },
  {
   "cell_type": "markdown",
   "id": "60603dd6",
   "metadata": {},
   "source": [
    "Example interaction #1:\n",
    "\n",
    "```\n",
    "Welcome to our restaurant!\n",
    "\n",
    "Would you like an entree or dessert? entree\n",
    "Would you like something hot or cold? hot\n",
    "\n",
    "What percent would you like to tip? 20\n",
    "Thanks, that's a generous tip!\n",
    "\n",
    "Dish:    Fried chicken\n",
    "Price:   $8.99\n",
    "Tax:     $0.63\n",
    "Tip:     $1.80\n",
    "Total:   $11.42\n",
    "\n",
    "Enjoy!\n",
    "```\n",
    "\n",
    "Example interaction #2:\n",
    "\n",
    "```\n",
    "Welcome to our restaurant!\n",
    "\n",
    "Would you like an entree or dessert? dessert\n",
    "Would you like something hot or cold? cold\n",
    "\n",
    "What percent would you like to tip? 0\n",
    "\n",
    "Dish:    Key lime pie\n",
    "Price:   $7.49\n",
    "Tax:     $0.52\n",
    "Tip:     $0.00\n",
    "Total:   $8.01\n",
    "\n",
    "Enjoy!\n",
    "```"
   ]
  },
  {
   "cell_type": "markdown",
   "id": "8491adb2",
   "metadata": {},
   "source": [
    "## Part 1: Welcome & closing messages.\n",
    "\n",
    "For this step, just write code to print a welcome & closing message.\n",
    "\n",
    "Example interaction:\n",
    "\n",
    "```\n",
    "Welcome to our restaurant!\n",
    "\n",
    "Enjoy!\n",
    "```\n",
    "\n",
    "Write your code in the cell below:"
   ]
  },
  {
   "cell_type": "code",
   "execution_count": null,
   "id": "a96f5b9d",
   "metadata": {},
   "outputs": [],
   "source": []
  },
  {
   "cell_type": "markdown",
   "id": "2c30265c",
   "metadata": {},
   "source": [
    "## Part 2: Entree or dessert?\n",
    "\n",
    "For this step, first copy & paste your code from Part 1 into the cell below.\n",
    "\n",
    "Then add code to ask the user whether they want an entree or dessert, and print a corresponding dish. No need to print any prices at this point.\n",
    "\n",
    "**Note:** You may assume the user enters exactly \"entree\" or \"dessert\". (Don't worry about what your program does if the user enters any other string.)\n",
    "\n",
    "Example interaction #1:\n",
    "\n",
    "```\n",
    "Welcome to our restaurant!\n",
    "\n",
    "Would you like an entree or dessert? entree\n",
    "\n",
    "Dish:    Fried chicken\n",
    "\n",
    "Enjoy!\n",
    "```\n",
    "\n",
    "Example interaction #2:\n",
    "\n",
    "```\n",
    "Welcome to our restaurant!\n",
    "\n",
    "Would you like an entree or dessert? dessert\n",
    "\n",
    "Dish:    Key lime pie\n",
    "\n",
    "Enjoy!\n",
    "```"
   ]
  },
  {
   "cell_type": "code",
   "execution_count": null,
   "id": "0f5b0e03",
   "metadata": {},
   "outputs": [],
   "source": []
  },
  {
   "cell_type": "markdown",
   "id": "55458852",
   "metadata": {},
   "source": [
    "## Part 3: Another step of incremental development\n",
    "\n",
    "Now, you choose what your next step of incremental development should be. There are several reasonable choices here, so there's no one right answer.\n",
    "\n",
    "Double-click the Markdown cell below, and write out what your next step will be. Include at least one example interaction to show what your program will do. (You can start by copying & pasting one of the example interactions above.)\n",
    "\n"
   ]
  },
  {
   "cell_type": "markdown",
   "id": "1e9f1b76",
   "metadata": {},
   "source": [
    "**Next step:** (explanation here)\n",
    "\n",
    "Example interaction #1:\n",
    "\n",
    "```\n",
    "(code here)\n",
    "```"
   ]
  },
  {
   "cell_type": "markdown",
   "id": "29b34b3c",
   "metadata": {},
   "source": [
    "Now copy & paste your code from part 2 into the cell below, and add the functionality you've described above."
   ]
  },
  {
   "cell_type": "code",
   "execution_count": null,
   "id": "a631b808",
   "metadata": {},
   "outputs": [],
   "source": []
  },
  {
   "cell_type": "markdown",
   "id": "2dcc9bc0",
   "metadata": {},
   "source": [
    "## Part 4: Finish your program\n",
    "\n",
    "Continue to work on your program using incremental development.\n",
    "\n",
    "You are not required to write out each step in this notebook, but you are expected to continue to practice incremental development!\n",
    "\n",
    "Copy & paste your code from part 3 into the cell below. This cell will contain your final program."
   ]
  },
  {
   "cell_type": "code",
   "execution_count": null,
   "id": "aeaefa81",
   "metadata": {},
   "outputs": [],
   "source": []
  },
  {
   "cell_type": "markdown",
   "id": "50ad352a",
   "metadata": {},
   "source": [
    "## Part 5: Feedback.\n",
    "\n",
    "Are there any parts of this lab that you're confused about? Are there any parts that you'd like to discuss in class?\n",
    "\n",
    "If so, create a new Markdown cell below to answer. If not, continue to the next part."
   ]
  },
  {
   "cell_type": "markdown",
   "id": "e8eeeff8",
   "metadata": {},
   "source": [
    "## Part 6: Submit.\n",
    "\n",
    "Run the cell below to submit your lab. As usual, you may submit as many times as you like before the deadline.\n",
    "\n",
    "Be sure to click the URL that appears after you submit, to make sure that your notebook is submitted properly.\n",
    "\n",
    "Remember that labs are graded for completeness; for full credit, I'd like to see *at least an effort* towards each of the required features of the program."
   ]
  },
  {
   "cell_type": "code",
   "execution_count": null,
   "id": "2237f8d2",
   "metadata": {},
   "outputs": [],
   "source": [
    "from cs1.notebooks import *\n",
    "ok_submit('lab-03.ok')"
   ]
  },
  {
   "cell_type": "markdown",
   "id": "e03f5c96",
   "metadata": {},
   "source": [
    "## Additional challenges\n",
    "\n",
    "### Formatting string literals\n",
    "\n",
    "**Note:** Formatting the prices to two decimal places is not required. But if you have extra time, it's a nice addition to your program.\n",
    "\n",
    "See [here](https://docs.python.org/3/tutorial/inputoutput.html#formatted-string-literals) for documentation on formatting string literals. Here's a quick example, which you can imitate:"
   ]
  },
  {
   "cell_type": "code",
   "execution_count": null,
   "id": "f93fcd3e",
   "metadata": {
    "scrolled": true
   },
   "outputs": [],
   "source": [
    "price = 8.00\n",
    "print(f'Price:   ${price:.2f}')"
   ]
  },
  {
   "cell_type": "markdown",
   "id": "fa78031f",
   "metadata": {},
   "source": [
    "Inside the print function above is a string literal enclosed in single quotes. The `f` before the start of the string literal indicates that this is a *formatted string literal.* The curly braces inside the string literal enclose an expression `price`, and the `:.2f` indicates that we want to display two decimal places."
   ]
  },
  {
   "cell_type": "markdown",
   "id": "5c4dca3d",
   "metadata": {},
   "source": [
    "### Coupon code\n",
    "\n",
    "Prompt the user to enter a coupon code; if the user enters exactly \"GOODFOOD23\", take $5 off the final total.\n",
    "\n",
    "Example interaction #1:\n",
    "\n",
    "```\n",
    "Welcome to our restaurant!\n",
    "\n",
    "Would you like an entree or dessert? entree\n",
    "Would you like something hot or cold? hot\n",
    "\n",
    "What percent would you like to tip? 20\n",
    "Thanks, that's a generous tip!\n",
    "\n",
    "Enter a coupon code (type Enter to skip): SAVECASH99\n",
    "Sorry, that's not a valid coupon code.\n",
    "\n",
    "Dish:    Fried chicken\n",
    "Price:   $8.99\n",
    "Tax:     $0.63\n",
    "Tip:     $1.80\n",
    "Total:   $11.42\n",
    "\n",
    "Enjoy!\n",
    "```\n",
    "\n",
    "Example interaction #2:\n",
    "\n",
    "```\n",
    "Welcome to our restaurant!\n",
    "\n",
    "Would you like an entree or dessert? dessert\n",
    "Would you like something hot or cold? cold\n",
    "\n",
    "What percent would you like to tip? 0\n",
    "\n",
    "Enter a coupon code (type Enter to skip): GOODFOOD23\n",
    "Coupon accepted; $5 discount applied.\n",
    "\n",
    "Dish:    Key lime pie\n",
    "Price:   $7.49\n",
    "Tax:     $0.52\n",
    "Tip:     $0.00\n",
    "Coupon: -$5.00\n",
    "Total:   $3.01\n",
    "\n",
    "Enjoy!\n",
    "```"
   ]
  },
  {
   "cell_type": "code",
   "execution_count": null,
   "id": "0334ddb9",
   "metadata": {},
   "outputs": [],
   "source": []
  }
 ],
 "metadata": {
  "kernelspec": {
   "display_name": "Python 3 (ipykernel)",
   "language": "python",
   "name": "python3"
  },
  "language_info": {
   "codemirror_mode": {
    "name": "ipython",
    "version": 3
   },
   "file_extension": ".py",
   "mimetype": "text/x-python",
   "name": "python",
   "nbconvert_exporter": "python",
   "pygments_lexer": "ipython3",
   "version": "3.11.4"
  },
  "varInspector": {
   "cols": {
    "lenName": 16,
    "lenType": 16,
    "lenVar": 40
   },
   "kernels_config": {
    "python": {
     "delete_cmd_postfix": "",
     "delete_cmd_prefix": "del ",
     "library": "var_list.py",
     "varRefreshCmd": "print(var_dic_list())"
    },
    "r": {
     "delete_cmd_postfix": ") ",
     "delete_cmd_prefix": "rm(",
     "library": "var_list.r",
     "varRefreshCmd": "cat(var_dic_list()) "
    }
   },
   "types_to_exclude": [
    "module",
    "function",
    "builtin_function_or_method",
    "instance",
    "_Feature"
   ],
   "window_display": false
  }
 },
 "nbformat": 4,
 "nbformat_minor": 5
}
