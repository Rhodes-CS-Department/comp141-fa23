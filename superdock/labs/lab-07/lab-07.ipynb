{
 "cells": [
  {
   "cell_type": "markdown",
   "id": "75c1e446",
   "metadata": {},
   "source": [
    "# Lab 7: for-loops.\n",
    "\n",
    "This lab is designed to give you practice writing `for`-loops that involve the ideas of **accumulation**, **search**, and **mapping**/**filtering**.\n",
    "\n",
    "You may either complete this lab individually, or with a partner using pair-programming. If you choose to work with a partner, edit the cell below to enter your names; you only need to submit one lab between the two of you."
   ]
  },
  {
   "cell_type": "markdown",
   "id": "db6d27e7",
   "metadata": {},
   "source": [
    "- Partner 1: [name here]\n",
    "- Partner 2: [name here]"
   ]
  },
  {
   "cell_type": "markdown",
   "id": "19e1b9ec",
   "metadata": {},
   "source": [
    "## Problem 1: increment each.\n",
    "\n",
    "Write a function that takes a list of integers as an argument, and **constructs a new list** whose elements are each one greater than the corresponding element of the given list. Your function should not modify the given list.\n",
    "\n",
    "**Hint:** This is a \"mapping\" problem."
   ]
  },
  {
   "cell_type": "code",
   "execution_count": null,
   "id": "23df8967",
   "metadata": {},
   "outputs": [],
   "source": [
    "# Construct a new list by incrementing each element.\n",
    "# lst - A list of integers (list).\n",
    "# Returns a new list with incremented elements.\n",
    "def increment_each(lst):\n",
    "    pass\n",
    "\n",
    "print(increment_each([1, 2, 3])) # [2, 3, 4]\n",
    "print(increment_each([8, -1])) # [9, 0]\n",
    "print(increment_each([])) # []"
   ]
  },
  {
   "cell_type": "markdown",
   "id": "78fbdcce",
   "metadata": {},
   "source": [
    "## Problem 2: counting e's.\n",
    "\n",
    "Write a function that takes a string as an argument, and counts the number of lowercase e's in the string.\n",
    "\n",
    "**Hint:** This is an \"accumulation\" problem."
   ]
  },
  {
   "cell_type": "code",
   "execution_count": null,
   "id": "763e3b39",
   "metadata": {},
   "outputs": [],
   "source": [
    "# Count the number of e's in the given string.\n",
    "# s - An arbitrary string (str).\n",
    "# Returns the number of e's in `s` (int).\n",
    "def num_es(s):\n",
    "    pass\n",
    "\n",
    "print(num_es(\"eerie\")) # 3\n",
    "print(num_es(\"sleepy\")) # 2\n",
    "print(num_es(\"haunting\")) # 0"
   ]
  },
  {
   "cell_type": "markdown",
   "id": "831f6e60",
   "metadata": {},
   "source": [
    "## Problem 3: index of first e.\n",
    "\n",
    "Write a function that takes a string as an argument, and returns the index of the first lowercase \"e\" in the string.\n",
    "\n",
    "If the string doesn't contain any lowercase e's, return -1.\n",
    "\n",
    "Do this by using a for-loop that goes through a range. The for-loop is given to you, but you must decide what to use as the arguments to `range()`. You want the variable `i` to go through the indices of the string `s`. Choose the arguments to `range()` in order to make this happen."
   ]
  },
  {
   "cell_type": "code",
   "execution_count": null,
   "id": "f253eefa",
   "metadata": {},
   "outputs": [],
   "source": [
    "# Find the first e in the given string.\n",
    "# (Return -1 if the string doesn't contain any e's.)\n",
    "# s - An arbitrary string (str).\n",
    "# Returns the index of the first e in s.\n",
    "def first_e(s):\n",
    "    \n",
    "    for i in range():\n",
    "        pass\n",
    "\n",
    "print(first_e(\"eerie\")) # 0\n",
    "print(first_e(\"sleepy\")) # 2\n",
    "print(first_e(\"haunting\")) # -1"
   ]
  },
  {
   "cell_type": "markdown",
   "id": "3ee9f143",
   "metadata": {},
   "source": [
    "## Problem 4: counting valleys.\n",
    "\n",
    "If $A$ is a list of integers, then we define a **valley** as an element of $A$ that is less than both the element that comes before it and the element that comes after it. In other words, a valley corresponds to an index $i$ such that $A[i] < A[i - 1]$ and $A[i] < A[i + 1]$.\n",
    "\n",
    "For example, if $A = [4, 1, 8, 2, 3, 5, 4]$, then the valleys are at indices 1 (since 1 is less than its neighbors 4 & 8) and 3 (since 2 is less than 8 & 3).\n",
    "\n",
    "**Note:** The first and last element of $A$ are never considered valleys, since they don't have elements on both sides.\n",
    "\n",
    "Write a function that takes a list of integers as an argument, and counts the number of \"valleys\" in the list."
   ]
  },
  {
   "cell_type": "code",
   "execution_count": null,
   "id": "9f18b398",
   "metadata": {},
   "outputs": [],
   "source": [
    "# Count the number of valleys in the given list.\n",
    "# lst - A list of integers (list).\n",
    "# Returns the number of valleys (int).\n",
    "def count_valleys(lst):\n",
    "    pass\n",
    "\n",
    "print(count_valleys([4, 1, 8, 2, 3, 5, 4])) # 2\n",
    "print(count_valleys([1, 1, 4, 3, 5])) # 1\n",
    "print(count_valleys([])) # 0"
   ]
  },
  {
   "cell_type": "markdown",
   "id": "4a5d0fd9",
   "metadata": {},
   "source": [
    "## Problem 5: increasing.\n",
    "\n",
    "If $A$ is a list of integers, we say that $A$ is **increasing** if each element is less than the element that comes after it. In other words, $A$ is increasing if $A[0] < A[1] < A[2] < \\cdots < A[n - 1]$, where $n$ is the length of $A$.\n",
    "\n",
    "For example, the list $[1, 4, 9, 10]$ is increasing, but the list $[5, 1, 2, 8]$ is not (5 is not less than 1).\n",
    "\n",
    "Write a function that takes a list of integers as an argument, and returns a boolean indicating whether the list is increasing."
   ]
  },
  {
   "cell_type": "code",
   "execution_count": null,
   "id": "c2b3c48e",
   "metadata": {},
   "outputs": [],
   "source": [
    "# Determine whether a list is increasing.\n",
    "# lst - A list of integers. (list)\n",
    "# Returns a boolean indicating whether `lst` is increasing (bool).\n",
    "def increasing(lst):\n",
    "    pass\n",
    "\n",
    "print(increasing([1, 4, 9, 10])) # True\n",
    "print(increasing([5, 1, 2, 8])) # False\n",
    "print(increasing([3, 3, 8])) # False\n",
    "print(increasing([])) # True"
   ]
  },
  {
   "cell_type": "markdown",
   "id": "063e997f",
   "metadata": {},
   "source": [
    "## Feedback.\n",
    "\n",
    "Are there any parts of this lab that you're confused about? Are there any parts that you'd like to discuss in class?\n",
    "\n",
    "If so, create a new Markdown cell below to answer. If not, continue to the next part."
   ]
  },
  {
   "cell_type": "markdown",
   "id": "44283df7",
   "metadata": {},
   "source": [
    "## Submit.\n",
    "\n",
    "Run the cell below to submit your lab. As usual, you may submit as many times as you like before the deadline.\n",
    "\n",
    "Be sure to click the URL that appears after you submit, to make sure that your notebook is submitted properly.\n",
    "\n",
    "Remember that labs are graded for completeness; for full credit, I'd like to see a good effort towards solving each problem."
   ]
  },
  {
   "cell_type": "code",
   "execution_count": null,
   "id": "e5569b41",
   "metadata": {},
   "outputs": [],
   "source": [
    "from cs1.notebooks import *\n",
    "ok_submit('lab-07.ok')"
   ]
  }
 ],
 "metadata": {
  "kernelspec": {
   "display_name": "Python 3 (ipykernel)",
   "language": "python",
   "name": "python3"
  },
  "language_info": {
   "codemirror_mode": {
    "name": "ipython",
    "version": 3
   },
   "file_extension": ".py",
   "mimetype": "text/x-python",
   "name": "python",
   "nbconvert_exporter": "python",
   "pygments_lexer": "ipython3",
   "version": "3.11.4"
  },
  "varInspector": {
   "cols": {
    "lenName": 16,
    "lenType": 16,
    "lenVar": 40
   },
   "kernels_config": {
    "python": {
     "delete_cmd_postfix": "",
     "delete_cmd_prefix": "del ",
     "library": "var_list.py",
     "varRefreshCmd": "print(var_dic_list())"
    },
    "r": {
     "delete_cmd_postfix": ") ",
     "delete_cmd_prefix": "rm(",
     "library": "var_list.r",
     "varRefreshCmd": "cat(var_dic_list()) "
    }
   },
   "types_to_exclude": [
    "module",
    "function",
    "builtin_function_or_method",
    "instance",
    "_Feature"
   ],
   "window_display": false
  }
 },
 "nbformat": 4,
 "nbformat_minor": 5
}
