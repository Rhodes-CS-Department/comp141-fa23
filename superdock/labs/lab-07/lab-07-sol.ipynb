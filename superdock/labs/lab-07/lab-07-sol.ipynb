{
 "cells": [
  {
   "cell_type": "markdown",
   "id": "75c1e446",
   "metadata": {},
   "source": [
    "# Lab 7: for-loops. (solutions)"
   ]
  },
  {
   "cell_type": "markdown",
   "id": "ae2a08f1",
   "metadata": {},
   "source": [
    "## Problem 1: increment each."
   ]
  },
  {
   "cell_type": "code",
   "execution_count": null,
   "id": "ac749fb3",
   "metadata": {},
   "outputs": [],
   "source": [
    "# Construct a new list by incrementing each element.\n",
    "# lst - A list of integers (list).\n",
    "# Returns a new list with incremented elements.\n",
    "def increment_each(lst):\n",
    "    result = []\n",
    "    \n",
    "    for x in lst:\n",
    "        result += [x + 1]\n",
    "    \n",
    "    return result\n",
    "\n",
    "print(increment_each([1, 2, 3])) # [2, 3, 4]\n",
    "print(increment_each([8, -1])) # [9, 0]\n",
    "print(increment_each([])) # []"
   ]
  },
  {
   "cell_type": "markdown",
   "id": "44c82579",
   "metadata": {},
   "source": [
    "## Problem 2: counting e's."
   ]
  },
  {
   "cell_type": "code",
   "execution_count": null,
   "id": "845c9cba",
   "metadata": {},
   "outputs": [],
   "source": [
    "# Count the number of e's in the given string.\n",
    "# s - An arbitrary string (str).\n",
    "# Returns the number of e's in `s` (int).\n",
    "def num_es(s):\n",
    "    count = 0\n",
    "    \n",
    "    for char in s:\n",
    "        if char == 'e':\n",
    "            count += 1\n",
    "    \n",
    "    return count\n",
    "\n",
    "print(num_es(\"eerie\")) # 3\n",
    "print(num_es(\"sleepy\")) # 2\n",
    "print(num_es(\"haunting\")) # 0"
   ]
  },
  {
   "cell_type": "markdown",
   "id": "8356d76d",
   "metadata": {},
   "source": [
    "## Problem 3: index of first e."
   ]
  },
  {
   "cell_type": "code",
   "execution_count": null,
   "id": "998bfe34",
   "metadata": {},
   "outputs": [],
   "source": [
    "# Find the first e in the given string.\n",
    "# (Return -1 if the string doesn't contain any e's.)\n",
    "# s - An arbitrary string (str).\n",
    "# Returns the index of the first e in s.\n",
    "def first_e(s):\n",
    "    for i in range(len(s)):\n",
    "        if s[i] == 'e':\n",
    "            return i\n",
    "    \n",
    "    return -1\n",
    "\n",
    "print(first_e(\"eerie\")) # 0\n",
    "print(first_e(\"sleepy\")) # 2\n",
    "print(first_e(\"haunting\")) # -1"
   ]
  },
  {
   "cell_type": "markdown",
   "id": "8ad912e2",
   "metadata": {},
   "source": [
    "## Problem 4: counting valleys."
   ]
  },
  {
   "cell_type": "code",
   "execution_count": null,
   "id": "bcb800c3",
   "metadata": {},
   "outputs": [],
   "source": [
    "# Count the number of valleys in the given list.\n",
    "# lst - A list of integers (list).\n",
    "# Returns the number of valleys (int).\n",
    "def count_valleys(lst):\n",
    "    count = 0\n",
    "    \n",
    "    # Loop through the indices of lst, not including the first or last index.\n",
    "    for i in range(1, len(lst) - 1):\n",
    "        if lst[i] < lst[i - 1] and lst[i] < lst[i + 1]:\n",
    "            count += 1\n",
    "    \n",
    "    return count\n",
    "\n",
    "print(count_valleys([4, 1, 8, 2, 3, 5, 4])) # 2\n",
    "print(count_valleys([1, 1, 4, 3, 5])) # 1\n",
    "print(count_valleys([])) # 0"
   ]
  },
  {
   "cell_type": "markdown",
   "id": "0c50fb36",
   "metadata": {},
   "source": [
    "## Problem 5: increasing."
   ]
  },
  {
   "cell_type": "code",
   "execution_count": null,
   "id": "d58899ae",
   "metadata": {},
   "outputs": [],
   "source": [
    "# Determine whether a list is increasing.\n",
    "# lst - A list of integers. (list)\n",
    "# Returns a boolean indicating whether `lst` is increasing (bool).\n",
    "def increasing(lst):\n",
    "    # Loop through the indices of lst, not including the last index.\n",
    "    for i in range(0, len(lst) - 1):\n",
    "        if not lst[i] < lst[i + 1]:\n",
    "            return False\n",
    "    \n",
    "    return True\n",
    "\n",
    "print(increasing([1, 4, 9, 10])) # True\n",
    "print(increasing([5, 1, 2, 8])) # False\n",
    "print(increasing([3, 3, 8])) # False\n",
    "print(increasing([])) # True"
   ]
  },
  {
   "cell_type": "code",
   "execution_count": null,
   "id": "aff4fdd9",
   "metadata": {},
   "outputs": [],
   "source": []
  }
 ],
 "metadata": {
  "kernelspec": {
   "display_name": "Python 3 (ipykernel)",
   "language": "python",
   "name": "python3"
  },
  "language_info": {
   "codemirror_mode": {
    "name": "ipython",
    "version": 3
   },
   "file_extension": ".py",
   "mimetype": "text/x-python",
   "name": "python",
   "nbconvert_exporter": "python",
   "pygments_lexer": "ipython3",
   "version": "3.11.4"
  },
  "varInspector": {
   "cols": {
    "lenName": 16,
    "lenType": 16,
    "lenVar": 40
   },
   "kernels_config": {
    "python": {
     "delete_cmd_postfix": "",
     "delete_cmd_prefix": "del ",
     "library": "var_list.py",
     "varRefreshCmd": "print(var_dic_list())"
    },
    "r": {
     "delete_cmd_postfix": ") ",
     "delete_cmd_prefix": "rm(",
     "library": "var_list.r",
     "varRefreshCmd": "cat(var_dic_list()) "
    }
   },
   "types_to_exclude": [
    "module",
    "function",
    "builtin_function_or_method",
    "instance",
    "_Feature"
   ],
   "window_display": false
  }
 },
 "nbformat": 4,
 "nbformat_minor": 5
}
