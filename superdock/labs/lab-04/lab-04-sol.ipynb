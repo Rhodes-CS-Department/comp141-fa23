{
 "cells": [
  {
   "cell_type": "markdown",
   "metadata": {},
   "source": [
    "# Lab 4: Bulls-eye & functions."
   ]
  },
  {
   "cell_type": "markdown",
   "metadata": {},
   "source": [
    "## Step 2: Adding parameters `x` and `y` to `draw_bullseye()`."
   ]
  },
  {
   "cell_type": "code",
   "execution_count": null,
   "metadata": {},
   "outputs": [],
   "source": [
    "from cs1.graphics import *\n",
    "\n",
    "# Draw a bullseye, centered at (x, y).\n",
    "# x - x-coordinate of the center of the bulls-eye (int).\n",
    "# y - y-coordinate of the center of the bulls-eye (int).\n",
    "# Returns None (NoneType).\n",
    "def draw_bullseye(x, y):\n",
    "    set_color(\"red\")\n",
    "    draw_filled_circle(x, y, 50)\n",
    "    \n",
    "    set_color(\"white\")\n",
    "    draw_filled_circle(x, y, 40)\n",
    "        \n",
    "    set_color(\"red\")\n",
    "    draw_filled_circle(x, y, 30)\n",
    "    \n",
    "    set_color(\"white\")\n",
    "    draw_filled_circle(x, y, 20)\n",
    "            \n",
    "    set_color(\"red\")\n",
    "    draw_filled_circle(x, y, 10)\n",
    "\n",
    "def main():\n",
    "    open_canvas(500, 500)\n",
    "    draw_bullseye(100, 100)\n",
    "    draw_bullseye(300, 400)\n",
    "\n",
    "main()"
   ]
  },
  {
   "cell_type": "markdown",
   "metadata": {},
   "source": [
    "## Step 3: Adding parameters `color1` and `color2` to `draw_bullseye()`."
   ]
  },
  {
   "cell_type": "code",
   "execution_count": null,
   "metadata": {},
   "outputs": [],
   "source": [
    "from cs1.graphics import *\n",
    "\n",
    "# Draw a bullseye, centered at (x, y), using the given colors.\n",
    "# (The outermost ring is drawn using color1.)\n",
    "# x - x-coordinate of the center of the bulls-eye (int).\n",
    "# y - y-coordinate of the center of the bulls-eye (int).\n",
    "# color1 - color of alternate rings of the bulls-eye (str).\n",
    "# color2 - color of alternate rings of the bulls-eye (str).\n",
    "# Returns None (NoneType).\n",
    "def draw_bullseye(x, y, color1, color2):\n",
    "    set_color(color1)\n",
    "    draw_filled_circle(x, y, 50)\n",
    "    \n",
    "    set_color(color2)\n",
    "    draw_filled_circle(x, y, 40)\n",
    "        \n",
    "    set_color(color1)\n",
    "    draw_filled_circle(x, y, 30)\n",
    "    \n",
    "    set_color(color2)\n",
    "    draw_filled_circle(x, y, 20)\n",
    "            \n",
    "    set_color(color1)\n",
    "    draw_filled_circle(x, y, 10)\n",
    "\n",
    "def main():\n",
    "    open_canvas(500, 500)\n",
    "    draw_bullseye(100, 100, \"red\", \"orange\")\n",
    "    draw_bullseye(300, 400, \"yellow\", \"green\")\n",
    "\n",
    "main()"
   ]
  },
  {
   "cell_type": "markdown",
   "metadata": {},
   "source": [
    "## Step 4: Taking user input."
   ]
  },
  {
   "cell_type": "code",
   "execution_count": null,
   "metadata": {},
   "outputs": [],
   "source": [
    "from cs1.graphics import *\n",
    "\n",
    "# Draw a bullseye, centered at (x, y), using the given colors.\n",
    "# (The outermost ring is drawn using color1.)\n",
    "# x - x-coordinate of the center of the bulls-eye (int).\n",
    "# y - y-coordinate of the center of the bulls-eye (int).\n",
    "# color1 - color of alternate rings of the bulls-eye (str).\n",
    "# color2 - color of alternate rings of the bulls-eye (str).\n",
    "# Returns None (NoneType).\n",
    "def draw_bullseye(x, y, color1, color2):\n",
    "    set_color(color1)\n",
    "    draw_filled_circle(x, y, 50)\n",
    "    \n",
    "    set_color(color2)\n",
    "    draw_filled_circle(x, y, 40)\n",
    "        \n",
    "    set_color(color1)\n",
    "    draw_filled_circle(x, y, 30)\n",
    "    \n",
    "    set_color(color2)\n",
    "    draw_filled_circle(x, y, 20)\n",
    "            \n",
    "    set_color(color1)\n",
    "    draw_filled_circle(x, y, 10)\n",
    "\n",
    "def main():\n",
    "    x = int(input(\"x: \"))\n",
    "    y = int(input(\"y: \"))\n",
    "    color1 = input(\"color 1: \")\n",
    "    color2 = input(\"color 2: \")\n",
    "    \n",
    "    open_canvas(500, 500)\n",
    "    draw_bullseye(x, y, color1, color2)\n",
    "\n",
    "main()"
   ]
  },
  {
   "cell_type": "markdown",
   "metadata": {},
   "source": [
    "## Step 5: Adding a parameter `radius` to `draw_bullseye()`.\n",
    "\n",
    "**Note:** This problem asked you to draw two bulls-eyes, but this was a mistake. The solution below only draws one bulls-eye.\n",
    "\n",
    "To draw two bulls-eyes, you would probably want to take two sets of user input, one for each bulls-eye."
   ]
  },
  {
   "cell_type": "code",
   "execution_count": null,
   "metadata": {},
   "outputs": [],
   "source": [
    "from cs1.graphics import *\n",
    "\n",
    "# Draw a bullseye, centered at (x, y), using the given colors & radius.\n",
    "# (The outermost ring is drawn using color1.)\n",
    "# x - x-coordinate of the center of the bulls-eye (int).\n",
    "# y - y-coordinate of the center of the bulls-eye (int).\n",
    "# color1 - color of alternate rings of the bulls-eye (str).\n",
    "# color2 - color of alternate rings of the bulls-eye (str).\n",
    "# radius - radius of the bulls-eye (float).\n",
    "# Returns None (NoneType).\n",
    "def draw_bullseye(x, y, color1, color2, radius):\n",
    "    set_color(color1)\n",
    "    draw_filled_circle(x, y, radius)\n",
    "    \n",
    "    set_color(color2)\n",
    "    draw_filled_circle(x, y, 0.8 * radius)\n",
    "        \n",
    "    set_color(color1)\n",
    "    draw_filled_circle(x, y, 0.6 * radius)\n",
    "    \n",
    "    set_color(color2)\n",
    "    draw_filled_circle(x, y, 0.4 * radius)\n",
    "            \n",
    "    set_color(color1)\n",
    "    draw_filled_circle(x, y, 0.2 * radius)\n",
    "\n",
    "def main():\n",
    "    x = int(input(\"x: \"))\n",
    "    y = int(input(\"y: \"))\n",
    "    color1 = input(\"color 1: \")\n",
    "    color2 = input(\"color 2: \")\n",
    "    \n",
    "    open_canvas(500, 500)\n",
    "    draw_bullseye(x, y, color1, color2, 100)\n",
    "\n",
    "main()"
   ]
  },
  {
   "attachments": {
    "mickeyMouse.png": {
     "image/png": "[encoded data removed]"
    }
   },
   "cell_type": "markdown",
   "metadata": {},
   "source": [
    "## Step 6: Drawing Mickey Mouse ears.\n",
    "\n",
    "Modify your `main()` function so three bullseyes are drawn after the user inputs the four variables, as shown below:\n",
    "\n",
    "- The center bullseye should be drawn as in step 4 (based off the inputs the user supplies, using a radius of 50).\n",
    "- The second and third bullseyes should be smaller, and offset slightly, as shown below.\n",
    "\n",
    "**Note:** The `draw_bullseye()` function should not change in this step--it should still draw just one bullseye.\n",
    "\n",
    "![mickeyMouse.png](attachment:mickeyMouse.png)"
   ]
  },
  {
   "cell_type": "code",
   "execution_count": null,
   "metadata": {},
   "outputs": [],
   "source": [
    "from cs1.graphics import *\n",
    "\n",
    "# Draw a bullseye, centered at (x, y), using the given colors & radius.\n",
    "# (The outermost ring is drawn using color1.)\n",
    "# x - x-coordinate of the center of the bulls-eye (int).\n",
    "# y - y-coordinate of the center of the bulls-eye (int).\n",
    "# color1 - color of alternate rings of the bulls-eye (str).\n",
    "# color2 - color of alternate rings of the bulls-eye (str).\n",
    "# radius - radius of the bulls-eye (float).\n",
    "# Returns None (NoneType).\n",
    "def draw_bullseye(x, y, color1, color2, radius):\n",
    "    set_color(color1)\n",
    "    draw_filled_circle(x, y, radius)\n",
    "    \n",
    "    set_color(color2)\n",
    "    draw_filled_circle(x, y, 0.8 * radius)\n",
    "        \n",
    "    set_color(color1)\n",
    "    draw_filled_circle(x, y, 0.6 * radius)\n",
    "    \n",
    "    set_color(color2)\n",
    "    draw_filled_circle(x, y, 0.4 * radius)\n",
    "            \n",
    "    set_color(color1)\n",
    "    draw_filled_circle(x, y, 0.2 * radius)\n",
    "\n",
    "def main():\n",
    "    x = int(input(\"x: \"))\n",
    "    y = int(input(\"y: \"))\n",
    "    color1 = input(\"color 1: \")\n",
    "    color2 = input(\"color 2: \")\n",
    "    \n",
    "    open_canvas(500, 500)\n",
    "    \n",
    "    # Draw center bullseye.\n",
    "    draw_bullseye(x, y, color1, color2, 50)\n",
    "    \n",
    "    # Draw left ear.\n",
    "    draw_bullseye(x - 50, y - 50, color1, color2, 25)\n",
    "    \n",
    "    # Draw right ear.\n",
    "    draw_bullseye(x + 50, y - 50, color1, color2, 25)\n",
    "\n",
    "main()"
   ]
  },
  {
   "cell_type": "code",
   "execution_count": null,
   "metadata": {},
   "outputs": [],
   "source": []
  }
 ],
 "metadata": {
  "kernelspec": {
   "display_name": "Python 3 (ipykernel)",
   "language": "python",
   "name": "python3"
  },
  "language_info": {
   "codemirror_mode": {
    "name": "ipython",
    "version": 3
   },
   "file_extension": ".py",
   "mimetype": "text/x-python",
   "name": "python",
   "nbconvert_exporter": "python",
   "pygments_lexer": "ipython3",
   "version": "3.11.4"
  },
  "varInspector": {
   "cols": {
    "lenName": 16,
    "lenType": 16,
    "lenVar": 40
   },
   "kernels_config": {
    "python": {
     "delete_cmd_postfix": "",
     "delete_cmd_prefix": "del ",
     "library": "var_list.py",
     "varRefreshCmd": "print(var_dic_list())"
    },
    "r": {
     "delete_cmd_postfix": ") ",
     "delete_cmd_prefix": "rm(",
     "library": "var_list.r",
     "varRefreshCmd": "cat(var_dic_list()) "
    }
   },
   "types_to_exclude": [
    "module",
    "function",
    "builtin_function_or_method",
    "instance",
    "_Feature"
   ],
   "window_display": false
  }
 },
 "nbformat": 4,
 "nbformat_minor": 2
}
