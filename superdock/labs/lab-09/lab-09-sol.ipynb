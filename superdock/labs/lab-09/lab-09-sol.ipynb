{
 "cells": [
  {
   "cell_type": "markdown",
   "id": "116cdfba",
   "metadata": {},
   "source": [
    "# Lab 9: Practice with nested loops & 2d lists. (solutions)"
   ]
  },
  {
   "cell_type": "markdown",
   "id": "1d1d932f",
   "metadata": {},
   "source": [
    "## Problem 1: Counting large numbers.\n",
    "\n",
    "Write a function that counts how many numbers are greater than a given threshold."
   ]
  },
  {
   "cell_type": "code",
   "execution_count": null,
   "id": "d4489412",
   "metadata": {},
   "outputs": [],
   "source": [
    "# Count how many elements in a 2d list are greater than a given threshold.\n",
    "# grid - A 2d list of integers.\n",
    "# threshold - An integer.\n",
    "# Returns the number of elements of `grid` that are greater than `threshold` (int).\n",
    "def count_large(grid, threshold):\n",
    "    count = 0\n",
    "    \n",
    "    for row in grid:\n",
    "        for x in row:\n",
    "            if x > threshold:\n",
    "                count += 1\n",
    "    \n",
    "    return count\n",
    "\n",
    "grid1 = [\n",
    "    [2, 10, 9],\n",
    "    [-1, 3, 1]\n",
    "]\n",
    "\n",
    "grid2 = [\n",
    "    [1, 8, 4, 11],\n",
    "    [3, -8, 4, 2],\n",
    "    [5, 2, 5, 9]\n",
    "]\n",
    "\n",
    "print(count_large(grid1, 8)) # 2\n",
    "print(count_large(grid1, 1)) # 4\n",
    "print(count_large(grid2, 7)) # 3"
   ]
  },
  {
   "cell_type": "markdown",
   "id": "11a12927",
   "metadata": {},
   "source": [
    "## Problem 2: Converting all strings to lowercase, in place.\n",
    "\n",
    "Write a function that modifies a given 2d list of strings by converting each string to lowercase."
   ]
  },
  {
   "cell_type": "code",
   "execution_count": null,
   "id": "9c5e7251",
   "metadata": {},
   "outputs": [],
   "source": [
    "# Convert each string in a 2d list to lowercase, in place.\n",
    "# grid - A 2d list of strings.\n",
    "# Returns None (NoneType).\n",
    "def lower_inplace(grid):\n",
    "    for i in range(len(grid)):\n",
    "        for j in range(len(grid[i])):\n",
    "            grid[i][j] = grid[i][j].lower()\n",
    "\n",
    "grid1 = [\n",
    "    [\"A\", \"B\", \"C\"],\n",
    "    [\"D\", \"E\", \"F\"]\n",
    "]\n",
    "\n",
    "grid2 = [\n",
    "    [\"ab\", \"CD\", \"ef\", \"GH\"],\n",
    "    [\"IJ\", \"kl\", \"MN\", \"op\"],\n",
    "    [\"qr\", \"ST\", \"uv\", \"WX\"]\n",
    "]\n",
    "\n",
    "lower_inplace(grid1)\n",
    "lower_inplace(grid2)\n",
    "\n",
    "print(grid1)\n",
    "print(grid2)"
   ]
  },
  {
   "cell_type": "markdown",
   "id": "20e65869",
   "metadata": {},
   "source": [
    "## Problem 3: Converting all strings to lowercase, returning a new 2d list.\n",
    "\n",
    "Write a function that converts each string in a given 2d list to lowercase, returning a new 2d list."
   ]
  },
  {
   "cell_type": "code",
   "execution_count": null,
   "id": "3589d68f",
   "metadata": {},
   "outputs": [],
   "source": [
    "# Convert each string in a 2d list to lowercase, returning a new 2d list.\n",
    "# grid - A 2d list of strings.\n",
    "# Returns a new 2d list of lowercase strings.\n",
    "def lower(grid):\n",
    "    new_grid = []\n",
    "    \n",
    "    for row in grid:\n",
    "        new_row = []\n",
    "        \n",
    "        for s in row:\n",
    "            new_row.append(s.lower())\n",
    "\n",
    "        new_grid.append(new_row)\n",
    "    \n",
    "    return new_grid\n",
    "\n",
    "grid1 = [\n",
    "    [\"A\", \"B\", \"C\"],\n",
    "    [\"D\", \"E\", \"F\"]\n",
    "]\n",
    "\n",
    "grid2 = [\n",
    "    [\"ab\", \"CD\", \"ef\", \"GH\"],\n",
    "    [\"IJ\", \"kl\", \"MN\", \"op\"],\n",
    "    [\"qr\", \"ST\", \"uv\", \"WX\"]\n",
    "]\n",
    "\n",
    "print(lower(grid1))\n",
    "print(lower(grid2))"
   ]
  },
  {
   "cell_type": "markdown",
   "id": "f2144d24",
   "metadata": {},
   "source": [
    "## Problem 4: Summing the diagonal.\n",
    "\n",
    "Write a function that takes a square 2d list (that is, the length and width are equal) and returns the sum of elements on the main diagonal.\n",
    "\n",
    "### Solution 1: nested loop (slow)"
   ]
  },
  {
   "cell_type": "code",
   "execution_count": null,
   "id": "bedd9f8e",
   "metadata": {},
   "outputs": [],
   "source": [
    "# Determine the sum of the elements on the main diagonal of a 2d list.\n",
    "# grid - A 2d list of integers.\n",
    "# Returns the sum of the main diagonal (int).\n",
    "def sum_diagonal(grid):\n",
    "    total = 0\n",
    "    \n",
    "    for i in range(len(grid)):\n",
    "        for j in range(len(grid[i])):\n",
    "            if i == j:\n",
    "                total += grid[i][j]\n",
    "    \n",
    "    return total\n",
    "\n",
    "grid1 = [\n",
    "    [2, 10],\n",
    "    [-1, 3]\n",
    "]\n",
    "\n",
    "grid2 = [\n",
    "    [1, 8, 4],\n",
    "    [3, -8, 4],\n",
    "    [5, 2, 5]\n",
    "]\n",
    "\n",
    "# A 10,000-by-10,000 grid of zeros.\n",
    "grid3 = 10000 * [10000 * [0]]\n",
    "\n",
    "print(sum_diagonal(grid1)) # 5 (2 + 3)\n",
    "print(sum_diagonal(grid2)) # -2 (1 + -8 + 5)\n",
    "print(sum_diagonal(grid3)) # 0 (0 + ... + 0)"
   ]
  },
  {
   "cell_type": "markdown",
   "id": "cae11ca6",
   "metadata": {},
   "source": [
    "### Solution 2: one loop (fast)"
   ]
  },
  {
   "cell_type": "code",
   "execution_count": null,
   "id": "a582da9c",
   "metadata": {},
   "outputs": [],
   "source": [
    "# Determine the sum of the elements on the main diagonal of a 2d list.\n",
    "# grid - A 2d list of integers.\n",
    "# Returns the sum of the main diagonal (int).\n",
    "def sum_diagonal(grid):\n",
    "    total = 0\n",
    "    \n",
    "    for i in range(len(grid)):\n",
    "        total += grid[i][i]\n",
    "        \n",
    "    return total\n",
    "\n",
    "grid1 = [\n",
    "    [2, 10],\n",
    "    [-1, 3]\n",
    "]\n",
    "\n",
    "grid2 = [\n",
    "    [1, 8, 4],\n",
    "    [3, -8, 4],\n",
    "    [5, 2, 5]\n",
    "]\n",
    "\n",
    "# A 10,000-by-10,000 grid of zeros.\n",
    "grid3 = 10000 * [10000 * [0]]\n",
    "\n",
    "print(sum_diagonal(grid1)) # 5 (2 + 3)\n",
    "print(sum_diagonal(grid2)) # -2 (1 + -8 + 5)\n",
    "print(sum_diagonal(grid3)) # 0 (0 + ... + 0)"
   ]
  },
  {
   "cell_type": "markdown",
   "id": "92fcaab9",
   "metadata": {},
   "source": [
    "## Problem 5: Greatest distance.\n",
    "\n",
    "You are given two lists of integers, `a` and `b`, and your goal is to choose one integer in `a` and one integer in `b` such that the distance between these two integers on the number line is as large as possible. (The **distance** between two integers `i` and `j` is the absolute value of `i - j`.)"
   ]
  },
  {
   "cell_type": "markdown",
   "id": "62bbd42d",
   "metadata": {},
   "source": [
    "### Solution 1: using a nested loop. (slow)"
   ]
  },
  {
   "cell_type": "code",
   "execution_count": null,
   "id": "62a7878d",
   "metadata": {},
   "outputs": [],
   "source": [
    "# Determine the greatest distance between integers in two different lists.\n",
    "# a, b - Two lists of integers (list).\n",
    "# Returns the greatest distance |x - y|, where x is in a, y is in b.\n",
    "def greatest_distance(a, b):\n",
    "    max_distance = 0\n",
    "    \n",
    "    for x in a:\n",
    "        for y in b:\n",
    "            if abs(x - y) > max_distance:\n",
    "                max_distance = abs(x - y)\n",
    "    \n",
    "    return max_distance\n",
    "\n",
    "print(greatest_distance([1, 5, 9, 2], [3, 8])) # 7\n",
    "print(greatest_distance([1, 9, 10], [2, 0, 3])) # 10\n",
    "print(greatest_distance([2, 0, 8], [3, 1, 11])) # 11\n",
    "print(greatest_distance(10000 * [0], 10000 * [1])) # 1"
   ]
  },
  {
   "cell_type": "markdown",
   "id": "7fe36cc2",
   "metadata": {},
   "source": [
    "### Solution 2: using `max()` and `min()` functions. (fast)\n",
    "\n",
    "This solution relies on the observation that the greatest distance is either $\\max(a) - \\min(b)$ or $\\max(b) - \\min(a)$, whichever is greater.\n",
    "\n",
    "Each of these four calls to `max()` and `min()` essentially loops through `a` or `b`. (We don't have to write any loops ourselves, but if we looked at the implementations of these functions, they would each have one loop.) So this is essentially four distinct for-loops, which is still faster than a nested for-loop."
   ]
  },
  {
   "cell_type": "code",
   "execution_count": null,
   "id": "b33f9abc",
   "metadata": {},
   "outputs": [],
   "source": [
    "# Determine the greatest distance between integers in two different lists.\n",
    "# a, b - Two lists of integers (list).\n",
    "# Returns the greatest distance |x - y|, where x is in a, y is in b.\n",
    "def greatest_distance(a, b):\n",
    "    return max(max(a) - min(b), max(b) - min(a))\n",
    "\n",
    "print(greatest_distance([1, 5, 9, 2], [3, 8])) # 7\n",
    "print(greatest_distance([1, 9, 10], [2, 0, 3])) # 10\n",
    "print(greatest_distance([2, 0, 8], [3, 1, 11])) # 11\n",
    "print(greatest_distance(10000 * [0], 10000 * [1])) # 1"
   ]
  },
  {
   "cell_type": "markdown",
   "id": "0165bc5f",
   "metadata": {},
   "source": [
    "## Challenge: Finding the minimum of each column.\n",
    "\n",
    "Write a function that takes a 2d list of integers and returns a list consisting of the minimum elements of each column."
   ]
  },
  {
   "cell_type": "code",
   "execution_count": null,
   "id": "f5167392",
   "metadata": {},
   "outputs": [],
   "source": [
    "# Determine the minimum element in each column of a 2d list of integers.\n",
    "# grid - A 2d list of integers.\n",
    "# Returns a list of the minimum elements of each column.\n",
    "def minimums(grid):\n",
    "    mins = []\n",
    "    \n",
    "    # loop through the column indices.\n",
    "    for j in range(len(grid[0])):\n",
    "        \n",
    "        m = grid[0][j]\n",
    "        \n",
    "        # loop through the row indices.\n",
    "        for i in range(len(grid)):\n",
    "            if grid[i][j] < m:\n",
    "                m = grid[i][j]\n",
    "        \n",
    "        mins.append(m)\n",
    "    \n",
    "    return mins\n",
    "\n",
    "grid1 = [\n",
    "    [2, 10, 9],\n",
    "    [-1, 3, 1]\n",
    "]\n",
    "\n",
    "grid2 = [\n",
    "    [1, 8, 4, 11],\n",
    "    [3, -8, 4, 2],\n",
    "    [5, 2, 5, 9]\n",
    "]\n",
    "\n",
    "print(minimums(grid1)) # [-1, 3, 1]\n",
    "print(minimums(grid2)) # [1, -8, 4, 2]"
   ]
  }
 ],
 "metadata": {
  "kernelspec": {
   "display_name": "Python 3 (ipykernel)",
   "language": "python",
   "name": "python3"
  },
  "language_info": {
   "codemirror_mode": {
    "name": "ipython",
    "version": 3
   },
   "file_extension": ".py",
   "mimetype": "text/x-python",
   "name": "python",
   "nbconvert_exporter": "python",
   "pygments_lexer": "ipython3",
   "version": "3.11.4"
  },
  "varInspector": {
   "cols": {
    "lenName": 16,
    "lenType": 16,
    "lenVar": 40
   },
   "kernels_config": {
    "python": {
     "delete_cmd_postfix": "",
     "delete_cmd_prefix": "del ",
     "library": "var_list.py",
     "varRefreshCmd": "print(var_dic_list())"
    },
    "r": {
     "delete_cmd_postfix": ") ",
     "delete_cmd_prefix": "rm(",
     "library": "var_list.r",
     "varRefreshCmd": "cat(var_dic_list()) "
    }
   },
   "types_to_exclude": [
    "module",
    "function",
    "builtin_function_or_method",
    "instance",
    "_Feature"
   ],
   "window_display": false
  }
 },
 "nbformat": 4,
 "nbformat_minor": 5
}
