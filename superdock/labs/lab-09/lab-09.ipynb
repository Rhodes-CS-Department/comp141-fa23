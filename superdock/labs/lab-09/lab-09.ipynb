{
 "cells": [
  {
   "cell_type": "markdown",
   "id": "116cdfba",
   "metadata": {},
   "source": [
    "# Lab 9: Practice with nested loops & 2d lists.\n",
    "\n",
    "This lab is designed to give you practice working with nested loops.\n",
    "\n",
    "If you're working with a partner, edit the cell below to enter your names, and use **pair programming** to write your code."
   ]
  },
  {
   "cell_type": "markdown",
   "id": "3729bd26",
   "metadata": {},
   "source": [
    "- Partner 1: [name here]\n",
    "- Partner 2: [name here]"
   ]
  },
  {
   "cell_type": "markdown",
   "id": "3c826d8b",
   "metadata": {},
   "source": [
    "Each problem below asks you to write a function that takes a 2d list as its input."
   ]
  },
  {
   "cell_type": "markdown",
   "id": "1d1d932f",
   "metadata": {},
   "source": [
    "## Problem 1: Counting large numbers.\n",
    "\n",
    "Write a function that counts how many numbers are greater than a given threshold."
   ]
  },
  {
   "cell_type": "code",
   "execution_count": null,
   "id": "d4489412",
   "metadata": {},
   "outputs": [],
   "source": [
    "# Count how many elements in a 2d list are greater than a given threshold.\n",
    "# grid - A 2d list of integers.\n",
    "# threshold - An integer.\n",
    "# Returns the number of elements of `grid` that are greater than `threshold` (int).\n",
    "def count_large(grid, threshold):\n",
    "    pass\n",
    "\n",
    "grid1 = [\n",
    "    [2, 10, 9],\n",
    "    [-1, 3, 1]\n",
    "]\n",
    "\n",
    "grid2 = [\n",
    "    [1, 8, 4, 11],\n",
    "    [3, -8, 4, 2],\n",
    "    [5, 2, 5, 9]\n",
    "]\n",
    "\n",
    "print(count_large(grid1, 8)) # 2\n",
    "print(count_large(grid1, 1)) # 4\n",
    "print(count_large(grid2, 7)) # 3"
   ]
  },
  {
   "cell_type": "markdown",
   "id": "11a12927",
   "metadata": {},
   "source": [
    "## Problem 2: Converting all strings to lowercase, in place.\n",
    "\n",
    "Write a function that modifies a given 2d list of strings by converting each string to lowercase."
   ]
  },
  {
   "cell_type": "code",
   "execution_count": null,
   "id": "9c5e7251",
   "metadata": {},
   "outputs": [],
   "source": [
    "# Convert each string in a 2d list to lowercase, in place.\n",
    "# grid - A 2d list of strings.\n",
    "# Returns None (NoneType).\n",
    "def lower_inplace(grid):\n",
    "    pass\n",
    "\n",
    "grid1 = [\n",
    "    [\"A\", \"B\", \"C\"],\n",
    "    [\"D\", \"E\", \"F\"]\n",
    "]\n",
    "\n",
    "grid2 = [\n",
    "    [\"ab\", \"CD\", \"ef\", \"GH\"],\n",
    "    [\"IJ\", \"kl\", \"MN\", \"op\"],\n",
    "    [\"qr\", \"ST\", \"uv\", \"WX\"]\n",
    "]\n",
    "\n",
    "lower_inplace(grid1)\n",
    "lower_inplace(grid2)\n",
    "\n",
    "print(grid1)\n",
    "print(grid2)"
   ]
  },
  {
   "cell_type": "markdown",
   "id": "20e65869",
   "metadata": {},
   "source": [
    "## Problem 3: Converting all strings to lowercase, returning a new 2d list.\n",
    "\n",
    "Write a function that converts each string in a given 2d list to lowercase, returning a new 2d list."
   ]
  },
  {
   "cell_type": "code",
   "execution_count": null,
   "id": "3589d68f",
   "metadata": {},
   "outputs": [],
   "source": [
    "# Convert each string in a 2d list to lowercase, returning a new 2d list.\n",
    "# grid - A 2d list of strings.\n",
    "# Returns a new 2d list of lowercase strings.\n",
    "def lower(grid):\n",
    "    pass\n",
    "\n",
    "grid1 = [\n",
    "    [\"A\", \"B\", \"C\"],\n",
    "    [\"D\", \"E\", \"F\"]\n",
    "]\n",
    "\n",
    "grid2 = [\n",
    "    [\"ab\", \"CD\", \"ef\", \"GH\"],\n",
    "    [\"IJ\", \"kl\", \"MN\", \"op\"],\n",
    "    [\"qr\", \"ST\", \"uv\", \"WX\"]\n",
    "]\n",
    "\n",
    "print(lower(grid1))\n",
    "print(lower(grid2))"
   ]
  },
  {
   "cell_type": "markdown",
   "id": "f2144d24",
   "metadata": {},
   "source": [
    "## Problem 4: Summing the diagonal.\n",
    "\n",
    "Write a function that takes a square 2d list (that is, the length and width are equal) and returns the sum of elements on the main diagonal.\n",
    "\n",
    "The *main diagonal* of a 2d list consists of the elements whose row & column indices are the same.\n",
    "\n",
    "For example, if `grid` is a 3-by-3 list, then the elements on the main diagonal are `grid[0][0]`, `grid[1][1]`, and `grid[2][2]`.\n",
    "\n",
    "**Note:** If the third test below takes a long time to run, look for a more efficient solution!"
   ]
  },
  {
   "cell_type": "code",
   "execution_count": null,
   "id": "a582da9c",
   "metadata": {},
   "outputs": [],
   "source": [
    "# Determine the sum of the elements on the main diagonal of a 2d list.\n",
    "# grid - A 2d list of integers.\n",
    "# Returns the sum of the main diagonal (int).\n",
    "def sum_diagonal(grid):\n",
    "    pass\n",
    "\n",
    "grid1 = [\n",
    "    [2, 10],\n",
    "    [-1, 3]\n",
    "]\n",
    "\n",
    "grid2 = [\n",
    "    [1, 8, 4],\n",
    "    [3, -8, 4],\n",
    "    [5, 2, 5]\n",
    "]\n",
    "\n",
    "# A 10,000-by-10,000 grid of zeros.\n",
    "grid3 = 10000 * [10000 * [0]]\n",
    "\n",
    "print(sum_diagonal(grid1)) # 5 (2 + 3)\n",
    "print(sum_diagonal(grid2)) # -2 (1 + -8 + 5)\n",
    "print(sum_diagonal(grid3)) # 0 (0 + ... + 0)"
   ]
  },
  {
   "cell_type": "markdown",
   "id": "92fcaab9",
   "metadata": {},
   "source": [
    "## Problem 5: Greatest distance.\n",
    "\n",
    "You are given two lists of integers, `a` and `b`, and your goal is to choose one integer in `a` and one integer in `b` such that the distance between these two integers on the number line is as large as possible. (The **distance** between two integers `i` and `j` is the absolute value of `i - j`.)\n",
    "\n",
    "For example, if `a` is `[1, 5, 9, 2]`, and `b` is `[3, 8]`, then we would choose 1 from `a` and 8 from `b`, giving a distance of 7.\n",
    "\n",
    "Write a function that takes two lists of integers, `a` and `b`, and returns the greatest distance between an integer in `a` and an integer in `b`."
   ]
  },
  {
   "cell_type": "code",
   "execution_count": null,
   "id": "b33f9abc",
   "metadata": {},
   "outputs": [],
   "source": [
    "# Determine the greatest distance between integers in two different lists.\n",
    "# a, b - Two lists of integers (list).\n",
    "# Returns the greatest distance |x - y|, where x is in a, y is in b.\n",
    "def greatest_distance(a, b):\n",
    "    pass\n",
    "\n",
    "print(greatest_distance([1, 5, 9, 2], [3, 8])) # 7\n",
    "print(greatest_distance([1, 9, 10], [2, 0, 3])) # 10\n",
    "print(greatest_distance([2, 0, 8], [3, 1, 11])) # 11\n",
    "print(greatest_distance(10000 * [0], 10000 * [1])) # 1"
   ]
  },
  {
   "cell_type": "markdown",
   "id": "0165bc5f",
   "metadata": {},
   "source": [
    "## Challenge: Finding the minimum of each column.\n",
    "\n",
    "Write a function that takes a 2d list of integers and returns a list consisting of the minimum elements of each column.\n",
    "\n",
    "For example, if `grid` has 3 rows and 4 columns, then `minimums(grid)` should return a list of length 4:\n",
    "- The index-0 element of `minimums(grid)` should be the minimum of `grid[0][0]`, `grid[1][0]`, and `grid[2][0]`.\n",
    "- The index-1 element of `minimums(grid)` should be the minimum of `grid[0][1]`, `grid[1][1]`, and `grid[2][1]`.\n",
    "- The index-2 element of `minimums(grid)` should be the minimum of `grid[0][2]`, `grid[1][2]`, and `grid[2][2]`.\n",
    "- The index-3 element of `minimums(grid)` should be the minimum of `grid[0][3]`, `grid[1][3]`, and `grid[2][3]`."
   ]
  },
  {
   "cell_type": "code",
   "execution_count": null,
   "id": "f5167392",
   "metadata": {},
   "outputs": [],
   "source": [
    "# Determine the minimum element in each column of a 2d list of integers.\n",
    "# grid - A 2d list of integers.\n",
    "# Returns a list of the minimum elements of each column.\n",
    "def minimums(grid):\n",
    "    pass\n",
    "\n",
    "grid1 = [\n",
    "    [2, 10, 9],\n",
    "    [-1, 3, 1]\n",
    "]\n",
    "\n",
    "grid2 = [\n",
    "    [1, 8, 4, 11],\n",
    "    [3, -8, 4, 2],\n",
    "    [5, 2, 5, 9]\n",
    "]\n",
    "\n",
    "print(minimums(grid1)) # [-1, 3, 1]\n",
    "print(minimums(grid2)) # [1, -8, 4, 2]"
   ]
  },
  {
   "cell_type": "markdown",
   "id": "6a59a128",
   "metadata": {},
   "source": [
    "## Feedback.\n",
    "\n",
    "Are there any parts of this lab that you're confused about? Are there any parts that you'd like to discuss in class?\n",
    "\n",
    "If so, create a new Markdown cell below to answer. If not, continue to the next part."
   ]
  },
  {
   "cell_type": "markdown",
   "id": "6d1fe297",
   "metadata": {},
   "source": [
    "## Submit.\n",
    "\n",
    "Run the cell below to submit your lab. As usual, you may submit as many times as you like before the deadline.\n",
    "\n",
    "Be sure to click the URL that appears after you submit, to make sure that your notebook is submitted properly.\n",
    "\n",
    "Remember that labs are graded for completeness; for full credit, I'd like to see a good effort towards solving each problem."
   ]
  },
  {
   "cell_type": "code",
   "execution_count": null,
   "id": "96e5ee45",
   "metadata": {},
   "outputs": [],
   "source": [
    "from cs1.notebooks import *\n",
    "ok_submit('lab-09.ok')"
   ]
  }
 ],
 "metadata": {
  "kernelspec": {
   "display_name": "Python 3 (ipykernel)",
   "language": "python",
   "name": "python3"
  },
  "language_info": {
   "codemirror_mode": {
    "name": "ipython",
    "version": 3
   },
   "file_extension": ".py",
   "mimetype": "text/x-python",
   "name": "python",
   "nbconvert_exporter": "python",
   "pygments_lexer": "ipython3",
   "version": "3.11.4"
  },
  "varInspector": {
   "cols": {
    "lenName": 16,
    "lenType": 16,
    "lenVar": 40
   },
   "kernels_config": {
    "python": {
     "delete_cmd_postfix": "",
     "delete_cmd_prefix": "del ",
     "library": "var_list.py",
     "varRefreshCmd": "print(var_dic_list())"
    },
    "r": {
     "delete_cmd_postfix": ") ",
     "delete_cmd_prefix": "rm(",
     "library": "var_list.r",
     "varRefreshCmd": "cat(var_dic_list()) "
    }
   },
   "types_to_exclude": [
    "module",
    "function",
    "builtin_function_or_method",
    "instance",
    "_Feature"
   ],
   "window_display": false
  }
 },
 "nbformat": 4,
 "nbformat_minor": 5
}
