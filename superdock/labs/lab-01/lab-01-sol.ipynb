{
 "cells": [
  {
   "cell_type": "markdown",
   "id": "7cfa6b24",
   "metadata": {},
   "source": [
    "# Lab 1: solutions"
   ]
  },
  {
   "cell_type": "markdown",
   "id": "1b10218f",
   "metadata": {},
   "source": [
    "## Part 8: Modular arithmetic.\n",
    "\n",
    "In this section, you will solve three problems involving modular arithmetic.\n",
    "\n",
    "(The first is done for you as an example; you are not required to explain your answers.)"
   ]
  },
  {
   "cell_type": "markdown",
   "id": "6e380f6e",
   "metadata": {},
   "source": [
    "(1) Let's say that today is Friday. What day of the week will it be 10000 days from now? Write an expression in the code block below using (`//`) or (`%`) which gives the answer. Then edit this Markdown block to write down your answer in text.\n",
    "\n",
    "Answer: Tuesday.\n",
    "\n",
    "(Running the code block below shows that 10000 % 7 is 4. One way to interpret this result is to say that the numbers 10000 and 4 differ by a multiple of 7. This means that 10000 days from now is the same day of the week as 4 days from now, which is Tuesday.)"
   ]
  },
  {
   "cell_type": "code",
   "execution_count": null,
   "id": "db1338af",
   "metadata": {},
   "outputs": [],
   "source": [
    "10000 % 7"
   ]
  },
  {
   "cell_type": "markdown",
   "id": "0f0d28be",
   "metadata": {},
   "source": [
    "(2) Let's say that you use a 24-hour clock, and the current time of day is 14:00. What time of day will it be 10000 hours from now? Write an expression or program in the code block below using (`//`) or (`%`) which gives the answer. Then edit this Markdown block to write down your answer in text.\n",
    "\n",
    "Answer: 6am"
   ]
  },
  {
   "cell_type": "code",
   "execution_count": 1,
   "id": "400fff5c",
   "metadata": {},
   "outputs": [
    {
     "data": {
      "text/plain": [
       "6"
      ]
     },
     "execution_count": 1,
     "metadata": {},
     "output_type": "execute_result"
    }
   ],
   "source": [
    "(14 + 10000) % 24"
   ]
  },
  {
   "cell_type": "markdown",
   "id": "0ef0f435",
   "metadata": {},
   "source": [
    "(3) Let's say that today is Friday, and the current time of day is 14:00. What day of the week will it be 10000 hours from now? Write an expression or program in the code block below using (`//`) or (`%`) which gives the answer. Then edit this Markdown block to write down your answer in text.\n",
    "\n",
    "Answer: Tuesday\n",
    "\n",
    "Explanation: First we divide 10014 by 24 to get the number of full days that have passed since the beginning of today. This number of days consists of some number of full weeks, and some number of additional days. We take the result mod 7 to get the number of additional days, which is 4. Then we count 4 days from Friday to get Tuesday."
   ]
  },
  {
   "cell_type": "code",
   "execution_count": 2,
   "id": "5b6d37ee",
   "metadata": {},
   "outputs": [
    {
     "data": {
      "text/plain": [
       "4"
      ]
     },
     "execution_count": 2,
     "metadata": {},
     "output_type": "execute_result"
    }
   ],
   "source": [
    "((14 + 10000) // 24) % 7"
   ]
  }
 ],
 "metadata": {
  "kernelspec": {
   "display_name": "Python 3 (ipykernel)",
   "language": "python",
   "name": "python3"
  },
  "language_info": {
   "codemirror_mode": {
    "name": "ipython",
    "version": 3
   },
   "file_extension": ".py",
   "mimetype": "text/x-python",
   "name": "python",
   "nbconvert_exporter": "python",
   "pygments_lexer": "ipython3",
   "version": "3.11.4"
  },
  "varInspector": {
   "cols": {
    "lenName": 16,
    "lenType": 16,
    "lenVar": 40
   },
   "kernels_config": {
    "python": {
     "delete_cmd_postfix": "",
     "delete_cmd_prefix": "del ",
     "library": "var_list.py",
     "varRefreshCmd": "print(var_dic_list())"
    },
    "r": {
     "delete_cmd_postfix": ") ",
     "delete_cmd_prefix": "rm(",
     "library": "var_list.r",
     "varRefreshCmd": "cat(var_dic_list()) "
    }
   },
   "types_to_exclude": [
    "module",
    "function",
    "builtin_function_or_method",
    "instance",
    "_Feature"
   ],
   "window_display": false
  }
 },
 "nbformat": 4,
 "nbformat_minor": 5
}
