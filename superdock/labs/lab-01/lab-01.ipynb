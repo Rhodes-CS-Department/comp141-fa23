{
 "cells": [
  {
   "cell_type": "markdown",
   "id": "7cfa6b24",
   "metadata": {},
   "source": [
    "# Lab 1\n",
    "\n",
    "This document is called a \"Jupyter notebook.\" Over the course of this lab, you will read and edit this notebook, and then finally submit an edited notebook to okpy.org for me (Dr. Superdock) to review. As a reminder, labs are graded for effort & completeness (not correctness), and you are allowed & encouraged to collaborate. You will start during class, and you will either finish in class or finish over the weekend and submit by 11:59p on Sunday.\n",
    "\n",
    "This lab is divided into parts. Some parts require you to edit the notebook in certain ways, and one part requires you to create an additional file.\n",
    "\n",
    "You will submit in the last part of the lab. You can submit as many times as you like. Even if you don't finish the rest of the lab in class, you should skip ahead to the last part in class and submit to make sure the submission process works."
   ]
  },
  {
   "cell_type": "markdown",
   "id": "853f8007",
   "metadata": {},
   "source": [
    "## Part 1. Markdown.\n",
    "\n",
    "A Jupyter notebook consists of text and code, organized in **cells**. Click on this text, and you should see the current focused cell outlined in blue.\n",
    "\n",
    "There are two types of cells:\n",
    "\n",
    "- Text cells, written using the **Markdown** formatting language.\n",
    "- Code cells, written using Python.\n",
    "\n",
    "This cell is a text cell, written using Markdown. Read the following two steps, and then do them:\n",
    "\n",
    "1. Double-click (or type Enter) on the current cell; this will show you the Markdown-formatted text that generates the cell.\n",
    "2. Type Shift-Enter; this will \"run\" the cell and show you the resulting text.\n",
    "\n",
    "So we can run both types of cells, text and code! You can type *italics*, **bold**, and `code` in Markdown, as well as bulleted and numbered lists. You can figure out how by double-clicking this cell again, or see the guide [here](https://www.ibm.com/docs/en/db2-event-store/2.0.0?topic=notebooks-markdown-jupyter-cheatsheet).\n",
    "\n",
    "To complete this part (Part 1) of the lab, do the following:\n",
    "\n",
    "1. Insert a new cell below this one. (Use the menu bar; `Insert > Insert Cell Below`)\n",
    "2. Click on the new cell to focus it.\n",
    "3. Change the cell type to Markdown. (Use the menu bar; `Cell > Cell Type > Markdown`)\n",
    "4. Write some Markdown-formatted text.\n",
    "5. Type Shift-Enter to see your text.\n",
    "\n",
    "Your cell should include italics, bold, code, a bulleted list, and a numbered list. (By the way, you can use Markdown formatting when messaging on Slack.)"
   ]
  },
  {
   "cell_type": "markdown",
   "id": "4e409394",
   "metadata": {},
   "source": [
    "## Part 2. Saving your work.\n",
    "\n",
    "JupyterHub automatically saves your work at certain intervals. Look at the top of this page, next to \"lab-01\"; you might see something like \"Last Checkpoint: 10 minutes ago (unsaved changes)\". This indicates that some of your work is saved, but not your most recent changes.\n",
    "\n",
    "**Important:** Do not rely on JupyterHub to automatically save your work! If you close a JupyterHub tab without manually saving, you will probably lose work.\n",
    "\n",
    "To manually save, click `File > Save and Checkpoint` in the menu bar. (Or type `Control-s`.)\n",
    "\n",
    "Do this now, and make sure you see something like \"Last Checkpoint: in a few seconds (autosaved)\" at the top of the page.\n",
    "\n",
    "Once you've done this, you're finished with this part of the lab."
   ]
  },
  {
   "cell_type": "markdown",
   "id": "cb17a09f",
   "metadata": {},
   "source": [
    "## Part 3. Running code.\n",
    "\n",
    "You can run code blocks by clicking the \"Run\" button on the toolbar (looks like a play button), or by typing `Shift-Enter`.\n",
    "\n",
    "Run the code block below:"
   ]
  },
  {
   "cell_type": "code",
   "execution_count": null,
   "id": "084f6bfa",
   "metadata": {},
   "outputs": [],
   "source": [
    "1 + 2"
   ]
  },
  {
   "cell_type": "markdown",
   "id": "378431bf",
   "metadata": {},
   "source": [
    "You should see `Out[1]: 3` (perhaps with a different number within the brackets). This indicates that this expression evaluates to `3`.\n",
    "\n",
    "**Takeaway:** If you run a code block with just an expression, Python evaluates that expression.\n",
    "\n",
    "The `[1]` indicates that this is the first code block you've run in this session. Try running the block above a few more times to see what changes.\n",
    "\n",
    "Here's another code block; run it to see what happens:"
   ]
  },
  {
   "cell_type": "code",
   "execution_count": null,
   "id": "f3de9928",
   "metadata": {},
   "outputs": [],
   "source": [
    "x = 5\n",
    "x + x"
   ]
  },
  {
   "cell_type": "markdown",
   "id": "37c252cc",
   "metadata": {},
   "source": [
    "You should see something like `Out[..]: 10`. This indicates that after executing the first line, the expression `x + x` in the second line evaluates to 10.\n",
    "\n",
    "**Takeaway:** If you run a code block with multiple statements, Python executes those statements in order. If the last statement is an *expression statement*, next to `Out[..]:` we see the result of evaluating that expression.\n",
    "\n",
    "Here's another code block; run it to see what happens:"
   ]
  },
  {
   "cell_type": "code",
   "execution_count": null,
   "id": "d0283848",
   "metadata": {},
   "outputs": [],
   "source": [
    "y = 10"
   ]
  },
  {
   "cell_type": "markdown",
   "id": "9401bc4d",
   "metadata": {},
   "source": [
    "It looks like nothing happens, but something is happening! This variable assignment remains in effect when you run other blocks. Run this block now:"
   ]
  },
  {
   "cell_type": "code",
   "execution_count": null,
   "id": "803c64ec",
   "metadata": {},
   "outputs": [],
   "source": [
    "y - 3"
   ]
  },
  {
   "cell_type": "markdown",
   "id": "d212f161",
   "metadata": {},
   "source": [
    "When we run the line `y = 10`, it changes the current *environment* by initializing a new variable `y` with value `10` (an integer). When we run another code block, we run it in that modified environment.\n",
    "\n",
    "**Takeaway:** If you run a code block where the last statement is *not* an expression, then we don't see `Out[..]` or any value.\n",
    "\n",
    "Let's run another code block:"
   ]
  },
  {
   "cell_type": "code",
   "execution_count": null,
   "id": "d63bdd13",
   "metadata": {},
   "outputs": [],
   "source": [
    "print(\"Hello\")\n",
    "print(\"World\")\n",
    "1 + 1"
   ]
  },
  {
   "cell_type": "markdown",
   "id": "6608bdc7",
   "metadata": {},
   "source": [
    "When we run this block, we see two things. First, we see text printed by the `print` functions (as you've seen in your ZyBooks readings). Second, we see the result of evaluating the expression in the last line, next to `Out[..]`.\n",
    "\n",
    "**Takeaway:** If our code includes calls to the `print` function, we *also* see the printed output from those calls.\n",
    "\n",
    "Read back over the four takeaways above and make sure they make sense. Once they do, proceed to the next part."
   ]
  },
  {
   "cell_type": "markdown",
   "id": "196feb16",
   "metadata": {},
   "source": [
    "## Part 4: Errors.\n",
    "\n",
    "Let's run the code block below:"
   ]
  },
  {
   "cell_type": "code",
   "execution_count": null,
   "id": "8e0e77b5",
   "metadata": {},
   "outputs": [],
   "source": [
    "1 * / 2"
   ]
  },
  {
   "cell_type": "markdown",
   "id": "0a995ea3",
   "metadata": {},
   "source": [
    "You should see `SyntaxError: invalid syntax`. This is an error. Don't be alarmed! Errors are a normal part of writing computer programs. Your computer is fine. In fact, you are encouraged to experiment in these notebooks; even if you get errors, you will not break anything.\n",
    "\n",
    "In fact, the error message is a helpful message to tell you what is wrong with your code. Notice two things:\n",
    "\n",
    "- We see an error message: `SyntaxError: invalid syntax`. A \"syntax error\" means that Python wasn't able to interpret the text in the box above as meaningful code. In this case, Python tries to construct a parse tree for `1 * / 2` and gets stuck.\n",
    "- We see an arrow pointing to the division sign. This shows us exactly where Python encountered an error.\n",
    "\n",
    "Below this block, insert a new code block and write code that produces an error. (The more interesting your error, the better.)\n",
    "\n",
    "Once you do this, you've completed this part."
   ]
  },
  {
   "cell_type": "markdown",
   "id": "d2bf1cbf",
   "metadata": {},
   "source": [
    "## Part 5: The kernel.\n",
    "\n",
    "The \"kernel\" refers to the Python program running in the background as you're editing this notebook. When you run a code block, the kernel is responsible for running the code. When you're doing anything else, the kernel is waiting for you to run some more code, remembering the current *environment*.\n",
    "\n",
    "At times, you will want to *interrupt* or *restart* the kernel:\n",
    "\n",
    "- Interrupting the kernel means telling it to stop running the code it is currently running.\n",
    "- Restarting the kernel means telling it to stop running the code it is currently running, and to reset the environment.\n",
    "\n",
    "So when you restart the kernel, all stored values of variables are lost.\n",
    "\n",
    "Let's practice. The code block below is an *infinite loop*. Run it:"
   ]
  },
  {
   "cell_type": "code",
   "execution_count": null,
   "id": "aec0219b",
   "metadata": {},
   "outputs": [],
   "source": [
    "while True:\n",
    "    pass"
   ]
  },
  {
   "cell_type": "markdown",
   "id": "52fc02d1",
   "metadata": {},
   "source": [
    "You should see `In [*]` next to the code block. This means that the code has started to run, but not finished.\n",
    "\n",
    "Now try to run the code block below. You should then see `In [*]` next to that block also. The kernel is still stuck on the code block above!"
   ]
  },
  {
   "cell_type": "code",
   "execution_count": null,
   "id": "28ad41b2",
   "metadata": {},
   "outputs": [],
   "source": [
    "1 + 1"
   ]
  },
  {
   "cell_type": "markdown",
   "id": "5e396402",
   "metadata": {},
   "source": [
    "Now click the interrupt button on the tool bar (looks like a \"stop\" button). This interrupts the currently running code, and now you can run other blocks of code. (For example, you can now run the `1 + 1` block above.)\n",
    "\n",
    "**Takeaway:** If you try to run a code block and you see `In [*]`, it's because the kernel is still running either that block or another block you've run previously. In this case, try interrupting the kernel."
   ]
  },
  {
   "cell_type": "markdown",
   "id": "a84178f9",
   "metadata": {},
   "source": [
    "If code blocks aren't running as you think they should, the next things to try are:\n",
    "\n",
    "- Restarting the kernel. (Click the toolbar button that looks like a \"refresh\" button.)\n",
    "- Restarting your server. (Save, then click \"Control Panel\" in the top right, then \"Stop My Server,\" then \"Launch Server.\")\n",
    "\n",
    "Try both of these now. This completes this part of the lab."
   ]
  },
  {
   "cell_type": "markdown",
   "id": "aa0acb26",
   "metadata": {},
   "source": [
    "## Part 6: The file structure.\n",
    "\n",
    "All of your work on JupyterHub is stored on a server (that is, a computer that's always connected to the internet) maintained by the Rhodes CS department. You have your own file structure, which is private from other students. I'm also able to access your files, which is helpful for when you need help.\n",
    "\n",
    "Go to `File > Open...` in the menu bar to see your file structure.\n",
    "\n",
    "The files currently in your directory are all files I've uploaded for you. You have your own copy of these files, so you should feel free to change them as you'd like. If you ever want to get the original version of the file back, you can delete your copy of the file (or rename it to something else), and the next time you restart your server, you will get the original version again.\n",
    "\n",
    "You can also create your own files.\n",
    "\n",
    "Complete these tasks to finish this part:\n",
    "\n",
    "1. From your file structure, click `New > Text File` in the menu bar. This will open a new text file called \"untitled.txt\".\n",
    "2. Click \"untitled.txt\" and change the file name to \"hello.py\".\n",
    "3. Type the following code into the empty file:\n",
    "\n",
    "`print(\"Hello world!\")`\n",
    "\n",
    "4. Save the file \"hello.py\" by clicking `File > Save` in the menu bar.\n",
    "4. Return to this notebook and run the cell below."
   ]
  },
  {
   "cell_type": "code",
   "execution_count": null,
   "id": "c7c2af16",
   "metadata": {},
   "outputs": [],
   "source": [
    "%run hello.py"
   ]
  },
  {
   "cell_type": "markdown",
   "id": "d8a38862",
   "metadata": {},
   "source": [
    "The `%run` command runs the file with the given filename. Each line of the file is treated as a Python statement, and the lines are run from top to bottom.\n",
    "\n",
    "**Takeaway:** You can run code in an external file from a notebook using the `%run` command.\n",
    "\n",
    "(Our projects will all involve writing code in a separate file from the project assignment notebook.)"
   ]
  },
  {
   "cell_type": "markdown",
   "id": "0537b405",
   "metadata": {},
   "source": [
    "## Part 7: Conversions.\n",
    "\n",
    "We've now seen three types: `int`, `float`, and `str` (string).\n",
    "\n",
    "For each of these types, there is a corresponding function that converts values into that type. I'm including links to the official documentation on each function, but we'll learn how they work below through experimentation.\n",
    "\n",
    "- `int()`: Convert a value to an integer. ([docs](https://docs.python.org/3/library/functions.html#int))\n",
    "- `float()`: Convert a value to a float. ([docs](https://docs.python.org/3/library/functions.html#float))\n",
    "- `str()`: Convert a value to a string. ([docs](https://docs.python.org/3/library/stdtypes.html#str))\n",
    "\n",
    "Note that we use \"`int()`\" as a way of talking about the function with identifier `int`. The parentheses remind us that we're talking about a function, the same way that the decimal point in `5.0` reminds us that we're talking about a float.\n",
    "\n",
    "Run the code blocks below to see how these conversion functions work:\n",
    "\n",
    "### int"
   ]
  },
  {
   "cell_type": "code",
   "execution_count": null,
   "id": "3a8a9c27",
   "metadata": {},
   "outputs": [],
   "source": [
    "int(2.0)"
   ]
  },
  {
   "cell_type": "code",
   "execution_count": null,
   "id": "184182c4",
   "metadata": {},
   "outputs": [],
   "source": [
    "int(2.4)"
   ]
  },
  {
   "cell_type": "code",
   "execution_count": null,
   "id": "b2a04198",
   "metadata": {},
   "outputs": [],
   "source": [
    "int(2.9)"
   ]
  },
  {
   "cell_type": "code",
   "execution_count": null,
   "id": "3039bc91",
   "metadata": {},
   "outputs": [],
   "source": [
    "int(2)"
   ]
  },
  {
   "cell_type": "code",
   "execution_count": null,
   "id": "16030e90",
   "metadata": {},
   "outputs": [],
   "source": [
    "int(-1.1)"
   ]
  },
  {
   "cell_type": "code",
   "execution_count": null,
   "id": "aa6b3968",
   "metadata": {},
   "outputs": [],
   "source": [
    "int(-1.9)"
   ]
  },
  {
   "cell_type": "code",
   "execution_count": null,
   "id": "6b88e580",
   "metadata": {},
   "outputs": [],
   "source": [
    "int(\"2\")"
   ]
  },
  {
   "cell_type": "code",
   "execution_count": null,
   "id": "aad02673",
   "metadata": {},
   "outputs": [],
   "source": [
    "int(\"hello\")"
   ]
  },
  {
   "cell_type": "markdown",
   "id": "045a6b0e",
   "metadata": {},
   "source": [
    "### float"
   ]
  },
  {
   "cell_type": "code",
   "execution_count": null,
   "id": "1f613c58",
   "metadata": {},
   "outputs": [],
   "source": [
    "float(2)"
   ]
  },
  {
   "cell_type": "code",
   "execution_count": null,
   "id": "b532f88a",
   "metadata": {},
   "outputs": [],
   "source": [
    "float(2.0)"
   ]
  },
  {
   "cell_type": "code",
   "execution_count": null,
   "id": "58802f29",
   "metadata": {},
   "outputs": [],
   "source": [
    "float(\"2.5\")"
   ]
  },
  {
   "cell_type": "code",
   "execution_count": null,
   "id": "ef5c007e",
   "metadata": {},
   "outputs": [],
   "source": [
    "float(\"hello\")"
   ]
  },
  {
   "cell_type": "markdown",
   "id": "fe088695",
   "metadata": {},
   "source": [
    "To finish this part of the lab, summarize what you've learned from the experiments above by editing this cell:\n",
    "\n",
    "- `int()`:\n",
    "- `float()`:"
   ]
  },
  {
   "cell_type": "markdown",
   "id": "1b10218f",
   "metadata": {},
   "source": [
    "## Part 8: Modular arithmetic.\n",
    "\n",
    "In this section, you will solve three problems involving modular arithmetic.\n",
    "\n",
    "(The first is done for you as an example; you are not required to explain your answers.)"
   ]
  },
  {
   "cell_type": "markdown",
   "id": "6e380f6e",
   "metadata": {},
   "source": [
    "(1) Let's say that today is Friday. What day of the week will it be 10000 days from now? Write an expression in the code block below using (`//`) or (`%`) which gives the answer. Then edit this Markdown block to write down your answer in text.\n",
    "\n",
    "Answer: Tuesday.\n",
    "\n",
    "(Running the code block below shows that 10000 % 7 is 4. One way to interpret this result is to say that the numbers 10000 and 4 differ by a multiple of 7. This means that 10000 days from now is the same day of the week as 4 days from now, which is Tuesday.)"
   ]
  },
  {
   "cell_type": "code",
   "execution_count": null,
   "id": "db1338af",
   "metadata": {},
   "outputs": [],
   "source": [
    "10000 % 7"
   ]
  },
  {
   "cell_type": "markdown",
   "id": "0f0d28be",
   "metadata": {},
   "source": [
    "(2) Let's say that you use a 24-hour clock, and the current time of day is 14:00. What time of day will it be 10000 hours from now? Write an expression or program in the code block below using (`//`) or (`%`) which gives the answer. Then edit this Markdown block to write down your answer in text.\n",
    "\n",
    "Answer:"
   ]
  },
  {
   "cell_type": "code",
   "execution_count": null,
   "id": "400fff5c",
   "metadata": {},
   "outputs": [],
   "source": []
  },
  {
   "cell_type": "markdown",
   "id": "0ef0f435",
   "metadata": {},
   "source": [
    "(3) Let's say that today is Friday, and the current time of day is 14:00. What day of the week will it be 10000 hours from now? Write an expression or program in the code block below using (`//`) or (`%`) which gives the answer. Then edit this Markdown block to write down your answer in text.\n",
    "\n",
    "Answer:"
   ]
  },
  {
   "cell_type": "code",
   "execution_count": null,
   "id": "5b6d37ee",
   "metadata": {},
   "outputs": [],
   "source": []
  },
  {
   "cell_type": "markdown",
   "id": "0b114b64",
   "metadata": {},
   "source": [
    "## Part 9: Feedback.\n",
    "\n",
    "Are there any parts of this lab that you're confused about? Are there any parts that you'd like to discuss in class?\n",
    "\n",
    "If so, create a new Markdown cell below to answer. If not, continue to the next part."
   ]
  },
  {
   "cell_type": "markdown",
   "id": "fdcc0487",
   "metadata": {},
   "source": [
    "## Part 10: Submit.\n",
    "\n",
    "Time to submit your work. You can submit as many times as you like before the deadline; each submission overwrites the previous one.\n",
    "\n",
    "You should have received an enrollment request from me to join the course. If you haven't already, you need to accept that request before proceeding.\n",
    "\n",
    "Then run the code block below, which will walk you through the submission process. Important notes:\n",
    "\n",
    "- You'll be given a link to okpy.org to log in. When you log in, you **must** use the Google account that you gave me on the Course Survey.\n",
    "\n",
    "- If you see, \"Submission successful,\" **you are not done!** Click on the URL that appears below \"Submission successful,\" and you should see the entire contents of this notebook, as well as the entire contents of your `hello.py` file from Part 6. If you do not see these, then try running the code block below again. (If you can't seem to get your code to submit, please tell me.)\n",
    "\n",
    "**Important:** You must submit labs correctly to receive credit! Please be careful about these steps.\n",
    "\n",
    "(Please tell me if you have trouble submitting; I'm happy to help you through the process.)"
   ]
  },
  {
   "cell_type": "code",
   "execution_count": null,
   "id": "ff08c765",
   "metadata": {},
   "outputs": [],
   "source": [
    "from cs1.notebooks import *\n",
    "ok_login('lab-01.ok')\n",
    "ok_submit('lab-01.ok')"
   ]
  }
 ],
 "metadata": {
  "kernelspec": {
   "display_name": "Python 3 (ipykernel)",
   "language": "python",
   "name": "python3"
  },
  "language_info": {
   "codemirror_mode": {
    "name": "ipython",
    "version": 3
   },
   "file_extension": ".py",
   "mimetype": "text/x-python",
   "name": "python",
   "nbconvert_exporter": "python",
   "pygments_lexer": "ipython3",
   "version": "3.11.4"
  },
  "varInspector": {
   "cols": {
    "lenName": 16,
    "lenType": 16,
    "lenVar": 40
   },
   "kernels_config": {
    "python": {
     "delete_cmd_postfix": "",
     "delete_cmd_prefix": "del ",
     "library": "var_list.py",
     "varRefreshCmd": "print(var_dic_list())"
    },
    "r": {
     "delete_cmd_postfix": ") ",
     "delete_cmd_prefix": "rm(",
     "library": "var_list.r",
     "varRefreshCmd": "cat(var_dic_list()) "
    }
   },
   "types_to_exclude": [
    "module",
    "function",
    "builtin_function_or_method",
    "instance",
    "_Feature"
   ],
   "window_display": false
  }
 },
 "nbformat": 4,
 "nbformat_minor": 5
}
