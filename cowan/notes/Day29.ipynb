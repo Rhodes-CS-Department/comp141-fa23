{
 "cells": [
  {
   "cell_type": "markdown",
   "metadata": {},
   "source": [
    "# Day 29: Strings Practice Problems"
   ]
  },
  {
   "cell_type": "code",
   "execution_count": null,
   "metadata": {},
   "outputs": [],
   "source": [
    "help(str) #run this cell to get the help document about strings"
   ]
  },
  {
   "cell_type": "markdown",
   "metadata": {},
   "source": [
    "## Practice - take out a sheet of paper and write out the logic for #2 & #3\n",
    "\n",
    "1. Write a function called `total_seconds` that takes one string argument.  This argument will be a string of the form \"M:SS\" where M is a number of minutes  (a single digit) and SS is a number of seconds  (2 digits).  This function should calculate the total number of seconds in this amount of time and return it as an integer.  (__Hint__: Use string slicing/indices)\n",
    "\n",
    "2. Write a function called `count_digits` that returns the number of digits in a string.\n",
    "`count_digits(\"abc123def5\")` returns 4\n",
    "3. Write a function called `sum_digits` that returns the sum of all the digits in a string.\n",
    "`sum_digits(\"abc123def5\")` returns 11  (because 1 + 2 + 3 + 5 = 11)"
   ]
  },
  {
   "cell_type": "code",
   "execution_count": null,
   "metadata": {},
   "outputs": [],
   "source": [
    "#Write total_seconds here\n",
    "def total_seconds(string):\n",
    "\n",
    "\n",
    "\n",
    "#Below is an example call to your function that you should uncomment to test your function.\n",
    "total_seconds(\"5:22\")"
   ]
  },
  {
   "cell_type": "code",
   "execution_count": null,
   "metadata": {},
   "outputs": [],
   "source": [
    "#Write count_digits here\n",
    "def count_digits(string):\n",
    "\n",
    "\n",
    "#Below is an example call to your function that you should uncomment to test your function.\n",
    "count_digits(\"abc123def5\")"
   ]
  },
  {
   "cell_type": "code",
   "execution_count": null,
   "metadata": {},
   "outputs": [],
   "source": [
    "#Write sum_digits here, don't forget to test it!\n",
    "def sum_digits(string):\n",
    "\n",
    "\n",
    "\n",
    "#Below is an example call to your function that you should uncomment to test your function.\n",
    "sum_digits(\"abc123def5\")"
   ]
  },
  {
   "cell_type": "markdown",
   "metadata": {},
   "source": [
    "## Generic Functions\n",
    "\n",
    "__Generic counting function:__\n",
    "```\n",
    "def some_counting_function(s):\n",
    "  count = 0\n",
    "  for pos in range(0, len(s), 1):\n",
    "    if <some condition>:\n",
    "      count = count + 1\n",
    "  return count\n",
    "```\n",
    "\n",
    "__Generic filtering function:__\n",
    "```\n",
    "def some_filtering_function(s):\n",
    "  answer = \"\"\n",
    "  for pos in range(0, len(s), 1):\n",
    "    if <some condition>:\n",
    "      answer = answer + s[pos]\n",
    "  return answer\n",
    "```\n",
    "__Generic filtering with multiple branches:__\n",
    "```\n",
    "def some_filtering_function(s):\n",
    "  answer = \"\"\n",
    "  for pos in range(0, len(s), 1):\n",
    "    if <some condition>:\n",
    "      answer = answer + <something>\n",
    "    else:\n",
    "      answer = answer + <something else>\n",
    "  return answer\n",
    "```"
   ]
  },
  {
   "cell_type": "markdown",
   "metadata": {},
   "source": [
    "## Class Practice\n",
    "Write a function called `remove_spaces` that takes in a string as a parameter and removes any spaces from it and returns a copy of the string with no spaces. Since strings are immutable, you'll have to create a new string that contains all the characters except spaces from the original string. Try to make your function work so that you only go through the string\n",
    "removing spaces if the string contains at least one space. Example: `remove_spaces('Happy Halloween!')` returns 'HappyHalloween!'"
   ]
  },
  {
   "cell_type": "code",
   "execution_count": null,
   "metadata": {},
   "outputs": [],
   "source": []
  },
  {
   "cell_type": "markdown",
   "metadata": {},
   "source": [
    "## More Practice \n",
    "1. Web servers and Web browsers need to know a file's type so they know how to display the file. The file's type is based on the extension of the file's name. For example, we name our Python scripts with the .py extension and our HTML files with the .html extension. Using help(str), look at how to use the rfind method and compare with how the find method is used. Use the `rfind` method to determine a file's type. \n",
    "Example output:\n",
    "```\n",
    "What is the name of your file? index.html\n",
    "That is a html file.\n",
    "What is the name of your file? picture.jpg\n",
    "That is a jpg file.\n",
    "What is the name of your file? 16.functions.pdf\n",
    "That is a pdf file.\n",
    "```\n",
    "2. Write a function called `count_dups` that\tcounts the number of back-to-back duplicated characters\tin a string. Example: `count_dups(\"balloon\")` returns 2\n",
    "\n",
    "3. Write a function called `is_palindrome` that takes in a string as a parameter and returns True if it is a palindrome, and False otherwise. A palindrome is a word or phrase that is the same forwards and backwards.  In your algorithm, remove spaces from the string. You should consider upper and lower case letters as the same, .i.e., \"A man A plan A canal Panama\" is a palindrome. (What string methods can you use to accomplish this before processing?) However, you don't need to consider punctuation as special cases.\n",
    "Some example palindromes: \"kayak\", \"A man A plan A canal Panama\".  Example: `is_palindrome('kayak')` returns True"
   ]
  },
  {
   "cell_type": "code",
   "execution_count": null,
   "metadata": {},
   "outputs": [],
   "source": []
  },
  {
   "cell_type": "code",
   "execution_count": null,
   "metadata": {},
   "outputs": [],
   "source": []
  },
  {
   "cell_type": "code",
   "execution_count": null,
   "metadata": {},
   "outputs": [],
   "source": [
    "       "
   ]
  },
  {
   "cell_type": "markdown",
   "metadata": {},
   "source": [
    "Please do the following:\n",
    "1. Study for Midterm 2\n",
    "2. Practice Problems - we'll review in class on Friday\n",
    "3. Continue working on Lab 07 (due Friday by midnight) and "
   ]
  },
  {
   "cell_type": "code",
   "execution_count": null,
   "metadata": {},
   "outputs": [],
   "source": []
  }
 ],
 "metadata": {
  "kernelspec": {
   "display_name": "Python 3 (ipykernel)",
   "language": "python",
   "name": "python3"
  },
  "language_info": {
   "codemirror_mode": {
    "name": "ipython",
    "version": 3
   },
   "file_extension": ".py",
   "mimetype": "text/x-python",
   "name": "python",
   "nbconvert_exporter": "python",
   "pygments_lexer": "ipython3",
   "version": "3.11.4"
  },
  "varInspector": {
   "cols": {
    "lenName": 16,
    "lenType": 16,
    "lenVar": 40
   },
   "kernels_config": {
    "python": {
     "delete_cmd_postfix": "",
     "delete_cmd_prefix": "del ",
     "library": "var_list.py",
     "varRefreshCmd": "print(var_dic_list())"
    },
    "r": {
     "delete_cmd_postfix": ") ",
     "delete_cmd_prefix": "rm(",
     "library": "var_list.r",
     "varRefreshCmd": "cat(var_dic_list()) "
    }
   },
   "types_to_exclude": [
    "module",
    "function",
    "builtin_function_or_method",
    "instance",
    "_Feature"
   ],
   "window_display": false
  }
 },
 "nbformat": 4,
 "nbformat_minor": 2
}
